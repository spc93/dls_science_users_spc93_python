{
 "cells": [
  {
   "cell_type": "raw",
   "id": "6130166a",
   "metadata": {},
   "source": [
    "Goal: calculate PA intensity vs polrot for:\n",
    "incident_beam_polariztion_stokes - arbitrary stokes parameters\n",
    "scattering matrix - arbitary (including chanrge scattering and E1E1 res mag scattering)\n",
    "arbitrary PA angles (fixed)\n",
    "\n",
    "\n",
    "instrument:NXinstrument\n",
    "\tPA:NXpolarization_analyser\n",
    "\t\tbeam:NXbeam\n",
    "\t\t\tdepends_on: instrument/diffractometer/delta\t#NXtransformations already set up for delta/alpha\n",
    "\n",
    "\t\tjones_matrix[2,2]\t## ok to link to scannable scalar fields?\n",
    "\t\ttype = 'Bragg'\n",
    "\t\tmaterial = 'Graphite'\n",
    "\t\treflection[3] = [0, 0, 6]\n",
    "\t\td_spacing = \n",
    "\n",
    "\n",
    "\n",
    "\n",
    "create new scannable with jones matrix elements and intensity for charge, E1E1 mag etc"
   ]
  },
  {
   "cell_type": "code",
   "execution_count": 1,
   "id": "7a88a3cf",
   "metadata": {},
   "outputs": [],
   "source": [
    "import numpy as np"
   ]
  },
  {
   "cell_type": "code",
   "execution_count": 4,
   "id": "fc01356b",
   "metadata": {},
   "outputs": [
    {
     "name": "stdout",
     "output_type": "stream",
     "text": [
      "[[ 1.  -0. ]\n",
      " [ 0.   0.5]]\n"
     ]
    }
   ],
   "source": [
    "tth = 60 * np.pi/180\n",
    "eta = 0 * np.pi/180\n",
    "\n",
    "Ap = np.array([[np.cos(eta), -np.sin(eta)], [np.cos(tth) * np.sin(eta), np.cos(tth) * np.cos(eta)]])\n",
    "\n",
    "print(Ap)\n",
    "\n",
    "############ do polarization calculations .....\n"
   ]
  },
  {
   "cell_type": "code",
   "execution_count": null,
   "id": "f8a55ce5",
   "metadata": {},
   "outputs": [],
   "source": []
  }
 ],
 "metadata": {
  "kernelspec": {
   "display_name": "Python 3.7 - EPSIC [DLS Conda]",
   "language": "python",
   "name": "conda-env-DLS_Conda-epsic3.7-kernel.json"
  },
  "language_info": {
   "codemirror_mode": {
    "name": "ipython",
    "version": 3
   },
   "file_extension": ".py",
   "mimetype": "text/x-python",
   "name": "python",
   "nbconvert_exporter": "python",
   "pygments_lexer": "ipython3",
   "version": "3.7.6"
  }
 },
 "nbformat": 4,
 "nbformat_minor": 5
}
