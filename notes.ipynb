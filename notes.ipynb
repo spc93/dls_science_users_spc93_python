{
 "cells": [
  {
   "cell_type": "code",
   "execution_count": null,
   "id": "e15a2f47",
   "metadata": {},
   "outputs": [],
   "source": []
  },
  {
   "cell_type": "markdown",
   "id": "7526c644",
   "metadata": {},
   "source": [
    "## Test: Download files from zenodo via url (or hithub if not)\n",
    "<picture>\n",
    "  <source media=\"(prefers-color-scheme: dark)\" srcset=\"https://user-images.githubusercontent.com/25423296/163456776-7f95b81a-f1ed-45f7-b7ab-8fa810d529fa.png\">\n",
    "  <img alt=\"Shows an illustrated sun in light color mode and a moon with stars in dark color mode.\" src=\"https://user-images.githubusercontent.com/25423296/163456779-a8556205-d0a5-45e2-ac17-42d089e3c3f8.png\">\n",
    "</picture>"
   ]
  },
  {
   "cell_type": "code",
   "execution_count": null,
   "id": "ebbe7b6a",
   "metadata": {},
   "outputs": [],
   "source": []
  },
  {
   "cell_type": "code",
   "execution_count": null,
   "id": "9fb390f0",
   "metadata": {},
   "outputs": [],
   "source": []
  }
 ],
 "metadata": {
  "kernelspec": {
   "display_name": "Python 3.8 [DLS Conda]",
   "language": "python",
   "name": "conda-env-DLS_Conda-python3.8-kernel.json"
  },
  "language_info": {
   "codemirror_mode": {
    "name": "ipython",
    "version": 3
   },
   "file_extension": ".py",
   "mimetype": "text/x-python",
   "name": "python",
   "nbconvert_exporter": "python",
   "pygments_lexer": "ipython3",
   "version": "3.8.0"
  }
 },
 "nbformat": 4,
 "nbformat_minor": 5
}
