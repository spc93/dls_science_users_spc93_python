{
 "cells": [
  {
   "cell_type": "code",
   "execution_count": 1,
   "metadata": {},
   "outputs": [],
   "source": [
    "#%run TensorScatteringClass"
   ]
  },
  {
   "cell_type": "code",
   "execution_count": 2,
   "metadata": {},
   "outputs": [],
   "source": [
    "#pip install pipreqs"
   ]
  },
  {
   "cell_type": "code",
   "execution_count": 3,
   "metadata": {},
   "outputs": [],
   "source": [
    "#from pipreqs import *\n"
   ]
  },
  {
   "cell_type": "code",
   "execution_count": 4,
   "metadata": {},
   "outputs": [],
   "source": [
    "#pipreqs"
   ]
  },
  {
   "cell_type": "code",
   "execution_count": 5,
   "metadata": {},
   "outputs": [
    {
     "name": "stdout",
     "output_type": "stream",
     "text": [
      "Defaulting to user installation because normal site-packages is not writeable\n",
      "Requirement already satisfied: pipdeptree in /home/spc93/.local/lib/python3.7/site-packages (2.2.0)\n",
      "Requirement already satisfied: pip>=6.0.0 in /dls_sw/apps/python/anaconda/4.6.14/64/envs/python3.7/lib/python3.7/site-packages (from pipdeptree) (21.0.1)\n",
      "Note: you may need to restart the kernel to use updated packages.\n"
     ]
    }
   ],
   "source": [
    "pip install pipdeptree"
   ]
  },
  {
   "cell_type": "code",
   "execution_count": 6,
   "metadata": {},
   "outputs": [],
   "source": [
    "import pipdeptree"
   ]
  },
  {
   "cell_type": "code",
   "execution_count": null,
   "metadata": {},
   "outputs": [],
   "source": []
  },
  {
   "cell_type": "code",
   "execution_count": null,
   "metadata": {},
   "outputs": [],
   "source": []
  },
  {
   "cell_type": "code",
   "execution_count": null,
   "metadata": {},
   "outputs": [],
   "source": []
  },
  {
   "cell_type": "code",
   "execution_count": 8,
   "metadata": {},
   "outputs": [
    {
     "name": "stdout",
     "output_type": "stream",
     "text": [
      "\n",
      "Crystal properties\n",
      "\n",
      "                    CIF file:  /home/spc93/spc_cifs/MnF2.cif\n",
      "                     Lattice:  4.874 4.874 3.311 90.00 90.00 90.00\n",
      "                   All sites:  Mn1, F1\n",
      "               Site selected:  Mn1\n",
      "                 Site vector:  0.000 0.000 0.000\n",
      "       No. of spacegroup ops:  16\n",
      "      No. of sym ops at site:  8\n",
      " No. of equiv. sites in cell:  2\n",
      "   No. of pg ops for crystal:  16\n",
      "\n",
      "Tensor properties\n",
      "\n",
      "             Required parity:  Even\n",
      "          Required time sym.:  Even\n",
      "                         hkl:  [3.0, 0.0, 0.0]\n",
      "                Site allowed:  No\n",
      "   Structure factor for site:  0.00+0.00i\n",
      "          Spacegroup allowed:  No\n",
      "              Tensor allowed:  Yes\n",
      "                      Parity:  Even\n",
      "                        Time:  Either\n",
      "                          PT:  Either\n",
      "              Glide or screw:  True\n"
     ]
    },
    {
     "data": {
      "image/png": "[encoded data removed]",
      "text/plain": [
       "<Figure size 432x288 with 1 Axes>"
      ]
     },
     "metadata": {
      "needs_background": "light"
     },
     "output_type": "display_data"
    },
    {
     "name": "stdout",
     "output_type": "stream",
     "text": [
      "\n",
      "Tensor components\n",
      "\n",
      "         Crystal (spherical):  [ 0.+0.j -0.+0.j  1.+0.j  0.+0.j  0.-0.j]\n",
      "            Atom (spherical):  [ 1.+0.j     0.+0.j     0.-0.763j  0.-0.j    -1.-0.j   ]\n",
      "  Struct. factor (spherical):  [ 1.-0.j  0.+0.j  0.-0.j  0.-0.j -1.-0.j]\n",
      "\n",
      "Crystal (Cartesian):\n",
      "\n",
      "[[-3.835+0.j -0.   +0.j -0.   +0.j]\n",
      " [-0.   +0.j -3.835+0.j -0.   +0.j]\n",
      " [-0.   +0.j -0.   +0.j  7.671+0.j]]\n",
      "\n",
      "Atom (Cartesian):\n",
      "\n",
      "[[-1.918+0.j -6.154+0.j -0.   +0.j]\n",
      " [-6.154+0.j -1.918+0.j -0.   +0.j]\n",
      " [-0.   +0.j -0.   +0.j  3.835+0.j]]\n",
      "\n",
      "Struct. factor (Cartesian):\n",
      "\n",
      "[[-0.+0.j  1.-0.j  0.+0.j]\n",
      " [ 1.-0.j  0.+0.j  0.+0.j]\n",
      " [ 0.+0.j  0.+0.j  0.-0.j]]\n",
      "\n"
     ]
    }
   ],
   "source": [
    "import TensorScatteringClass as ten\n",
    "import numpy as np\n",
    "%matplotlib inline\n",
    "\n",
    "# mag ref is 300 from book\n",
    "#003, 300 are E1E1 ATS\n",
    "\n",
    "t=ten.TensorScatteringClass(CIFfile='/home/spc93/spc_cifs/MnF2.cif', Site='Mn1');\n",
    "#t.PlotIntensityInPolarizationChannels('E1E1', lam=12.4/6.539, hkl=np.array([0,0,3]), hkln=np.array([1,0,0]), K=2, Time=1, Parity=1, mk=None, sk=None, sigmapi='sigma')\n",
    "t.PlotIntensityInPolarizationChannels('E1E1', lam=12.4/6.539, hkl=np.array([3,0,0]), hkln=np.array([0,1,0]), K=2, Time=1, Parity=1, mk=None, sk=None, sigmapi='sigma')\n",
    "\n",
    "t.print_tensors()"
   ]
  },
  {
   "cell_type": "code",
   "execution_count": null,
   "metadata": {},
   "outputs": [],
   "source": []
  },
  {
   "cell_type": "code",
   "execution_count": null,
   "metadata": {},
   "outputs": [],
   "source": []
  },
  {
   "cell_type": "code",
   "execution_count": null,
   "metadata": {},
   "outputs": [],
   "source": []
  }
 ],
 "metadata": {
  "kernelspec": {
   "display_name": "Python 3.7 [DLS Conda]",
   "language": "python",
   "name": "conda-env-DLS_Conda-python3.7-kernel.json"
  },
  "language_info": {
   "codemirror_mode": {
    "name": "ipython",
    "version": 3
   },
   "file_extension": ".py",
   "mimetype": "text/x-python",
   "name": "python",
   "nbconvert_exporter": "python",
   "pygments_lexer": "ipython3",
   "version": "3.7.3"
  }
 },
 "nbformat": 4,
 "nbformat_minor": 2
}
