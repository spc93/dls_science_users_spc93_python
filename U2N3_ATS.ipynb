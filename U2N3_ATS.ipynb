{
 "cells": [
  {
   "cell_type": "markdown",
   "metadata": {
    "scrolled": false
   },
   "source": [
    "import TensorScatteringClass as ten\n",
    "import numpy as np\n",
    "\n",
    "#Here is the cif file for U2N3. The reflections we measured were the [002], [0,1,3], [0,2,2] \n",
    "#and the azimuthal reference is [1,0,0].\n",
    "\n",
    "E_UM5 = 3.552\n",
    "\n",
    "\n",
    "refs=[[1,1,0], [2,0,0], [2,1,1], [2,2,0], [3,1,0], [2,2,2], [3,2,1], [4,0,0], [3,3,0], [4,1,1], [4,2,0], [3,3,2], [4,2,2], [5,1,0], [4,3,1], [5,2,1], [6,0,0], [6,2,2], [8,0,0]]\n",
    "\n",
    "for ref in refs:\n",
    "    print(\"========================\")\n",
    "    print(\"hkl = \"), ref\n",
    "    print(\"========================\")\n",
    "\n",
    "    #t=ten.TensorScatteringClass(CIFfile='/home/spc93/spc_cifs/aU2N3.cif', Site='U1');\n",
    "    t=ten.TensorScatteringClass(CIFfile='/home/spc93/spc_cifs/aU2N3.cif', Site='U2');\n",
    "    #t=ten.TensorScatteringClass(CIFfile='/home/spc93/spc_cifs/aU2N3_edit_U2x0.cif', Site='U2'); #modified CIF file\n",
    "\n",
    "    t.PlotIntensityInPolarizationChannels('E1E1', lam=12.4/E_UM5, hkl=np.array(ref), hkln=np.array([1,0,0]), K=2, Time=1, Parity=1, mk=None, lk=None, sk=None, sigmapi='sigma')\n",
    "    t.print_tensors()\n"
   ]
  },
  {
   "cell_type": "code",
   "execution_count": 5,
   "metadata": {},
   "outputs": [
    {
     "name": "stdout",
     "output_type": "stream",
     "text": [
      "\n",
      "Crystal properties\n",
      "\n",
      "                    CIF file:  /home/spc93/spc_cifs/aU2N3.cif\n",
      "                     Lattice:  10.678 10.678 10.678 90.00 90.00 90.00\n",
      "                   All sites:  U1, U2, N1\n",
      "               Site selected:  U2\n",
      "                 Site vector:  -0.018 0.000 0.250\n",
      "       No. of spacegroup ops:  48\n",
      "      No. of sym ops at site:  2\n",
      " No. of equiv. sites in cell:  24\n",
      "   No. of pg ops for crystal:  24\n",
      "\n",
      "Tensor properties\n",
      "\n",
      "             Required parity:  Even\n",
      "          Required time sym.:  Even\n",
      "                         hkl:  [0.0, 0.0, 2.0]\n",
      "                Site allowed:  Yes\n",
      "   Structure factor for site:  7.80+-0.00i\n",
      "          Spacegroup allowed:  Yes\n",
      "              Tensor allowed:  Yes\n",
      "                      Parity:  Either\n",
      "                        Time:  Either\n",
      "                          PT:  Either\n",
      "              Glide or screw:  True\n"
     ]
    },
    {
     "data": {
      "image/png": "[encoded data removed]",
      "text/plain": [
       "<Figure size 432x288 with 1 Axes>"
      ]
     },
     "metadata": {
      "needs_background": "light"
     },
     "output_type": "display_data"
    },
    {
     "name": "stdout",
     "output_type": "stream",
     "text": [
      "\n",
      "Tensor components\n",
      "\n",
      "         Crystal (spherical):  [ 0.+0.j -0.+0.j -0.+0.j  0.+0.j  0.-0.j]\n",
      "            Atom (spherical):  [ 0.-0.047j  1.+0.j     0.-0.298j  1.+0.j    -0.-0.047j]\n",
      "  Struct. factor (spherical):  [ 0.151+0.j  0.   -0.j  1.   +0.j -0.   +0.j  0.151-0.j]\n",
      "      Scattering phase (rad):  3.14\n",
      "\n",
      "Crystal (Cartesian):\n",
      "\n",
      "[[ 0.+0.j -0.+0.j -0.+0.j]\n",
      " [-0.+0.j  0.+0.j  0.+0.j]\n",
      " [-0.+0.j  0.+0.j  0.+0.j]]\n",
      "\n",
      "Atom (Cartesian):\n",
      "\n",
      "[[-0.091+0.j -0.   +0.j  0.   +0.j]\n",
      " [-0.   +0.j -0.209+0.j -1.236+0.j]\n",
      " [ 0.   +0.j -1.236+0.j  0.3  +0.j]]\n",
      "\n",
      "Struct. factor (Cartesian):\n",
      "\n",
      "[[-0.315+0.j -0.   +0.j  0.   -0.j]\n",
      " [-0.   +0.j -0.685-0.j  0.   -0.j]\n",
      " [ 0.   -0.j  0.   -0.j  1.   -0.j]]\n",
      "\n"
     ]
    },
    {
     "data": {
      "text/plain": [
       "<Figure size 432x288 with 0 Axes>"
      ]
     },
     "metadata": {},
     "output_type": "display_data"
    }
   ],
   "source": [
    "import TensorScatteringClass as ten\n",
    "import numpy as np\n",
    "\n",
    "##### Site U1 (24d)\n",
    "E_UM5 = 3.552\n",
    "\n",
    "t=ten.TensorScatteringClass(CIFfile='/home/spc93/spc_cifs/aU2N3.cif', Site='U2');\n",
    "t.PlotIntensityInPolarizationChannels('E1E1', lam=12.4/E_UM5, hkl=np.array([0,0,2]), hkln=np.array([1,0,0]), K=2, \n",
    "                                      Time=1, Parity=1, mk=None, lk=None, sk=None, sigmapi='sigma', savefile = 'U2N3_002_1')\n",
    "t.print_tensors()"
   ]
  },
  {
   "cell_type": "code",
   "execution_count": 7,
   "metadata": {},
   "outputs": [
    {
     "data": {
      "text/plain": [
       "<Figure size 432x288 with 0 Axes>"
      ]
     },
     "metadata": {},
     "output_type": "display_data"
    }
   ],
   "source": []
  },
  {
   "cell_type": "code",
   "execution_count": 14,
   "metadata": {},
   "outputs": [
    {
     "name": "stdout",
     "output_type": "stream",
     "text": [
      "[[ 0.  0. -1.]\n",
      " [ 1.  0.  0.]\n",
      " [ 0.  1.  0.]] \n",
      "\n",
      "[[ 0.  0.  1.]\n",
      " [ 1.  0.  0.]\n",
      " [ 0. -1.  0.]] \n",
      "\n",
      "[[ 0.  0.  1.]\n",
      " [-1.  0.  0.]\n",
      " [ 0.  1.  0.]] \n",
      "\n",
      "[[ 0.  0. -1.]\n",
      " [-1.  0.  0.]\n",
      " [ 0. -1.  0.]] \n",
      "\n",
      "[[ 0.  1.  0.]\n",
      " [ 0.  0. -1.]\n",
      " [ 1.  0.  0.]] \n",
      "\n",
      "[[ 0. -1.  0.]\n",
      " [ 0.  0.  1.]\n",
      " [ 1.  0.  0.]] \n",
      "\n",
      "[[ 0.  1.  0.]\n",
      " [ 0.  0.  1.]\n",
      " [-1.  0.  0.]] \n",
      "\n",
      "[[ 0. -1.  0.]\n",
      " [ 0.  0. -1.]\n",
      " [-1.  0.  0.]] \n",
      "\n",
      "[[ 1.  0.  0.]\n",
      " [ 0.  1.  0.]\n",
      " [ 0.  0. -1.]] \n",
      "\n",
      "[[ 1.  0.  0.]\n",
      " [ 0. -1.  0.]\n",
      " [ 0.  0.  1.]] \n",
      "\n",
      "[[-1.  0.  0.]\n",
      " [ 0.  1.  0.]\n",
      " [ 0.  0.  1.]] \n",
      "\n",
      "[[-1.  0.  0.]\n",
      " [ 0. -1.  0.]\n",
      " [ 0.  0. -1.]] \n",
      "\n",
      "[[ 0.  0.  1.]\n",
      " [-1.  0.  0.]\n",
      " [ 0. -1.  0.]] \n",
      "\n",
      "[[ 0.  0. -1.]\n",
      " [-1.  0.  0.]\n",
      " [ 0.  1.  0.]] \n",
      "\n",
      "[[ 0.  0. -1.]\n",
      " [ 1.  0.  0.]\n",
      " [ 0. -1.  0.]] \n",
      "\n",
      "[[0. 0. 1.]\n",
      " [1. 0. 0.]\n",
      " [0. 1. 0.]] \n",
      "\n",
      "[[ 0. -1.  0.]\n",
      " [ 0.  0.  1.]\n",
      " [-1.  0.  0.]] \n",
      "\n",
      "[[ 0.  1.  0.]\n",
      " [ 0.  0. -1.]\n",
      " [-1.  0.  0.]] \n",
      "\n",
      "[[ 0. -1.  0.]\n",
      " [ 0.  0. -1.]\n",
      " [ 1.  0.  0.]] \n",
      "\n",
      "[[0. 1. 0.]\n",
      " [0. 0. 1.]\n",
      " [1. 0. 0.]] \n",
      "\n",
      "[[-1.  0.  0.]\n",
      " [ 0. -1.  0.]\n",
      " [ 0.  0.  1.]] \n",
      "\n",
      "[[-1.  0.  0.]\n",
      " [ 0.  1.  0.]\n",
      " [ 0.  0. -1.]] \n",
      "\n",
      "[[ 1.  0.  0.]\n",
      " [ 0. -1.  0.]\n",
      " [ 0.  0. -1.]] \n",
      "\n",
      "[[1. 0. 0.]\n",
      " [0. 1. 0.]\n",
      " [0. 0. 1.]] \n",
      "\n"
     ]
    }
   ],
   "source": [
    "for pg in t.crystalpglist:\n",
    "    print(pg[0], '\\n')"
   ]
  },
  {
   "cell_type": "code",
   "execution_count": null,
   "metadata": {},
   "outputs": [],
   "source": []
  }
 ],
 "metadata": {
  "kernelspec": {
   "display_name": "Python 3.7 [DLS Conda]",
   "language": "python",
   "name": "conda-env-DLS_Conda-python3.7-kernel.json"
  },
  "language_info": {
   "codemirror_mode": {
    "name": "ipython",
    "version": 3
   },
   "file_extension": ".py",
   "mimetype": "text/x-python",
   "name": "python",
   "nbconvert_exporter": "python",
   "pygments_lexer": "ipython3",
   "version": "3.7.3"
  }
 },
 "nbformat": 4,
 "nbformat_minor": 2
}
