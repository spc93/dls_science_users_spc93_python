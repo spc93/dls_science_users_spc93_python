{
 "cells": [
  {
   "cell_type": "code",
   "execution_count": 1,
   "id": "c997be10",
   "metadata": {},
   "outputs": [
    {
     "name": "stdout",
     "output_type": "stream",
     "text": [
      "I\n",
      "Space group: I 41/a c d :2 (No. 142)\n",
      "None\n",
      "No. sg ops:  32\n",
      "1 \t x,y,z\n",
      "2 \t -y+1/4,x+3/4,z+1/4\n",
      "3 \t y+1/4,-x+1/4,z+3/4\n",
      "4 \t x,-y,-z+1/2\n",
      "5 \t -x+1/2,y,-z\n",
      "6 \t -x,-y+1/2,z\n",
      "7 \t y+1/4,x+3/4,-z+3/4\n",
      "8 \t -y+1/4,-x+1/4,-z+1/4\n",
      "9 \t -x,-y,-z\n",
      "10 \t y-1/4,-x-3/4,-z-1/4\n",
      "11 \t -y-1/4,x-1/4,-z-3/4\n",
      "12 \t -x,y,z-1/2\n",
      "13 \t x-1/2,-y,z\n",
      "14 \t x,y-1/2,-z\n",
      "15 \t -y-1/4,-x-3/4,z-3/4\n",
      "16 \t y-1/4,x-1/4,z-1/4\n",
      "17 \t x+1/2,y+1/2,z+1/2\n",
      "18 \t -y+3/4,x+5/4,z+3/4\n",
      "19 \t y+3/4,-x+3/4,z+5/4\n",
      "20 \t x+1/2,-y+1/2,-z+1\n",
      "21 \t -x+1,y+1/2,-z+1/2\n",
      "22 \t -x+1/2,-y+1,z+1/2\n",
      "23 \t y+3/4,x+5/4,-z+5/4\n",
      "24 \t -y+3/4,-x+3/4,-z+3/4\n",
      "25 \t -x+1/2,-y+1/2,-z+1/2\n",
      "26 \t y+1/4,-x-1/4,-z+1/4\n",
      "27 \t -y+1/4,x+1/4,-z-1/4\n",
      "28 \t -x+1/2,y+1/2,z\n",
      "29 \t x,-y+1/2,z+1/2\n",
      "30 \t x+1/2,y,-z+1/2\n",
      "31 \t -y+1/4,-x-1/4,z-1/4\n",
      "32 \t y+1/4,x+1/4,z+1/4\n",
      "Generators\n",
      "Generator:  -x,-y,-z\n",
      "Generator:  y,y-z+1/2,-x+y\n",
      "Generator:  -x+1/2,-x+z+1/2,-x+y\n",
      "7 y+1/4,x+3/4,-z+3/4\n",
      "2*h*(-x + y + 1/4) + 2*k*(x - y + 3/4) + 2*l*(3/4 - 2*z)\n",
      "Object `?? general positions are not the same as International tables (any origin choice)` not found.\n",
      "Object `zero` not found.\n"
     ]
    }
   ],
   "source": [
    "import cctbx.sgtbx as sg\n",
    "import sympy as sp\n",
    "\n",
    "x, y, z = sp.symbols(['x', 'y', 'z'])\n",
    "h, k, l = sp.symbols(['h', 'k', 'l'])\n",
    "\n",
    "\n",
    "sgi = sg.space_group_info(142)\n",
    "sg = sgi.group()\n",
    "sgi.symbol_and_number() # 'I 41/a c d :2 (No. 142)'\n",
    "sym_num_str = sgi.symbol_and_number()\n",
    "print(sym_num_str[0])\n",
    "print(sgi.show_summary())\n",
    "print('No. sg ops: ', len(sg.all_ops()))\n",
    "symxyz = [str(s.as_xyz()) for s in sg.all_ops()]\n",
    "for i in range(len(symxyz)): print(i+1, '\\t',symxyz[i])\n",
    "#print(symxyz)\n",
    "\n",
    "print('Generators')\n",
    "for generator in sg.info().any_generator_set().primitive_generators:\n",
    "    gen_xyz = generator.as_xyz()\n",
    "    print('Generator: ', generator.as_xyz())\n",
    "\n",
    "\n",
    "#sg.info().any_generator_set().primitive_generators[0].as_xyz()\n",
    "\n",
    "#index generators from 1\n",
    "#generator = 17 # I centring\n",
    "#generator = 4 # gride no rules for general pos\n",
    "#generator = 2 # screw 00l: l=4n (h=k=l to eliminate x,y)\n",
    "#generator = 3 # screw 00l: l=4n (h=k=l to eliminate x,y) 3l/2 =even => l/2 even => l=4n\n",
    "generator = 7 #\n",
    "\n",
    "print(generator, symxyz[generator-1])\n",
    "xp, yp, zp = sp.simplify(symxyz[generator-1])\n",
    "F = 2 * h * (xp - x) + 2 * k * (yp - y) + 2 * l * (zp - z)\n",
    "print(F)\n",
    "F\n",
    "\n",
    "\n",
    "\n",
    "\n",
    "???? general positions are not the same as International tables (any origin choice)\n",
    "???? look at generator 7; work out rules. Sympy: reduce number of variables then set them to zero??"
   ]
  },
  {
   "cell_type": "markdown",
   "id": "bd6656b7",
   "metadata": {},
   "source": [
    "https://cctbx.github.io/cctbx/cctbx.sgtbx.html"
   ]
  },
  {
   "cell_type": "code",
   "execution_count": 2,
   "id": "8003d9db",
   "metadata": {},
   "outputs": [
    {
     "data": {
      "text/latex": [
       "$\\displaystyle \\frac{h \\left(- 4 x + 4 y + 1\\right)}{2} + \\frac{k \\left(4 x - 4 y + 3\\right)}{2} - \\frac{l \\left(8 z - 3\\right)}{2}$"
      ],
      "text/plain": [
       "h*(-4*x + 4*y + 1)/2 + k*(4*x - 4*y + 3)/2 - l*(8*z - 3)/2"
      ]
     },
     "execution_count": 2,
     "metadata": {},
     "output_type": "execute_result"
    }
   ],
   "source": [
    "sp.simplify(F)"
   ]
  },
  {
   "cell_type": "code",
   "execution_count": 3,
   "id": "aaebcd19",
   "metadata": {},
   "outputs": [
    {
     "data": {
      "text/latex": [
       "$\\displaystyle \\frac{h \\left(- 4 x + 4 y + 1\\right)}{2} + \\frac{k \\left(4 x - 4 y + 3\\right)}{2} - \\frac{l \\left(8 z - 3\\right)}{2}$"
      ],
      "text/plain": [
       "h*(-4*x + 4*y + 1)/2 + k*(4*x - 4*y + 3)/2 - l*(8*z - 3)/2"
      ]
     },
     "execution_count": 3,
     "metadata": {},
     "output_type": "execute_result"
    }
   ],
   "source": [
    "sp.simplify(F)"
   ]
  },
  {
   "cell_type": "code",
   "execution_count": 4,
   "id": "ed4c48ae",
   "metadata": {},
   "outputs": [
    {
     "data": {
      "text/latex": [
       "$\\displaystyle - \\frac{4 h x - 4 h y - h - 4 k x + 4 k y - 3 k + 8 l z - 3 l}{2}$"
      ],
      "text/plain": [
       "-(4*h*x - 4*h*y - h - 4*k*x + 4*k*y - 3*k + 8*l*z - 3*l)/2"
      ]
     },
     "execution_count": 4,
     "metadata": {},
     "output_type": "execute_result"
    }
   ],
   "source": [
    "sp.factor(F)"
   ]
  },
  {
   "cell_type": "code",
   "execution_count": null,
   "id": "c61ee015",
   "metadata": {},
   "outputs": [],
   "source": []
  },
  {
   "cell_type": "code",
   "execution_count": null,
   "id": "fe67bd8b",
   "metadata": {},
   "outputs": [],
   "source": []
  },
  {
   "cell_type": "code",
   "execution_count": 5,
   "id": "3359ecf6",
   "metadata": {},
   "outputs": [],
   "source": [
    "si = sg.info()\n"
   ]
  },
  {
   "cell_type": "code",
   "execution_count": 6,
   "id": "cce82725",
   "metadata": {},
   "outputs": [
    {
     "data": {
      "text/plain": [
       "(<cctbx_sgtbx_ext.rt_mx at 0x7fc3e24824b0>,\n",
       " <cctbx_sgtbx_ext.rt_mx at 0x7fc3e2482530>,\n",
       " <cctbx_sgtbx_ext.rt_mx at 0x7fc3e24825b0>)"
      ]
     },
     "execution_count": 6,
     "metadata": {},
     "output_type": "execute_result"
    }
   ],
   "source": [
    "ss = si.any_generator_set()\n",
    "ss.primitive_generators\n",
    "\n"
   ]
  },
  {
   "cell_type": "raw",
   "id": "5be2558e",
   "metadata": {},
   "source": [
    "#pip install sympy\n",
    "import sympy as sp\n",
    "#from sympy.parsing.sympy_parser import parse_expr\n",
    "\n",
    "x, y, z = sp.symbols(['x', 'y', 'z'])\n",
    "h, k, l = sp.symbols(['h', 'k', 'l'])\n"
   ]
  },
  {
   "cell_type": "raw",
   "id": "69332471",
   "metadata": {},
   "source": [
    "s = symxyz[16] # centring\n",
    "#s = symxyz[1] # complex type\n",
    "s\n",
    "\n",
    "########### how to solve this????????????\n",
    "\n",
    "#use sympy to simplify expression h(x'-x) + k(y'-y) + l(z'-z) = 2n+1 (or whatever)\n",
    "#factorize?...\n",
    "\n",
    "\n",
    "\n",
    "\n"
   ]
  },
  {
   "cell_type": "code",
   "execution_count": 7,
   "id": "d2024590",
   "metadata": {},
   "outputs": [
    {
     "ename": "NameError",
     "evalue": "name 's' is not defined",
     "output_type": "error",
     "traceback": [
      "\u001b[0;31m---------------------------------------------------------------------------\u001b[0m",
      "\u001b[0;31mNameError\u001b[0m                                 Traceback (most recent call last)",
      "\u001b[0;32m<ipython-input-7-caee2469a31b>\u001b[0m in \u001b[0;36m<module>\u001b[0;34m\u001b[0m\n\u001b[1;32m      2\u001b[0m \u001b[0;31m#print(rp)\u001b[0m\u001b[0;34m\u001b[0m\u001b[0;34m\u001b[0m\u001b[0;34m\u001b[0m\u001b[0m\n\u001b[1;32m      3\u001b[0m \u001b[0;31m#print(rp[0])\u001b[0m\u001b[0;34m\u001b[0m\u001b[0;34m\u001b[0m\u001b[0;34m\u001b[0m\u001b[0m\n\u001b[0;32m----> 4\u001b[0;31m \u001b[0mxp\u001b[0m\u001b[0;34m,\u001b[0m \u001b[0myp\u001b[0m\u001b[0;34m,\u001b[0m \u001b[0mzp\u001b[0m \u001b[0;34m=\u001b[0m \u001b[0msp\u001b[0m\u001b[0;34m.\u001b[0m\u001b[0msimplify\u001b[0m\u001b[0;34m(\u001b[0m\u001b[0ms\u001b[0m\u001b[0;34m)\u001b[0m\u001b[0;34m\u001b[0m\u001b[0;34m\u001b[0m\u001b[0m\n\u001b[0m\u001b[1;32m      5\u001b[0m \u001b[0;34m\u001b[0m\u001b[0m\n\u001b[1;32m      6\u001b[0m \u001b[0mF\u001b[0m \u001b[0;34m=\u001b[0m \u001b[0;36m2\u001b[0m \u001b[0;34m*\u001b[0m \u001b[0mh\u001b[0m \u001b[0;34m*\u001b[0m \u001b[0;34m(\u001b[0m\u001b[0mxp\u001b[0m \u001b[0;34m-\u001b[0m \u001b[0mx\u001b[0m\u001b[0;34m)\u001b[0m \u001b[0;34m+\u001b[0m \u001b[0;36m2\u001b[0m \u001b[0;34m*\u001b[0m \u001b[0mk\u001b[0m \u001b[0;34m*\u001b[0m \u001b[0;34m(\u001b[0m\u001b[0myp\u001b[0m \u001b[0;34m-\u001b[0m \u001b[0my\u001b[0m\u001b[0;34m)\u001b[0m \u001b[0;34m+\u001b[0m \u001b[0;36m2\u001b[0m \u001b[0;34m*\u001b[0m \u001b[0ml\u001b[0m \u001b[0;34m*\u001b[0m \u001b[0;34m(\u001b[0m\u001b[0mzp\u001b[0m \u001b[0;34m-\u001b[0m \u001b[0mz\u001b[0m\u001b[0;34m)\u001b[0m\u001b[0;34m\u001b[0m\u001b[0;34m\u001b[0m\u001b[0m\n",
      "\u001b[0;31mNameError\u001b[0m: name 's' is not defined"
     ]
    }
   ],
   "source": [
    "#rp = sp.simplify(s)\n",
    "#print(rp)\n",
    "#print(rp[0])\n",
    "xp, yp, zp = sp.simplify(s)\n",
    "\n",
    "F = 2 * h * (xp - x) + 2 * k * (yp - y) + 2 * l * (zp - z)\n",
    "F\n",
    "\n",
    "# zero if h + k + l is odd"
   ]
  },
  {
   "cell_type": "raw",
   "id": "66ee345f",
   "metadata": {},
   "source": [
    ">> from cctbx import sgtbx\n",
    ">> sg = sgtbx.space_group(\"P21\")\n",
    ">> sg.info().any_generator_set().primitive_generators\n",
    "\n",
    "gives a list of generators, then you can call methods like as_xyz() to get them in particular forms:\n",
    ">> sg.info().any_generator_set().primitive_generators[0].as_xyz()\n",
    "'-x,-y,z+1/2'\n"
   ]
  },
  {
   "cell_type": "code",
   "execution_count": null,
   "id": "5de40c2a",
   "metadata": {},
   "outputs": [],
   "source": []
  },
  {
   "cell_type": "code",
   "execution_count": 10,
   "id": "408f0331",
   "metadata": {},
   "outputs": [
    {
     "data": {
      "text/latex": [
       "$\\displaystyle h \\left(x + y + 1\\right) + k \\left(- x - y\\right)$"
      ],
      "text/plain": [
       "h*(x + y + 1) + k*(-x - y)"
      ]
     },
     "execution_count": 10,
     "metadata": {},
     "output_type": "execute_result"
    }
   ],
   "source": [
    "ff = h * (x + y + 1) + k * (-x -y)\n",
    "ff"
   ]
  },
  {
   "cell_type": "code",
   "execution_count": 52,
   "id": "87c88829",
   "metadata": {},
   "outputs": [
    {
     "name": "stdout",
     "output_type": "stream",
     "text": [
      "h*(x + y + 1) + k*(-x - y)\n",
      "x + y + 1\n",
      "[u - y - 1]\n",
      "h*(x + y + 1) + k*(-x - y)\n",
      "h*u + k*(1 - u)\n",
      "h - k\n"
     ]
    }
   ],
   "source": [
    "\n",
    "u, v, w = sp.symbols(['u', 'v', 'w'])\n",
    "\n",
    "\n",
    "ff = h * (x + y + 1) + k * (-x -y)\n",
    "print(ff)\n",
    "\n",
    "uu = ff.coeff(h)\n",
    "print(uu)\n",
    "print(sp.solve(uu-u, x))\n",
    "print(ff)\n",
    "ff = ff.subs(x, sp.solve(uu-u, x)[0])\n",
    "print(ff)\n",
    "print(ff.expand().coeff(u))\n",
    "\n",
    "\n",
    "\n",
    "#ff = ff.subs(x, u-y-1)\n",
    "#print(ff)\n",
    "#ff.coeff(u)\n",
    "\n",
    "\n"
   ]
  },
  {
   "cell_type": "code",
   "execution_count": 56,
   "id": "3240e388",
   "metadata": {},
   "outputs": [],
   "source": [
    "u = sp.symbols(['u0', 'u1'])"
   ]
  },
  {
   "cell_type": "code",
   "execution_count": 58,
   "id": "97b430ab",
   "metadata": {},
   "outputs": [
    {
     "data": {
      "text/latex": [
       "$\\displaystyle u_{0}$"
      ],
      "text/plain": [
       "u0"
      ]
     },
     "execution_count": 58,
     "metadata": {},
     "output_type": "execute_result"
    }
   ],
   "source": [
    "u[0]"
   ]
  },
  {
   "cell_type": "code",
   "execution_count": null,
   "id": "6805679c",
   "metadata": {},
   "outputs": [],
   "source": []
  },
  {
   "cell_type": "code",
   "execution_count": 102,
   "id": "5533b457",
   "metadata": {},
   "outputs": [
    {
     "data": {
      "text/latex": [
       "$\\displaystyle h \\left(x + y + 1\\right) + k \\left(- x - y\\right) + l \\left(z + 1\\right)$"
      ],
      "text/plain": [
       "h*(x + y + 1) + k*(-x - y) + l*(z + 1)"
      ]
     },
     "metadata": {},
     "output_type": "display_data"
    },
    {
     "data": {
      "text/latex": [
       "$\\displaystyle x$"
      ],
      "text/plain": [
       "x"
      ]
     },
     "metadata": {},
     "output_type": "display_data"
    },
    {
     "data": {
      "text/plain": [
       "[]"
      ]
     },
     "metadata": {},
     "output_type": "display_data"
    },
    {
     "data": {
      "text/latex": [
       "$\\displaystyle h u_{0} + k \\left(1 - u_{0}\\right) + l \\left(z + 1\\right)$"
      ],
      "text/plain": [
       "h*u0 + k*(1 - u0) + l*(z + 1)"
      ]
     },
     "metadata": {},
     "output_type": "display_data"
    },
    {
     "data": {
      "text/latex": [
       "$\\displaystyle h u_{0} + k \\left(1 - u_{0}\\right) + l u_{2}$"
      ],
      "text/plain": [
       "h*u0 + k*(1 - u0) + l*u2"
      ]
     },
     "metadata": {},
     "output_type": "display_data"
    }
   ],
   "source": [
    "#### long form for testing\n",
    "\n",
    "ff = h * (x + y + 1) + k * (-x -y) + l * (z + 1)\n",
    "display(ff)\n",
    "\n",
    "#expr0, expr1, expr2 = ff.coeff(h), ff.coeff(k), ff.coeff(l)\n",
    "\n",
    "u = sp.symbols(['u0', 'u1', 'u2'])\n",
    "\n",
    "def find_xyz(expression):\n",
    "    if expression.coeff(x) != 0:\n",
    "        return x\n",
    "    if expression.coeff(y) != 0:\n",
    "        return y\n",
    "    if expression.coeff(z) != 0:\n",
    "        return z\n",
    "    \n",
    "###a)\n",
    "\n",
    "\n",
    "expr =  ff.coeff(h)\n",
    "xyz_var = find_xyz(expr)\n",
    "\n",
    "if xyz_var != None:\n",
    "    display(xyz_var, sp.solve(expr == u[0], xyz_var))\n",
    "    ff = ff.subs(xyz_var, sp.solve(expr - u[0], xyz_var)[0])\n",
    "#display(ff)\n",
    "\n",
    "\n",
    "###b)\n",
    "\n",
    "expr =  ff.coeff(k)\n",
    "xyz_var = find_xyz(expr)\n",
    "\n",
    "if xyz_var != None:\n",
    "    #display(xyz_var, sp.solve(expr == u[1], xyz_var))\n",
    "    ff = ff.subs(xyz_var, sp.solve(expr - u[1], xyz_var)[0])\n",
    "display(ff)\n",
    "\n",
    "\n",
    "###c)\n",
    "\n",
    "expr =  ff.coeff(l)\n",
    "xyz_var = find_xyz(expr)\n",
    "\n",
    "if xyz_var != None:\n",
    "    #display(xyz_var, sp.solve(expr == u[2], xyz_var))\n",
    "    ff = ff.subs(xyz_var, sp.solve(expr - u[2], xyz_var)[0])\n",
    "\n",
    "    \n",
    "display(ff)\n",
    "\n",
    "\n"
   ]
  },
  {
   "cell_type": "code",
   "execution_count": 127,
   "id": "6946eb9d",
   "metadata": {},
   "outputs": [
    {
     "data": {
      "text/latex": [
       "$\\displaystyle h \\left(x + y + 1\\right) + k \\left(- x - y\\right) + l \\left(z + 1\\right)$"
      ],
      "text/plain": [
       "h*(x + y + 1) + k*(-x - y) + l*(z + 1)"
      ]
     },
     "metadata": {},
     "output_type": "display_data"
    },
    {
     "data": {
      "text/latex": [
       "$\\displaystyle h u_{h} + k \\left(1 - u_{h}\\right) + l u_{l}$"
      ],
      "text/plain": [
       "h*u_h + k*(1 - u_h) + l*u_l"
      ]
     },
     "metadata": {},
     "output_type": "display_data"
    }
   ],
   "source": [
    "## short form\n",
    "\n",
    "ff = h * (x + y + 1) + k * (-x -y) + l * (z + 1)\n",
    "\n",
    "display(ff)\n",
    "\n",
    "u = {'h': sp.symbols('u_h'), 'k': sp.symbols('u_k'), 'l': sp.symbols('u_l')}\n",
    "\n",
    "def find_xyz(expression):\n",
    "    if expression.coeff(x) != 0:\n",
    "        return x\n",
    "    if expression.coeff(y) != 0:\n",
    "        return y\n",
    "    if expression.coeff(z) != 0:\n",
    "        return z\n",
    "    \n",
    "for hkl in ['h', 'k', 'l']:\n",
    "    #print(hkl)\n",
    "    expr =  ff.coeff(hkl)\n",
    "    xyz_var = find_xyz(expr)\n",
    "    #display(xyz_var)\n",
    "\n",
    "    if xyz_var != None:\n",
    "        #display(hkl, xyz_var)\n",
    "        #display(xyz_var, sp.solve(expr - xyz_var, xyz_var))\n",
    "        ff = ff.subs(xyz_var, sp.solve(expr - u[hkl], xyz_var)[0])\n",
    "   \n",
    "  \n",
    "display(ff)\n",
    "\n",
    "\n"
   ]
  },
  {
   "cell_type": "code",
   "execution_count": 141,
   "id": "d433fbfe",
   "metadata": {},
   "outputs": [
    {
     "data": {
      "text/latex": [
       "$\\displaystyle h u_{h} + k \\left(1 - u_{h}\\right) + l u_{l}$"
      ],
      "text/plain": [
       "h*u_h + k*(1 - u_h) + l*u_l"
      ]
     },
     "execution_count": 141,
     "metadata": {},
     "output_type": "execute_result"
    }
   ],
   "source": [
    "## function form\n",
    "\n",
    "ff = h * (x + y + 1) + k * (-x -y) + l * (z + 1)\n",
    "\n",
    "def eliminate_xyz(ff):\n",
    "\n",
    "    #display(ff)\n",
    "\n",
    "    u = {'h': sp.symbols('u_h'), 'k': sp.symbols('u_k'), 'l': sp.symbols('u_l')}\n",
    "\n",
    "    def find_xyz(expression):\n",
    "        if expression.coeff(x) != 0:\n",
    "            return x\n",
    "        if expression.coeff(y) != 0:\n",
    "            return y\n",
    "        if expression.coeff(z) != 0:\n",
    "            return z\n",
    "\n",
    "    for hkl in ['h', 'k', 'l']:\n",
    "        #print(hkl)\n",
    "        expr =  ff.coeff(hkl)\n",
    "        xyz_var = find_xyz(expr)\n",
    "        #display(xyz_var)\n",
    "\n",
    "        if xyz_var != None:\n",
    "            #display(hkl, xyz_var)\n",
    "            #display(xyz_var, sp.solve(expr - xyz_var, xyz_var))\n",
    "            ff = ff.subs(xyz_var, sp.solve(expr - u[hkl], xyz_var)[0])\n",
    "\n",
    "    return ff\n",
    "    \n",
    "eliminate_xyz(ff)"
   ]
  },
  {
   "cell_type": "code",
   "execution_count": 166,
   "id": "a65457f3",
   "metadata": {},
   "outputs": [
    {
     "data": {
      "text/plain": [
       "(h*u_h + k*(1 - u_h) + l*u_l, [Eq(h - k, 0), Eq(h - k, 0), Eq(h - k, 0)], k)"
      ]
     },
     "execution_count": 166,
     "metadata": {},
     "output_type": "execute_result"
    }
   ],
   "source": [
    "## function form - new version with conditions and rules\n",
    "\n",
    "ff = h * (x + y + 1) + k * (-x -y) + l * (z + 1)\n",
    "\n",
    "def eliminate_xyz(ff):\n",
    "\n",
    "    #display(ff)\n",
    "\n",
    "    u = {'h': sp.symbols('u_h'), 'k': sp.symbols('u_k'), 'l': sp.symbols('u_l')}\n",
    "\n",
    "    def find_xyz(expression):\n",
    "        if expression.coeff(x) != 0:\n",
    "            return x\n",
    "        if expression.coeff(y) != 0:\n",
    "            return y\n",
    "        if expression.coeff(z) != 0:\n",
    "            return z\n",
    "\n",
    "    for hkl in ['h', 'k', 'l']:\n",
    "        #print(hkl)\n",
    "        expr =  ff.coeff(hkl)\n",
    "        xyz_var = find_xyz(expr)\n",
    "        #display(xyz_var)\n",
    "\n",
    "        if xyz_var != None:\n",
    "            #display(hkl, xyz_var)\n",
    "            #display(xyz_var, sp.solve(expr - xyz_var, xyz_var))\n",
    "            ff = ff.subs(xyz_var, sp.solve(expr - u[hkl], xyz_var)[0])\n",
    "\n",
    "\n",
    "        conds = []\n",
    "        for hkl in ['h', 'k', 'l']:\n",
    "            coef = f_u.expand().coeff(u['h'])\n",
    "            if coef != 0:\n",
    "                conds += [sp.Eq(f_u.expand().coeff(u['h']), 0)]\n",
    "\n",
    "        #rule: thhis expression is odd\n",
    "        rule = ff.subs({u['h']:0, u['k']:0, u['l']:0})\n",
    "        \n",
    "    return (ff, conds, rule)\n",
    "    \n",
    "eliminate_xyz(ff)"
   ]
  },
  {
   "cell_type": "code",
   "execution_count": 167,
   "id": "4f487df0",
   "metadata": {
    "scrolled": true
   },
   "outputs": [
    {
     "name": "stdout",
     "output_type": "stream",
     "text": [
      "I\n",
      "Space group: I 41/a c d :2 (No. 142)\n",
      "None\n",
      "No. sg ops:  32\n",
      "x,y,z\n"
     ]
    },
    {
     "data": {
      "text/latex": [
       "$\\displaystyle 0$"
      ],
      "text/plain": [
       "0"
      ]
     },
     "metadata": {},
     "output_type": "display_data"
    },
    {
     "data": {
      "text/plain": [
       "(0, [Eq(h - k, 0), Eq(h - k, 0), Eq(h - k, 0)], 0)"
      ]
     },
     "metadata": {},
     "output_type": "display_data"
    },
    {
     "name": "stdout",
     "output_type": "stream",
     "text": [
      "\n",
      "\n",
      "-y+1/4,x+3/4,z+1/4\n"
     ]
    },
    {
     "data": {
      "text/latex": [
       "$\\displaystyle 2 h \\left(- x - y + \\frac{1}{4}\\right) + 2 k \\left(x - y + \\frac{3}{4}\\right) + \\frac{l}{2}$"
      ],
      "text/plain": [
       "2*h*(-x - y + 1/4) + 2*k*(x - y + 3/4) + l/2"
      ]
     },
     "metadata": {},
     "output_type": "display_data"
    },
    {
     "data": {
      "text/plain": [
       "(h*u_h + k*u_k + l/2, [Eq(h - k, 0), Eq(h - k, 0), Eq(h - k, 0)], l/2)"
      ]
     },
     "metadata": {},
     "output_type": "display_data"
    },
    {
     "name": "stdout",
     "output_type": "stream",
     "text": [
      "\n",
      "\n",
      "y+1/4,-x+1/4,z+3/4\n"
     ]
    },
    {
     "data": {
      "text/latex": [
       "$\\displaystyle 2 h \\left(- x + y + \\frac{1}{4}\\right) + 2 k \\left(- x - y + \\frac{1}{4}\\right) + \\frac{3 l}{2}$"
      ],
      "text/plain": [
       "2*h*(-x + y + 1/4) + 2*k*(-x - y + 1/4) + 3*l/2"
      ]
     },
     "metadata": {},
     "output_type": "display_data"
    },
    {
     "data": {
      "text/plain": [
       "(h*u_h + k*u_k + 3*l/2, [Eq(h - k, 0), Eq(h - k, 0), Eq(h - k, 0)], 3*l/2)"
      ]
     },
     "metadata": {},
     "output_type": "display_data"
    },
    {
     "name": "stdout",
     "output_type": "stream",
     "text": [
      "\n",
      "\n",
      "x,-y,-z+1/2\n"
     ]
    },
    {
     "data": {
      "text/latex": [
       "$\\displaystyle - 4 k y + 2 l \\left(\\frac{1}{2} - 2 z\\right)$"
      ],
      "text/plain": [
       "-4*k*y + 2*l*(1/2 - 2*z)"
      ]
     },
     "metadata": {},
     "output_type": "display_data"
    },
    {
     "data": {
      "text/plain": [
       "(k*u_k + l*u_l, [Eq(h - k, 0), Eq(h - k, 0), Eq(h - k, 0)], 0)"
      ]
     },
     "metadata": {},
     "output_type": "display_data"
    },
    {
     "name": "stdout",
     "output_type": "stream",
     "text": [
      "\n",
      "\n",
      "-x+1/2,y,-z\n"
     ]
    },
    {
     "data": {
      "text/latex": [
       "$\\displaystyle 2 h \\left(\\frac{1}{2} - 2 x\\right) - 4 l z$"
      ],
      "text/plain": [
       "2*h*(1/2 - 2*x) - 4*l*z"
      ]
     },
     "metadata": {},
     "output_type": "display_data"
    },
    {
     "data": {
      "text/plain": [
       "(h*u_h + l*u_l, [Eq(h - k, 0), Eq(h - k, 0), Eq(h - k, 0)], 0)"
      ]
     },
     "metadata": {},
     "output_type": "display_data"
    },
    {
     "name": "stdout",
     "output_type": "stream",
     "text": [
      "\n",
      "\n",
      "-x,-y+1/2,z\n"
     ]
    },
    {
     "data": {
      "text/latex": [
       "$\\displaystyle - 4 h x + 2 k \\left(\\frac{1}{2} - 2 y\\right)$"
      ],
      "text/plain": [
       "-4*h*x + 2*k*(1/2 - 2*y)"
      ]
     },
     "metadata": {},
     "output_type": "display_data"
    },
    {
     "data": {
      "text/plain": [
       "(h*u_h + k*u_k, [Eq(h - k, 0), Eq(h - k, 0), Eq(h - k, 0)], 0)"
      ]
     },
     "metadata": {},
     "output_type": "display_data"
    },
    {
     "name": "stdout",
     "output_type": "stream",
     "text": [
      "\n",
      "\n",
      "y+1/4,x+3/4,-z+3/4\n"
     ]
    },
    {
     "data": {
      "text/latex": [
       "$\\displaystyle 2 h \\left(- x + y + \\frac{1}{4}\\right) + 2 k \\left(x - y + \\frac{3}{4}\\right) + 2 l \\left(\\frac{3}{4} - 2 z\\right)$"
      ],
      "text/plain": [
       "2*h*(-x + y + 1/4) + 2*k*(x - y + 3/4) + 2*l*(3/4 - 2*z)"
      ]
     },
     "metadata": {},
     "output_type": "display_data"
    },
    {
     "data": {
      "text/plain": [
       "(h*u_h + 2*k*(1 - u_h/2) + l*u_l,\n",
       " [Eq(h - k, 0), Eq(h - k, 0), Eq(h - k, 0)],\n",
       " 2*k)"
      ]
     },
     "metadata": {},
     "output_type": "display_data"
    },
    {
     "name": "stdout",
     "output_type": "stream",
     "text": [
      "\n",
      "\n",
      "-y+1/4,-x+1/4,-z+1/4\n"
     ]
    },
    {
     "data": {
      "text/latex": [
       "$\\displaystyle 2 h \\left(- x - y + \\frac{1}{4}\\right) + 2 k \\left(- x - y + \\frac{1}{4}\\right) + 2 l \\left(\\frac{1}{4} - 2 z\\right)$"
      ],
      "text/plain": [
       "2*h*(-x - y + 1/4) + 2*k*(-x - y + 1/4) + 2*l*(1/4 - 2*z)"
      ]
     },
     "metadata": {},
     "output_type": "display_data"
    },
    {
     "data": {
      "text/plain": [
       "(h*u_h + k*u_h + l*u_l, [Eq(h - k, 0), Eq(h - k, 0), Eq(h - k, 0)], 0)"
      ]
     },
     "metadata": {},
     "output_type": "display_data"
    },
    {
     "name": "stdout",
     "output_type": "stream",
     "text": [
      "\n",
      "\n",
      "-x,-y,-z\n"
     ]
    },
    {
     "data": {
      "text/latex": [
       "$\\displaystyle - 4 h x - 4 k y - 4 l z$"
      ],
      "text/plain": [
       "-4*h*x - 4*k*y - 4*l*z"
      ]
     },
     "metadata": {},
     "output_type": "display_data"
    },
    {
     "data": {
      "text/plain": [
       "(h*u_h + k*u_k + l*u_l, [Eq(h - k, 0), Eq(h - k, 0), Eq(h - k, 0)], 0)"
      ]
     },
     "metadata": {},
     "output_type": "display_data"
    },
    {
     "name": "stdout",
     "output_type": "stream",
     "text": [
      "\n",
      "\n",
      "y-1/4,-x-3/4,-z-1/4\n"
     ]
    },
    {
     "data": {
      "text/latex": [
       "$\\displaystyle 2 h \\left(- x + y - \\frac{1}{4}\\right) + 2 k \\left(- x - y - \\frac{3}{4}\\right) + 2 l \\left(- 2 z - \\frac{1}{4}\\right)$"
      ],
      "text/plain": [
       "2*h*(-x + y - 1/4) + 2*k*(-x - y - 3/4) + 2*l*(-2*z - 1/4)"
      ]
     },
     "metadata": {},
     "output_type": "display_data"
    },
    {
     "data": {
      "text/plain": [
       "(h*u_h + k*u_k + l*u_l, [Eq(h - k, 0), Eq(h - k, 0), Eq(h - k, 0)], 0)"
      ]
     },
     "metadata": {},
     "output_type": "display_data"
    },
    {
     "name": "stdout",
     "output_type": "stream",
     "text": [
      "\n",
      "\n",
      "-y-1/4,x-1/4,-z-3/4\n"
     ]
    },
    {
     "data": {
      "text/latex": [
       "$\\displaystyle 2 h \\left(- x - y - \\frac{1}{4}\\right) + 2 k \\left(x - y - \\frac{1}{4}\\right) + 2 l \\left(- 2 z - \\frac{3}{4}\\right)$"
      ],
      "text/plain": [
       "2*h*(-x - y - 1/4) + 2*k*(x - y - 1/4) + 2*l*(-2*z - 3/4)"
      ]
     },
     "metadata": {},
     "output_type": "display_data"
    },
    {
     "data": {
      "text/plain": [
       "(h*u_h + k*u_k + l*u_l, [Eq(h - k, 0), Eq(h - k, 0), Eq(h - k, 0)], 0)"
      ]
     },
     "metadata": {},
     "output_type": "display_data"
    },
    {
     "name": "stdout",
     "output_type": "stream",
     "text": [
      "\n",
      "\n",
      "-x,y,z-1/2\n"
     ]
    },
    {
     "data": {
      "text/latex": [
       "$\\displaystyle - 4 h x - l$"
      ],
      "text/plain": [
       "-4*h*x - l"
      ]
     },
     "metadata": {},
     "output_type": "display_data"
    },
    {
     "data": {
      "text/plain": [
       "(h*u_h - l, [Eq(h - k, 0), Eq(h - k, 0), Eq(h - k, 0)], -l)"
      ]
     },
     "metadata": {},
     "output_type": "display_data"
    },
    {
     "name": "stdout",
     "output_type": "stream",
     "text": [
      "\n",
      "\n",
      "x-1/2,-y,z\n"
     ]
    },
    {
     "data": {
      "text/latex": [
       "$\\displaystyle - h - 4 k y$"
      ],
      "text/plain": [
       "-h - 4*k*y"
      ]
     },
     "metadata": {},
     "output_type": "display_data"
    },
    {
     "data": {
      "text/plain": [
       "(-h + k*u_k, [Eq(h - k, 0), Eq(h - k, 0), Eq(h - k, 0)], -h)"
      ]
     },
     "metadata": {},
     "output_type": "display_data"
    },
    {
     "name": "stdout",
     "output_type": "stream",
     "text": [
      "\n",
      "\n",
      "x,y-1/2,-z\n"
     ]
    },
    {
     "data": {
      "text/latex": [
       "$\\displaystyle - k - 4 l z$"
      ],
      "text/plain": [
       "-k - 4*l*z"
      ]
     },
     "metadata": {},
     "output_type": "display_data"
    },
    {
     "data": {
      "text/plain": [
       "(-k + l*u_l, [Eq(h - k, 0), Eq(h - k, 0), Eq(h - k, 0)], -k)"
      ]
     },
     "metadata": {},
     "output_type": "display_data"
    },
    {
     "name": "stdout",
     "output_type": "stream",
     "text": [
      "\n",
      "\n",
      "-y-1/4,-x-3/4,z-3/4\n"
     ]
    },
    {
     "data": {
      "text/latex": [
       "$\\displaystyle 2 h \\left(- x - y - \\frac{1}{4}\\right) + 2 k \\left(- x - y - \\frac{3}{4}\\right) - \\frac{3 l}{2}$"
      ],
      "text/plain": [
       "2*h*(-x - y - 1/4) + 2*k*(-x - y - 3/4) - 3*l/2"
      ]
     },
     "metadata": {},
     "output_type": "display_data"
    },
    {
     "data": {
      "text/plain": [
       "(h*u_h + 2*k*(u_h/2 - 1/2) - 3*l/2,\n",
       " [Eq(h - k, 0), Eq(h - k, 0), Eq(h - k, 0)],\n",
       " -k - 3*l/2)"
      ]
     },
     "metadata": {},
     "output_type": "display_data"
    },
    {
     "name": "stdout",
     "output_type": "stream",
     "text": [
      "\n",
      "\n",
      "y-1/4,x-1/4,z-1/4\n"
     ]
    },
    {
     "data": {
      "text/latex": [
       "$\\displaystyle 2 h \\left(- x + y - \\frac{1}{4}\\right) + 2 k \\left(x - y - \\frac{1}{4}\\right) - \\frac{l}{2}$"
      ],
      "text/plain": [
       "2*h*(-x + y - 1/4) + 2*k*(x - y - 1/4) - l/2"
      ]
     },
     "metadata": {},
     "output_type": "display_data"
    },
    {
     "data": {
      "text/plain": [
       "(h*u_h + 2*k*(-u_h/2 - 1/2) - l/2,\n",
       " [Eq(h - k, 0), Eq(h - k, 0), Eq(h - k, 0)],\n",
       " -k - l/2)"
      ]
     },
     "metadata": {},
     "output_type": "display_data"
    },
    {
     "name": "stdout",
     "output_type": "stream",
     "text": [
      "\n",
      "\n",
      "x+1/2,y+1/2,z+1/2\n"
     ]
    },
    {
     "data": {
      "text/latex": [
       "$\\displaystyle h + k + l$"
      ],
      "text/plain": [
       "h + k + l"
      ]
     },
     "metadata": {},
     "output_type": "display_data"
    },
    {
     "data": {
      "text/plain": [
       "(h + k + l, [Eq(h - k, 0), Eq(h - k, 0), Eq(h - k, 0)], h + k + l)"
      ]
     },
     "metadata": {},
     "output_type": "display_data"
    },
    {
     "name": "stdout",
     "output_type": "stream",
     "text": [
      "\n",
      "\n",
      "-y+3/4,x+5/4,z+3/4\n"
     ]
    },
    {
     "data": {
      "text/latex": [
       "$\\displaystyle 2 h \\left(- x - y + \\frac{3}{4}\\right) + 2 k \\left(x - y + \\frac{5}{4}\\right) + \\frac{3 l}{2}$"
      ],
      "text/plain": [
       "2*h*(-x - y + 3/4) + 2*k*(x - y + 5/4) + 3*l/2"
      ]
     },
     "metadata": {},
     "output_type": "display_data"
    },
    {
     "data": {
      "text/plain": [
       "(h*u_h + k*u_k + 3*l/2, [Eq(h - k, 0), Eq(h - k, 0), Eq(h - k, 0)], 3*l/2)"
      ]
     },
     "metadata": {},
     "output_type": "display_data"
    },
    {
     "name": "stdout",
     "output_type": "stream",
     "text": [
      "\n",
      "\n",
      "y+3/4,-x+3/4,z+5/4\n"
     ]
    },
    {
     "data": {
      "text/latex": [
       "$\\displaystyle 2 h \\left(- x + y + \\frac{3}{4}\\right) + 2 k \\left(- x - y + \\frac{3}{4}\\right) + \\frac{5 l}{2}$"
      ],
      "text/plain": [
       "2*h*(-x + y + 3/4) + 2*k*(-x - y + 3/4) + 5*l/2"
      ]
     },
     "metadata": {},
     "output_type": "display_data"
    },
    {
     "data": {
      "text/plain": [
       "(h*u_h + k*u_k + 5*l/2, [Eq(h - k, 0), Eq(h - k, 0), Eq(h - k, 0)], 5*l/2)"
      ]
     },
     "metadata": {},
     "output_type": "display_data"
    },
    {
     "name": "stdout",
     "output_type": "stream",
     "text": [
      "\n",
      "\n",
      "x+1/2,-y+1/2,-z+1\n"
     ]
    },
    {
     "data": {
      "text/latex": [
       "$\\displaystyle h + 2 k \\left(\\frac{1}{2} - 2 y\\right) + 2 l \\left(1 - 2 z\\right)$"
      ],
      "text/plain": [
       "h + 2*k*(1/2 - 2*y) + 2*l*(1 - 2*z)"
      ]
     },
     "metadata": {},
     "output_type": "display_data"
    },
    {
     "data": {
      "text/plain": [
       "(h + k*u_k + l*u_l, [Eq(h - k, 0), Eq(h - k, 0), Eq(h - k, 0)], h)"
      ]
     },
     "metadata": {},
     "output_type": "display_data"
    },
    {
     "name": "stdout",
     "output_type": "stream",
     "text": [
      "\n",
      "\n",
      "-x+1,y+1/2,-z+1/2\n"
     ]
    },
    {
     "data": {
      "text/latex": [
       "$\\displaystyle 2 h \\left(1 - 2 x\\right) + k + 2 l \\left(\\frac{1}{2} - 2 z\\right)$"
      ],
      "text/plain": [
       "2*h*(1 - 2*x) + k + 2*l*(1/2 - 2*z)"
      ]
     },
     "metadata": {},
     "output_type": "display_data"
    },
    {
     "data": {
      "text/plain": [
       "(h*u_h + k + l*u_l, [Eq(h - k, 0), Eq(h - k, 0), Eq(h - k, 0)], k)"
      ]
     },
     "metadata": {},
     "output_type": "display_data"
    },
    {
     "name": "stdout",
     "output_type": "stream",
     "text": [
      "\n",
      "\n",
      "-x+1/2,-y+1,z+1/2\n"
     ]
    },
    {
     "data": {
      "text/latex": [
       "$\\displaystyle 2 h \\left(\\frac{1}{2} - 2 x\\right) + 2 k \\left(1 - 2 y\\right) + l$"
      ],
      "text/plain": [
       "2*h*(1/2 - 2*x) + 2*k*(1 - 2*y) + l"
      ]
     },
     "metadata": {},
     "output_type": "display_data"
    },
    {
     "data": {
      "text/plain": [
       "(h*u_h + k*u_k + l, [Eq(h - k, 0), Eq(h - k, 0), Eq(h - k, 0)], l)"
      ]
     },
     "metadata": {},
     "output_type": "display_data"
    },
    {
     "name": "stdout",
     "output_type": "stream",
     "text": [
      "\n",
      "\n",
      "y+3/4,x+5/4,-z+5/4\n"
     ]
    },
    {
     "data": {
      "text/latex": [
       "$\\displaystyle 2 h \\left(- x + y + \\frac{3}{4}\\right) + 2 k \\left(x - y + \\frac{5}{4}\\right) + 2 l \\left(\\frac{5}{4} - 2 z\\right)$"
      ],
      "text/plain": [
       "2*h*(-x + y + 3/4) + 2*k*(x - y + 5/4) + 2*l*(5/4 - 2*z)"
      ]
     },
     "metadata": {},
     "output_type": "display_data"
    },
    {
     "data": {
      "text/plain": [
       "(h*u_h + 2*k*(2 - u_h/2) + l*u_l,\n",
       " [Eq(h - k, 0), Eq(h - k, 0), Eq(h - k, 0)],\n",
       " 4*k)"
      ]
     },
     "metadata": {},
     "output_type": "display_data"
    },
    {
     "name": "stdout",
     "output_type": "stream",
     "text": [
      "\n",
      "\n",
      "-y+3/4,-x+3/4,-z+3/4\n"
     ]
    },
    {
     "data": {
      "text/latex": [
       "$\\displaystyle 2 h \\left(- x - y + \\frac{3}{4}\\right) + 2 k \\left(- x - y + \\frac{3}{4}\\right) + 2 l \\left(\\frac{3}{4} - 2 z\\right)$"
      ],
      "text/plain": [
       "2*h*(-x - y + 3/4) + 2*k*(-x - y + 3/4) + 2*l*(3/4 - 2*z)"
      ]
     },
     "metadata": {},
     "output_type": "display_data"
    },
    {
     "data": {
      "text/plain": [
       "(h*u_h + k*u_h + l*u_l, [Eq(h - k, 0), Eq(h - k, 0), Eq(h - k, 0)], 0)"
      ]
     },
     "metadata": {},
     "output_type": "display_data"
    },
    {
     "name": "stdout",
     "output_type": "stream",
     "text": [
      "\n",
      "\n",
      "-x+1/2,-y+1/2,-z+1/2\n"
     ]
    },
    {
     "data": {
      "text/latex": [
       "$\\displaystyle 2 h \\left(\\frac{1}{2} - 2 x\\right) + 2 k \\left(\\frac{1}{2} - 2 y\\right) + 2 l \\left(\\frac{1}{2} - 2 z\\right)$"
      ],
      "text/plain": [
       "2*h*(1/2 - 2*x) + 2*k*(1/2 - 2*y) + 2*l*(1/2 - 2*z)"
      ]
     },
     "metadata": {},
     "output_type": "display_data"
    },
    {
     "data": {
      "text/plain": [
       "(h*u_h + k*u_k + l*u_l, [Eq(h - k, 0), Eq(h - k, 0), Eq(h - k, 0)], 0)"
      ]
     },
     "metadata": {},
     "output_type": "display_data"
    },
    {
     "name": "stdout",
     "output_type": "stream",
     "text": [
      "\n",
      "\n",
      "y+1/4,-x-1/4,-z+1/4\n"
     ]
    },
    {
     "data": {
      "text/latex": [
       "$\\displaystyle 2 h \\left(- x + y + \\frac{1}{4}\\right) + 2 k \\left(- x - y - \\frac{1}{4}\\right) + 2 l \\left(\\frac{1}{4} - 2 z\\right)$"
      ],
      "text/plain": [
       "2*h*(-x + y + 1/4) + 2*k*(-x - y - 1/4) + 2*l*(1/4 - 2*z)"
      ]
     },
     "metadata": {},
     "output_type": "display_data"
    },
    {
     "data": {
      "text/plain": [
       "(h*u_h + k*u_k + l*u_l, [Eq(h - k, 0), Eq(h - k, 0), Eq(h - k, 0)], 0)"
      ]
     },
     "metadata": {},
     "output_type": "display_data"
    },
    {
     "name": "stdout",
     "output_type": "stream",
     "text": [
      "\n",
      "\n",
      "-y+1/4,x+1/4,-z-1/4\n"
     ]
    },
    {
     "data": {
      "text/latex": [
       "$\\displaystyle 2 h \\left(- x - y + \\frac{1}{4}\\right) + 2 k \\left(x - y + \\frac{1}{4}\\right) + 2 l \\left(- 2 z - \\frac{1}{4}\\right)$"
      ],
      "text/plain": [
       "2*h*(-x - y + 1/4) + 2*k*(x - y + 1/4) + 2*l*(-2*z - 1/4)"
      ]
     },
     "metadata": {},
     "output_type": "display_data"
    },
    {
     "data": {
      "text/plain": [
       "(h*u_h + k*u_k + l*u_l, [Eq(h - k, 0), Eq(h - k, 0), Eq(h - k, 0)], 0)"
      ]
     },
     "metadata": {},
     "output_type": "display_data"
    },
    {
     "name": "stdout",
     "output_type": "stream",
     "text": [
      "\n",
      "\n",
      "-x+1/2,y+1/2,z\n"
     ]
    },
    {
     "data": {
      "text/latex": [
       "$\\displaystyle 2 h \\left(\\frac{1}{2} - 2 x\\right) + k$"
      ],
      "text/plain": [
       "2*h*(1/2 - 2*x) + k"
      ]
     },
     "metadata": {},
     "output_type": "display_data"
    },
    {
     "data": {
      "text/plain": [
       "(h*u_h + k, [Eq(h - k, 0), Eq(h - k, 0), Eq(h - k, 0)], k)"
      ]
     },
     "metadata": {},
     "output_type": "display_data"
    },
    {
     "name": "stdout",
     "output_type": "stream",
     "text": [
      "\n",
      "\n",
      "x,-y+1/2,z+1/2\n"
     ]
    },
    {
     "data": {
      "text/latex": [
       "$\\displaystyle 2 k \\left(\\frac{1}{2} - 2 y\\right) + l$"
      ],
      "text/plain": [
       "2*k*(1/2 - 2*y) + l"
      ]
     },
     "metadata": {},
     "output_type": "display_data"
    },
    {
     "data": {
      "text/plain": [
       "(k*u_k + l, [Eq(h - k, 0), Eq(h - k, 0), Eq(h - k, 0)], l)"
      ]
     },
     "metadata": {},
     "output_type": "display_data"
    },
    {
     "name": "stdout",
     "output_type": "stream",
     "text": [
      "\n",
      "\n",
      "x+1/2,y,-z+1/2\n"
     ]
    },
    {
     "data": {
      "text/latex": [
       "$\\displaystyle h + 2 l \\left(\\frac{1}{2} - 2 z\\right)$"
      ],
      "text/plain": [
       "h + 2*l*(1/2 - 2*z)"
      ]
     },
     "metadata": {},
     "output_type": "display_data"
    },
    {
     "data": {
      "text/plain": [
       "(h + l*u_l, [Eq(h - k, 0), Eq(h - k, 0), Eq(h - k, 0)], h)"
      ]
     },
     "metadata": {},
     "output_type": "display_data"
    },
    {
     "name": "stdout",
     "output_type": "stream",
     "text": [
      "\n",
      "\n",
      "-y+1/4,-x-1/4,z-1/4\n"
     ]
    },
    {
     "data": {
      "text/latex": [
       "$\\displaystyle 2 h \\left(- x - y + \\frac{1}{4}\\right) + 2 k \\left(- x - y - \\frac{1}{4}\\right) - \\frac{l}{2}$"
      ],
      "text/plain": [
       "2*h*(-x - y + 1/4) + 2*k*(-x - y - 1/4) - l/2"
      ]
     },
     "metadata": {},
     "output_type": "display_data"
    },
    {
     "data": {
      "text/plain": [
       "(h*u_h + 2*k*(u_h/2 - 1/2) - l/2,\n",
       " [Eq(h - k, 0), Eq(h - k, 0), Eq(h - k, 0)],\n",
       " -k - l/2)"
      ]
     },
     "metadata": {},
     "output_type": "display_data"
    },
    {
     "name": "stdout",
     "output_type": "stream",
     "text": [
      "\n",
      "\n",
      "y+1/4,x+1/4,z+1/4\n"
     ]
    },
    {
     "data": {
      "text/latex": [
       "$\\displaystyle 2 h \\left(- x + y + \\frac{1}{4}\\right) + 2 k \\left(x - y + \\frac{1}{4}\\right) + \\frac{l}{2}$"
      ],
      "text/plain": [
       "2*h*(-x + y + 1/4) + 2*k*(x - y + 1/4) + l/2"
      ]
     },
     "metadata": {},
     "output_type": "display_data"
    },
    {
     "data": {
      "text/plain": [
       "(h*u_h + 2*k*(1/2 - u_h/2) + l/2,\n",
       " [Eq(h - k, 0), Eq(h - k, 0), Eq(h - k, 0)],\n",
       " k + l/2)"
      ]
     },
     "metadata": {},
     "output_type": "display_data"
    },
    {
     "name": "stdout",
     "output_type": "stream",
     "text": [
      "\n",
      "\n"
     ]
    }
   ],
   "source": [
    "## test functional form\n",
    "\n",
    "import cctbx.sgtbx as sg\n",
    "import sympy as sp\n",
    "\n",
    "x, y, z = sp.symbols(['x', 'y', 'z'])\n",
    "h, k, l = sp.symbols(['h', 'k', 'l'])\n",
    "\n",
    "\n",
    "sgi = sg.space_group_info(142)\n",
    "sg = sgi.group()\n",
    "sgi.symbol_and_number() # 'I 41/a c d :2 (No. 142)'\n",
    "sym_num_str = sgi.symbol_and_number()\n",
    "print(sym_num_str[0])\n",
    "print(sgi.show_summary())\n",
    "print('No. sg ops: ', len(sg.all_ops()))\n",
    "symxyz = [str(s.as_xyz()) for s in sg.all_ops()]\n",
    "#for i in range(len(symxyz)): print(i+1, '\\t',symxyz[i])\n",
    "\n",
    "for sym in symxyz:\n",
    "    xp, yp, zp = sp.simplify(sym)\n",
    "    ff = 2 * h * (xp - x) + 2 * k * (yp - y) + 2 * l * (zp - z)\n",
    "    print(sym)\n",
    "    display(ff)\n",
    "    display(eliminate_xyz(ff))\n",
    "    print('\\n')\n",
    "    \n",
    "\n"
   ]
  },
  {
   "cell_type": "raw",
   "id": "7d1d33e7",
   "metadata": {},
   "source": [
    "h (expr0) + k (expr1) + l (expr2)\n",
    "\n",
    "a) does expr0 contain x, y or z?\n",
    "    no - continue\n",
    "    yes - subs U0 for expr\n",
    "        - subs for x, y or z in expr1, expr2 (replacing with U0 as variable)\n",
    "\n",
    "b) does expr1 contain x, y or z?\n",
    "    no - continue\n",
    "    yes - subs U1 for expr\n",
    "        - subs for x, y or z in expr2 (replacing with U0 as variable)\n",
    "        \n",
    "c) does expr2 contain x, y or z?\n",
    "    no - continue\n",
    "    yes - subs U2 for expr\n",
    "\n",
    "d) get coeffs of U0, U1, U2 and ... next part of problem\n",
    "\n",
    "\n",
    "#### all done!"
   ]
  },
  {
   "cell_type": "code",
   "execution_count": null,
   "id": "1371b91b",
   "metadata": {},
   "outputs": [],
   "source": []
  }
 ],
 "metadata": {
  "kernelspec": {
   "display_name": "Python 3.7 [DLS Conda]",
   "language": "python",
   "name": "conda-env-DLS_Conda-python3.7-kernel.json"
  },
  "language_info": {
   "codemirror_mode": {
    "name": "ipython",
    "version": 3
   },
   "file_extension": ".py",
   "mimetype": "text/x-python",
   "name": "python",
   "nbconvert_exporter": "python",
   "pygments_lexer": "ipython3",
   "version": "3.7.3"
  }
 },
 "nbformat": 4,
 "nbformat_minor": 5
}
