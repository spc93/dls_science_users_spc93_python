{
 "cells": [
  {
   "cell_type": "raw",
   "id": "93921814-cfca-4a1c-bf2e-6f77b8c66ac5",
   "metadata": {},
   "source": [
    "- check B28 still using spec - yes and esrf image file format\n",
    "- find old spec file and load it\n",
    "- jupyter and github - use github with esrf jupyterhub and cloud session?"
   ]
  },
  {
   "cell_type": "code",
   "execution_count": null,
   "id": "a91a1efd-f59c-4201-9aaf-f36592fefc42",
   "metadata": {},
   "outputs": [],
   "source": []
  },
  {
   "cell_type": "code",
   "execution_count": 1,
   "id": "0277bde3-1f81-420b-8d05-2c30dc5279c2",
   "metadata": {},
   "outputs": [],
   "source": [
    "import numpy as np"
   ]
  },
  {
   "cell_type": "code",
   "execution_count": 2,
   "id": "cb2f36af-f9e0-49a1-bd92-0c461d923671",
   "metadata": {},
   "outputs": [
    {
     "name": "stdout",
     "output_type": "stream",
     "text": [
      "102.49728488435512\n"
     ]
    }
   ],
   "source": [
    "energy = 7.11\n",
    "d = 1.11815 #PG006\n",
    "\n",
    "\n",
    "lam = 12.4/energy\n",
    "tth_deg = 2 * np.arcsin(lam/2/d) * 180/np.pi\n",
    "print(tth_deg)"
   ]
  },
  {
   "cell_type": "raw",
   "id": "09d36667-099a-404f-a664-2e09fddf2776",
   "metadata": {},
   "source": [
    "Dear all,\n",
    "\n",
    "Some thoughts about the plan for our BM-28 experiment in January.\n",
    "\n",
    "1. My feeling is that we should not try to create a single domain for this first beamtime. It seems quite complicated and risks dominating the measurement. If we can resolve the domains in reciprocal space then that gives us a way to measure both domains at the same time, which might be good.\n",
    "\n",
    "2. Laue diffraction: I didn't really understand why this is important. Is it because the the geometry/footprint or something more fundamental? It would make the azimuthal scans even more difficult. Unfortunately, for Bragg diffraction, the crystal shold be thick, and for Laue it shold be thin. So maybe we can mount two crystals on the cryostat?\n",
    "\n",
    "3. Polarization analyser: InSb 333 is close to 90 degrees but other analysers give higher reflectivity and are less sensitive to alignent. Even PG006 is only 10 degrees out, which I think can be corrected for in the analysis. Maybe that is easier?\n",
    "\n",
    "4. Tensor simulations. My simulations are based only on symmetry. For HT 210 (LT 310) there seems to be a single K=3 (rank three) parity odd component (i.e. E1E2). HT 210 seems to have a single K=2 component as well. LT 310 seems to have two K=2 components. However, I don't know how large the K = 2 compnent is compared to K = 3. This would need a proper calculation.\n",
    "\n",
    "5. For measuring the splitting with an allowed reflection, I guess 110 is not a good choice. Maybe 310 is good?\n",
    "\n",
    "So I guess the plan might be to do this alignment, check for 210 resonance at room temp, then go quite early to low temp and measure the slitting. If this is OK then we can start to measure azimuthal/energy scans etc and then warm back up.\n",
    "\n",
    "What are your thoughts?\n",
    "\n",
    "Cheers,\n",
    "Steve\n",
    "\n",
    "\n",
    "\n",
    "\n",
    "\n",
    "                            \n",
    "\n",
    "                            \n"
   ]
  },
  {
   "cell_type": "code",
   "execution_count": 3,
   "id": "f6b8169e-6a12-40ba-9f2f-9e89c80a2581",
   "metadata": {},
   "outputs": [],
   "source": [
    "path = '/dls/i16/data/2023/cm33911-5/%i.nxs'\n",
    "specfile = '/dls/science/users/spc93/data/tmp/CoCO3.fourc'\n"
   ]
  },
  {
   "cell_type": "code",
   "execution_count": 4,
   "id": "e79de964-2c32-4a84-85d1-a1029a5626a0",
   "metadata": {},
   "outputs": [
    {
     "name": "stderr",
     "output_type": "stream",
     "text": [
      "Warning string datasets in HDF5 files now return bytes objects (use .decode() to convert to strings)\n"
     ]
    },
    {
     "name": "stdout",
     "output_type": "stream",
     "text": [
      "=== Need to obtain specfilewrapper.py and compatible specfile.so from ERSF PyMCA package in order to load spec files\n"
     ]
    }
   ],
   "source": [
    "import dataloader"
   ]
  },
  {
   "cell_type": "code",
   "execution_count": 5,
   "id": "6e9c92b7-e833-4a91-b81c-e0ee235b52a4",
   "metadata": {},
   "outputs": [],
   "source": [
    "#pip install spec2nexus"
   ]
  },
  {
   "cell_type": "code",
   "execution_count": 12,
   "id": "e8e97531-994a-48b2-87d6-cd7fed025ae9",
   "metadata": {},
   "outputs": [
    {
     "name": "stdout",
     "output_type": "stream",
     "text": [
      "Channels:\n",
      " - conda-forge\n",
      "Platform: linux-64\n",
      "Collecting package metadata (repodata.json): done\n",
      "Solving environment: done\n",
      "\n",
      "## Package Plan ##\n",
      "\n",
      "  environment location: /dls_sw/apps/python/miniforge/4.10.0-0/envs/python3.10\n",
      "\n",
      "  added / updated specs:\n",
      "    - spec2nexus\n",
      "\n",
      "\n",
      "The following NEW packages will be INSTALLED:\n",
      "\n",
      "  spec2nexus         conda-forge/noarch::spec2nexus-2021.2.6-pyhd8ed1ab_0 \n",
      "\n",
      "\n",
      "\n",
      "Downloading and Extracting Packages:\n",
      "\n",
      "Preparing transaction: done\n",
      "Verifying transaction: failed\n",
      "\n",
      "EnvironmentNotWritableError: The current user does not have write permissions to the target environment.\n",
      "  environment location: /dls_sw/apps/python/miniforge/4.10.0-0/envs/python3.10\n",
      "  uid: 37068\n",
      "  gid: 37068\n",
      "\n",
      "\n",
      "\n",
      "Note: you may need to restart the kernel to use updated packages.\n"
     ]
    }
   ],
   "source": [
    "conda install -c conda-forge spec2nexus"
   ]
  },
  {
   "cell_type": "code",
   "execution_count": 8,
   "id": "725f2f37-50b9-4557-8808-f08d8f98cf73",
   "metadata": {},
   "outputs": [],
   "source": [
    "import spec2nexus\n",
    "\n",
    "\n"
   ]
  },
  {
   "cell_type": "code",
   "execution_count": 11,
   "id": "c59a13ff-8ca6-4768-8c3f-eb853fb219de",
   "metadata": {},
   "outputs": [
    {
     "data": {
      "text/plain": [
       "'Configuration of spec2nexus package.'"
      ]
     },
     "execution_count": 11,
     "metadata": {},
     "output_type": "execute_result"
    }
   ],
   "source": [
    "spec2nexus"
   ]
  },
  {
   "cell_type": "code",
   "execution_count": null,
   "id": "230bdd2d-f05a-4dab-96a7-dbf8b07dd7ba",
   "metadata": {},
   "outputs": [],
   "source": []
  }
 ],
 "metadata": {
  "kernelspec": {
   "display_name": "Python 3.10 [DLS Conda]",
   "language": "python",
   "name": "conda-env-DLS_Conda-python3.10-kernel.json"
  },
  "language_info": {
   "codemirror_mode": {
    "name": "ipython",
    "version": 3
   },
   "file_extension": ".py",
   "mimetype": "text/x-python",
   "name": "python",
   "nbconvert_exporter": "python",
   "pygments_lexer": "ipython3",
   "version": "3.10.12"
  }
 },
 "nbformat": 4,
 "nbformat_minor": 5
}
