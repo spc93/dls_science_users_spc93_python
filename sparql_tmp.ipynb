{
 "cells": [
  {
   "cell_type": "code",
   "execution_count": null,
   "metadata": {},
   "outputs": [],
   "source": [
    "pip install SPARQLWrapper"
   ]
  },
  {
   "cell_type": "code",
   "execution_count": 1,
   "metadata": {},
   "outputs": [
    {
     "ename": "ImportError",
     "evalue": "No module named SPARQLWrapper",
     "output_type": "error",
     "traceback": [
      "\u001b[0;31m\u001b[0m",
      "\u001b[0;31mImportError\u001b[0mTraceback (most recent call last)",
      "\u001b[0;32m<ipython-input-1-df5921f263eb>\u001b[0m in \u001b[0;36m<module>\u001b[0;34m()\u001b[0m\n\u001b[0;32m----> 1\u001b[0;31m \u001b[0;32mfrom\u001b[0m \u001b[0mSPARQLWrapper\u001b[0m \u001b[0;32mimport\u001b[0m \u001b[0mSPARQLWrapper\u001b[0m\u001b[0;34m,\u001b[0m \u001b[0mJSON\u001b[0m\u001b[0;34m\u001b[0m\u001b[0m\n\u001b[0m\u001b[1;32m      2\u001b[0m \u001b[0;34m\u001b[0m\u001b[0m\n\u001b[1;32m      3\u001b[0m \u001b[0msparql\u001b[0m \u001b[0;34m=\u001b[0m \u001b[0mSPARQLWrapper\u001b[0m\u001b[0;34m(\u001b[0m\u001b[0;34m\"http://dbpedia.org/sparql\"\u001b[0m\u001b[0;34m)\u001b[0m\u001b[0;34m\u001b[0m\u001b[0m\n\u001b[1;32m      4\u001b[0m sparql.setQuery(\"\"\"\n\u001b[1;32m      5\u001b[0m     \u001b[0mPREFIX\u001b[0m \u001b[0mrdfs\u001b[0m\u001b[0;34m:\u001b[0m \u001b[0;34m<\u001b[0m\u001b[0mhttp\u001b[0m\u001b[0;34m:\u001b[0m\u001b[0;34m//\u001b[0m\u001b[0mwww\u001b[0m\u001b[0;34m.\u001b[0m\u001b[0mw3\u001b[0m\u001b[0;34m.\u001b[0m\u001b[0morg\u001b[0m\u001b[0;34m/\u001b[0m\u001b[0;36m2000\u001b[0m\u001b[0;34m/\u001b[0m\u001b[0;36m01\u001b[0m\u001b[0;34m/\u001b[0m\u001b[0mrdf\u001b[0m\u001b[0;34m-\u001b[0m\u001b[0mschema\u001b[0m\u001b[0;31m#>\u001b[0m\u001b[0;34m\u001b[0m\u001b[0m\n",
      "\u001b[0;31mImportError\u001b[0m: No module named SPARQLWrapper"
     ]
    }
   ],
   "source": [
    "from SPARQLWrapper import SPARQLWrapper, JSON\n",
    "\n",
    "sparql = SPARQLWrapper(\"http://dbpedia.org/sparql\")\n",
    "sparql.setQuery(\"\"\"\n",
    "    PREFIX rdfs: <http://www.w3.org/2000/01/rdf-schema#>\n",
    "    SELECT ?label\n",
    "    WHERE { <http://dbpedia.org/resource/Asturias> rdfs:label ?label }\n",
    "\"\"\")\n",
    "sparql.setReturnFormat(JSON)\n",
    "results = sparql.query().convert() ############ the slow bit\n",
    "\n",
    "for result in results[\"results\"][\"bindings\"]:\n",
    "    print(result[\"label\"][\"value\"])"
   ]
  },
  {
   "cell_type": "code",
   "execution_count": 14,
   "metadata": {
    "scrolled": true
   },
   "outputs": [
    {
     "name": "stdout",
     "output_type": "stream",
     "text": [
      "England\n",
      "إنجلترا\n",
      "Anglaterra\n",
      "Anglie\n",
      "England\n",
      "Αγγλία\n",
      "Anglio\n",
      "Inglaterra\n",
      "Ingalaterra\n",
      "Angleterre\n",
      "Sasana\n",
      "Inggris\n",
      "Inghilterra\n",
      "イングランド\n",
      "잉글랜드\n",
      "Anglia\n",
      "Inglaterra\n",
      "Англия\n",
      "England\n",
      "Англія\n",
      "英格兰\n"
     ]
    }
   ],
   "source": [
    "from SPARQLWrapper import SPARQLWrapper, JSON\n",
    "\n",
    "sparql = SPARQLWrapper(\"http://dbpedia.org/sparql\")\n",
    "sparql.setQuery(\"\"\"\n",
    "    PREFIX rdfs: <http://www.w3.org/2000/01/rdf-schema#>\n",
    "    SELECT ?label\n",
    "    WHERE { <http://dbpedia.org/resource/England> rdfs:label ?label }\n",
    "\"\"\")\n",
    "sparql.setReturnFormat(JSON)\n",
    "results = sparql.query().convert() ############ the slow bit\n",
    "\n",
    "for result in results[\"results\"][\"bindings\"]:\n",
    "    print(result[\"label\"][\"value\"])"
   ]
  },
  {
   "cell_type": "code",
   "execution_count": 16,
   "metadata": {},
   "outputs": [
    {
     "name": "stdout",
     "output_type": "stream",
     "text": [
      "http://rdf.freebase.com/ns/m.02l7x\n",
      "http://es.dbpedia.org/resource/Electrón\n",
      "http://be.dbpedia.org/resource/Электрон\n",
      "http://cs.dbpedia.org/resource/Elektron\n",
      "http://cv.dbpedia.org/resource/Электрон\n",
      "http://tt.dbpedia.org/resource/Электрон\n",
      "http://ga.dbpedia.org/resource/Leictreon\n",
      "http://qu.dbpedia.org/resource/Iliktrun\n",
      "http://uz.dbpedia.org/resource/Elektron\n",
      "http://d-nb.info/gnd/4125978-6\n",
      "http://fi.dbpedia.org/resource/Elektroni\n",
      "http://bs.dbpedia.org/resource/Elektron\n",
      "http://war.dbpedia.org/resource/Electron\n",
      "http://la.dbpedia.org/resource/Electron\n",
      "http://sr.dbpedia.org/resource/Електрон\n",
      "http://io.dbpedia.org/resource/Elektrono\n",
      "http://pa.dbpedia.org/resource/ਬਿਜਲਾਣੂ\n",
      "http://lt.dbpedia.org/resource/Elektronas\n",
      "http://th.dbpedia.org/resource/อิเล็กตรอน\n",
      "http://or.dbpedia.org/resource/ଇଲେକ୍‌ଟ୍ରୋନ\n",
      "http://ml.dbpedia.org/resource/ഇലക്ട്രോൺ\n",
      "http://ko.dbpedia.org/resource/전자\n",
      "http://ka.dbpedia.org/resource/ელექტრონი\n",
      "http://bn.dbpedia.org/resource/ইলেকট্রন\n",
      "http://azb.dbpedia.org/resource/الکترون\n",
      "http://ia.dbpedia.org/resource/Electron\n",
      "http://si.dbpedia.org/resource/ඉලෙක්ට්‍රෝනය\n",
      "http://hi.dbpedia.org/resource/इलेक्ट्रॉन\n",
      "http://lb.dbpedia.org/resource/Elektron\n",
      "http://tl.dbpedia.org/resource/Elektron\n",
      "http://sk.dbpedia.org/resource/Elektrón\n",
      "http://ht.dbpedia.org/resource/Elektwon\n",
      "https://global.dbpedia.org/id/127AwK\n",
      "http://ky.dbpedia.org/resource/Электрон\n",
      "http://ta.dbpedia.org/resource/எதிர்மின்னி\n",
      "http://lmo.dbpedia.org/resource/Elettron\n",
      "http://mk.dbpedia.org/resource/Електрон\n",
      "http://eu.dbpedia.org/resource/Elektroi\n",
      "http://simple.dbpedia.org/resource/Electron\n",
      "http://gu.dbpedia.org/resource/ઈલેક્ટ્રોન\n",
      "http://fy.dbpedia.org/resource/Elektron\n",
      "http://id.dbpedia.org/resource/Elektron\n",
      "http://li.dbpedia.org/resource/Elektron\n",
      "http://hy.dbpedia.org/resource/Էլեկտրոն\n",
      "http://ar.dbpedia.org/resource/إلكترون\n",
      "http://da.dbpedia.org/resource/Elektron\n",
      "http://als.dbpedia.org/resource/Elektron\n",
      "http://ba.dbpedia.org/resource/Электрон\n",
      "http://an.dbpedia.org/resource/Electrón\n",
      "http://pt.dbpedia.org/resource/Elétron\n",
      "http://lv.dbpedia.org/resource/Elektrons\n",
      "http://fr.dbpedia.org/resource/Électron\n",
      "http://vec.dbpedia.org/resource/Ełetron\n",
      "http://uk.dbpedia.org/resource/Електрон\n",
      "http://hr.dbpedia.org/resource/Elektron\n",
      "http://br.dbpedia.org/resource/Elektron\n",
      "http://eo.dbpedia.org/resource/Elektrono\n",
      "http://scn.dbpedia.org/resource/Elettrùni\n",
      "http://ckb.dbpedia.org/resource/ئەلێکتڕۆن\n",
      "http://sw.dbpedia.org/resource/Elektroni\n",
      "http://jv.dbpedia.org/resource/Èlèktron\n",
      "http://yo.dbpedia.org/resource/Ẹ̀lẹ́ktrọ́nù\n",
      "http://gl.dbpedia.org/resource/Electrón\n",
      "http://sh.dbpedia.org/resource/Elektron\n",
      "http://bg.dbpedia.org/resource/Електрон\n",
      "http://sco.dbpedia.org/resource/Electron\n",
      "http://pms.dbpedia.org/resource/Eletron\n",
      "http://ro.dbpedia.org/resource/Electron\n",
      "http://my.dbpedia.org/resource/အီလက်ထရွန်\n",
      "http://sq.dbpedia.org/resource/Elektroni\n",
      "http://et.dbpedia.org/resource/Elektron\n",
      "http://nds.dbpedia.org/resource/Elektron\n",
      "http://el.dbpedia.org/resource/Ηλεκτρόνιο\n",
      "http://pnb.dbpedia.org/resource/الیکٹران\n",
      "http://su.dbpedia.org/resource/Éléktron\n",
      "http://az.dbpedia.org/resource/Elektron\n",
      "http://tr.dbpedia.org/resource/Elektron\n",
      "http://mr.dbpedia.org/resource/विजाणू\n",
      "http://d-nb.info/gnd/4125978-6/about/rdf\n",
      "http://www.wikidata.org/entity/Q2225\n",
      "http://ms.dbpedia.org/resource/Elektron\n",
      "http://mn.dbpedia.org/resource/Электрон\n",
      "http://bar.dbpedia.org/resource/Elektron\n",
      "http://fa.dbpedia.org/resource/الکترون\n",
      "http://oc.dbpedia.org/resource/Electron\n",
      "http://it.dbpedia.org/resource/Elettrone\n",
      "http://kn.dbpedia.org/resource/ಎಲೆಕ್ಟ್ರಾನ್\n",
      "http://af.dbpedia.org/resource/Elektron\n",
      "http://ur.dbpedia.org/resource/برقیہ\n",
      "http://nn.dbpedia.org/resource/Elektron\n",
      "http://hu.dbpedia.org/resource/Elektron\n",
      "http://he.dbpedia.org/resource/אלקטרון\n",
      "http://te.dbpedia.org/resource/ఎలక్ట్రాన్\n",
      "http://ja.dbpedia.org/resource/電子\n",
      "http://new.dbpedia.org/resource/इलेक्ट्रोन\n",
      "http://no.dbpedia.org/resource/Elektron\n",
      "http://kk.dbpedia.org/resource/Электрон\n",
      "http://ru.dbpedia.org/resource/Электрон\n",
      "http://is.dbpedia.org/resource/Rafeind\n",
      "http://bug.dbpedia.org/resource/Elektron\n",
      "http://sl.dbpedia.org/resource/Elektron\n",
      "http://pl.dbpedia.org/resource/Elektron\n",
      "http://vi.dbpedia.org/resource/Electron\n",
      "http://nl.dbpedia.org/resource/Elektron\n",
      "http://ast.dbpedia.org/resource/Electrón\n",
      "http://ca.dbpedia.org/resource/Electró\n",
      "http://de.dbpedia.org/resource/Elektron\n",
      "http://fo.dbpedia.org/resource/Elektron\n",
      "http://ku.dbpedia.org/resource/Kareba\n",
      "http://sv.dbpedia.org/resource/Elektron\n",
      "http://ne.dbpedia.org/resource/इलेक्ट्रोन\n",
      "http://yi.dbpedia.org/resource/עלעקטראן\n"
     ]
    }
   ],
   "source": [
    "from SPARQLWrapper import SPARQLWrapper, JSON\n",
    "\n",
    "sparql = SPARQLWrapper(\"http://dbpedia.org/sparql\")\n",
    "sparql.setQuery(\"\"\"\n",
    "    PREFIX rdfs: <http://www.w3.org/2000/01/rdf-schema#>\n",
    "    SELECT ?same\n",
    "    WHERE { <http://dbpedia.org/resource/Electron> owl:sameAs ?same }\n",
    "\"\"\")\n",
    "sparql.setReturnFormat(JSON)\n",
    "results = sparql.query().convert() ############ the slow bit\n",
    "\n",
    "for result in results[\"results\"][\"bindings\"]:\n",
    "    print(result[\"same\"][\"value\"])"
   ]
  },
  {
   "cell_type": "code",
   "execution_count": null,
   "metadata": {},
   "outputs": [],
   "source": []
  },
  {
   "cell_type": "code",
   "execution_count": 2,
   "metadata": {},
   "outputs": [],
   "source": [
    "#https://www.youtube.com/watch?v=efvxGfU_oVM"
   ]
  },
  {
   "cell_type": "markdown",
   "metadata": {},
   "source": [
    "# datacite graphql query (not sparql)"
   ]
  },
  {
   "cell_type": "markdown",
   "metadata": {},
   "source": [
    "## graphql demo - not datacite - low-level using post"
   ]
  },
  {
   "cell_type": "code",
   "execution_count": 2,
   "metadata": {},
   "outputs": [],
   "source": [
    "import requests\n",
    "import json\n",
    "import pandas as pd"
   ]
  },
  {
   "cell_type": "code",
   "execution_count": 3,
   "metadata": {},
   "outputs": [],
   "source": [
    "query = \"\"\"query {\n",
    "    characters {\n",
    "    results {\n",
    "      name\n",
    "      status\n",
    "      species\n",
    "      type\n",
    "      gender\n",
    "    }\n",
    "  }\n",
    "}\"\"\""
   ]
  },
  {
   "cell_type": "code",
   "execution_count": 4,
   "metadata": {},
   "outputs": [
    {
     "data": {
      "text/plain": [
       "'query {\\n    characters {\\n    results {\\n      name\\n      status\\n      species\\n      type\\n      gender\\n    }\\n  }\\n}'"
      ]
     },
     "execution_count": 4,
     "metadata": {},
     "output_type": "execute_result"
    }
   ],
   "source": [
    "query"
   ]
  },
  {
   "cell_type": "code",
   "execution_count": 5,
   "metadata": {},
   "outputs": [
    {
     "name": "stdout",
     "output_type": "stream",
     "text": [
      "200\n",
      "{\"data\":{\"characters\":{\"results\":[{\"name\":\"Rick Sanchez\",\"status\":\"Alive\",\"species\":\"Human\",\"type\":\"\",\"gender\":\"Male\"},{\"name\":\"Morty Smith\",\"status\":\"Alive\",\"species\":\"Human\",\"type\":\"\",\"gender\":\"Male\"},{\"name\":\"Summer Smith\",\"status\":\"Alive\",\"species\":\"Human\",\"type\":\"\",\"gender\":\"Female\"},{\"name\":\"Beth Smith\",\"status\":\"Alive\",\"species\":\"Human\",\"type\":\"\",\"gender\":\"Female\"},{\"name\":\"Jerry Smith\",\"status\":\"Alive\",\"species\":\"Human\",\"type\":\"\",\"gender\":\"Male\"},{\"name\":\"Abadango Cluster Princess\",\"status\":\"Alive\",\"species\":\"Alien\",\"type\":\"\",\"gender\":\"Female\"},{\"name\":\"Abradolf Lincler\",\"status\":\"unknown\",\"species\":\"Human\",\"type\":\"Genetic experiment\",\"gender\":\"Male\"},{\"name\":\"Adjudicator Rick\",\"status\":\"Dead\",\"species\":\"Human\",\"type\":\"\",\"gender\":\"Male\"},{\"name\":\"Agency Director\",\"status\":\"Dead\",\"species\":\"Human\",\"type\":\"\",\"gender\":\"Male\"},{\"name\":\"Alan Rails\",\"status\":\"Dead\",\"species\":\"Human\",\"type\":\"Superhuman (Ghost trains summoner)\",\"gender\":\"Male\"},{\"name\":\"Albert Einstein\",\"status\":\"Dead\",\"species\":\"Human\",\"type\":\"\",\"gender\":\"Male\"},{\"name\":\"Alexander\",\"status\":\"Dead\",\"species\":\"Human\",\"type\":\"\",\"gender\":\"Male\"},{\"name\":\"Alien Googah\",\"status\":\"unknown\",\"species\":\"Alien\",\"type\":\"\",\"gender\":\"unknown\"},{\"name\":\"Alien Morty\",\"status\":\"unknown\",\"species\":\"Alien\",\"type\":\"\",\"gender\":\"Male\"},{\"name\":\"Alien Rick\",\"status\":\"unknown\",\"species\":\"Alien\",\"type\":\"\",\"gender\":\"Male\"},{\"name\":\"Amish Cyborg\",\"status\":\"Dead\",\"species\":\"Alien\",\"type\":\"Parasite\",\"gender\":\"Male\"},{\"name\":\"Annie\",\"status\":\"Alive\",\"species\":\"Human\",\"type\":\"\",\"gender\":\"Female\"},{\"name\":\"Antenna Morty\",\"status\":\"Alive\",\"species\":\"Human\",\"type\":\"Human with antennae\",\"gender\":\"Male\"},{\"name\":\"Antenna Rick\",\"status\":\"unknown\",\"species\":\"Human\",\"type\":\"Human with antennae\",\"gender\":\"Male\"},{\"name\":\"Ants in my Eyes Johnson\",\"status\":\"unknown\",\"species\":\"Human\",\"type\":\"Human with ants in his eyes\",\"gender\":\"Male\"}]}}}\n",
      "\n"
     ]
    }
   ],
   "source": [
    "url = 'https://rickandmortyapi.com/graphql/'\n",
    "r = requests.post(url, json={'query': query})\n",
    "print(r.status_code)\n",
    "print(r.text)"
   ]
  },
  {
   "cell_type": "code",
   "execution_count": 6,
   "metadata": {},
   "outputs": [],
   "source": [
    "json_data = json.loads(r.text)"
   ]
  },
  {
   "cell_type": "code",
   "execution_count": 7,
   "metadata": {},
   "outputs": [],
   "source": [
    "df_data = json_data['data']['characters']['results']\n",
    "df = pd.DataFrame(df_data)"
   ]
  },
  {
   "cell_type": "code",
   "execution_count": 8,
   "metadata": {
    "scrolled": true
   },
   "outputs": [
    {
     "data": {
      "text/html": [
       "<div>\n",
       "<style scoped>\n",
       "    .dataframe tbody tr th:only-of-type {\n",
       "        vertical-align: middle;\n",
       "    }\n",
       "\n",
       "    .dataframe tbody tr th {\n",
       "        vertical-align: top;\n",
       "    }\n",
       "\n",
       "    .dataframe thead th {\n",
       "        text-align: right;\n",
       "    }\n",
       "</style>\n",
       "<table border=\"1\" class=\"dataframe\">\n",
       "  <thead>\n",
       "    <tr style=\"text-align: right;\">\n",
       "      <th></th>\n",
       "      <th>gender</th>\n",
       "      <th>name</th>\n",
       "      <th>species</th>\n",
       "      <th>status</th>\n",
       "      <th>type</th>\n",
       "    </tr>\n",
       "  </thead>\n",
       "  <tbody>\n",
       "    <tr>\n",
       "      <th>0</th>\n",
       "      <td>Male</td>\n",
       "      <td>Rick Sanchez</td>\n",
       "      <td>Human</td>\n",
       "      <td>Alive</td>\n",
       "      <td></td>\n",
       "    </tr>\n",
       "    <tr>\n",
       "      <th>1</th>\n",
       "      <td>Male</td>\n",
       "      <td>Morty Smith</td>\n",
       "      <td>Human</td>\n",
       "      <td>Alive</td>\n",
       "      <td></td>\n",
       "    </tr>\n",
       "    <tr>\n",
       "      <th>2</th>\n",
       "      <td>Female</td>\n",
       "      <td>Summer Smith</td>\n",
       "      <td>Human</td>\n",
       "      <td>Alive</td>\n",
       "      <td></td>\n",
       "    </tr>\n",
       "    <tr>\n",
       "      <th>3</th>\n",
       "      <td>Female</td>\n",
       "      <td>Beth Smith</td>\n",
       "      <td>Human</td>\n",
       "      <td>Alive</td>\n",
       "      <td></td>\n",
       "    </tr>\n",
       "    <tr>\n",
       "      <th>4</th>\n",
       "      <td>Male</td>\n",
       "      <td>Jerry Smith</td>\n",
       "      <td>Human</td>\n",
       "      <td>Alive</td>\n",
       "      <td></td>\n",
       "    </tr>\n",
       "    <tr>\n",
       "      <th>5</th>\n",
       "      <td>Female</td>\n",
       "      <td>Abadango Cluster Princess</td>\n",
       "      <td>Alien</td>\n",
       "      <td>Alive</td>\n",
       "      <td></td>\n",
       "    </tr>\n",
       "    <tr>\n",
       "      <th>6</th>\n",
       "      <td>Male</td>\n",
       "      <td>Abradolf Lincler</td>\n",
       "      <td>Human</td>\n",
       "      <td>unknown</td>\n",
       "      <td>Genetic experiment</td>\n",
       "    </tr>\n",
       "    <tr>\n",
       "      <th>7</th>\n",
       "      <td>Male</td>\n",
       "      <td>Adjudicator Rick</td>\n",
       "      <td>Human</td>\n",
       "      <td>Dead</td>\n",
       "      <td></td>\n",
       "    </tr>\n",
       "    <tr>\n",
       "      <th>8</th>\n",
       "      <td>Male</td>\n",
       "      <td>Agency Director</td>\n",
       "      <td>Human</td>\n",
       "      <td>Dead</td>\n",
       "      <td></td>\n",
       "    </tr>\n",
       "    <tr>\n",
       "      <th>9</th>\n",
       "      <td>Male</td>\n",
       "      <td>Alan Rails</td>\n",
       "      <td>Human</td>\n",
       "      <td>Dead</td>\n",
       "      <td>Superhuman (Ghost trains summoner)</td>\n",
       "    </tr>\n",
       "    <tr>\n",
       "      <th>10</th>\n",
       "      <td>Male</td>\n",
       "      <td>Albert Einstein</td>\n",
       "      <td>Human</td>\n",
       "      <td>Dead</td>\n",
       "      <td></td>\n",
       "    </tr>\n",
       "    <tr>\n",
       "      <th>11</th>\n",
       "      <td>Male</td>\n",
       "      <td>Alexander</td>\n",
       "      <td>Human</td>\n",
       "      <td>Dead</td>\n",
       "      <td></td>\n",
       "    </tr>\n",
       "    <tr>\n",
       "      <th>12</th>\n",
       "      <td>unknown</td>\n",
       "      <td>Alien Googah</td>\n",
       "      <td>Alien</td>\n",
       "      <td>unknown</td>\n",
       "      <td></td>\n",
       "    </tr>\n",
       "    <tr>\n",
       "      <th>13</th>\n",
       "      <td>Male</td>\n",
       "      <td>Alien Morty</td>\n",
       "      <td>Alien</td>\n",
       "      <td>unknown</td>\n",
       "      <td></td>\n",
       "    </tr>\n",
       "    <tr>\n",
       "      <th>14</th>\n",
       "      <td>Male</td>\n",
       "      <td>Alien Rick</td>\n",
       "      <td>Alien</td>\n",
       "      <td>unknown</td>\n",
       "      <td></td>\n",
       "    </tr>\n",
       "    <tr>\n",
       "      <th>15</th>\n",
       "      <td>Male</td>\n",
       "      <td>Amish Cyborg</td>\n",
       "      <td>Alien</td>\n",
       "      <td>Dead</td>\n",
       "      <td>Parasite</td>\n",
       "    </tr>\n",
       "    <tr>\n",
       "      <th>16</th>\n",
       "      <td>Female</td>\n",
       "      <td>Annie</td>\n",
       "      <td>Human</td>\n",
       "      <td>Alive</td>\n",
       "      <td></td>\n",
       "    </tr>\n",
       "    <tr>\n",
       "      <th>17</th>\n",
       "      <td>Male</td>\n",
       "      <td>Antenna Morty</td>\n",
       "      <td>Human</td>\n",
       "      <td>Alive</td>\n",
       "      <td>Human with antennae</td>\n",
       "    </tr>\n",
       "    <tr>\n",
       "      <th>18</th>\n",
       "      <td>Male</td>\n",
       "      <td>Antenna Rick</td>\n",
       "      <td>Human</td>\n",
       "      <td>unknown</td>\n",
       "      <td>Human with antennae</td>\n",
       "    </tr>\n",
       "    <tr>\n",
       "      <th>19</th>\n",
       "      <td>Male</td>\n",
       "      <td>Ants in my Eyes Johnson</td>\n",
       "      <td>Human</td>\n",
       "      <td>unknown</td>\n",
       "      <td>Human with ants in his eyes</td>\n",
       "    </tr>\n",
       "  </tbody>\n",
       "</table>\n",
       "</div>"
      ],
      "text/plain": [
       "     gender                       name species   status  \\\n",
       "0      Male               Rick Sanchez   Human    Alive   \n",
       "1      Male                Morty Smith   Human    Alive   \n",
       "2    Female               Summer Smith   Human    Alive   \n",
       "3    Female                 Beth Smith   Human    Alive   \n",
       "4      Male                Jerry Smith   Human    Alive   \n",
       "5    Female  Abadango Cluster Princess   Alien    Alive   \n",
       "6      Male           Abradolf Lincler   Human  unknown   \n",
       "7      Male           Adjudicator Rick   Human     Dead   \n",
       "8      Male            Agency Director   Human     Dead   \n",
       "9      Male                 Alan Rails   Human     Dead   \n",
       "10     Male            Albert Einstein   Human     Dead   \n",
       "11     Male                  Alexander   Human     Dead   \n",
       "12  unknown               Alien Googah   Alien  unknown   \n",
       "13     Male                Alien Morty   Alien  unknown   \n",
       "14     Male                 Alien Rick   Alien  unknown   \n",
       "15     Male               Amish Cyborg   Alien     Dead   \n",
       "16   Female                      Annie   Human    Alive   \n",
       "17     Male              Antenna Morty   Human    Alive   \n",
       "18     Male               Antenna Rick   Human  unknown   \n",
       "19     Male    Ants in my Eyes Johnson   Human  unknown   \n",
       "\n",
       "                                  type  \n",
       "0                                       \n",
       "1                                       \n",
       "2                                       \n",
       "3                                       \n",
       "4                                       \n",
       "5                                       \n",
       "6                   Genetic experiment  \n",
       "7                                       \n",
       "8                                       \n",
       "9   Superhuman (Ghost trains summoner)  \n",
       "10                                      \n",
       "11                                      \n",
       "12                                      \n",
       "13                                      \n",
       "14                                      \n",
       "15                            Parasite  \n",
       "16                                      \n",
       "17                 Human with antennae  \n",
       "18                 Human with antennae  \n",
       "19         Human with ants in his eyes  "
      ]
     },
     "execution_count": 8,
     "metadata": {},
     "output_type": "execute_result"
    }
   ],
   "source": [
    "df"
   ]
  },
  {
   "cell_type": "markdown",
   "metadata": {},
   "source": [
    "## Publication references by researcher\n",
    "This notebook uses the DataCite GraphQL API to fetch all DataCite references of the DataCite publications authored by a particular researcher, using his/her ORCID ID."
   ]
  },
  {
   "cell_type": "code",
   "execution_count": 9,
   "metadata": {},
   "outputs": [],
   "source": [
    "#pip install gql\n",
    "#(python graphql)\n",
    "\n",
    "import requests\n",
    "from IPython.display import display, Markdown\n",
    "from gql import gql, Client\n",
    "from gql.transport.requests import RequestsHTTPTransport\n",
    "\n",
    "_transport = RequestsHTTPTransport(\n",
    "    url='https://api.datacite.org/graphql',\n",
    "    use_json=True,\n",
    ")\n",
    "\n",
    "\n",
    "client = Client(\n",
    "    transport=_transport,\n",
    "    fetch_schema_from_transport=True,\n",
    ")"
   ]
  },
  {
   "cell_type": "code",
   "execution_count": 10,
   "metadata": {},
   "outputs": [],
   "source": [
    "# Generate the GraphQL query: find the researcher by ORCID ID, then fetch the first 50 publications with DataCite DOIs linked to that ORCID account.\n",
    "\n",
    "query = gql(\"\"\"\n",
    "{\n",
    "  person(id: \"https://orcid.org/0000-0003-1419-2405\") {\n",
    "    id\n",
    "    name\n",
    "    publications(first: 50) {\n",
    "      totalCount\n",
    "      nodes {\n",
    "        id\n",
    "        relatedIdentifiers {\n",
    "          relatedIdentifier\n",
    "        }\n",
    "      }\n",
    "    }\n",
    "  }\n",
    "}\n",
    "\"\"\")"
   ]
  },
  {
   "cell_type": "code",
   "execution_count": 11,
   "metadata": {},
   "outputs": [],
   "source": [
    "data = client.execute(query)"
   ]
  },
  {
   "cell_type": "code",
   "execution_count": 12,
   "metadata": {},
   "outputs": [
    {
     "data": {
      "text/markdown": [
       "Martin Fenner"
      ],
      "text/plain": [
       "<IPython.core.display.Markdown object>"
      ]
     },
     "metadata": {},
     "output_type": "display_data"
    }
   ],
   "source": [
    "# Get the name of the researcher with ORCID ID https://orcid.org/0000-0003-1419-2405\n",
    "\n",
    "display(Markdown((data['person']['name'])))"
   ]
  },
  {
   "cell_type": "code",
   "execution_count": 13,
   "metadata": {},
   "outputs": [
    {
     "data": {
      "text/plain": [
       "166"
      ]
     },
     "execution_count": 13,
     "metadata": {},
     "output_type": "execute_result"
    }
   ],
   "source": [
    "# Get the number of publications\n",
    "\n",
    "data['person']['publications']['totalCount']"
   ]
  },
  {
   "cell_type": "code",
   "execution_count": 14,
   "metadata": {},
   "outputs": [
    {
     "data": {
      "text/markdown": [
       "## Publications"
      ],
      "text/plain": [
       "<IPython.core.display.Markdown object>"
      ]
     },
     "metadata": {},
     "output_type": "display_data"
    },
    {
     "data": {
      "text/markdown": [
       "ODIN Consortium, Fenner, M., &amp; Thorisson, G. (2013). D2.2 Kickoff report. <i>Figshare</i>. https://doi.org/10.6084/M9.FIGSHARE.107019\n",
       "\n",
       "ODIN Consortium, Thorisson, G., &amp; Fenner, M. (2013). D2.1 Kick off preparation, Communication plan and Website. <i>Figshare</i>. https://doi.org/10.6084/M9.FIGSHARE.154691\n",
       "\n",
       "Fenner, M. (2013). Metrics and Attribution. <i>Figshare</i>. https://doi.org/10.6084/M9.FIGSHARE.706340\n",
       "\n",
       "ODIN Consortium, Fenner, M., Thorisson, G., Ruiz, S., &amp; Brase, J. (2013). D4.1 Conceptual model of interoperability. <i>Figshare</i>. https://doi.org/10.6084/M9.FIGSHARE.824314\n",
       "\n",
       "Friesike, S., &amp; Fenner, M. (2014). <i>Schreiben</i>. https://doi.org/10.2314/COSCV1.4\n",
       "\n",
       "Heller, L., Blümel, I., Dietze, S., Fenner, M., Friesike, S., Hauschke, C., Heise, C., Jäschke, R., Kleinwechter, U., König, M., Mehlberg, M., Neumann, J., Pampel, H., &amp; Tullney, M. (2014). CoScience - Gemeinsam forschen und publizieren mit dem Netz. <i>Technische Informationsbibliothek (TIB), Hannover</i>. https://doi.org/10.2314/COSCV1\n",
       "\n",
       "Zahedi, Z., Fenner, M., &amp; Costas, R. (2014). How consistent are altmetrics providers? Study of 1000 PLOS ONE publications using the PLOS ALM, Mendeley and Altmetric.com APIs. <i>Figshare</i>. https://doi.org/10.6084/M9.FIGSHARE.1041821\n",
       "\n",
       "PLOS ALM, Fenner, M., &amp; Lin, J. (2014). An analysis of Wikipedia references across PLOS publications. <i>Figshare</i>. https://doi.org/10.6084/M9.FIGSHARE.1048991\n",
       "\n",
       "Arning, U., Bargheer, M., Blümel, I., Dietze, S., Fenner, M., Friesike, S., Hauschke, C., Heise, C., Heller, L., Hohmann, T., Jäschke, R., Kleinwechter, U., Leiß, C., Lemke, D., König, M., Mehlberg, M., Neumann, J., Pampel, H., Peters, I., … Tullney, M. (2015). CoScience - Gemeinsam forschen und publizieren mit dem Netz. <i>Technische Informationsbibliothek (TIB), Hannover</i>. https://doi.org/10.2314/COSCV2\n",
       "\n",
       "Friesike, S., &amp; Fenner, M. (2015). <i>Schreiben</i>. https://doi.org/10.2314/COSCV2.4\n",
       "\n",
       "ODIN Consortium, Thorisson, G., &amp; Fenner, M. (2013). D2.1 Kick off preparation, Communication plan and Website. <i>Figshare</i>. https://doi.org/10.6084/M9.FIGSHARE.154691.V1\n",
       "\n",
       "Fenner, M. (2013). Metrics and Attribution. <i>Figshare</i>. https://doi.org/10.6084/M9.FIGSHARE.706340.V1\n",
       "\n",
       "ODIN Consortium, Fenner, M., &amp; Thorisson, G. (2013). D2.2 Kickoff report. <i>Figshare</i>. https://doi.org/10.6084/M9.FIGSHARE.107019.V4\n",
       "\n",
       "ODIN Consortium, Fenner, M., Thorisson, G., Ruiz, S., &amp; Brase, J. (2013). D4.1 Conceptual model of interoperability. <i>Figshare</i>. https://doi.org/10.6084/M9.FIGSHARE.824314.V1\n",
       "\n",
       "PLOS ALM, Fenner, M., &amp; Lin, J. (2014). An analysis of Wikipedia references across PLOS publications. <i>Figshare</i>. https://doi.org/10.6084/M9.FIGSHARE.1048991.V1\n",
       "\n",
       "PLOS ALM, Fenner, M., &amp; Lin, J. (2014). An analysis of Wikipedia references across PLOS publications. <i>Figshare</i>. https://doi.org/10.6084/M9.FIGSHARE.1048991.V2\n",
       "\n",
       "PLOS ALM, Fenner, M., &amp; Lin, J. (2014). An analysis of Wikipedia references across PLOS publications. <i>Figshare</i>. https://doi.org/10.6084/M9.FIGSHARE.1048991.V3\n",
       "\n",
       "Fenner, M., &amp; Demeranville, T. (2016). Project Identifiers. <i>Figshare</i>. https://doi.org/10.6084/M9.FIGSHARE.4216323\n",
       "\n",
       "Fenner, M., &amp; Demeranville, T. (2016). Project Identifiers. <i>Figshare</i>. https://doi.org/10.6084/M9.FIGSHARE.4216323.V2\n",
       "\n",
       "Fenner, M. (2015, August 17). <i>From Pilot to Service</i>. https://doi.org/10.5438/S8GF-0CK9\n",
       "\n",
       "Fenner, M. (2016). <i>Eating your own Dog Food</i>. https://doi.org/10.5438/4K3M-NYVG\n",
       "\n",
       "Fenner, M. (2016, November 3). <i>A common API for retrieving DataCite Metadata</i>. https://doi.org/10.5438/6WCF-EFW5\n",
       "\n",
       "Fenner, M. (2015, August 15). <i>Reference Lists and Tables of Content</i>. https://doi.org/10.5438/5AEG-WEEV\n",
       "\n",
       "Fenner, M. (2015). <i>Software Citation Workflows</i>. https://doi.org/10.5438/1H7N-3CEN\n",
       "\n",
       "Fenner, M. (2015, October 26). <i>Auto-Update Has Arrived!</i> https://doi.org/10.5438/FERW-CWHQ\n",
       "\n",
       "Fenner, M., &amp; Garza, K. (2016). <i>Announcing Our New Application Developer</i>. https://doi.org/10.5438/Y131-YX9D\n",
       "\n",
       "Fenner, M. (2015, September 16). <i>Adding References to the DataCite Blog</i>. https://doi.org/10.5438/2WFX-2HZ1\n",
       "\n",
       "Fenner, M. (2016). <i>Cool DOI's</i>. https://doi.org/10.5438/55E5-T5C0\n",
       "\n",
       "Fenner, M. (2015, September 22). <i>Persistent Identifiers: Enabling Services for Data Intensive Research</i>. https://doi.org/10.5438/JM9F-325F\n",
       "\n",
       "Fenner, M. (2015, December 23). <i>Infrastructure Tips for the Non-Profit Startup</i>. https://doi.org/10.5438/T0AP-D5W7\n",
       "\n",
       "Fenner, M. (2015, October 2). <i>Discussing the Scholarly Container</i>. https://doi.org/10.5438/D9EQ-9DGA\n",
       "\n",
       "Fenner, M. (2015, December 28). <i>Announcing the DataCite Blog Relaunch</i>. https://doi.org/10.5438/XCBJ-G7ZY\n",
       "\n",
       "Fenner, M. (2015). <i>Overcoming Development Pain</i>. https://doi.org/10.5438/8QKH-1R6~\n",
       "\n",
       "Fenner, M. (2015, November 9). <i>Announcing the DataCite Profiles Service</i>. https://doi.org/10.5438/15X1-BJ6R\n",
       "\n",
       "Fenner, M. (2016, May 4). <i>Thinking about CSV</i>. https://doi.org/10.5438/4QX3-RP8Y\n",
       "\n",
       "Fenner, M. (2015, September 3). <i>Using YAML Frontmatter with CSV</i>. https://doi.org/10.5438/5HZJ-5KDS\n",
       "\n",
       "Fenner, M. (2016, April 14). <i>It's all about Relations</i>. https://doi.org/10.5438/PE54-ZJ5T\n",
       "\n",
       "Fenner, M. (2015, October 1). <i>Thoughts on the Research Data Alliance 6th Plenary</i>. https://doi.org/10.5438/7RXD-S8A3\n",
       "\n",
       "Fenner, M. (2016, May 13). <i>Data catalog cards: simplifying article/data linking</i>. https://doi.org/10.5438/CAB5-TEG0\n",
       "\n",
       "Fenner, M. (2015, September 9). <i>Announcing Data-Level Metrics in DataCite Labs</i>. https://doi.org/10.5438/JZG5-VCQV\n",
       "\n",
       "Fenner, M. (2016, November 1). <i>Announcing the Organization Identifier Project: a Way Forward</i>. https://doi.org/10.5438/TNHX-54CG\n",
       "\n",
       "Fenner, M. (2016, July 18). <i>Dynamic Data Citation Webinar</i>. https://doi.org/10.5438/Y4KS-KSBC\n",
       "\n",
       "Fenner, M. (2015, October 16). <i>Happy Birthday ORCID</i>. https://doi.org/10.5438/C61Q-Z2K7\n",
       "\n",
       "Fenner, M. (2015, August 20). <i>Digging into Metadata using R</i>. https://doi.org/10.5438/1HV8-2GC2\n",
       "\n",
       "Fenner, M. (2015, October 29). <i>Explaining the DataCite/ORCID Auto-update</i>. https://doi.org/10.5438/3DFW-Z4KQ\n",
       "\n",
       "Fenner, M. (2016, January 11). <i>Launching the DataCite Status Page</i>. https://doi.org/10.5438/YHCJ-P5HR\n",
       "\n",
       "Fenner, M. (2015, September 18). <i>Differences between ORCID and DataCite Metadata</i>. https://doi.org/10.5438/BC11-CQW1\n",
       "\n",
       "Fenner, M. (2016, March 30). <i>DataCite is Hiring an Application Developer</i>. https://doi.org/10.5438/MSK0-15R2\n",
       "\n",
       "Fenner, M. (2016, July 5). <i>Relaunching DataCite Search</i>. https://doi.org/10.5438/VQ2T-VR4K\n",
       "\n",
       "Fenner, M. (2015). Contributor Information in DataCite Metadata. <i>DataCite Blog</i>. https://doi.org/10.5438/W029-Y6W~"
      ],
      "text/plain": [
       "<IPython.core.display.Markdown object>"
      ]
     },
     "metadata": {},
     "output_type": "display_data"
    }
   ],
   "source": [
    "# Generate a list of formatted citations in APA format for the publications\n",
    "\n",
    "ids = ','.join(\n",
    "    list(map(lambda s: s.replace('https://doi.org/',''), \n",
    "             list(map(lambda x : x['id'], data['person']['publications']['nodes'])))))\n",
    "\n",
    "response = requests.get(\n",
    "    'https://api.datacite.org/dois',\n",
    "    params={'style': 'apa', 'page[size]': '250', 'sort': 'created', 'ids': ids},\n",
    "    headers={'Accept': 'text/x-bibliography'}\n",
    ")\n",
    "\n",
    "display(Markdown('## Publications'))\n",
    "display(Markdown(response.content.decode('utf-8')))"
   ]
  },
  {
   "cell_type": "code",
   "execution_count": null,
   "metadata": {},
   "outputs": [],
   "source": []
  },
  {
   "cell_type": "code",
   "execution_count": null,
   "metadata": {},
   "outputs": [],
   "source": []
  },
  {
   "cell_type": "code",
   "execution_count": 15,
   "metadata": {},
   "outputs": [
    {
     "name": "stdout",
     "output_type": "stream",
     "text": [
      "{   'dataset': {   'creators': [   {   'affiliation': [{'id': None}],\n",
      "                                       'familyName': 'Collins',\n",
      "                                       'givenName': 'Stephen Patrick',\n",
      "                                       'id': 'https://orcid.org/0000-0001-5120-0764'},\n",
      "                                   {   'affiliation': [],\n",
      "                                       'familyName': 'Collins',\n",
      "                                       'givenName': 'Joel Thomas',\n",
      "                                       'id': 'https://orcid.org/0000-0002-9382-7511'},\n",
      "                                   {   'affiliation': [],\n",
      "                                       'familyName': 'Lovesey',\n",
      "                                       'givenName': 'Stephen William',\n",
      "                                       'id': 'https://orcid.org/0000-0003-3677-7324'}],\n",
      "                   'publisher': 'Zenodo',\n",
      "                   'subjects': [   {'subject': 'Diamond Light Source'},\n",
      "                                   {'subject': 'Superchiral'},\n",
      "                                   {'subject': 'X-ray'},\n",
      "                                   {'subject': 'Standing wave'},\n",
      "                                   {'subject': 'XMCD'}]}}\n"
     ]
    }
   ],
   "source": [
    "########## just pase query string between first and last line\n",
    "\n",
    "import pprint\n",
    "pp = pprint.PrettyPrinter(indent=4)\n",
    "\n",
    "query = gql(\"\"\"\n",
    "{\n",
    "  person(id: \"https://orcid.org/0000-0001-5120-0764\") {\n",
    "    id\n",
    "    name\n",
    "    publications(first: 50) {\n",
    "      totalCount\n",
    "      nodes {\n",
    "        id\n",
    "        relatedIdentifiers {\n",
    "          relatedIdentifier\n",
    "        }\n",
    "      }\n",
    "    }\n",
    "  }\n",
    "}\n",
    "\"\"\")\n",
    "\n",
    "query2 = gql(\"\"\"\n",
    "{ \n",
    "  dataset(id: \"https://doi.org/10.5281/zenodo.4444832\") {\n",
    "    titles {\n",
    "      title\n",
    "    }\n",
    "    publicationYear\n",
    "    publisher\n",
    "  }\n",
    " }\n",
    "\"\"\")\n",
    "\n",
    "query3 = gql(\"\"\"\n",
    "{ \n",
    "  dataset(id: \"https://doi.org/10.5281/zenodo.4444832\"){\n",
    "      publisher \n",
    "    creators {\n",
    "      id\n",
    "      givenName\n",
    "      familyName\n",
    "      affiliation {\n",
    "        id\n",
    "      }\n",
    "      \n",
    "    }\n",
    "    \tsubjects {\n",
    "    \t  subject\n",
    "    \t}\n",
    "\n",
    "  }\n",
    "}\n",
    "\"\"\")\n",
    "\n",
    "data2 = client.execute(query3)\n",
    "pp.pprint(data2)"
   ]
  },
  {
   "cell_type": "code",
   "execution_count": 16,
   "metadata": {},
   "outputs": [
    {
     "data": {
      "text/plain": [
       "['Stephen Patrick Collins', 'Joel Thomas Collins', 'Stephen William Lovesey']"
      ]
     },
     "execution_count": 16,
     "metadata": {},
     "output_type": "execute_result"
    }
   ],
   "source": [
    "[creator['givenName']+' '+creator['familyName'] for creator in data2['dataset']['creators']]"
   ]
  },
  {
   "cell_type": "code",
   "execution_count": 21,
   "metadata": {},
   "outputs": [
    {
     "name": "stdout",
     "output_type": "stream",
     "text": [
      "{   'dataset': {   'publicationYear': 2021,\n",
      "                   'publisher': 'Zenodo',\n",
      "                   'titles': [   {   'title': 'Quadrupolar X-ray Magnetic '\n",
      "                                              'Circular Dichroism using '\n",
      "                                              'Superchiral X-rays'}]}}\n"
     ]
    }
   ],
   "source": [
    "d2 = client.execute(query2)\n",
    "pp.pprint(d2)"
   ]
  },
  {
   "cell_type": "code",
   "execution_count": null,
   "metadata": {},
   "outputs": [],
   "source": [
    "### next: look at types: find and access data from hdf6=5 file (or even ascii file)"
   ]
  }
 ],
 "metadata": {
  "kernelspec": {
   "display_name": "Python 3.7 [DLS Conda]",
   "language": "python",
   "name": "conda-env-DLS_Conda-python3.7-kernel.json"
  },
  "language_info": {
   "codemirror_mode": {
    "name": "ipython",
    "version": 3
   },
   "file_extension": ".py",
   "mimetype": "text/x-python",
   "name": "python",
   "nbconvert_exporter": "python",
   "pygments_lexer": "ipython3",
   "version": "3.7.3"
  }
 },
 "nbformat": 4,
 "nbformat_minor": 2
}
