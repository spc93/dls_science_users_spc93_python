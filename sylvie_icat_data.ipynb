{
 "cells": [
  {
   "cell_type": "code",
   "execution_count": null,
   "metadata": {},
   "outputs": [],
   "source": []
  },
  {
   "cell_type": "code",
   "execution_count": null,
   "metadata": {},
   "outputs": [],
   "source": [
    "import json\n",
    "\n",
    "path = '/dls/science/users/spc93/data/tmp/'\n",
    "\n",
    "with open(path + 'db-dls.json', 'r') as json_file:\n",
    "        dls_json = json.load(json_file)\n",
    "\n",
    "\n",
    "print(\"Document/Investigation:\" + json.dumps(dls_json['models']['Document'], indent=2))\n",
    "\n",
    "print(\"Member:\" + json.dumps(dls_json['models']['Member'], indent=2))    \n",
    "\n",
    "print(\"Affiliation:\" + json.dumps(dls_json['models']['Affiliation'], indent=2))\n",
    "\n",
    "print(\"Person:\" + json.dumps(dls_json['models']['Person'], indent=2)) \n",
    "\n",
    "print(\"Dataset:\" + json.dumps(dls_json['models']['Dataset'], indent=2)) \n",
    "\n",
    "print(\"Sample:\" + json.dumps(dls_json['models']['Sample'], indent=2))\n",
    "\n",
    "print(\"DatasetSample:\" + json.dumps(dls_json['models']['DatasetSample'], indent=2))\n",
    "\n",
    "print(\"Instrument:\" + json.dumps(dls_json['models']['Instrument'], indent=2))\n",
    "\n",
    "print(\"File:\" + json.dumps(dls_json['models']['File'], indent=2))"
   ]
  },
  {
   "cell_type": "code",
   "execution_count": null,
   "metadata": {},
   "outputs": [],
   "source": []
  }
 ],
 "metadata": {
  "kernelspec": {
   "display_name": "Python 3.7 [DLS Conda]",
   "language": "python",
   "name": "conda-env-DLS_Conda-python3.7-kernel.json"
  },
  "language_info": {
   "codemirror_mode": {
    "name": "ipython",
    "version": 3
   },
   "file_extension": ".py",
   "mimetype": "text/x-python",
   "name": "python",
   "nbconvert_exporter": "python",
   "pygments_lexer": "ipython3",
   "version": "3.7.3"
  }
 },
 "nbformat": 4,
 "nbformat_minor": 2
}
