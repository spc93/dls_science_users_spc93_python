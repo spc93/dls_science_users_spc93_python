{
 "cells": [
  {
   "cell_type": "code",
   "execution_count": 1,
   "metadata": {},
   "outputs": [
    {
     "name": "stdout",
     "output_type": "stream",
     "text": [
      "=== Importing dlstools package\n"
     ]
    },
    {
     "name": "stderr",
     "output_type": "stream",
     "text": [
      "/dls_sw/apps/python/anaconda/4.6.14/64/envs/python3.7/lib/python3.7/site-packages/scisoftpy/_external/tifffile.py:8121: UserWarning: No module named 'scisoftpy._external._tifffile'\n",
      "  Functionality might be degraded or be slow.\n",
      "\n",
      "  warnings.warn('%s%s' % (e, warn))\n"
     ]
    },
    {
     "name": "stdout",
     "output_type": "stream",
     "text": [
      "=== Need to obtain specfilewrapper.py and compatible specfile.so from ERSF PyMCA package in order to load spec files\n"
     ]
    }
   ],
   "source": [
    "#imports\n",
    "\n",
    "datadir='/dls/i16/data/2018/nt21479-1/'\n",
    "cifpath='/home/spc93/spc_cifs/'\n",
    "\n",
    "import sys\n",
    "sys.path\n",
    "sys.path.append('/dls_sw/apps/scisoftpy/2.7')\n",
    "sys.path.append('/dls_sw/i16/software/python')\n",
    "sys.path.append('/dls_sw/i16/software/python/crystal')\n",
    "\n",
    "%matplotlib nbagg\n",
    "from matplotlib.pyplot import *\n",
    "from numpy import *\n",
    "from dlstools import dataloader\n",
    "d=dataloader.dlsloader(datadir+'%i.dat')\n",
    "p=dataloader.tiffloader(d, lambda obj: datadir+obj.pilatus2m_path_template)\n",
    "\n",
    "import TensorScatteringClass as ten\n",
    "#import Crystal as Cr\n",
    "\n",
    "#ciffile=cifpath+'CoCO3_icsd_61066.cif'\n",
    "#t=ten.TensorScatteringClassMagrotExtension(CIFfile=ciffile, Site='Co1');\n",
    "#t.PlotIntensityInPolarizationChannelsVsMagrot('NonResMag', lam=12.4/5.22, hkl=np.array([0,0,9]), hkln=np.array([1,0,0]), psideg=0, lk=np.array([0,0,0]), sk=np.array([1,0,0]), sigmapi='sigma')\n",
    "#t.PlotIntensityVsPolarizationAnalyserRotation('NonResMag', lam = 12.4/5.22, hkl = np.array([0,0,9]), hkln = np.array([1,0,0]), psideg = 0, pol_eta_deg=range(361), K=None, Time=None, Parity=None, mk=None, lk=np.array([.0,0,0]), sk=np.array([.1,0,0]) , savefile=None)\n",
    "#t.PlotIntensityVsPolarizationAnalyserRotation('Scalar', lam = 12.4/5.22, hkl = np.array([0,0,6]), hkln = np.array([1,0,0]), psideg = 0, pol_eta_deg=range(361), K=None, Time=None, Parity=None, mk=None, lk=np.array([.0,0,0]), sk=np.array([.1,0,0]) , savefile=None)\n",
    "\n",
    "\n"
   ]
  },
  {
   "cell_type": "code",
   "execution_count": 2,
   "metadata": {},
   "outputs": [
    {
     "ename": "ValueError",
     "evalue": "File /dls/i16/data/2018/nt21479-1/712220.dat does not exist",
     "output_type": "error",
     "traceback": [
      "\u001b[0;31m---------------------------------------------------------------------------\u001b[0m",
      "\u001b[0;31mNotADirectoryError\u001b[0m                        Traceback (most recent call last)",
      "\u001b[0;32m/dls_sw/apps/python/anaconda/4.6.14/64/envs/python3.7/lib/python3.7/site-packages/scisoftpy/io.py\u001b[0m in \u001b[0;36mload\u001b[0;34m(name, format, formats, withmetadata, ascolour, warn, **kwarg)\u001b[0m\n\u001b[1;32m     92\u001b[0m     \u001b[0;32mtry\u001b[0m\u001b[0;34m:\u001b[0m\u001b[0;34m\u001b[0m\u001b[0;34m\u001b[0m\u001b[0m\n\u001b[0;32m---> 93\u001b[0;31m         \u001b[0mf\u001b[0m \u001b[0;34m=\u001b[0m \u001b[0mopen\u001b[0m\u001b[0;34m(\u001b[0m\u001b[0mname\u001b[0m\u001b[0;34m)\u001b[0m\u001b[0;34m\u001b[0m\u001b[0;34m\u001b[0m\u001b[0m\n\u001b[0m\u001b[1;32m     94\u001b[0m         \u001b[0mf\u001b[0m\u001b[0;34m.\u001b[0m\u001b[0mclose\u001b[0m\u001b[0;34m(\u001b[0m\u001b[0;34m)\u001b[0m\u001b[0;34m\u001b[0m\u001b[0;34m\u001b[0m\u001b[0m\n",
      "\u001b[0;31mNotADirectoryError\u001b[0m: [Errno 20] Not a directory: '/dls/i16/data/2018/nt21479-1/712220.dat'",
      "\nDuring handling of the above exception, another exception occurred:\n",
      "\u001b[0;31mValueError\u001b[0m                                Traceback (most recent call last)",
      "\u001b[0;32m<ipython-input-2-a5a638c2c5d3>\u001b[0m in \u001b[0;36m<module>\u001b[0;34m\u001b[0m\n\u001b[0;32m----> 1\u001b[0;31m \u001b[0md\u001b[0m\u001b[0;34m(\u001b[0m\u001b[0;36m712220\u001b[0m\u001b[0;34m)\u001b[0m\u001b[0;34m\u001b[0m\u001b[0;34m\u001b[0m\u001b[0m\n\u001b[0m\u001b[1;32m      2\u001b[0m \u001b[0mplot\u001b[0m\u001b[0;34m(\u001b[0m\u001b[0md\u001b[0m\u001b[0;34m.\u001b[0m\u001b[0meta\u001b[0m\u001b[0;34m,\u001b[0m \u001b[0md\u001b[0m\u001b[0;34m.\u001b[0m\u001b[0msum\u001b[0m\u001b[0;34m)\u001b[0m\u001b[0;34m\u001b[0m\u001b[0;34m\u001b[0m\u001b[0m\n\u001b[1;32m      3\u001b[0m \u001b[0md\u001b[0m\u001b[0;34m.\u001b[0m\u001b[0mTransmission\u001b[0m\u001b[0;34m\u001b[0m\u001b[0;34m\u001b[0m\u001b[0m\n",
      "\u001b[0;32m/dls_sw/i16/software/python/dlstools/dataloader.py\u001b[0m in \u001b[0;36m__call__\u001b[0;34m(self, datanumber)\u001b[0m\n\u001b[1;32m    265\u001b[0m         \u001b[0;32mreturn\u001b[0m \u001b[0;34m'Base class - no preamble'\u001b[0m\u001b[0;34m\u001b[0m\u001b[0;34m\u001b[0m\u001b[0m\n\u001b[1;32m    266\u001b[0m     \u001b[0;32mdef\u001b[0m \u001b[0m__call__\u001b[0m\u001b[0;34m(\u001b[0m\u001b[0mself\u001b[0m\u001b[0;34m,\u001b[0m \u001b[0mdatanumber\u001b[0m\u001b[0;34m)\u001b[0m\u001b[0;34m:\u001b[0m\u001b[0;34m\u001b[0m\u001b[0;34m\u001b[0m\u001b[0m\n\u001b[0;32m--> 267\u001b[0;31m         \u001b[0mself\u001b[0m\u001b[0;34m.\u001b[0m\u001b[0mdict\u001b[0m\u001b[0;34m=\u001b[0m\u001b[0mself\u001b[0m\u001b[0;34m.\u001b[0m\u001b[0mload\u001b[0m\u001b[0;34m(\u001b[0m\u001b[0mint\u001b[0m\u001b[0;34m(\u001b[0m\u001b[0mdatanumber\u001b[0m\u001b[0;34m)\u001b[0m\u001b[0;34m)\u001b[0m\u001b[0;34m\u001b[0m\u001b[0;34m\u001b[0m\u001b[0m\n\u001b[0m\u001b[1;32m    268\u001b[0m         \u001b[0;32mif\u001b[0m \u001b[0mself\u001b[0m\u001b[0;34m.\u001b[0m\u001b[0munpack\u001b[0m\u001b[0;34m:\u001b[0m\u001b[0;34m\u001b[0m\u001b[0;34m\u001b[0m\u001b[0m\n\u001b[1;32m    269\u001b[0m             \u001b[0mself\u001b[0m\u001b[0;34m.\u001b[0m\u001b[0munpackdict\u001b[0m\u001b[0;34m(\u001b[0m\u001b[0mself\u001b[0m\u001b[0;34m.\u001b[0m\u001b[0mdict\u001b[0m\u001b[0;34m)\u001b[0m\u001b[0;34m\u001b[0m\u001b[0;34m\u001b[0m\u001b[0m\n",
      "\u001b[0;32m/dls_sw/i16/software/python/dlstools/dataloader.py\u001b[0m in \u001b[0;36mload\u001b[0;34m(self, datanumber)\u001b[0m\n\u001b[1;32m    490\u001b[0m         \u001b[0mself\u001b[0m\u001b[0;34m.\u001b[0m\u001b[0mdirname\u001b[0m\u001b[0;34m=\u001b[0m\u001b[0mos\u001b[0m\u001b[0;34m.\u001b[0m\u001b[0mpath\u001b[0m\u001b[0;34m.\u001b[0m\u001b[0mdirname\u001b[0m\u001b[0;34m(\u001b[0m\u001b[0mself\u001b[0m\u001b[0;34m.\u001b[0m\u001b[0mfile\u001b[0m\u001b[0;34m)\u001b[0m\u001b[0;34m+\u001b[0m\u001b[0mos\u001b[0m\u001b[0;34m.\u001b[0m\u001b[0msep\u001b[0m \u001b[0;31m#directory name with trailing separator - used for reading secondary data files etc\u001b[0m\u001b[0;34m\u001b[0m\u001b[0;34m\u001b[0m\u001b[0m\n\u001b[1;32m    491\u001b[0m         \u001b[0;31m#self.dataobject=scisoftpy.io.load(self.file, formats=['srs','tiff'],warn=not self.warn)\u001b[0m\u001b[0;34m\u001b[0m\u001b[0;34m\u001b[0m\u001b[0;34m\u001b[0m\u001b[0m\n\u001b[0;32m--> 492\u001b[0;31m         \u001b[0mself\u001b[0m\u001b[0;34m.\u001b[0m\u001b[0mdataobject\u001b[0m\u001b[0;34m=\u001b[0m\u001b[0mscisoftpy\u001b[0m\u001b[0;34m.\u001b[0m\u001b[0mio\u001b[0m\u001b[0;34m.\u001b[0m\u001b[0mload\u001b[0m\u001b[0;34m(\u001b[0m\u001b[0mself\u001b[0m\u001b[0;34m.\u001b[0m\u001b[0mfile\u001b[0m\u001b[0;34m,\u001b[0m \u001b[0mformats\u001b[0m\u001b[0;34m=\u001b[0m\u001b[0;34m[\u001b[0m\u001b[0;34m'srs'\u001b[0m\u001b[0;34m,\u001b[0m\u001b[0;34m'tiff'\u001b[0m\u001b[0;34m]\u001b[0m\u001b[0;34m,\u001b[0m\u001b[0mwarn\u001b[0m\u001b[0;34m=\u001b[0m\u001b[0mself\u001b[0m\u001b[0;34m.\u001b[0m\u001b[0mwarn\u001b[0m\u001b[0;34m)\u001b[0m \u001b[0;31m#change to warn = self.warn\u001b[0m\u001b[0;34m\u001b[0m\u001b[0;34m\u001b[0m\u001b[0m\n\u001b[0m\u001b[1;32m    493\u001b[0m         \u001b[0mlabels\u001b[0m\u001b[0;34m=\u001b[0m\u001b[0mself\u001b[0m\u001b[0;34m.\u001b[0m\u001b[0mdataobject\u001b[0m\u001b[0;34m.\u001b[0m\u001b[0mkeys\u001b[0m\u001b[0;34m(\u001b[0m\u001b[0;34m)\u001b[0m\u001b[0;34m\u001b[0m\u001b[0;34m\u001b[0m\u001b[0m\n\u001b[1;32m    494\u001b[0m         \u001b[0;32mtry\u001b[0m\u001b[0;34m:\u001b[0m\u001b[0;34m\u001b[0m\u001b[0;34m\u001b[0m\u001b[0m\n",
      "\u001b[0;32m/dls_sw/apps/python/anaconda/4.6.14/64/envs/python3.7/lib/python3.7/site-packages/scisoftpy/io.py\u001b[0m in \u001b[0;36mload\u001b[0;34m(name, format, formats, withmetadata, ascolour, warn, **kwarg)\u001b[0m\n\u001b[1;32m     94\u001b[0m         \u001b[0mf\u001b[0m\u001b[0;34m.\u001b[0m\u001b[0mclose\u001b[0m\u001b[0;34m(\u001b[0m\u001b[0;34m)\u001b[0m\u001b[0;34m\u001b[0m\u001b[0;34m\u001b[0m\u001b[0m\n\u001b[1;32m     95\u001b[0m     \u001b[0;32mexcept\u001b[0m\u001b[0;34m:\u001b[0m\u001b[0;34m\u001b[0m\u001b[0;34m\u001b[0m\u001b[0m\n\u001b[0;32m---> 96\u001b[0;31m         \u001b[0;32mraise\u001b[0m \u001b[0mValueError\u001b[0m\u001b[0;34m(\u001b[0m\u001b[0;34m\"File %s does not exist\"\u001b[0m \u001b[0;34m%\u001b[0m \u001b[0mname\u001b[0m\u001b[0;34m)\u001b[0m\u001b[0;34m\u001b[0m\u001b[0;34m\u001b[0m\u001b[0m\n\u001b[0m\u001b[1;32m     97\u001b[0m \u001b[0;34m\u001b[0m\u001b[0m\n\u001b[1;32m     98\u001b[0m     \u001b[0mlformats\u001b[0m \u001b[0;34m=\u001b[0m \u001b[0;32mNone\u001b[0m\u001b[0;34m\u001b[0m\u001b[0;34m\u001b[0m\u001b[0m\n",
      "\u001b[0;31mValueError\u001b[0m: File /dls/i16/data/2018/nt21479-1/712220.dat does not exist"
     ]
    }
   ],
   "source": [
    "d(712220)\n",
    "plot(d.eta, d.sum)\n",
    "d.Transmission"
   ]
  },
  {
   "cell_type": "markdown",
   "metadata": {},
   "source": [
    "#peak intensity of the 006 charge reflection 1.1e+10 counts/s"
   ]
  },
  {
   "cell_type": "code",
   "execution_count": null,
   "metadata": {},
   "outputs": [],
   "source": [
    "print '%.2g' % (2500000/0.0002183)"
   ]
  },
  {
   "cell_type": "code",
   "execution_count": null,
   "metadata": {},
   "outputs": [],
   "source": [
    "ciffile=cifpath+'CoCO3_icsd_61066.cif'\n",
    "t.PlotIntensityVsPolarizationAnalyserRotation('Scalar', lam = 12.4/5.22, hkl = np.array([0,0,6]), hkln = np.array([1,0,0]), psideg = 0, pol_eta_deg=range(-10,100), K=None, Time=None, Parity=None, mk=None, lk=np.array([.0,0,0]), sk=np.array([.1,0,0]) , savefile=None)\n"
   ]
  },
  {
   "cell_type": "code",
   "execution_count": null,
   "metadata": {},
   "outputs": [],
   "source": [
    "figure()\n",
    "d(712223)\n",
    "plot(d.rotp, d.APD)\n",
    "grid(1)\n",
    "d.sz"
   ]
  },
  {
   "cell_type": "code",
   "execution_count": null,
   "metadata": {},
   "outputs": [],
   "source": [
    "figure()\n",
    "d(712227)\n",
    "plot(d.eta, d.roi1_sum)\n",
    "d.Transmission"
   ]
  },
  {
   "cell_type": "code",
   "execution_count": null,
   "metadata": {},
   "outputs": [],
   "source": [
    "13500/0.1088"
   ]
  },
  {
   "cell_type": "code",
   "execution_count": null,
   "metadata": {},
   "outputs": [],
   "source": [
    "14080.88/1.1e+10\n"
   ]
  },
  {
   "cell_type": "code",
   "execution_count": null,
   "metadata": {},
   "outputs": [],
   "source": [
    "ciffile=cifpath+'CoCO3_icsd_61066.cif'\n",
    "t=ten.TensorScatteringClassMagrotExtension(CIFfile=ciffile, Site='Co1');\n",
    "t.PlotIntensityInPolarizationChannelsVsMagrot('NonResMag', lam=12.4/5.22, hkl=np.array([0,0,9]), hkln=np.array([1,0,0]), psideg=0, lk=np.array([0,0,0]), sk=np.array([1,0,0]), sigmapi='sigma')\n"
   ]
  },
  {
   "cell_type": "code",
   "execution_count": null,
   "metadata": {},
   "outputs": [],
   "source": [
    "figure()\n",
    "d(712228)\n",
    "plot(d.magrot, d.roi1_sum)"
   ]
  },
  {
   "cell_type": "code",
   "execution_count": null,
   "metadata": {},
   "outputs": [],
   "source": [
    "t.PlotIntensityVsPolarizationAnalyserRotation('NonResMag', lam = 12.4/5.22, hkl = np.array([0,0,9]), hkln = np.array([1,0,0]), psideg = 0, pol_eta_deg=range(-10, 100), K=None, Time=None, Parity=None, mk=None, lk=np.array([.0,0,0]), sk=np.array([.1,0,0]) , savefile=None)\n"
   ]
  },
  {
   "cell_type": "code",
   "execution_count": null,
   "metadata": {},
   "outputs": [],
   "source": [
    "figure()\n",
    "d(712254)\n",
    "plot(d.rotp, d.APD)\n",
    "d(712255)\n",
    "plot(d.rotp, d.APD); grid()"
   ]
  },
  {
   "cell_type": "code",
   "execution_count": null,
   "metadata": {},
   "outputs": [],
   "source": []
  }
 ],
 "metadata": {
  "kernelspec": {
   "display_name": "Python 3.7 [DLS Conda]",
   "language": "python",
   "name": "conda-env-DLS_Conda-python3.7-kernel.json"
  },
  "language_info": {
   "codemirror_mode": {
    "name": "ipython",
    "version": 3
   },
   "file_extension": ".py",
   "mimetype": "text/x-python",
   "name": "python",
   "nbconvert_exporter": "python",
   "pygments_lexer": "ipython3",
   "version": "3.7.3"
  }
 },
 "nbformat": 4,
 "nbformat_minor": 2
}
