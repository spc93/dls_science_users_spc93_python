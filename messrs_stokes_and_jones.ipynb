{
 "cells": [
  {
   "cell_type": "markdown",
   "id": "03b412ff",
   "metadata": {},
   "source": [
    "\n"
   ]
  },
  {
   "cell_type": "markdown",
   "id": "9371451d",
   "metadata": {},
   "source": [
    "# JA analyser response is in rotated analysser coordinate system - is this what we want?\n"
   ]
  },
  {
   "cell_type": "markdown",
   "id": "e2f0c6a8",
   "metadata": {},
   "source": [
    "# Polarization description and calculations \n",
    "\n",
    "## Coordinate frames and intensity silmulations\n",
    "\n",
    "Here we consider coordinate systems and calculations for a very general experimental geometry, but base the particular rotation angles on beamline I16. (We note that all the instrument rotations referred to are negative, except for $\\gamma$, which is positive).\n",
    "\n",
    "The coordinate system for Stokes and Jones vectors cannot be chosen completely arbitrarily since they are two-dimensional representations (x and y) with no component along the beam (z) direction. However, the choice of x and y is arbitrary. We propose a coordinate system choice for the incident beam on the sample, that is consistent with the DLS/NeXus coordinates for an undeflected beam. The reference frame is therefore fixed and not related to the sample scattering plane, which means that it is applicable to both scattering and absorption geometries and doesn not suffer from a singularity at two-theta = 0.\n",
    "\n",
    "\n",
    "The proposed coordinate system is:\n",
    "\n",
    "$\\mathbf{\\hat{z}}$ = beam direction\n",
    "\n",
    "$\\mathbf{\\hat{v}}$ = vertical vector\n",
    "\n",
    "$$\n",
    "\\mathbf{\\hat{x}} = \\mathbf{\\hat{v}} \\times \\hat{\\mathbf{z}}\n",
    "$$\n",
    "\n",
    "This appears to be consistent with the polarization definitions in NeXus (NXbeam):\n",
    "\n",
    "https://manual.nexusformat.org/classes/base_classes/NXbeam.html?highlight=nxbeam\n",
    "\n",
    "and Wikipedia:\n",
    "\n",
    "https://en.wikipedia.org/wiki/Stokes_parameters\n",
    "\n",
    "Here we adopt conventional optical definitions of Stokes parameters (e.g. Wikipedia). Alternative definitions are also in use, whereby the Stokes parameters are more naturally related to Pauli matrices (see, for example, https://iopscience.iop.org/article/10.1088/0034-4885/56/2/002). These should be converted to the 'standard' form for NeXus compatibility.\n",
    "\n",
    "Stokes parameters refer to whichever beam they describe (e.g. incident or scattered beam). The complex polarization vector (normalized electric field) can be described by the Jones vector:\n",
    "$$\n",
    "\\mathbf{\\varepsilon} =\n",
    "\\begin{bmatrix} \\mathbf{\\varepsilon} \\cdot \\mathbf{\\hat{x}}\\\\ \\mathbf{\\varepsilon} \\cdot  \\mathbf{\\hat{y}} \\end{bmatrix}\n",
    "$$\n",
    "\n",
    "The scattered or transmitted beam Jones vector is given by the product of the Jones matrix $J$ and the initial Jones vector:\n",
    "$$\n",
    "\\mathbf{\\varepsilon}^\\prime\n",
    "= J \\mathbf{\\varepsilon}\n",
    "$$\n",
    "\n",
    "For isotropic charge scattering, the scattering amplitude (electric field) is $\\mathbf{\\varepsilon} \\cdot \\mathbf{\\varepsilon}^\\prime$, which can be written in terms of the Jones matrix as\n",
    "$$\n",
    "\\mathbf{\\varepsilon}^T J \\mathbf{\\varepsilon}\n",
    "$$\n",
    "where $^T$ is the transpose and \n",
    "\n",
    "$$\n",
    "J = \\begin{bmatrix} \n",
    "\\hat{\\mathbf{x}}^\\prime  \\cdot \\hat{\\mathbf{x}}\n",
    "&  \n",
    "\\hat{\\mathbf{x}}^\\prime  \\cdot \\hat{\\mathbf{y}}\n",
    "\\\\ \n",
    "\\hat{\\mathbf{y}}^\\prime  \\cdot \\hat{\\mathbf{x}}\n",
    "&\n",
    "\\mathbf{\\hat{y}}^\\prime  \\cdot \\hat{\\mathbf{y}}\n",
    "\\end{bmatrix}\n",
    "=\n",
    "\\begin{bmatrix} \n",
    "R \\hat{\\mathbf{x}}  \\cdot \\hat{\\mathbf{x}}\n",
    "&  \n",
    "R \\hat{\\mathbf{x}}  \\cdot \\hat{\\mathbf{y}}\n",
    "\\\\ \n",
    "R \\hat{\\mathbf{y}}  \\cdot \\hat{\\mathbf{x}}\n",
    "&\n",
    "R \\hat{\\mathbf{y}}  \\cdot \\hat{\\mathbf{y}}\n",
    "\\end{bmatrix}\n",
    "$$\n",
    "\n",
    "where $\\mathbf{x}^\\prime, \\mathbf{y}^\\prime$ are the coordinate vectors of the deflected beam, transformed by\n",
    "instrument-dependent rotation matrices.\n",
    "\n",
    "Considering the Jones matrix of a kinematical-diffraction-based linear polarization analyser, we have (e.g. for beamline I16),\n",
    "\n",
    "$$\n",
    "R = R(\\xi) R(tthp) \n",
    "$$\n",
    "\n",
    "where $\\xi$ (or 'pol'), and $tthp$ are the polarization analyser rotation about the beam, and the polarizer Bragg angle, respectively, with\n",
    "\n",
    "$$\n",
    "R(\\xi) = \\begin{bmatrix} \n",
    "\\cos (\\xi)\n",
    "&\n",
    "\\sin (\\xi)\n",
    "&\n",
    "0\n",
    "\\\\\n",
    "-\\sin (\\xi)\n",
    "&\n",
    "\\cos (\\xi)\n",
    "&\n",
    "0\n",
    "\\\\\n",
    "0\n",
    "&\n",
    "0\n",
    "&\n",
    "1\n",
    "\\end{bmatrix}\n",
    "$$\n",
    "\n",
    "$$\n",
    "R(tthp) = \\begin{bmatrix} \n",
    "1\n",
    "&\n",
    "0\n",
    "&\n",
    "0\n",
    "\\\\\n",
    "0\n",
    "&\n",
    "\\cos (tthp)\n",
    "&\n",
    "\\sin (tthp)\n",
    "\\\\\n",
    "0\n",
    "&\n",
    "-\\sin (tthp)\n",
    "&\n",
    "\\cos (tthp)\n",
    "\\end{bmatrix}\n",
    "$$\n",
    "\n",
    "which leads to a Jones matrix for the polarization analyser:\n",
    "\n",
    "$$\n",
    "J_A = \\begin{bmatrix} \n",
    "\\cos (\\xi)\n",
    "&  \n",
    "-\\sin (\\xi)\n",
    "\\\\ \n",
    "\\sin (\\xi) \\cos (tthp)\n",
    "&\n",
    "\\cos (\\xi) \\cos (tthp)\n",
    "\\end{bmatrix}\n",
    "$$\n",
    "\n",
    "Similary, isotropic charge scattering from the sample is given by the Jones matrix\n",
    "\n",
    "$$\n",
    "J = \\begin{bmatrix} \n",
    "R \\hat{\\mathbf{x}}  \\cdot \\hat{\\mathbf{x}}\n",
    "&  \n",
    "R \\hat{\\mathbf{x}}  \\cdot \\hat{\\mathbf{y}}\n",
    "\\\\ \n",
    "R \\hat{\\mathbf{y}}  \\cdot \\hat{\\mathbf{x}}\n",
    "&\n",
    "R \\hat{\\mathbf{y}}  \\cdot \\hat{\\mathbf{y}}\n",
    "\\end{bmatrix}\n",
    "$$\n",
    "\n",
    "where, for I16, \n",
    "$$\n",
    "R = R(\\gamma) R(\\delta) \n",
    "$$\n",
    "\n",
    "$$\n",
    "R(\\gamma) = \\begin{bmatrix} \n",
    "\\cos (\\gamma)\n",
    "&\n",
    "0\n",
    "&\n",
    "\\sin (\\gamma)\n",
    "\\\\\n",
    "0\n",
    "&\n",
    "1\n",
    "&\n",
    "0\n",
    "\\\\\n",
    "-\\sin (\\gamma)\n",
    "&\n",
    "0\n",
    "&\n",
    "\\cos (\\gamma)\n",
    "\\end{bmatrix}\n",
    "$$\n",
    "\n",
    "\n",
    "$$\n",
    "R(\\delta) = \\begin{bmatrix} \n",
    "1\n",
    "&\n",
    "0\n",
    "&\n",
    "0\n",
    "\\\\\n",
    "0\n",
    "&\n",
    "\\cos (\\delta)\n",
    "&\n",
    "\\sin (\\delta)\n",
    "\\\\\n",
    "0\n",
    "&\n",
    "-\\sin (\\delta)\n",
    "&\n",
    "\\cos (\\delta)\n",
    "\\end{bmatrix}\n",
    "$$\n",
    "\n",
    "giving\n",
    "$$\n",
    "J_c = \\begin{bmatrix} \n",
    "\\cos (\\gamma)\n",
    "&  \n",
    "0\n",
    "\\\\ \n",
    "-\\sin (\\gamma) \\sin (\\delta)\n",
    "&\n",
    "\\cos (\\delta)\n",
    "\\end{bmatrix}\n",
    "$$\n",
    "\n",
    "For E1E1 resonant magnetic scattering \n",
    "$$\n",
    "J_m = \\mathbf{m} \\cdot \\begin{bmatrix} \n",
    "\\hat{\\mathbf{x}}^\\prime  \\times \\hat{\\mathbf{x}}\n",
    "&  \n",
    "\\hat{\\mathbf{x}}^\\prime  \\times \\hat{\\mathbf{y}}\n",
    "\\\\ \n",
    "\\hat{\\mathbf{y}}^\\prime  \\times \\hat{\\mathbf{x}}\n",
    "&\n",
    "\\mathbf{\\hat{y}}^\\prime  \\times \\hat{\\mathbf{y}}\n",
    "\\end{bmatrix}\n",
    "= \\mathbf{m} \\cdot \\begin{bmatrix} \n",
    "R \\hat{\\mathbf{x}}  \\times \\hat{\\mathbf{x}}\n",
    "&\n",
    "R \\hat{\\mathbf{x}}  \\times \\hat{\\mathbf{y}}\n",
    "\\\\ \n",
    "R \\hat{\\mathbf{y}}  \\times \\hat{\\mathbf{x}}\n",
    "&\n",
    "R \\hat{\\mathbf{y}}  \\times \\hat{\\mathbf{y}}\n",
    "\\end{bmatrix}\n",
    "$$\n",
    "where $\\mathbf{m}$ is the magnetic unit vector. \n",
    "\n",
    "For I16 we have \n",
    "\n",
    "$$\n",
    "J = \\mathbf{m} \\cdot \\begin{bmatrix} \n",
    "-\\hat{\\mathbf{y}} \\sin (\\gamma)  \n",
    "&  \n",
    "\\hat{\\mathbf{x}}\\sin (\\gamma) + \\hat{\\mathbf{z}} \\cos (\\gamma)\n",
    "\\\\\n",
    "-\\hat{\\mathbf{y}} \\cos (\\gamma) \\sin (\\delta) - \\hat{\\mathbf{z}} \\cos (\\delta)\n",
    "&\n",
    "\\hat{\\mathbf{x}} \\cos (\\gamma) \\sin (\\delta) - \\hat{\\mathbf{z}} \\sin (\\gamma) \\sin (\\delta)\n",
    "\\end{bmatrix}\n",
    "$$\n",
    "\n",
    "A convenient reference frame in which to describe the magnetic vector is given by Hill & McMorrow:\n",
    "\n",
    "https://doi.org/10.1107/S0108767395012670\n",
    "\n",
    "Here, \n",
    "$$\n",
    "\\hat{\\mathbf{m}} = m_1 \\hat{\\mathbf{U}}_1 + m_2 \\hat{\\mathbf{U}}_2 + m_3 \\hat{\\mathbf{U}}_3\n",
    "$$\n",
    "where\n",
    "$$\n",
    "\\hat{\\mathbf{U}}_3 = \\frac{\\hat{\\mathbf{z}} - R \\hat{\\mathbf{z}}}\n",
    "{|\\hat{\\mathbf{z}} - R \\hat{\\mathbf{z}}|}, \\;\\;\n",
    "\\hat{\\mathbf{U}}_1 = \\frac{\\hat{\\mathbf{z}} + R \\hat{\\mathbf{z}}}\n",
    "{|\\hat{\\mathbf{z}} + R \\hat{\\mathbf{z}}|}, \\;\\;\n",
    "\\hat{\\mathbf{U}}_2  = \\hat{\\mathbf{U}}_3 \\times \\hat{\\mathbf{U}}_1\n",
    "$$\n",
    "\n",
    "Finally, the intensity after the analyser is given by\n",
    "$$\n",
    "I = \\mathrm{Tr} \\, (J_A J \\mu J^{\\dagger} J_A^{\\dagger})\n",
    "$$\n",
    "\n",
    "where $J$ is the Jones (scattering) matrix for the scattering process of interest (e.g. charge or magnetic), $^{\\dagger}$ is the Hermitian transpose, and $\\mu$ is the polarization density matrix, written in terms of Stokes parameters as\n",
    "$$\n",
    "\\mu = \\frac{1}{2} \\begin{bmatrix} \n",
    "1 + P_1\n",
    "&\n",
    "P_2 - i P_3\n",
    "\\\\\n",
    "P_2 + i P_3\n",
    "&\n",
    "1 - P_1\n",
    "\\end{bmatrix}\n",
    "$$\n",
    "\n"
   ]
  },
  {
   "cell_type": "markdown",
   "id": "37576d6e",
   "metadata": {},
   "source": [
    "## (Non-resonant) spin scattering\n",
    "\n",
    "The non-resonant spin scattering amplitude is given by\n",
    "$$\\mathbf{m} \\cdot \\mathbf{B}(\\mathbf{q}, \\mathbf{q}^\\prime, \\mathbf{\\varepsilon}, \\mathbf{\\varepsilon}^\\prime)$$\n",
    "where\n",
    "$$\n",
    "\\mathbf{B} = (\\mathbf{\\varepsilon}^\\prime \\times \\mathbf{\\varepsilon})\n",
    "+\n",
    "(\\mathbf{q}^\\prime \\times \\mathbf{\\varepsilon}^\\prime)\n",
    "(\\mathbf{q}^\\prime  \\cdot \\mathbf{\\varepsilon})\n",
    "-\n",
    "(\\mathbf{q} \\times \\mathbf{\\varepsilon})\n",
    "(\\mathbf{q}  \\cdot \\mathbf{\\varepsilon}^\\prime)\n",
    "-\n",
    "(\\mathbf{q}^\\prime \\times \\mathbf{\\varepsilon}^\\prime) \\times\n",
    "(\\mathbf{q}  \\times \\mathbf{\\varepsilon})\n",
    "$$\n",
    "This leads to a scattering (Jones) matrix:\n",
    "$$\n",
    "J = \\mathbf{m} \\cdot \\begin{bmatrix} \n",
    "\\mathbf{B}(\\mathbf{z}, \\mathbf{z}^\\prime, \\mathbf{x}, \\mathbf{x}^\\prime)\n",
    "&  \n",
    "\\mathbf{B}(\\mathbf{z}, \\mathbf{z}^\\prime, \\mathbf{y}, \\mathbf{x}^\\prime)\n",
    "\\\\\n",
    "\\mathbf{B}(\\mathbf{z}, \\mathbf{z}^\\prime, \\mathbf{x}, \\mathbf{y}^\\prime)\n",
    "&\n",
    "\\mathbf{B}(\\mathbf{z}, \\mathbf{z}^\\prime, \\mathbf{y}, \\mathbf{y}^\\prime)\n",
    "\\end{bmatrix}\n",
    "$$\n",
    "## B as per L+C; check pol vectors/transpose\n"
   ]
  },
  {
   "cell_type": "code",
   "execution_count": null,
   "id": "8c2ac537",
   "metadata": {},
   "outputs": [],
   "source": []
  },
  {
   "cell_type": "markdown",
   "id": "aeeca18a",
   "metadata": {},
   "source": [
    "# Symbolic (SymPy) calculations\n",
    "\n",
    "Here, $\\delta, \\xi, tthp$ are negative rotations.\n",
    "\n",
    "$\\gamma$ is a positive rotation."
   ]
  },
  {
   "cell_type": "code",
   "execution_count": 1,
   "id": "609d4680",
   "metadata": {
    "scrolled": false
   },
   "outputs": [
    {
     "data": {
      "text/markdown": [
       "$R_\\gamma = $"
      ],
      "text/plain": [
       "<IPython.core.display.Markdown object>"
      ]
     },
     "metadata": {},
     "output_type": "display_data"
    },
    {
     "data": {
      "text/latex": [
       "$\\displaystyle \\left[\\begin{matrix}\\cos{\\left(\\gamma \\right)} & 0 & \\sin{\\left(\\gamma \\right)}\\\\0 & 1 & 0\\\\- \\sin{\\left(\\gamma \\right)} & 0 & \\cos{\\left(\\gamma \\right)}\\end{matrix}\\right]$"
      ],
      "text/plain": [
       "⎡cos(γ)   0  sin(γ)⎤\n",
       "⎢                  ⎥\n",
       "⎢   0     1    0   ⎥\n",
       "⎢                  ⎥\n",
       "⎣-sin(γ)  0  cos(γ)⎦"
      ]
     },
     "metadata": {},
     "output_type": "display_data"
    },
    {
     "data": {
      "text/markdown": [
       "$R_\\delta = $"
      ],
      "text/plain": [
       "<IPython.core.display.Markdown object>"
      ]
     },
     "metadata": {},
     "output_type": "display_data"
    },
    {
     "data": {
      "text/latex": [
       "$\\displaystyle \\left[\\begin{matrix}1 & 0 & 0\\\\0 & \\cos{\\left(\\delta \\right)} & \\sin{\\left(\\delta \\right)}\\\\0 & - \\sin{\\left(\\delta \\right)} & \\cos{\\left(\\delta \\right)}\\end{matrix}\\right]$"
      ],
      "text/plain": [
       "⎡1     0       0   ⎤\n",
       "⎢                  ⎥\n",
       "⎢0  cos(δ)   sin(δ)⎥\n",
       "⎢                  ⎥\n",
       "⎣0  -sin(δ)  cos(δ)⎦"
      ]
     },
     "metadata": {},
     "output_type": "display_data"
    },
    {
     "data": {
      "text/markdown": [
       "$R_\\xi = $"
      ],
      "text/plain": [
       "<IPython.core.display.Markdown object>"
      ]
     },
     "metadata": {},
     "output_type": "display_data"
    },
    {
     "data": {
      "text/latex": [
       "$\\displaystyle \\left[\\begin{matrix}\\cos{\\left(\\xi \\right)} & \\sin{\\left(\\xi \\right)} & 0\\\\- \\sin{\\left(\\xi \\right)} & \\cos{\\left(\\xi \\right)} & 0\\\\0 & 0 & 1\\end{matrix}\\right]$"
      ],
      "text/plain": [
       "⎡cos(ξ)   sin(ξ)  0⎤\n",
       "⎢                  ⎥\n",
       "⎢-sin(ξ)  cos(ξ)  0⎥\n",
       "⎢                  ⎥\n",
       "⎣   0       0     1⎦"
      ]
     },
     "metadata": {},
     "output_type": "display_data"
    },
    {
     "data": {
      "text/markdown": [
       "$R_{tthp} = $"
      ],
      "text/plain": [
       "<IPython.core.display.Markdown object>"
      ]
     },
     "metadata": {},
     "output_type": "display_data"
    },
    {
     "data": {
      "text/latex": [
       "$\\displaystyle \\left[\\begin{matrix}1 & 0 & 0\\\\0 & \\cos{\\left(tthp \\right)} & \\sin{\\left(tthp \\right)}\\\\0 & - \\sin{\\left(tthp \\right)} & \\cos{\\left(tthp \\right)}\\end{matrix}\\right]$"
      ],
      "text/plain": [
       "⎡1      0           0    ⎤\n",
       "⎢                        ⎥\n",
       "⎢0  cos(tthp)   sin(tthp)⎥\n",
       "⎢                        ⎥\n",
       "⎣0  -sin(tthp)  cos(tthp)⎦"
      ]
     },
     "metadata": {},
     "output_type": "display_data"
    },
    {
     "data": {
      "text/markdown": [
       "$R_{\\gamma\\delta} = $"
      ],
      "text/plain": [
       "<IPython.core.display.Markdown object>"
      ]
     },
     "metadata": {},
     "output_type": "display_data"
    },
    {
     "data": {
      "text/latex": [
       "$\\displaystyle \\left[\\begin{matrix}\\cos{\\left(\\gamma \\right)} & - \\sin{\\left(\\delta \\right)} \\sin{\\left(\\gamma \\right)} & \\sin{\\left(\\gamma \\right)} \\cos{\\left(\\delta \\right)}\\\\0 & \\cos{\\left(\\delta \\right)} & \\sin{\\left(\\delta \\right)}\\\\- \\sin{\\left(\\gamma \\right)} & - \\sin{\\left(\\delta \\right)} \\cos{\\left(\\gamma \\right)} & \\cos{\\left(\\delta \\right)} \\cos{\\left(\\gamma \\right)}\\end{matrix}\\right]$"
      ],
      "text/plain": [
       "⎡cos(γ)   -sin(δ)⋅sin(γ)  sin(γ)⋅cos(δ)⎤\n",
       "⎢                                      ⎥\n",
       "⎢   0         cos(δ)         sin(δ)    ⎥\n",
       "⎢                                      ⎥\n",
       "⎣-sin(γ)  -sin(δ)⋅cos(γ)  cos(δ)⋅cos(γ)⎦"
      ]
     },
     "metadata": {},
     "output_type": "display_data"
    },
    {
     "data": {
      "text/markdown": [
       "$x1, y1, z1 =$"
      ],
      "text/plain": [
       "<IPython.core.display.Markdown object>"
      ]
     },
     "metadata": {},
     "output_type": "display_data"
    },
    {
     "data": {
      "text/latex": [
       "$\\displaystyle \\left[\\begin{matrix}\\cos{\\left(\\gamma \\right)}\\\\0\\\\- \\sin{\\left(\\gamma \\right)}\\end{matrix}\\right]$"
      ],
      "text/plain": [
       "⎡cos(γ) ⎤\n",
       "⎢       ⎥\n",
       "⎢   0   ⎥\n",
       "⎢       ⎥\n",
       "⎣-sin(γ)⎦"
      ]
     },
     "metadata": {},
     "output_type": "display_data"
    },
    {
     "data": {
      "text/latex": [
       "$\\displaystyle \\left[\\begin{matrix}- \\sin{\\left(\\delta \\right)} \\sin{\\left(\\gamma \\right)}\\\\\\cos{\\left(\\delta \\right)}\\\\- \\sin{\\left(\\delta \\right)} \\cos{\\left(\\gamma \\right)}\\end{matrix}\\right]$"
      ],
      "text/plain": [
       "⎡-sin(δ)⋅sin(γ)⎤\n",
       "⎢              ⎥\n",
       "⎢    cos(δ)    ⎥\n",
       "⎢              ⎥\n",
       "⎣-sin(δ)⋅cos(γ)⎦"
      ]
     },
     "metadata": {},
     "output_type": "display_data"
    },
    {
     "data": {
      "text/latex": [
       "$\\displaystyle \\left[\\begin{matrix}\\sin{\\left(\\gamma \\right)} \\cos{\\left(\\delta \\right)}\\\\\\sin{\\left(\\delta \\right)}\\\\\\cos{\\left(\\delta \\right)} \\cos{\\left(\\gamma \\right)}\\end{matrix}\\right]$"
      ],
      "text/plain": [
       "⎡sin(γ)⋅cos(δ)⎤\n",
       "⎢             ⎥\n",
       "⎢   sin(δ)    ⎥\n",
       "⎢             ⎥\n",
       "⎣cos(δ)⋅cos(γ)⎦"
      ]
     },
     "metadata": {},
     "output_type": "display_data"
    },
    {
     "data": {
      "text/markdown": [
       "$J_c = $"
      ],
      "text/plain": [
       "<IPython.core.display.Markdown object>"
      ]
     },
     "metadata": {},
     "output_type": "display_data"
    },
    {
     "data": {
      "text/latex": [
       "$\\displaystyle \\left[\\begin{matrix}\\cos{\\left(\\gamma \\right)} & 0\\\\- \\sin{\\left(\\delta \\right)} \\sin{\\left(\\gamma \\right)} & \\cos{\\left(\\delta \\right)}\\end{matrix}\\right]$"
      ],
      "text/plain": [
       "⎡    cos(γ)        0   ⎤\n",
       "⎢                      ⎥\n",
       "⎣-sin(δ)⋅sin(γ)  cos(δ)⎦"
      ]
     },
     "metadata": {},
     "output_type": "display_data"
    },
    {
     "data": {
      "text/plain": [
       "'U1, U2, U3: '"
      ]
     },
     "metadata": {},
     "output_type": "display_data"
    },
    {
     "data": {
      "text/latex": [
       "$\\displaystyle \\left[\\begin{matrix}\\frac{\\sin{\\left(\\gamma \\right)} \\cos{\\left(\\delta \\right)}}{\\sqrt{\\left(\\cos{\\left(\\delta \\right)} \\cos{\\left(\\gamma \\right)} + 1\\right)^{2} + \\sin^{2}{\\left(\\delta \\right)} + \\sin^{2}{\\left(\\gamma \\right)} \\cos^{2}{\\left(\\delta \\right)}}}\\\\\\frac{\\sin{\\left(\\delta \\right)}}{\\sqrt{\\left(\\cos{\\left(\\delta \\right)} \\cos{\\left(\\gamma \\right)} + 1\\right)^{2} + \\sin^{2}{\\left(\\delta \\right)} + \\sin^{2}{\\left(\\gamma \\right)} \\cos^{2}{\\left(\\delta \\right)}}}\\\\\\frac{\\cos{\\left(\\delta \\right)} \\cos{\\left(\\gamma \\right)} + 1}{\\sqrt{\\left(\\cos{\\left(\\delta \\right)} \\cos{\\left(\\gamma \\right)} + 1\\right)^{2} + \\sin^{2}{\\left(\\delta \\right)} + \\sin^{2}{\\left(\\gamma \\right)} \\cos^{2}{\\left(\\delta \\right)}}}\\end{matrix}\\right]$"
      ],
      "text/plain": [
       "⎡                    sin(γ)⋅cos(δ)                    ⎤\n",
       "⎢─────────────────────────────────────────────────────⎥\n",
       "⎢   __________________________________________________⎥\n",
       "⎢  ╱                    2      2         2       2    ⎥\n",
       "⎢╲╱  (cos(δ)⋅cos(γ) + 1)  + sin (δ) + sin (γ)⋅cos (δ) ⎥\n",
       "⎢                                                     ⎥\n",
       "⎢                        sin(δ)                       ⎥\n",
       "⎢─────────────────────────────────────────────────────⎥\n",
       "⎢   __________________________________________________⎥\n",
       "⎢  ╱                    2      2         2       2    ⎥\n",
       "⎢╲╱  (cos(δ)⋅cos(γ) + 1)  + sin (δ) + sin (γ)⋅cos (δ) ⎥\n",
       "⎢                                                     ⎥\n",
       "⎢                  cos(δ)⋅cos(γ) + 1                  ⎥\n",
       "⎢─────────────────────────────────────────────────────⎥\n",
       "⎢   __________________________________________________⎥\n",
       "⎢  ╱                    2      2         2       2    ⎥\n",
       "⎣╲╱  (cos(δ)⋅cos(γ) + 1)  + sin (δ) + sin (γ)⋅cos (δ) ⎦"
      ]
     },
     "metadata": {},
     "output_type": "display_data"
    },
    {
     "data": {
      "text/latex": [
       "$\\displaystyle \\left[\\begin{matrix}- \\frac{\\left(- \\cos{\\left(\\delta \\right)} \\cos{\\left(\\gamma \\right)} + 1\\right) \\sin{\\left(\\delta \\right)}}{\\sqrt{\\left(- \\cos{\\left(\\delta \\right)} \\cos{\\left(\\gamma \\right)} + 1\\right)^{2} + \\sin^{2}{\\left(\\delta \\right)} + \\sin^{2}{\\left(\\gamma \\right)} \\cos^{2}{\\left(\\delta \\right)}} \\sqrt{\\left(\\cos{\\left(\\delta \\right)} \\cos{\\left(\\gamma \\right)} + 1\\right)^{2} + \\sin^{2}{\\left(\\delta \\right)} + \\sin^{2}{\\left(\\gamma \\right)} \\cos^{2}{\\left(\\delta \\right)}}} - \\frac{\\left(\\cos{\\left(\\delta \\right)} \\cos{\\left(\\gamma \\right)} + 1\\right) \\sin{\\left(\\delta \\right)}}{\\sqrt{\\left(- \\cos{\\left(\\delta \\right)} \\cos{\\left(\\gamma \\right)} + 1\\right)^{2} + \\sin^{2}{\\left(\\delta \\right)} + \\sin^{2}{\\left(\\gamma \\right)} \\cos^{2}{\\left(\\delta \\right)}} \\sqrt{\\left(\\cos{\\left(\\delta \\right)} \\cos{\\left(\\gamma \\right)} + 1\\right)^{2} + \\sin^{2}{\\left(\\delta \\right)} + \\sin^{2}{\\left(\\gamma \\right)} \\cos^{2}{\\left(\\delta \\right)}}}\\\\\\frac{\\left(- \\cos{\\left(\\delta \\right)} \\cos{\\left(\\gamma \\right)} + 1\\right) \\sin{\\left(\\gamma \\right)} \\cos{\\left(\\delta \\right)}}{\\sqrt{\\left(- \\cos{\\left(\\delta \\right)} \\cos{\\left(\\gamma \\right)} + 1\\right)^{2} + \\sin^{2}{\\left(\\delta \\right)} + \\sin^{2}{\\left(\\gamma \\right)} \\cos^{2}{\\left(\\delta \\right)}} \\sqrt{\\left(\\cos{\\left(\\delta \\right)} \\cos{\\left(\\gamma \\right)} + 1\\right)^{2} + \\sin^{2}{\\left(\\delta \\right)} + \\sin^{2}{\\left(\\gamma \\right)} \\cos^{2}{\\left(\\delta \\right)}}} + \\frac{\\left(\\cos{\\left(\\delta \\right)} \\cos{\\left(\\gamma \\right)} + 1\\right) \\sin{\\left(\\gamma \\right)} \\cos{\\left(\\delta \\right)}}{\\sqrt{\\left(- \\cos{\\left(\\delta \\right)} \\cos{\\left(\\gamma \\right)} + 1\\right)^{2} + \\sin^{2}{\\left(\\delta \\right)} + \\sin^{2}{\\left(\\gamma \\right)} \\cos^{2}{\\left(\\delta \\right)}} \\sqrt{\\left(\\cos{\\left(\\delta \\right)} \\cos{\\left(\\gamma \\right)} + 1\\right)^{2} + \\sin^{2}{\\left(\\delta \\right)} + \\sin^{2}{\\left(\\gamma \\right)} \\cos^{2}{\\left(\\delta \\right)}}}\\\\0\\end{matrix}\\right]$"
      ],
      "text/plain": [
       "⎡                                          (-cos(δ)⋅cos(γ) + 1)⋅sin(δ)        \n",
       "⎢- ───────────────────────────────────────────────────────────────────────────\n",
       "⎢     ___________________________________________________    _________________\n",
       "⎢    ╱                     2      2         2       2       ╱                 \n",
       "⎢  ╲╱  (-cos(δ)⋅cos(γ) + 1)  + sin (δ) + sin (γ)⋅cos (δ) ⋅╲╱  (cos(δ)⋅cos(γ) +\n",
       "⎢                                                                             \n",
       "⎢                                      (-cos(δ)⋅cos(γ) + 1)⋅sin(γ)⋅cos(δ)     \n",
       "⎢ ────────────────────────────────────────────────────────────────────────────\n",
       "⎢    ___________________________________________________    __________________\n",
       "⎢   ╱                     2      2         2       2       ╱                  \n",
       "⎢ ╲╱  (-cos(δ)⋅cos(γ) + 1)  + sin (δ) + sin (γ)⋅cos (δ) ⋅╲╱  (cos(δ)⋅cos(γ) + \n",
       "⎢                                                                             \n",
       "⎣                                                                             \n",
       "\n",
       "                                                                             (\n",
       "───────────────────────────────── - ──────────────────────────────────────────\n",
       "_________________________________      _______________________________________\n",
       "   2      2         2       2         ╱                     2      2         2\n",
       " 1)  + sin (δ) + sin (γ)⋅cos (δ)    ╲╱  (-cos(δ)⋅cos(γ) + 1)  + sin (δ) + sin \n",
       "                                                                              \n",
       "                                                                        (cos(δ\n",
       "──────────────────────────────── + ───────────────────────────────────────────\n",
       "________________________________      ________________________________________\n",
       "  2      2         2       2         ╱                     2      2         2 \n",
       "1)  + sin (δ) + sin (γ)⋅cos (δ)    ╲╱  (-cos(δ)⋅cos(γ) + 1)  + sin (δ) + sin (\n",
       "                                                                              \n",
       "                                 0                                            \n",
       "\n",
       "cos(δ)⋅cos(γ) + 1)⋅sin(δ)                                         ⎤\n",
       "──────────────────────────────────────────────────────────────────⎥\n",
       "____________    __________________________________________________⎥\n",
       "       2       ╱                    2      2         2       2    ⎥\n",
       "(γ)⋅cos (δ) ⋅╲╱  (cos(δ)⋅cos(γ) + 1)  + sin (δ) + sin (γ)⋅cos (δ) ⎥\n",
       "                                                                  ⎥\n",
       ")⋅cos(γ) + 1)⋅sin(γ)⋅cos(δ)                                       ⎥\n",
       "───────────────────────────────────────────────────────────────── ⎥\n",
       "___________    __________________________________________________ ⎥\n",
       "      2       ╱                    2      2         2       2     ⎥\n",
       "γ)⋅cos (δ) ⋅╲╱  (cos(δ)⋅cos(γ) + 1)  + sin (δ) + sin (γ)⋅cos (δ)  ⎥\n",
       "                                                                  ⎥\n",
       "                                                                  ⎦"
      ]
     },
     "metadata": {},
     "output_type": "display_data"
    },
    {
     "data": {
      "text/latex": [
       "$\\displaystyle \\left[\\begin{matrix}- \\frac{\\sin{\\left(\\gamma \\right)} \\cos{\\left(\\delta \\right)}}{\\sqrt{\\left(- \\cos{\\left(\\delta \\right)} \\cos{\\left(\\gamma \\right)} + 1\\right)^{2} + \\sin^{2}{\\left(\\delta \\right)} + \\sin^{2}{\\left(\\gamma \\right)} \\cos^{2}{\\left(\\delta \\right)}}}\\\\- \\frac{\\sin{\\left(\\delta \\right)}}{\\sqrt{\\left(- \\cos{\\left(\\delta \\right)} \\cos{\\left(\\gamma \\right)} + 1\\right)^{2} + \\sin^{2}{\\left(\\delta \\right)} + \\sin^{2}{\\left(\\gamma \\right)} \\cos^{2}{\\left(\\delta \\right)}}}\\\\\\frac{- \\cos{\\left(\\delta \\right)} \\cos{\\left(\\gamma \\right)} + 1}{\\sqrt{\\left(- \\cos{\\left(\\delta \\right)} \\cos{\\left(\\gamma \\right)} + 1\\right)^{2} + \\sin^{2}{\\left(\\delta \\right)} + \\sin^{2}{\\left(\\gamma \\right)} \\cos^{2}{\\left(\\delta \\right)}}}\\end{matrix}\\right]$"
      ],
      "text/plain": [
       "⎡                   -sin(γ)⋅cos(δ)                     ⎤\n",
       "⎢──────────────────────────────────────────────────────⎥\n",
       "⎢   ___________________________________________________⎥\n",
       "⎢  ╱                     2      2         2       2    ⎥\n",
       "⎢╲╱  (-cos(δ)⋅cos(γ) + 1)  + sin (δ) + sin (γ)⋅cos (δ) ⎥\n",
       "⎢                                                      ⎥\n",
       "⎢                       -sin(δ)                        ⎥\n",
       "⎢──────────────────────────────────────────────────────⎥\n",
       "⎢   ___________________________________________________⎥\n",
       "⎢  ╱                     2      2         2       2    ⎥\n",
       "⎢╲╱  (-cos(δ)⋅cos(γ) + 1)  + sin (δ) + sin (γ)⋅cos (δ) ⎥\n",
       "⎢                                                      ⎥\n",
       "⎢                  -cos(δ)⋅cos(γ) + 1                  ⎥\n",
       "⎢──────────────────────────────────────────────────────⎥\n",
       "⎢   ___________________________________________________⎥\n",
       "⎢  ╱                     2      2         2       2    ⎥\n",
       "⎣╲╱  (-cos(δ)⋅cos(γ) + 1)  + sin (δ) + sin (γ)⋅cos (δ) ⎦"
      ]
     },
     "metadata": {},
     "output_type": "display_data"
    },
    {
     "data": {
      "text/markdown": [
       "E1E1 magnetic scattering matrix to be dotted with m"
      ],
      "text/plain": [
       "<IPython.core.display.Markdown object>"
      ]
     },
     "metadata": {},
     "output_type": "display_data"
    },
    {
     "data": {
      "text/latex": [
       "$\\displaystyle \\left[\\begin{matrix}0 & \\sin{\\left(\\gamma \\right)}\\\\- \\sin{\\left(\\gamma \\right)} & 0\\\\0 & \\cos{\\left(\\gamma \\right)}\\\\0 & \\sin{\\left(\\delta \\right)} \\cos{\\left(\\gamma \\right)}\\\\- \\sin{\\left(\\delta \\right)} \\cos{\\left(\\gamma \\right)} & 0\\\\- \\cos{\\left(\\delta \\right)} & - \\sin{\\left(\\delta \\right)} \\sin{\\left(\\gamma \\right)}\\end{matrix}\\right]$"
      ],
      "text/plain": [
       "⎡      0             sin(γ)    ⎤\n",
       "⎢                              ⎥\n",
       "⎢   -sin(γ)            0       ⎥\n",
       "⎢                              ⎥\n",
       "⎢      0             cos(γ)    ⎥\n",
       "⎢                              ⎥\n",
       "⎢      0         sin(δ)⋅cos(γ) ⎥\n",
       "⎢                              ⎥\n",
       "⎢-sin(δ)⋅cos(γ)        0       ⎥\n",
       "⎢                              ⎥\n",
       "⎣   -cos(δ)      -sin(δ)⋅sin(γ)⎦"
      ]
     },
     "metadata": {},
     "output_type": "display_data"
    },
    {
     "data": {
      "text/markdown": [
       "R_xi_tthp ="
      ],
      "text/plain": [
       "<IPython.core.display.Markdown object>"
      ]
     },
     "metadata": {},
     "output_type": "display_data"
    },
    {
     "data": {
      "text/latex": [
       "$\\displaystyle \\left[\\begin{matrix}\\cos{\\left(\\xi \\right)} & \\sin{\\left(\\xi \\right)} \\cos{\\left(tthp \\right)} & \\sin{\\left(tthp \\right)} \\sin{\\left(\\xi \\right)}\\\\- \\sin{\\left(\\xi \\right)} & \\cos{\\left(tthp \\right)} \\cos{\\left(\\xi \\right)} & \\sin{\\left(tthp \\right)} \\cos{\\left(\\xi \\right)}\\\\0 & - \\sin{\\left(tthp \\right)} & \\cos{\\left(tthp \\right)}\\end{matrix}\\right]$"
      ],
      "text/plain": [
       "⎡cos(ξ)   sin(ξ)⋅cos(tthp)  sin(tthp)⋅sin(ξ)⎤\n",
       "⎢                                           ⎥\n",
       "⎢-sin(ξ)  cos(tthp)⋅cos(ξ)  sin(tthp)⋅cos(ξ)⎥\n",
       "⎢                                           ⎥\n",
       "⎣   0        -sin(tthp)        cos(tthp)    ⎦"
      ]
     },
     "metadata": {},
     "output_type": "display_data"
    },
    {
     "data": {
      "text/markdown": [
       "$x1, y1, z1 =$"
      ],
      "text/plain": [
       "<IPython.core.display.Markdown object>"
      ]
     },
     "metadata": {},
     "output_type": "display_data"
    },
    {
     "data": {
      "text/latex": [
       "$\\displaystyle \\left[\\begin{matrix}\\cos{\\left(\\xi \\right)}\\\\- \\sin{\\left(\\xi \\right)}\\\\0\\end{matrix}\\right]$"
      ],
      "text/plain": [
       "⎡cos(ξ) ⎤\n",
       "⎢       ⎥\n",
       "⎢-sin(ξ)⎥\n",
       "⎢       ⎥\n",
       "⎣   0   ⎦"
      ]
     },
     "metadata": {},
     "output_type": "display_data"
    },
    {
     "data": {
      "text/latex": [
       "$\\displaystyle \\left[\\begin{matrix}\\sin{\\left(\\xi \\right)} \\cos{\\left(tthp \\right)}\\\\\\cos{\\left(tthp \\right)} \\cos{\\left(\\xi \\right)}\\\\- \\sin{\\left(tthp \\right)}\\end{matrix}\\right]$"
      ],
      "text/plain": [
       "⎡sin(ξ)⋅cos(tthp)⎤\n",
       "⎢                ⎥\n",
       "⎢cos(tthp)⋅cos(ξ)⎥\n",
       "⎢                ⎥\n",
       "⎣   -sin(tthp)   ⎦"
      ]
     },
     "metadata": {},
     "output_type": "display_data"
    },
    {
     "data": {
      "text/latex": [
       "$\\displaystyle \\left[\\begin{matrix}\\sin{\\left(tthp \\right)} \\sin{\\left(\\xi \\right)}\\\\\\sin{\\left(tthp \\right)} \\cos{\\left(\\xi \\right)}\\\\\\cos{\\left(tthp \\right)}\\end{matrix}\\right]$"
      ],
      "text/plain": [
       "⎡sin(tthp)⋅sin(ξ)⎤\n",
       "⎢                ⎥\n",
       "⎢sin(tthp)⋅cos(ξ)⎥\n",
       "⎢                ⎥\n",
       "⎣   cos(tthp)    ⎦"
      ]
     },
     "metadata": {},
     "output_type": "display_data"
    },
    {
     "data": {
      "text/markdown": [
       "$J_A =$"
      ],
      "text/plain": [
       "<IPython.core.display.Markdown object>"
      ]
     },
     "metadata": {},
     "output_type": "display_data"
    },
    {
     "data": {
      "text/latex": [
       "$\\displaystyle \\left[\\begin{matrix}\\cos{\\left(\\xi \\right)} & - \\sin{\\left(\\xi \\right)}\\\\\\sin{\\left(\\xi \\right)} \\cos{\\left(tthp \\right)} & \\cos{\\left(tthp \\right)} \\cos{\\left(\\xi \\right)}\\end{matrix}\\right]$"
      ],
      "text/plain": [
       "⎡     cos(ξ)           -sin(ξ)     ⎤\n",
       "⎢                                  ⎥\n",
       "⎣sin(ξ)⋅cos(tthp)  cos(tthp)⋅cos(ξ)⎦"
      ]
     },
     "metadata": {},
     "output_type": "display_data"
    },
    {
     "data": {
      "text/markdown": [
       "$\\mu = $"
      ],
      "text/plain": [
       "<IPython.core.display.Markdown object>"
      ]
     },
     "metadata": {},
     "output_type": "display_data"
    },
    {
     "data": {
      "text/latex": [
       "$\\displaystyle \\left[\\begin{matrix}\\frac{P_{1}}{2} + \\frac{1}{2} & \\frac{P_{2}}{2} - \\frac{i P_{3}}{2}\\\\\\frac{P_{2}}{2} + \\frac{i P_{3}}{2} & \\frac{1}{2} - \\frac{P_{1}}{2}\\end{matrix}\\right]$"
      ],
      "text/plain": [
       "⎡ P₁   1    P₂   ⅈ⋅P₃⎤\n",
       "⎢ ── + ─    ── - ────⎥\n",
       "⎢ 2    2    2     2  ⎥\n",
       "⎢                    ⎥\n",
       "⎢P₂   ⅈ⋅P₃   1   P₁  ⎥\n",
       "⎢── + ────   ─ - ──  ⎥\n",
       "⎣2     2     2   2   ⎦"
      ]
     },
     "metadata": {},
     "output_type": "display_data"
    }
   ],
   "source": [
    "#pip install sympy\n",
    "from IPython.display import display, Markdown\n",
    "\n",
    "import sympy as sp\n",
    "from sympy.physics.secondquant import Dagger\n",
    "sp.init_printing()\n",
    "\n",
    "gamma, delta, tthp, xi = sp.symbols(['gamma', 'delta', 'tthp', 'xi'], real=True)\n",
    "x, y, z, m, m1, m2, m3 = sp.symbols(['x', 'y', 'z', 'm', 'm1', 'm2', 'm3'], real=True)\n",
    "mu, P1, P2, P3 = sp.symbols(['mu', 'P1', 'P2', 'P3'], real=True)\n",
    "\n",
    "R_xi = sp.Matrix([\n",
    "[sp.cos(xi), sp.sin(xi), 0],    \n",
    "[-sp.sin(xi), sp.cos(xi), 0],    \n",
    "[0, 0, 1]    \n",
    "])\n",
    "\n",
    "R_tthp = sp.Matrix([\n",
    "[1, 0, 0],    \n",
    "[0, sp.cos(tthp), sp.sin(tthp)],    \n",
    "[0, -sp.sin(tthp), sp.cos(tthp)]    \n",
    "])\n",
    "\n",
    "R_gamma = sp.Matrix([\n",
    "[sp.cos(gamma), 0, sp.sin(gamma)],    \n",
    "[0, 1, 0],    \n",
    "[-sp.sin(gamma), 0, sp.cos(gamma)]    \n",
    "])\n",
    "\n",
    "R_delta = sp.Matrix([\n",
    "[1, 0, 0],    \n",
    "[0, sp.cos(delta), sp.sin(delta)],    \n",
    "[0, -sp.sin(delta), sp.cos(delta)]    \n",
    "])\n",
    "\n",
    "display(Markdown('$R_\\gamma = $'), R_gamma,  Markdown('$R_\\delta = $'), R_delta, \n",
    "        Markdown(r'$R_\\xi = $'), R_xi, Markdown('$R_{tthp} = $'), R_tthp)\n",
    "\n",
    "x, y, z = sp.Matrix([1, 0, 0]), sp.Matrix([0, 1, 0]), sp.Matrix([0, 0, 1])\n",
    "\n",
    "R_gamma_delta = sp.simplify(R_gamma * R_delta)\n",
    "display(Markdown('$R_{\\gamma\\delta} = $'), R_gamma_delta)\n",
    "x1, y1, z1 = R_gamma_delta * x, R_gamma_delta * y, R_gamma_delta * z\n",
    "display(Markdown('$x1, y1, z1 =$'), x1, y1, z1)\n",
    "\n",
    "\n",
    "J_c = sp.Matrix([\n",
    "[x1.dot(x), x1.dot(y)],    \n",
    "[y1.dot(x), y1.dot(y)]\n",
    "])\n",
    "\n",
    "display(Markdown('$J_c = $'), J_c)\n",
    "\n",
    "# calculate U1, U2, U3 in lab frame\n",
    "k0 = z\n",
    "k1 = R_gamma_delta * z\n",
    "U1 = (k0 + k1)/sp.sqrt((k0 + k1).dot(k0 + k1))\n",
    "U3 = (k0 - k1)/sp.sqrt((k0 - k1).dot(k0 - k1))\n",
    "U2 = U3.cross(U1)\n",
    "\n",
    "display('U1, U2, U3: ', U1, U2, U3)\n",
    "\n",
    "\n",
    "Jmag = sp.Matrix([\n",
    "[x1.cross(x), x1.cross(y)],    \n",
    "[y1.cross(x), y1.cross(y)]\n",
    "])\n",
    "display(Markdown('E1E1 magnetic scattering matrix to be dotted with m'), Jmag)\n",
    "\n",
    "\n",
    "R_xi_tthp = sp.simplify(R_xi * R_tthp)\n",
    "display(Markdown(r'R_xi_tthp ='), R_xi_tthp)\n",
    "\n",
    "x1, y1, z1 = R_xi_tthp * x, R_xi_tthp * y, R_xi_tthp * z\n",
    "display(Markdown('$x1, y1, z1 =$'), x1, y1, z1)\n",
    "\n",
    "J_A = sp.Matrix([\n",
    "[x1.dot(x), x1.dot(y)],    \n",
    "[y1.dot(x), y1.dot(y)]    \n",
    "])\n",
    "\n",
    "display(Markdown('$J_A =$'), J_A)\n",
    "\n",
    "#display(Markdown('Final beam cordinates:'))\n",
    "#x2, y2, z2 = R_xi_tthp * R_gamma_delta * x, R_xi_tthp * R_gamma_delta * y, R_xi_tthp * R_gamma_delta * z\n",
    "#display(Markdown('$x1, y1, z1 =$'), x2, y2, z2)\n",
    "\n",
    "# Calculate I = Tr(JA Js mu Js+ JA+) for charge scattering\n",
    "\n",
    "mu = sp.Rational(1/2) * sp.Matrix([\n",
    "[1 + P1, P2 - sp.I * P3],    \n",
    "[P2 + sp.I * P3, 1 - P1]    \n",
    "])\n",
    "\n",
    "display(Markdown('$\\mu = $'), mu)\n",
    "\n",
    "I = sp.trace(J_A * J_c * mu * sp.conjugate(J_c).T * sp.conjugate(J_A).T)\n",
    "#print(I)\n",
    "#sp.simplify(I) # if it doesn't take too long\n"
   ]
  },
  {
   "cell_type": "markdown",
   "id": "cb23f814",
   "metadata": {},
   "source": [
    "# Numerical (NumPy) calculations\n",
    "\n",
    "Here, $\\delta, \\xi, tthp$ are negative rotations.\n",
    "\n",
    "$\\gamma$ is a positive rotation."
   ]
  },
  {
   "cell_type": "code",
   "execution_count": 50,
   "id": "e34a55f4",
   "metadata": {},
   "outputs": [
    {
     "data": {
      "image/png": "[encoded data removed]",
      "text/plain": [
       "<Figure size 432x288 with 1 Axes>"
      ]
     },
     "metadata": {
      "needs_background": "light"
     },
     "output_type": "display_data"
    }
   ],
   "source": [
    "import numpy as np\n",
    "import matplotlib.pyplot as plt\n",
    "\n",
    "gamma = 0\n",
    "delta = 28.9 * np.pi/180\n",
    "#xi = 0 * np.pi/180\n",
    "tthp = -0.082 * np.pi/180\n",
    "P1, P2, P3 = 1, 0, 0\n",
    "m1, m2, m3 = 0, 0, 1\n",
    "\n",
    "Rgammadelta = np.array([[np.cos(gamma), -np.sin(delta)*np.sin(gamma), np.sin(gamma)*np.cos(delta)], \n",
    "                        [0, np.cos(delta), np.sin(delta)], \n",
    "                        [-np.sin(gamma), -np.sin(delta)*np.cos(gamma), np.cos(delta)*np.cos(gamma)]])\n",
    "\n",
    "x, y, z = np.array([1, 0, 0]), np.array([0, 1, 0]), np.array([0, 0, 1])\n",
    "\n",
    "\n",
    "U3 = (z - Rgammadelta.dot(z)) / np.linalg.norm(z - Rgammadelta.dot(z))\n",
    "U1 = (z + Rgammadelta.dot(z)) / np.linalg.norm(z + Rgammadelta.dot(z))\n",
    "U2 = np.cross(U3, U1)\n",
    "m = m1*U1 + m2*U2 + m3*U3\n",
    "\n",
    "JA = np.array([[np.cos(xi), -np.sin(xi)], [np.sin(xi)*np.cos(tthp), np.cos(tthp)*np.cos(xi)]])\n",
    "\n",
    "JC = np.array([[np.cos(gamma), 0], [-np.sin(delta)*np.sin(gamma), np.cos(delta)]])\n",
    "\n",
    "JM =  np.array([\n",
    "    [-m[1] * np.sin(gamma), m[0] * np.sin(gamma) + m[2] * np.cos(gamma)],\n",
    "    [-m[1] * np.sin(delta)*np.cos(gamma) - m[2] * np.cos(delta), m[0] * np.sin(delta)*np.cos(gamma) - m[2] * np.sin(delta)*np.sin(gamma)]])\n",
    "\n",
    "mu = np.array([[P1/2 + 1/2, P2/2 - 1J*P3/2], [P2/2 + 1J*P3/2, 1/2 - P1/2]])\n",
    "\n",
    "J = JC # scattering type\n",
    "\n",
    "Iscatt = []\n",
    "xideg = np.arange(0, 360, 5)\n",
    "#xideg = np.arange(0, 91, 45)\n",
    "xideg = [45]\n",
    "\n",
    "for xid in xideg:\n",
    "    xi = xid * np.pi/180\n",
    "    JA = np.array([[np.cos(xi), -np.sin(xi)], [np.sin(xi)*np.cos(tthp), np.cos(tthp)*np.cos(xi)]])\n",
    "    Iscatt += [np.trace(np.matmul(JA, np.matmul(J, np.matmul(mu, np.matmul(np.conjugate(J).T, np.conjugate(JA).T)))))]\n",
    "Iscatt = np.array(Iscatt)\n",
    "\n",
    "plt.figure()\n",
    "plt.plot(xideg, Iscatt); plt.grid(1)\n"
   ]
  },
  {
   "cell_type": "code",
   "execution_count": null,
   "id": "af7f4875",
   "metadata": {},
   "outputs": [],
   "source": [
    "# test matrices - diffrerent from GDA/dnp\n",
    "# seems to be a bug in dnp ..."
   ]
  },
  {
   "cell_type": "code",
   "execution_count": 51,
   "id": "60b63897",
   "metadata": {},
   "outputs": [
    {
     "name": "stdout",
     "output_type": "stream",
     "text": [
      "[0.99999898+0.j]\n",
      "[[ 0.70710678 -0.70710678]\n",
      " [ 0.70710606  0.70710606]]\n",
      "0.7071067811865476 -0.7071067811865475 0.7071060570218118 0.707106057021812\n",
      "[[ 1.          0.        ]\n",
      " [-0.          0.87546453]]\n",
      "[[1.+0.j 0.+0.j]\n",
      " [0.+0.j 0.+0.j]]\n"
     ]
    },
    {
     "data": {
      "text/plain": [
       "array([[0.5       +0.j, 0.49999949+0.j],\n",
       "       [0.49999949+0.j, 0.49999898+0.j]])"
      ]
     },
     "execution_count": 51,
     "metadata": {},
     "output_type": "execute_result"
    }
   ],
   "source": [
    "print(Iscatt)\n",
    "print(JA)\n",
    "print(JA[0,0], JA[0,1], JA[1,0], JA[1,1])\n",
    "print(JC)\n",
    "print(mu)\n",
    "np.array([[np.cos(xi), -np.sin(xi)], [np.sin(xi)*np.cos(tthp), np.cos(tthp)*np.cos(xi)]])\n",
    "np.matmul(JA, np.matmul(J, np.matmul(mu, np.matmul(np.conjugate(J).T, np.conjugate(JA).T))))"
   ]
  },
  {
   "cell_type": "code",
   "execution_count": 61,
   "id": "9299cf68",
   "metadata": {},
   "outputs": [
    {
     "data": {
      "text/plain": [
       "array([[1.+0.j, 0.+0.j],\n",
       "       [0.+0.j, 0.+0.j]])"
      ]
     },
     "execution_count": 61,
     "metadata": {},
     "output_type": "execute_result"
    }
   ],
   "source": [
    "np.trace(np.matmul(JA, JC))\n",
    "np.conjugate(JC)\n",
    "JC\n",
    "np.matmul(JC, np.matmul(mu, np.conjugate(JC).T))"
   ]
  },
  {
   "cell_type": "code",
   "execution_count": 66,
   "id": "3e86d425",
   "metadata": {},
   "outputs": [
    {
     "name": "stdout",
     "output_type": "stream",
     "text": [
      "[[1.+0.j 0.+0.j]\n",
      " [0.+0.j 0.+0.j]]\n",
      "[[1.+0.j 0.+0.j]\n",
      " [0.+0.j 0.+0.j]]\n",
      "[[0.5       +0.j 0.49999949+0.j]\n",
      " [0.49999949+0.j 0.49999898+0.j]]\n"
     ]
    }
   ],
   "source": [
    "# no conjugate - real\n",
    "print(mu)\n",
    "jc_mu_jc = np.matmul(JC, np.matmul(mu, JC.T))\n",
    "print(jc_mu_jc)\n",
    "ja_jc_mu_jc_ja = np.matmul(JA, np.matmul(jc_mu_jc, np.matmul(mu, JA.T)))\n",
    "print(ja_jc_mu_jc_ja)"
   ]
  },
  {
   "cell_type": "code",
   "execution_count": 67,
   "id": "d27cff5e",
   "metadata": {},
   "outputs": [
    {
     "data": {
      "text/plain": [
       "array([[ 0.70710678, -0.70710678],\n",
       "       [ 0.70710606,  0.70710606]])"
      ]
     },
     "execution_count": 67,
     "metadata": {},
     "output_type": "execute_result"
    }
   ],
   "source": [
    "JA"
   ]
  },
  {
   "cell_type": "markdown",
   "id": "96bfc834",
   "metadata": {},
   "source": [
    "# Delete from here after copying"
   ]
  },
  {
   "cell_type": "raw",
   "id": "9db8b218",
   "metadata": {},
   "source": [
    "class FlipperClass(ScannableMotionBase):\n",
    "\t'''input: [energy,offset on ppth relative to centre,number of flipping cycles,number of samples per cycle]'''\n",
    "\n",
    "\tdef __init__(self,name):\n",
    "\t\tself.setName(name)\n",
    "\t\tself.setLevel(10)\n",
    "\t\tself.setInputNames(['energy','offset','ncycles','ncounts'])\n",
    "\t\tself.setExtraNames(['total','diff','ratio'])\n",
    "\t\tself.setOutputFormat(['%.3f','%.4f','%.0f','%.1f','%.1f','%.1f','%.4f'])\n",
    "\t\tself.energy = 0\n",
    "\t\tself._offset = 0\n",
    "\t\tself.ncycles = 0\n",
    "\t\tself.ncounts = 0\n",
    "\n",
    "\tdef getPosition(self):\n",
    "\t\treturn [self.energy,self._offset,self.ncycles,self.ncounts,self.tot,self.diff,self.ratio]\n",
    "\n",
    "\tdef isBusy(self):\n",
    "\t\treturn 0\n",
    "\n",
    "\tdef asynchronousMoveTo(self,newpos):\n",
    "\t\tself.energy = newpos[0]\n",
    "\t\tself._offset=newpos[1]\n",
    "\t\tself.ncycles=newpos[2]\n",
    "\t\tself.ncounts=newpos[3]\n",
    "\t\tcup = 0\n",
    "\t\tcdown = 0\n",
    "\t\tfor i in range(int(self.ncycles)):\n",
    "\t\t\tpp220([self.energy,self._offset])\n",
    "\t\t\tfor j in range(int(self.ncounts)):\n",
    "\t\t\t\tct5(0.5)\n",
    "\t\t\t\tcup+=ct5()/adc4()\n",
    "\t\t\tpp220([self.energy,-self._offset])\n",
    "\t\t\tfor j in range(int(self.ncounts)):\n",
    "\t\t\t\tct5(0.5)\n",
    "\t\t\t\tcdown+=ct5()/adc4()\n",
    "\t\tself.tot = cup+cdown\n",
    "\t\tself.diff = cup-cdown\n",
    "\t\tself.ratio = self.diff/self.tot\n",
    "\t\t\n",
    "class FlipperClass2(ScannableMotionBase):\n",
    "\t'''input: [energy,offset on ppth relative to centre,number of flipping cycles,number of samples per cycle]'''\n",
    "\n",
    "\tdef __init__(self,name):\n",
    "\t\tself.setName(name)\n",
    "\t\tself.setLevel(10)\n",
    "\t\tself.setInputNames(['energy','offset','ncycles','ncounts'])\n",
    "\t\tself.setExtraNames(['total','diff','ratio','totalref','diffref','ratioref'])\n",
    "\t\tself.setOutputFormat(['%.3f','%.4f','%.0f','%.1f','%.1f','%.1f','%.4f','%.1f','%.1f','%.4f'])\n",
    "\t\tself.energy = 0\n",
    "\t\tself._offset = 0\n",
    "\t\tself.ncycles = 0\n",
    "\t\tself.ncounts = 0\n",
    "\n",
    "\tdef getPosition(self):\n",
    "\t\treturn [self.energy,self._offset,self.ncycles,self.ncounts,self.tot,self.diff,self.ratio,self.tot_ref,self.diff_ref,self.ratioref]\n",
    "\n",
    "\tdef isBusy(self):\n",
    "\t\treturn 0\n",
    "\n",
    "\tdef asynchronousMoveTo(self,newpos):\n",
    "\t\tself.energy = newpos[0]\n",
    "\t\tself._offset=newpos[1]\n",
    "\t\tself.ncycles=newpos[2]\n",
    "\t\tself.ncounts=newpos[3]\n",
    "\t\tcup = 0\n",
    "\t\tcdown = 0\n",
    "\t\tctrefup = 0\n",
    "\t\tctrefdown = 0\n",
    "\t\tfor i in range(int(self.ncycles)):\n",
    "\t\t\tpp220([self.energy,self._offset])\n",
    "\t\t\tfor j in range(int(self.ncounts)):\n",
    "\t\t\t\tct5(0.5)\n",
    "\t\t\t\tcup+=ct5()/adc4()\n",
    "\t\t\t\tctrefup+=ct3()/adc4()\n",
    "\t\t\tpp220([self.energy,-self._offset])\n",
    "\t\t\tfor j in range(int(self.ncounts)):\n",
    "\t\t\t\tct5(0.5)\n",
    "\t\t\t\tcdown+=ct5()/adc4()\n",
    "\t\t\t\tctrefdown+=ct3()/adc4()\n",
    "\t\tself.tot = cup+cdown\n",
    "\t\tself.diff = cup-cdown\n",
    "\t\tself.tot_ref = ctrefup+ctrefdown\n",
    "\t\tself.diff_ref= ctrefup-ctrefdown\n",
    "\t\tself.ratio = self.diff/self.tot\n",
    "\t\tself.ratioref = self.diff_ref/self.tot_ref\n",
    "\n",
    "class FlipperClass3(ScannableMotionBase):\n",
    "\t'''input: [energy,offset on ppth relative to centre,number of flipping cycles,number of samples per cycle]'''\n",
    "\n",
    "\tdef __init__(self,name):\n",
    "\t\tself.setName(name)\n",
    "\t\tself.setLevel(10)\n",
    "\t\tself.setInputNames(['energy','offset','ncycles','ncounts'])\n",
    "\t\tself.setExtraNames(['total','diff','ratio'])\n",
    "\t\tself.setOutputFormat(['%.3f','%.4f','%.0f','%.1f','%.1f','%.1f','%.4f'])\n",
    "\t\tself.energy = 0\n",
    "\t\tself._offset = 0\n",
    "\t\tself.ncycles = 0\n",
    "\t\tself.ncounts = 0\n",
    "\n",
    "\tdef getPosition(self):\n",
    "\t\treturn [self.energy,self._offset,self.ncycles,self.ncounts,self.tot,self.diff,self.ratio]\n",
    "\n",
    "\tdef isBusy(self):\n",
    "\t\treturn 0\n",
    "\n",
    "\tdef asynchronousMoveTo(self,newpos):\n",
    "\t\tself.energy = newpos[0]\n",
    "\t\tself._offset=newpos[1]\n",
    "\t\tself.ncycles=newpos[2]\n",
    "\t\tself.ncounts=newpos[3]\n",
    "\t\tcup = 0\n",
    "\t\tcdown = 0\n",
    "\t\tfor i in range(int(self.ncycles)):\n",
    "\t\t\tpp111([self.energy,self._offset])\n",
    "\t\t\tfor j in range(int(self.ncounts)):\n",
    "\t\t\t\tct3(0.5)\n",
    "\t\t\t\tcup+=ct3()\n",
    "\t\t\tpp111([self.energy,-self._offset])\n",
    "\t\t\tfor j in range(int(self.ncounts)):\n",
    "\t\t\t\tct3(0.5)\n",
    "\t\t\t\tcdown+=ct3()\n",
    "\t\tself.tot = cup+cdown\n",
    "\t\tself.diff = cup-cdown\n",
    "\t\tself.ratio = self.diff/self.tot\n",
    "\t\t\n",
    "class FlipperClass4(ScannableMotionBase):\n",
    "\t'''\n",
    "\tdev=FlipperClass4(name,ppdevice)\n",
    "\tuses p100k and ic1 with specified pp device\n",
    "\tinput: [energy,offset on ppth relative to centre,number of flipping cycles,number of samples per cycle\n",
    "\tin: 'energy','offset','ncycles','ncounts'\n",
    "\textra: 'total','diff','ratio','totalref','diffref','ratioref'\n",
    "\t'''\n",
    "\n",
    "\tdef __init__(self,name,ppdev):\n",
    "\t\tself.setName(name)\n",
    "\t\tself.ppdev=ppdev\n",
    "\t\tself.setLevel(10)\n",
    "\t\tself.setInputNames(['energy','offset','ncycles','ncounts'])\n",
    "\t\tself.setExtraNames(['total','diff','ratio','totalref','diffref','ratioref'])\n",
    "\t\tself.setOutputFormat(['%.3f','%.4f','%.0f','%.1f','%.1f','%.1f','%.4f','%.1f','%.1f','%.4f'])\n",
    "\t\tself.energy = 0\n",
    "\t\tself._offset = 0\n",
    "\t\tself.ncycles = 0\n",
    "\t\tself.ncounts = 0\n",
    "\n",
    "\tdef getPosition(self):\n",
    "\t\treturn [self.energy,self._offset,self.ncycles,self.ncounts,self.tot,self.diff,self.ratio,self.tot_ref,self.diff_ref,self.ratioref]\n",
    "\n",
    "\tdef isBusy(self):\n",
    "\t\treturn 0\n",
    "\n",
    "\tdef asynchronousMoveTo(self,newpos):\n",
    "\t\tself.energy = newpos[0]\n",
    "\t\tself._offset=newpos[1]\n",
    "\t\tself.ncycles=newpos[2]\n",
    "\t\tself.ncounts=newpos[3]\n",
    "\t\tcup = 0\n",
    "\t\tcdown = 0\n",
    "\t\tctrefup = 0\n",
    "\t\tctrefdown = 0\n",
    "\t\tfor i in range(int(self.ncycles)):\n",
    "\t\t\tself.ppdev([self.energy,self._offset]); w(.5);\n",
    "\t\t\tfor j in range(int(self.ncounts)):\n",
    "\t\t\t\tpil(1); \n",
    "\t\t\t\tic1; \n",
    "\t\t\t\tpilout=pil(); cts=pilout[2];\n",
    "\t\t\t\tmon=ic1()\t\t\t\t\n",
    "\t\t\t\tcup+=cts\n",
    "\t\t\t\tctrefup+=cts/mon\n",
    "\t\t\tself.ppdev([self.energy,-self._offset]); w(.5);\n",
    "\t\t\tfor j in range(int(self.ncounts)):\n",
    "\t\t\t\tpil(1); \n",
    "\t\t\t\tic1; \n",
    "\t\t\t\tpilout=pil(); cts=pilout[2];\n",
    "\t\t\t\tmon=ic1()\t\t\t\t\n",
    "\t\t\t\tcdown+=cts\n",
    "\t\t\t\tctrefdown+=cts/mon\n",
    "\n",
    "\t\tself.tot = cup+cdown\n",
    "\t\tself.diff = cup-cdown\n",
    "\t\tself.tot_ref = ctrefup+ctrefdown\n",
    "\t\tself.diff_ref= ctrefup-ctrefdown\n",
    "\t\ttry:\t\n",
    "\t\t\tself.ratio = self.diff/self.tot\n",
    "\t\texcept:\n",
    "\t\t\tself.ratio = 0\n",
    "\t\ttry: \n",
    "\t\t\tself.ratioref = self.diff_ref/self.tot_ref\n",
    "\t\texcept:\n",
    "\t\t\tself.ratioref =0\n",
    "\n",
    "class FlipperClass4a(ScannableMotionBase):\n",
    "\t'''\n",
    "\tdev=FlipperClass4(name,ppdevice)\n",
    "\tuses p100k and ic1 with specified pp device\n",
    "\tinput: [energy,offset on ppth relative to centre,number of flipping cycles,number of samples per cycle\n",
    "\tin: 'energy','offsetp','offsetn','ncycles','ncounts'\n",
    "\textra: 'total','diff','ratio','totalref','diffref','ratioref'\n",
    "\t'''\n",
    "\n",
    "\tdef __init__(self,name,ppdev):\n",
    "\t\tself.setName(name)\n",
    "\t\tself.ppdev=ppdev\n",
    "\t\tself.setLevel(10)\n",
    "\t\tself.setInputNames(['energy','offsetp','offsetn','ncycles','ncounts'])\n",
    "\t\tself.setExtraNames(['total','diff','ratio','totalref','diffref','ratioref'])\n",
    "\t\tself.setOutputFormat(['%.3f','%.4f','%.4f','%.0f','%.1f','%.1f','%.1f','%.4f','%.1f','%.1f','%.4f'])\n",
    "\t\tself.energy = 0\n",
    "\t\tself._offsetp = 0\n",
    "\t\tself._offsetn = 0\n",
    "\t\tself.ncycles = 0\n",
    "\t\tself.ncounts = 0\n",
    "\n",
    "\tdef getPosition(self):\n",
    "\t\treturn [self.energy,self._offsetp,self._offsetn,self.ncycles,self.ncounts,self.tot,self.diff,self.ratio,self.tot_ref,self.diff_ref,self.ratioref]\n",
    "\n",
    "\tdef isBusy(self):\n",
    "\t\treturn 0\n",
    "\n",
    "\tdef asynchronousMoveTo(self,newpos):\n",
    "\t\tself.energy = newpos[0]\n",
    "\t\tself._offsetp=newpos[1]\n",
    "\t\tself._offsetn=newpos[2]\n",
    "\t\tself.ncycles=newpos[3]\n",
    "\t\tself.ncounts=newpos[4]\n",
    "\t\tcup = 0\n",
    "\t\tcdown = 0\n",
    "\t\tctrefup = 0\n",
    "\t\tctrefdown = 0\n",
    "\t\tfor i in range(int(self.ncycles)):\n",
    "\t\t\tself.ppdev([self.energy,self._offsetp]); w(.5);\n",
    "\t\t\tfor j in range(int(self.ncounts)):\n",
    "\t\t\t\tpil(1); \n",
    "\t\t\t\tic1; \n",
    "\t\t\t\tpilout=pil(); cts=pilout[2];\n",
    "\t\t\t\tmon=ic1()\t\t\t\t\n",
    "\t\t\t\tcup+=cts\n",
    "\t\t\t\tctrefup+=cts/mon\n",
    "\t\t\tself.ppdev([self.energy,self._offsetn]); w(.5);\n",
    "\t\t\tfor j in range(int(self.ncounts)):\n",
    "\t\t\t\tpil(1); \n",
    "\t\t\t\tic1; \n",
    "\t\t\t\tpilout=pil(); cts=pilout[2];\n",
    "\t\t\t\tmon=ic1()\t\t\t\t\n",
    "\t\t\t\tcdown+=cts\n",
    "\t\t\t\tctrefdown+=cts/mon\n",
    "\n",
    "\t\tself.tot = cup+cdown\n",
    "\t\tself.diff = cup-cdown\n",
    "\t\tself.tot_ref = ctrefup+ctrefdown\n",
    "\t\tself.diff_ref= ctrefup-ctrefdown\n",
    "\t\ttry:\t\n",
    "\t\t\tself.ratio = self.diff/self.tot\n",
    "\t\texcept:\n",
    "\t\t\tself.ratio = 0\n",
    "\t\ttry: \n",
    "\t\t\tself.ratioref = self.diff_ref/self.tot_ref\n",
    "\t\texcept:\n",
    "\t\t\tself.ratioref =0\n"
   ]
  },
  {
   "cell_type": "code",
   "execution_count": 3,
   "id": "fa609a38",
   "metadata": {},
   "outputs": [
    {
     "ename": "TabError",
     "evalue": "inconsistent use of tabs and spaces in indentation (<ipython-input-3-eec4b3e96bf0>, line 45)",
     "output_type": "error",
     "traceback": [
      "\u001b[0;36m  File \u001b[0;32m\"<ipython-input-3-eec4b3e96bf0>\"\u001b[0;36m, line \u001b[0;32m45\u001b[0m\n\u001b[0;31m    xi_deg = stokes()[0]\u001b[0m\n\u001b[0m                        ^\u001b[0m\n\u001b[0;31mTabError\u001b[0m\u001b[0;31m:\u001b[0m inconsistent use of tabs and spaces in indentation\n"
     ]
    }
   ],
   "source": [
    "\n",
    "# dummy scannable base class\n",
    "class ScannableMotionBase():\n",
    "    def setName(self, name):\n",
    "        self.name = name\n",
    "    def getName(self):\n",
    "        return self.name\n",
    "    def setLevel(self, level):\n",
    "        self.level = level\n",
    "    def setInputNames(self, inputNames):\n",
    "        self.inputNames = inputNames\n",
    "    def setExtraNames(self, extraNames):\n",
    "        self.extraNames = extraNames\n",
    "    def setOutputFormat(self, outputFormat):\n",
    "        self.outputFormat = outputFormat\n",
    "    def asynchronousMoveTo(self, newpos):\n",
    "        self.pos = newpos\n",
    "    def getPosition(self):\n",
    "        return self.pos\n",
    "        \n",
    "class simple_scannable(ScannableMotionBase):\n",
    "    def __init__(self,name):\n",
    "        self.setName(name)\n",
    "\n",
    "tthp = simple_scannable('tthp')\n",
    "tthp.asynchronousMoveTo(90)\n",
    "tthp.getPosition()\n",
    "\n",
    "stokes = simple_scannable('stokes')\n",
    "stokes.asynchronousMoveTo(0)\n",
    "    \n",
    "class polarizer(ScannableMotionBase):\n",
    "\t''' some text '''\n",
    "\n",
    "\tdef __init__(self,name):\n",
    "\t\tself.setName(name)\n",
    "\t\tself.setLevel(10)\n",
    "\t\tself.setInputNames([])\n",
    "\t\tself.setExtraNames(['J00', 'J01', 'J10', 'J11', 'Icharge'])\n",
    "\t\tself.setOutputFormat(['%.4f','%.4f','%.4f','%.4f','%.3f'])\n",
    "        \n",
    "\n",
    "\n",
    "\tdef getPosition(self):\n",
    "        # get motor positions\n",
    "        xi_deg = stokes()[0]\n",
    "        tthp_deg = 2 * thp()[0] #assume thp is correct; tthp may be offset\n",
    "        gamma_deg = gamma()[0]\n",
    "        delta_deg = delta()[0]\n",
    "        \n",
    "        P1, P2, P3 = 1, 0, 0\n",
    "        mu = dnp.array([[P1/2 + 1/2, P2/2 - 1J*P3/2], [P2/2 + 1J*P3/2, 1/2 - P1/2]])\n",
    "\n",
    "        \n",
    "        xi, tthp, gamma, delta = xi_deg * dnp.pi/180, tthp_deg * dnp.pi/180, gamma_deg * dnp.pi/180, delta_deg * dnp.pi/180\n",
    "        \n",
    "        # calculate J and Icharge\n",
    "        \n",
    "        self.JA = dnp.array([[dnp.cos(xi), -dnp.sin(xi)], [dnp.sin(xi)*np.cos(tthp), np.cos(tthp)*np.cos(xi)]])\n",
    "\n",
    "        self.JC = dnp.array([[dnp.cos(gamma), 0], [-dnp.sin(delta)*dnp.sin(gamma), dnp.cos(delta)]])\n",
    "        \n",
    "        # check dnp matmul and trace - should be OK\n",
    "        Idirect = dnp.trace(dnp.matmul(JA, dnp.matmul(J, dnp.matmul(mu, dnp.matmul(dnp.conjugate(J).T, dnp.conjugate(JA).T)))))\n",
    "        \n",
    "\t\treturn [self.JA[0,0], self.JA[1,0], self.JA[0,1], self.JA[1,1], self.Idirect]\n",
    "\n",
    "\tdef isBusy(self):\n",
    "\t\treturn 0     \n",
    "        \n",
    "        \n",
    "ss = polarizer('I16 PA')        \n",
    "\n",
    "\n",
    "# debug on I16\n",
    "# add charge scattering\n",
    "# add magnetic scattering\n",
    "        "
   ]
  },
  {
   "cell_type": "code",
   "execution_count": null,
   "id": "b28ca7aa",
   "metadata": {},
   "outputs": [],
   "source": [
    "ss.outputFormat"
   ]
  },
  {
   "cell_type": "code",
   "execution_count": null,
   "id": "33517721",
   "metadata": {},
   "outputs": [],
   "source": [
    "# I16 scannables:\n",
    "# /dls_sw/i16/software/python/userscripts/steve/scannables"
   ]
  }
 ],
 "metadata": {
  "kernelspec": {
   "display_name": "Python 3.8 [DLS Conda]",
   "language": "python",
   "name": "conda-env-DLS_Conda-python3.8-kernel.json"
  },
  "language_info": {
   "codemirror_mode": {
    "name": "ipython",
    "version": 3
   },
   "file_extension": ".py",
   "mimetype": "text/x-python",
   "name": "python",
   "nbconvert_exporter": "python",
   "pygments_lexer": "ipython3",
   "version": "3.8.0"
  }
 },
 "nbformat": 4,
 "nbformat_minor": 5
}
