{
 "cells": [
  {
   "cell_type": "code",
   "execution_count": 44,
   "id": "edf568b0",
   "metadata": {},
   "outputs": [],
   "source": [
    "\n",
    "\n",
    "from sympy import Function, Symbol\n",
    "x = Symbol('x')\n",
    "f = Function('f')\n",
    "g = Function('g')(x)\n",
    "\n",
    "h, k, l = symbols('h k l', integer = True)\n",
    "he = symbols('heven', even = True)\n"
   ]
  },
  {
   "cell_type": "code",
   "execution_count": 45,
   "id": "cfc1a04d",
   "metadata": {},
   "outputs": [
    {
     "data": {
      "text/plain": [
       "True"
      ]
     },
     "execution_count": 45,
     "metadata": {},
     "output_type": "execute_result"
    }
   ],
   "source": [
    "\n",
    "\n",
    "\n",
    "f_real = Function('f', real=True)\n",
    "f_real(x).is_real\n"
   ]
  },
  {
   "cell_type": "code",
   "execution_count": 46,
   "id": "c59347bc",
   "metadata": {},
   "outputs": [],
   "source": [
    "even = Function('even', even=True)"
   ]
  },
  {
   "cell_type": "code",
   "execution_count": 47,
   "id": "ba569b9b",
   "metadata": {},
   "outputs": [
    {
     "data": {
      "text/plain": [
       "True"
      ]
     },
     "execution_count": 47,
     "metadata": {},
     "output_type": "execute_result"
    }
   ],
   "source": [
    "even(3).is_even"
   ]
  },
  {
   "cell_type": "code",
   "execution_count": 48,
   "id": "c204e1aa",
   "metadata": {},
   "outputs": [
    {
     "data": {
      "text/plain": [
       "True"
      ]
     },
     "execution_count": 48,
     "metadata": {},
     "output_type": "execute_result"
    }
   ],
   "source": [
    "even(h).is_even"
   ]
  },
  {
   "cell_type": "code",
   "execution_count": 49,
   "id": "7fec96db",
   "metadata": {},
   "outputs": [],
   "source": [
    "R1 = even(h+k)"
   ]
  },
  {
   "cell_type": "code",
   "execution_count": 50,
   "id": "6706847d",
   "metadata": {},
   "outputs": [
    {
     "data": {
      "text/plain": [
       "True"
      ]
     },
     "execution_count": 50,
     "metadata": {},
     "output_type": "execute_result"
    }
   ],
   "source": [
    "even(h+k).is_even\n"
   ]
  },
  {
   "cell_type": "code",
   "execution_count": 51,
   "id": "ee1fd999",
   "metadata": {},
   "outputs": [
    {
     "data": {
      "text/plain": [
       "[]"
      ]
     },
     "execution_count": 51,
     "metadata": {},
     "output_type": "execute_result"
    }
   ],
   "source": [
    "\n",
    "solve((h + k)//2 == 0 and h == 0)\n"
   ]
  },
  {
   "cell_type": "code",
   "execution_count": 52,
   "id": "eb22664b",
   "metadata": {},
   "outputs": [],
   "source": [
    "k.is_even"
   ]
  },
  {
   "cell_type": "code",
   "execution_count": 53,
   "id": "ec40b0a4",
   "metadata": {},
   "outputs": [],
   "source": [
    "h = even(h)"
   ]
  },
  {
   "cell_type": "code",
   "execution_count": 54,
   "id": "8eca003d",
   "metadata": {},
   "outputs": [
    {
     "data": {
      "text/plain": [
       "True"
      ]
     },
     "execution_count": 54,
     "metadata": {},
     "output_type": "execute_result"
    }
   ],
   "source": [
    "h.is_even"
   ]
  },
  {
   "cell_type": "code",
   "execution_count": 55,
   "id": "5a14fc80",
   "metadata": {},
   "outputs": [
    {
     "data": {
      "text/latex": [
       "$\\displaystyle \\operatorname{even}{\\left(h \\right)}$"
      ],
      "text/plain": [
       "even(h)"
      ]
     },
     "execution_count": 55,
     "metadata": {},
     "output_type": "execute_result"
    }
   ],
   "source": [
    "h"
   ]
  },
  {
   "cell_type": "code",
   "execution_count": 57,
   "id": "0c807ba9",
   "metadata": {},
   "outputs": [
    {
     "data": {
      "text/plain": [
       "True"
      ]
     },
     "execution_count": 57,
     "metadata": {},
     "output_type": "execute_result"
    }
   ],
   "source": [
    "he.is_even"
   ]
  },
  {
   "cell_type": "code",
   "execution_count": 59,
   "id": "82c20e9f",
   "metadata": {},
   "outputs": [
    {
     "data": {
      "text/latex": [
       "$\\displaystyle \\operatorname{Q}_{\\text{even}}$"
      ],
      "text/plain": [
       "Q.even"
      ]
     },
     "execution_count": 59,
     "metadata": {},
     "output_type": "execute_result"
    }
   ],
   "source": [
    "Q.even"
   ]
  },
  {
   "cell_type": "code",
   "execution_count": null,
   "id": "d993d2d5",
   "metadata": {},
   "outputs": [],
   "source": []
  }
 ],
 "metadata": {
  "kernelspec": {
   "display_name": "Python 3.8 [DLS Conda]",
   "language": "python",
   "name": "conda-env-DLS_Conda-python3.8-kernel.json"
  },
  "language_info": {
   "codemirror_mode": {
    "name": "ipython",
    "version": 3
   },
   "file_extension": ".py",
   "mimetype": "text/x-python",
   "name": "python",
   "nbconvert_exporter": "python",
   "pygments_lexer": "ipython3",
   "version": "3.8.0"
  }
 },
 "nbformat": 4,
 "nbformat_minor": 5
}
