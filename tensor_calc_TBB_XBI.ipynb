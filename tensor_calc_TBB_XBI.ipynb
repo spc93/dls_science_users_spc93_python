{
 "cells": [
  {
   "cell_type": "raw",
   "metadata": {},
   "source": [
    "[[ 0.253 -0.     0.017]\n",
    " [ 0.     0.094 -0.   ]\n",
    " [ 0.     0.     0.097]]\n",
    " \n",
    " [[ 3.954  0.     0.   ]\n",
    " [ 0.    10.692  0.   ]\n",
    " [-0.71   0.    10.261]]\n",
    " \n",
    " [[ 4.017  0.    -1.813]\n",
    " [ 0.    10.692  0.   ]\n",
    " [ 0.     0.    10.1  ]]"
   ]
  },
  {
   "cell_type": "code",
   "execution_count": 88,
   "metadata": {
    "scrolled": false
   },
   "outputs": [
    {
     "name": "stdout",
     "output_type": "stream",
     "text": [
      "\n",
      "Crystal properties\n",
      "\n",
      "                    CIF file:  /home/spc93/spc_cifs/TBB_1578620.cif\n",
      "                     Lattice:  4.017 10.692 10.261 90.00 100.17 90.00\n",
      "                   All sites:  Br1, Br2, C1, C2, C3, H3\n",
      "               Site selected:  Br1\n",
      "                 Site vector:  0.615 0.793 0.589\n",
      "       No. of spacegroup ops:  4\n",
      "      No. of sym ops at site:  1\n",
      " No. of equiv. sites in cell:  4\n",
      "   No. of pg ops for crystal:  4\n",
      "\n",
      "Tensor properties\n",
      "\n",
      "             Required parity:  Even\n",
      "          Required time sym.:  Even\n",
      "                         hkl:  [3.0, 0.0, 0.0]\n",
      "                Site allowed:  No\n",
      "   Structure factor for site:  -0.00+0.00i\n",
      "          Spacegroup allowed:  No\n",
      "              Tensor allowed:  Yes\n",
      "                      Parity:  Either\n",
      "                        Time:  Either\n",
      "                          PT:  Either\n",
      "              Glide or screw:  True\n"
     ]
    },
    {
     "data": {
      "image/png": "[encoded data removed]",
      "text/plain": [
       "<Figure size 432x288 with 1 Axes>"
      ]
     },
     "metadata": {
      "needs_background": "light"
     },
     "output_type": "display_data"
    },
    {
     "name": "stdout",
     "output_type": "stream",
     "text": [
      "\n",
      "Tensor components\n",
      "\n",
      "         Crystal (spherical):  [ 1.   +0.j  0.018-0.j  0.709-0.j -0.018-0.j  1.   -0.j]\n",
      "            Atom (spherical):  [1.   +0.j    0.044+0.042j 0.509-0.319j 0.018+0.058j 0.435-0.901j]\n",
      "  Struct. factor (spherical):  [ 1.  -0.j  0.11-0.j  0.  +0.j  0.11+0.j -1.  +0.j]\n",
      "      Scattering phase (rad):  3.14\n",
      "\n",
      "Crystal (Cartesian):\n",
      "\n",
      "[[ 1.65 +0.j -0.   +0.j  0.042+0.j]\n",
      " [-0.   +0.j -2.995+0.j  0.   +0.j]\n",
      " [ 0.042+0.j  0.   +0.j  1.344+0.j]]\n",
      "\n",
      "Atom (Cartesian):\n",
      "\n",
      "[[ 0.413+0.j -0.364+0.j  0.01 +0.j]\n",
      " [-0.364+0.j -0.749+0.j -0.04 +0.j]\n",
      " [ 0.01 +0.j -0.04 +0.j  0.336+0.j]]\n",
      "\n",
      "Struct. factor (Cartesian):\n",
      "\n",
      "[[ 0.  -0.j  1.  -0.j -0.  -0.j]\n",
      " [ 1.  -0.j -0.  +0.j  0.11-0.j]\n",
      " [-0.  -0.j  0.11-0.j  0.  +0.j]]\n",
      "\n",
      "[[ 4.017  0.    -1.813]\n",
      " [ 0.    10.692  0.   ]\n",
      " [ 0.     0.    10.1  ]]\n"
     ]
    }
   ],
   "source": [
    "import TensorScatteringClass as ten\n",
    "import numpy as np\n",
    "%matplotlib inline\n",
    "\n",
    "t=ten.TensorScatteringClass(CIFfile='/home/spc93/spc_cifs/TBB_1578620.cif', Site='Br1');\n",
    "#t=ten.TensorScatteringClass(CIFfile='/home/spc93/spc_cifs/TBB_1578620.cif', Site='Br2');\n",
    "\n",
    "#t.B=t.latt2b(t.lattice)\n",
    "#t.B=t.latt2b(t.lattice, direct=True, BLstyle=False)\n",
    "t.B=t.latt2b(t.lattice, direct=True, BLstyle=True)\n",
    "\n",
    "\n",
    "t.PlotIntensityInPolarizationChannels('E1E1', lam=12.4/13.5, hkl=np.array([3,0,0]), hkln=np.array([0,0,1]), K=2, Time=1, Parity=1, mk=None, sk=None, sigmapi='sigma')\n",
    "# this one exists\n",
    "\n",
    "t.print_tensors()\n",
    "print(t.B)\n",
    "\n"
   ]
  },
  {
   "cell_type": "code",
   "execution_count": 57,
   "metadata": {},
   "outputs": [
    {
     "data": {
      "text/plain": [
       "[array([0.615, 0.793, 0.589]),\n",
       " array([0.885, 0.293, 0.911]),\n",
       " array([0.385, 0.207, 0.411]),\n",
       " array([0.115, 0.707, 0.089])]"
      ]
     },
     "execution_count": 57,
     "metadata": {},
     "output_type": "execute_result"
    }
   ],
   "source": [
    "t.equiv_sites(t.sglist, t.sitevec)\n",
    "# OK: origin choice 2 (choice 1 is 0,0,0)"
   ]
  },
  {
   "cell_type": "code",
   "execution_count": 138,
   "metadata": {},
   "outputs": [
    {
     "name": "stdout",
     "output_type": "stream",
     "text": [
      "[4.0172, 10.6917, 10.2615, 90.0, 100.175, 90.0]\n",
      "\n",
      "B+L B matrix:\n",
      " [[ 0.253 -0.     0.017]\n",
      " [ 0.     0.094 -0.   ]\n",
      " [ 0.     0.     0.097]]\n",
      "\n",
      "Real space B matrix consistent with BL:\n",
      " [[ 3.954  0.     0.   ]\n",
      " [ 0.    10.692  0.   ]\n",
      " [-0.71   0.    10.261]]\n",
      "\n",
      "B+L style real space B matrix:\n",
      " [[ 4.017  0.    -1.813]\n",
      " [ 0.    10.692  0.   ]\n",
      " [ 0.     0.    10.1  ]]\n",
      "1.0000000000000004\n",
      "\n",
      " [[ 4.017  0.    -1.813]\n",
      " [ 0.    10.692  0.   ]\n",
      " [ 0.     0.    10.1  ]] \n",
      "\n",
      " [[ 4.017  0.    -1.813]\n",
      " [ 0.    10.692  0.   ]\n",
      " [ 0.    -0.    10.1  ]]\n"
     ]
    }
   ],
   "source": [
    "from numpy import linalg\n",
    "'''\n",
    "        follow Busing&Levy, D.E.Sands\n",
    "        direct=False: normal recip space B matrix (B&L)\n",
    "        direct=True, BLstyle=True: Busing & Levy style applied to real space (i.e. x||a)\n",
    "        direct=True, BLstyle=False: Real space B matrix compatible with recip space B matrix\n",
    "'''\n",
    "\n",
    "print(t.lattice)\n",
    "print('\\nB+L B matrix:\\n', t.latt2b(t.lattice, direct=False, BLstyle=False))\n",
    "print('\\nReal space B matrix consistent with BL:\\n', t.latt2b(t.lattice, direct=True, BLstyle=False))\n",
    "print('\\nB+L style real space B matrix:\\n', t.latt2b(t.lattice, direct=True, BLstyle=True))\n",
    "\n",
    "B1 = t.latt2b(t.lattice, direct=True, BLstyle=False)\n",
    "B2 = t.latt2b(t.lattice, direct=True, BLstyle=True)\n",
    "\n",
    "# B1 and B2 are not unitarily equivalent but B2 = U B1\n",
    "# check that U = B2 B1* is unitary\n",
    "U = B2.dot(linalg.inv(B1))\n",
    "print(linalg.det(U))\n",
    "print('\\n', B2, '\\n\\n', U.dot(B1))\n",
    "# OK this all looks fine\n"
   ]
  },
  {
   "cell_type": "code",
   "execution_count": 137,
   "metadata": {},
   "outputs": [
    {
     "data": {
      "text/plain": [
       "8.395191256670724"
      ]
     },
     "execution_count": 137,
     "metadata": {},
     "output_type": "execute_result"
    }
   ],
   "source": [
    "np.arcsin(.146)*180/np.pi"
   ]
  },
  {
   "cell_type": "code",
   "execution_count": null,
   "metadata": {},
   "outputs": [],
   "source": []
  }
 ],
 "metadata": {
  "kernelspec": {
   "display_name": "Python 3.7 [DLS Conda]",
   "language": "python",
   "name": "conda-env-DLS_Conda-python3.7-kernel.json"
  },
  "language_info": {
   "codemirror_mode": {
    "name": "ipython",
    "version": 3
   },
   "file_extension": ".py",
   "mimetype": "text/x-python",
   "name": "python",
   "nbconvert_exporter": "python",
   "pygments_lexer": "ipython3",
   "version": "3.7.3"
  }
 },
 "nbformat": 4,
 "nbformat_minor": 2
}
