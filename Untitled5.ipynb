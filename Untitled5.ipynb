{
 "cells": [
  {
   "cell_type": "code",
   "execution_count": null,
   "id": "8a3a94fd",
   "metadata": {},
   "outputs": [],
   "source": [
    "# for each sg/site, create a disctionary of classes of tensors    \n",
    "for sg in out:\n",
    "    if sg[1] != {}:\n",
    "        print('#%i' % sg[0])\n",
    "        for site in sg[1].keys():\n",
    "            print(site)\n",
    "            print(sg[1][site])\n",
    "            \n",
    "            sg[1][site]['classes'] = {}\n",
    "            #sg[1][site]['classes'][1] = {}\n",
    "            \n",
    "            for ref in sg[1][site]['ref'].keys():\n",
    "                print(ref)\n",
    "                print(sg[1][site]['ref'][ref]['ranks'])\n",
    "    \n",
    "                # is ref in existing class or need a new class?\n",
    "                new_class = True\n",
    "                for cls in sg[1][site]['classes']:\n",
    "                    if ranks in sg[1][site]['classes'][cls]['ranks']:\n",
    "                        sg[1][site]['classes'][cls]['refs'] += [ref]\n",
    "                        new_class  = False\n",
    "                    else:\n",
    "                        break\n",
    "                \n",
    "                if new_class:\n",
    "                    if not bool(sg[1][site]['classes']): # empty dict\n",
    "                        class_no = 1\n",
    "                    else:\n",
    "                        class_no = max(sg[1][site]['classes'].keys()) + 1 \n",
    "                    \n",
    "                    sg[1][site]['classes'] = {class_no: \n",
    "                             {'refs': [ref], \n",
    "                              'ranks': sg[1][site]['ref'][ref]['ranks']\n",
    "                             }}\n",
    "                    #sg[1][site]['classes'][class_no]['refs'] = [ref]\n",
    "                    #sg[1][site]['classes'][class_no]['ranks'] = sg[1][site]['refs'][ref]['ranks']\n",
    "\n",
    "\n"
   ]
  }
 ],
 "metadata": {
  "kernelspec": {
   "display_name": "Python 3.8 [DLS Conda]",
   "language": "python",
   "name": "conda-env-DLS_Conda-python3.8-kernel.json"
  },
  "language_info": {
   "codemirror_mode": {
    "name": "ipython",
    "version": 3
   },
   "file_extension": ".py",
   "mimetype": "text/x-python",
   "name": "python",
   "nbconvert_exporter": "python",
   "pygments_lexer": "ipython3",
   "version": "3.8.0"
  }
 },
 "nbformat": 4,
 "nbformat_minor": 5
}
