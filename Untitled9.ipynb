{
 "cells": [
  {
   "cell_type": "markdown",
   "id": "3a683d12-9c9c-47db-8f4c-85c990231590",
   "metadata": {},
   "source": [
    "https://github.com/DiamondLightSource/diffcalc-core/"
   ]
  },
  {
   "cell_type": "code",
   "execution_count": null,
   "id": "f497e910",
   "metadata": {},
   "outputs": [],
   "source": []
  },
  {
   "cell_type": "code",
   "execution_count": 1,
   "id": "196f79fc-cda6-495e-9b13-ddf92469e479",
   "metadata": {},
   "outputs": [
    {
     "ename": "ModuleNotFoundError",
     "evalue": "No module named 'cctbx'",
     "output_type": "error",
     "traceback": [
      "\u001b[0;31m---------------------------------------------------------------------------\u001b[0m",
      "\u001b[0;31mModuleNotFoundError\u001b[0m                       Traceback (most recent call last)",
      "Cell \u001b[0;32mIn[1], line 1\u001b[0m\n\u001b[0;32m----> 1\u001b[0m \u001b[38;5;28;01mimport\u001b[39;00m \u001b[38;5;21;01mcctbx\u001b[39;00m\n",
      "\u001b[0;31mModuleNotFoundError\u001b[0m: No module named 'cctbx'"
     ]
    }
   ],
   "source": [
    "import cctbx"
   ]
  },
  {
   "cell_type": "code",
   "execution_count": null,
   "id": "c4725175-913b-4b1b-9e6f-840625417fa6",
   "metadata": {},
   "outputs": [],
   "source": []
  },
  {
   "cell_type": "code",
   "execution_count": null,
   "id": "660f8f39-a534-4ab4-ba83-d545b21139f7",
   "metadata": {},
   "outputs": [],
   "source": []
  }
 ],
 "metadata": {
  "kernelspec": {
   "display_name": "Python 3 (ipykernel) [DLS Conda]",
   "language": "python",
   "name": "conda-env-DLS_Conda-python3"
  },
  "language_info": {
   "codemirror_mode": {
    "name": "ipython",
    "version": 3
   },
   "file_extension": ".py",
   "mimetype": "text/x-python",
   "name": "python",
   "nbconvert_exporter": "python",
   "pygments_lexer": "ipython3",
   "version": "3.11.6"
  }
 },
 "nbformat": 4,
 "nbformat_minor": 5
}
