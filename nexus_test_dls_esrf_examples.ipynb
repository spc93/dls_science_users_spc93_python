{
 "cells": [
  {
   "cell_type": "code",
   "execution_count": 1,
   "metadata": {},
   "outputs": [
    {
     "name": "stdout",
     "output_type": "stream",
     "text": [
      "=== Importing dlstools package\n"
     ]
    },
    {
     "name": "stderr",
     "output_type": "stream",
     "text": [
      "/dls_sw/apps/python/anaconda/4.6.14/64/envs/python3.7/lib/python3.7/site-packages/scisoftpy/_external/tifffile.py:8121: UserWarning: No module named 'scisoftpy._external._tifffile'\n",
      "  Functionality might be degraded or be slow.\n",
      "\n",
      "  warnings.warn('%s%s' % (e, warn))\n"
     ]
    },
    {
     "name": "stdout",
     "output_type": "stream",
     "text": [
      "=== Need to obtain specfilewrapper.py and compatible specfile.so from ERSF PyMCA package in order to load spec files\n"
     ]
    }
   ],
   "source": [
    "import sys\n",
    "sys.path.append('/dls_sw/apps/scisoftpy/2.7')\n",
    "sys.path.append('/dls_sw/i16/software/python')\n",
    "from dlstools.dataloader import *\n",
    "from dlstools import *\n",
    "from matplotlib.pyplot import *\n",
    "from dlstools.quickfit import *\n",
    "from dlstools.dirty_fit import fit\n",
    "%matplotlib inline\n"
   ]
  },
  {
   "cell_type": "code",
   "execution_count": 5,
   "metadata": {},
   "outputs": [
    {
     "name": "stdout",
     "output_type": "stream",
     "text": [
      "=== Failed to create DataFrame from data - create empty DataFrame\n"
     ]
    },
    {
     "name": "stderr",
     "output_type": "stream",
     "text": [
      "/dls_sw/i16/software/python/dlstools/dataloader.py:47: UserWarning: Pandas doesn't allow columns to be created via a new attribute name - see https://pandas.pydata.org/pandas-docs/stable/indexing.html#attribute-access\n",
      "  setattr(self,'nx',_nx)\n"
     ]
    }
   ],
   "source": [
    "#p='/dls/i16/data/2018/mt19890-1/%i.nxs'\n",
    "#n=pdnx(p % 709993)\n",
    "p='/home/spc93/misc_nexus_data/i16/%i.nxs'\n",
    "n=pdnx(p % 780431)\n"
   ]
  },
  {
   "cell_type": "code",
   "execution_count": 6,
   "metadata": {
    "scrolled": false
   },
   "outputs": [
    {
     "name": "stdout",
     "output_type": "stream",
     "text": [
      "root:NXroot\n",
      "  entry1:NXentry\n",
      "    before_scan:NXcollection\n",
      "      alpha:NXcollection\n",
      "        alpha = 31.42664120713583\n",
      "      beamline_slits:NXcollection\n",
      "        s1xcentre = -0.0025\n",
      "        s1xgap = 2.499\n",
      "        s1ycentre = 0.0025\n",
      "        s1ygap = 1.001\n",
      "        s2xcentre = -2.49999999999e-05\n",
      "        s2xgap = 20.0015\n",
      "        s2ycentre = 3.20175\n",
      "        s2ygap = 20.0005\n",
      "        s3xcentre = 2.699\n",
      "        s3xgap = 25.0\n",
      "        s3ycentre = -0.69\n",
      "        s3ygap = 20.091\n",
      "        s4xcentre = -6.01275\n",
      "        s4xgap = 31.9469\n",
      "        s4ycentre = -0.115\n",
      "        s4ygap = 25.213\n",
      "        shtr3x = 11.925\n",
      "        shtr3y = 4.24\n",
      "      beta:NXcollection\n",
      "        beta = -31.419560893082625\n",
      "      delta_offset:NXcollection\n",
      "        delta_offset = 0.0\n",
      "      dettrans:NXcollection\n",
      "        dettrans = 0.0\n",
      "      diffractometer_sample:NXcollection\n",
      "        chi = 10.2169730693\n",
      "        delta = 117.108019083\n",
      "        delta_axis_offset = 8.8\n",
      "        en = 7.99999891729\n",
      "        eta = 58.5540095417\n",
      "        gam = 0.0\n",
      "        h = 0.000363559560089\n",
      "        k = 5.99986362968\n",
      "        kphi = 8.30773748507\n",
      "        l = 1.98213273373\n",
      "        mu = 0.0\n",
      "        phi = 4.00577257749\n",
      "      dummypd:NXcollection\n",
      "        x = 5.0\n",
      "        y = 0.0\n",
      "        z = 0.0\n",
      "      gains_atten:NXcollection\n",
      "        Atten = 80.0\n",
      "        Transmission = 0.000234301437854\n",
      "        diode_gain = 0.0\n",
      "        ic1_gain = 3.0\n",
      "        ic2_gain = 4.0\n",
      "      jjslits:NXcollection\n",
      "        s5xgap = 0.5002\n",
      "        s5xtrans = -4.9999999999e-05\n",
      "        s5ygap = 0.5\n",
      "        s5ytrans = -9.99999999998e-05\n",
      "        s6xgap = 9.8674\n",
      "        s6xtrans = -0.0109\n",
      "        s6ygap = 11.8585\n",
      "        s6ytrans = 10.382\n",
      "      lakeshore:NXcollection\n",
      "        Ta = 296.094\n",
      "        Tb = 300.31\n",
      "        Tc = 3.15\n",
      "        Td = 3.15\n",
      "        Tset = 300.0\n",
      "      mirrors:NXcollection\n",
      "        m1piezo = 0.0\n",
      "        m1pitch = 3.74003601046\n",
      "        m1roll = 0.0931260693258\n",
      "        m1x = 1.6592395\n",
      "        m1y = -1.9591875\n",
      "        m1yaw = 0.398510950691\n",
      "        m2bender = 334.999\n",
      "        m2pitch = 3.73991214072\n",
      "        m2roll = 0.410413671679\n",
      "        m2x = 14.35475\n",
      "        m2y = 2.4837375\n",
      "        m2yaw = -0.041061705966\n",
      "        m3pitch = 1.39e-05\n",
      "        m3x = -4.0002475\n",
      "        m4pitch = -3.64e-05\n",
      "        m4x = 3.9999025\n",
      "      mono:NXcollection\n",
      "        T1dcmSi111 = 108.480572401\n",
      "        T2dcmSi111 = 11.6966576421\n",
      "        bragg = -14.039675\n",
      "        dcmfinepitch = 0.0307898948427\n",
      "        dcmlat = 27.9906\n",
      "        dcmpitch = -21.1645346\n",
      "        dcmroll1 = 19.9545764\n",
      "        dcmroll2 = 18.7135312\n",
      "        en = 7.99999891729\n",
      "        perp = 0.42165\n",
      "      mrwolf:NXcollection\n",
      "        Day = 21.0\n",
      "        Hours = 7.0\n",
      "        Minutes = 22.0\n",
      "        Month = 5.0\n",
      "        Seconds = 1.0\n",
      "        Year = 2019.0\n",
      "      mtthp:NXcollection\n",
      "        mtthp = 79.99856199999999\n",
      "      offsets:NXcollection\n",
      "        base_z_offset = -13.724338866\n",
      "        idgap_offset = 0.546264399206\n",
      "        m1y_offset = -15.541004116\n",
      "        m2_coating_offset = 11.0\n",
      "        m2y_offset = -22.098054116\n",
      "        ztable_offset = -20.597421616\n",
      "      pa:NXcollection\n",
      "        stokes = 0.000599999999991\n",
      "        thp = -0.00190000000001\n",
      "        tthp = -0.00145999999999\n",
      "        zp = -0.0009\n",
      "      positions:NXcollection\n",
      "        Base_z = -0.14254725\n",
      "        Base_z1 = -0.14254725\n",
      "        Base_z2 = -0.14254425\n",
      "        Base_z3 = -0.14254425\n",
      "        base_y = 20.855\n",
      "        spara = 1.19997435619\n",
      "        sperp = 3.66953803557\n",
      "        sx = 0.9407\n",
      "        sy = 3.7444\n",
      "        sz = 5.50208\n",
      "        table_horiz = 21.315625\n",
      "        table_vert = -7.01563\n",
      "      pp:NXcollection\n",
      "        ppchi = -0.01\n",
      "        ppth = -2e-05\n",
      "        ppx = 21.0\n",
      "        ppy = 3.992\n",
      "      psi:NXcollection\n",
      "        psi = 177.9286962642119\n",
      "      s7xgap:NXcollection\n",
      "        s7xgap = 10.051499999999999\n",
      "      s7xtrans:NXcollection\n",
      "        s7xtrans = -0.03730000000000011\n",
      "      s7ygap:NXcollection\n",
      "        s7ygap = 10.0417\n",
      "      s7ytrans:NXcollection\n",
      "        s7ytrans = -0.039299999999999\n",
      "      source:NXcollection\n",
      "        Uharmonic = 7.0\n",
      "        idgap = 7.02695\n",
      "        rc = 250.964614868\n",
      "    definition = 'NXmx'\n",
      "    end_time = '2019-05-21T07:22:45.986+01:00'\n",
      "    entry_identifier = '780431'\n",
      "    features = [                   3                    6 -4539647395532570642]\n",
      "    instrument:NXinstrument\n",
      "      atime:NXpositioner\n",
      "        TimeSec = float64(21)\n",
      "          @local_name = 'atime.TimeSec'\n",
      "          @target = '/entry1/instrument/atime/TimeSec'\n",
      "      atimetwo:NXpositioner\n",
      "        TimeFromEpoch = float64(21)\n",
      "          @local_name = 'atimetwo.TimeFromEpoch'\n",
      "          @target = '/entry1/instrument/atimetwo/TimeFromEpoch'\n",
      "      attenuator:NXattenuator\n",
      "        attenuator_transmission = 0.000234301437854\n",
      "      ic1monitor:NXpositioner\n",
      "        ic1monitor = float64(21)\n",
      "          @local_name = 'ic1monitor.ic1monitor'\n",
      "          @target = '/entry1/instrument/ic1monitor/ic1monitor'\n",
      "      name = 'i16'\n",
      "      pil3_100k:NXdetector\n",
      "        calibration_date = '2018-07-11 11:15:52'\n",
      "        calibration_scan_number = 705061\n",
      "        count_time = float64(21)\n",
      "          @local_name = 'pil3_100k.count_time'\n",
      "          @target = '/entry1/instrument/pil3_100k/count_time'\n",
      "        depends_on = '/entry1/instrument/pil3_100k/transformations/origin_offset'\n",
      "        description = 'DetectorBase'\n",
      "        id = 'detectorbase-1'\n",
      "        image_data = ['780431-pilatus3_100k-files/00001.tif', '780431-pilatus...\n",
      "          @data_filename = 1\n",
      "          @signal = 1\n",
      "        maxval = float64(21)\n",
      "          @local_name = 'pil3_100k.maxval'\n",
      "          @target = '/entry1/instrument/pil3_100k/maxval'\n",
      "        maxx = float64(21)\n",
      "          @local_name = 'pil3_100k.maxx'\n",
      "          @target = '/entry1/instrument/pil3_100k/maxx'\n",
      "        maxy = float64(21)\n",
      "          @local_name = 'pil3_100k.maxy'\n",
      "          @target = '/entry1/instrument/pil3_100k/maxy'\n",
      "        module:NXdetector_module\n",
      "          data_origin = [0 0]\n",
      "          data_size = [487 195]\n",
      "          fast_pixel_direction = 0.172\n",
      "            @depends_on = '/entry1/instrument/pil3_100k/module/module_offset'\n",
      "            @offset = [0. 0. 0.]\n",
      "            @transformation_type = 'translation'\n",
      "            @units = 'mm'\n",
      "            @vector = [ 0.707998  0.001728 -0.706212]\n",
      "          module_offset = 0.0\n",
      "            @depends_on = '/entry1/instrument/pil3_100k/transformations/o...'\n",
      "            @offset = [0. 0. 0.]\n",
      "            @transformation_type = 'translation'\n",
      "            @units = 'mm'\n",
      "            @vector = [0. 0. 0.]\n",
      "          slow_pixel_direction = 0.172\n",
      "            @depends_on = '/entry1/instrument/pil3_100k/module/module_offset'\n",
      "            @offset = [0. 0. 0.]\n",
      "            @transformation_type = 'translation'\n",
      "            @units = 'mm'\n",
      "            @vector = [-2.164195e-03  9.999976e-01  2.766470e-04]\n",
      "        path = float64(21)\n",
      "          @local_name = 'pil3_100k.path'\n",
      "          @target = '/entry1/instrument/pil3_100k/path'\n",
      "        saturation_value = 1000000\n",
      "        sensor_material = 'Silicon'\n",
      "        sensor_thickness = 0.32\n",
      "        sum = float64(21)\n",
      "          @local_name = 'pil3_100k.sum'\n",
      "          @target = '/entry1/instrument/pil3_100k/sum'\n",
      "        transformations:NXtransformations\n",
      "          origin_offset = 1.0\n",
      "            @depends_on = '/entry1/instrument/transformations/offsetdelta'\n",
      "            @offset = [0. 0. 0.]\n",
      "            @offset_units = 'mm'\n",
      "            @transformation_type = 'translation'\n",
      "            @units = 'mm'\n",
      "            @vector = [ 62.215495 -16.424246 623.857676]\n",
      "        type = 'DetectorBase'\n",
      "      rc:NXpositioner\n",
      "        rc = float64(21)\n",
      "          @axis = '1'\n",
      "          @local_name = 'rc.rc'\n",
      "          @target = '/entry1/instrument/rc/rc'\n",
      "      roi2:NXdetector\n",
      "        description = ''\n",
      "        id = ''\n",
      "        roi2_maxval = float64(21)\n",
      "          @local_name = 'roi2.roi2_maxval'\n",
      "          @target = '/entry1/instrument/roi2/roi2_maxval'\n",
      "        roi2_maxx = float64(21)\n",
      "          @local_name = 'roi2.roi2_maxx'\n",
      "          @target = '/entry1/instrument/roi2/roi2_maxx'\n",
      "        roi2_maxy = float64(21)\n",
      "          @local_name = 'roi2.roi2_maxy'\n",
      "          @target = '/entry1/instrument/roi2/roi2_maxy'\n",
      "        roi2_sum = float64(21)\n",
      "          @local_name = 'roi2.roi2_sum'\n",
      "          @target = '/entry1/instrument/roi2/roi2_sum'\n",
      "        type = ''\n",
      "      source:NXsource\n",
      "        current = 250.9646\n",
      "          @units = 'mA'\n",
      "        energy = 3.0009\n",
      "          @units = 'GeV'\n",
      "        name = 'DLS'\n",
      "        probe = 'X-ray'\n",
      "        type = 'Synchrotron X-Ray Source'\n",
      "      sy:NXpositioner\n",
      "        sy = float64(21)\n",
      "          @axis = '1'\n",
      "          @label = '1'\n",
      "          @local_name = 'sy.sy'\n",
      "          @primary = '1'\n",
      "          @target = '/entry1/instrument/sy/sy'\n",
      "      transformations:NXtransformations\n",
      "        delta = float64(21)\n",
      "          @axis = '1'\n",
      "          @depends_on = 'entry1/instrument/transformations/gamma'\n",
      "          @local_name = 'kdelta.kdelta'\n",
      "          @target = '/entry1/instrument/transformations/delta'\n",
      "          @transformation_type = 'rotation'\n",
      "          @units = 'deg'\n",
      "          @vector = [0. 1. 0.]\n",
      "        gamma = float64(21)\n",
      "          @axis = '1'\n",
      "          @depends_on = '.'\n",
      "          @local_name = 'kgam.kgam'\n",
      "          @target = '/entry1/instrument/transformations/gamma'\n",
      "          @transformation_type = 'rotation'\n",
      "          @units = 'deg'\n",
      "          @vector = [1. 0. 0.]\n",
      "        offsetdelta = float64(21)\n",
      "          @axis = '1'\n",
      "          @depends_on = 'entry1/instrument/transformations/delta'\n",
      "          @local_name = 'delta_axis_offset.delta_axis_offset'\n",
      "          @target = '/entry1/instrument/transformations/offsetdelta'\n",
      "          @transformation_type = 'rotation'\n",
      "          @units = 'deg'\n",
      "          @vector = [ 0. -1.  0.]\n",
      "    measurement:NXdata\n",
      "      @axes = 'sy'\n",
      "      @signal = 'roi2_sum'\n",
      "      TimeFromEpoch = float64(21)\n",
      "      TimeSec = float64(21)\n",
      "      count_time = float64(21)\n",
      "      delta_axis_offset = float64(21)\n",
      "      ic1monitor = float64(21)\n",
      "      kap = float64(21)\n",
      "      kdelta = float64(21)\n",
      "      kgam = float64(21)\n",
      "      kmu = float64(21)\n",
      "      kphi = float64(21)\n",
      "      kth = float64(21)\n",
      "      maxval = float64(21)\n",
      "      maxx = float64(21)\n",
      "      maxy = float64(21)\n",
      "      path = float64(21)\n",
      "      rc = float64(21)\n",
      "      roi2_maxval = float64(21)\n",
      "      roi2_maxx = float64(21)\n",
      "      roi2_maxy = float64(21)\n",
      "      roi2_sum = float64(21)\n",
      "      sum = float64(21)\n",
      "      sy = float64(21)\n",
      "    pil3_100k:NXdata\n",
      "      TimeFromEpoch -> /entry1/instrument/atimetwo/TimeFromEpoch\n",
      "      TimeSec -> /entry1/instrument/atime/TimeSec\n",
      "      count_time -> /entry1/instrument/pil3_100k/count_time\n",
      "      delta -> /entry1/instrument/transformations/delta\n",
      "      gamma -> /entry1/instrument/transformations/gamma\n",
      "      ic1monitor -> /entry1/instrument/ic1monitor/ic1monitor\n",
      "      kappa -> /entry1/sample/transformations/kappa\n",
      "      maxval -> /entry1/instrument/pil3_100k/maxval\n",
      "      maxx -> /entry1/instrument/pil3_100k/maxx\n",
      "      maxy -> /entry1/instrument/pil3_100k/maxy\n",
      "      mu -> /entry1/sample/transformations/mu\n",
      "      offsetdelta -> /entry1/instrument/transformations/offsetdelta\n",
      "      path -> /entry1/instrument/pil3_100k/path\n",
      "      phi -> /entry1/sample/transformations/phi\n",
      "      rc -> /entry1/instrument/rc/rc\n",
      "      sum -> /entry1/instrument/pil3_100k/sum\n",
      "      sy -> /entry1/instrument/sy/sy\n",
      "      theta -> /entry1/sample/transformations/theta\n",
      "    program_name = 'GDA 9.12.0'\n",
      "    roi2:NXdata\n",
      "      TimeFromEpoch -> /entry1/instrument/atimetwo/TimeFromEpoch\n",
      "      TimeSec -> /entry1/instrument/atime/TimeSec\n",
      "      delta -> /entry1/instrument/transformations/delta\n",
      "      gamma -> /entry1/instrument/transformations/gamma\n",
      "      ic1monitor -> /entry1/instrument/ic1monitor/ic1monitor\n",
      "      kappa -> /entry1/sample/transformations/kappa\n",
      "      mu -> /entry1/sample/transformations/mu\n",
      "      offsetdelta -> /entry1/instrument/transformations/offsetdelta\n",
      "      phi -> /entry1/sample/transformations/phi\n",
      "      rc -> /entry1/instrument/rc/rc\n",
      "      roi2_maxval -> /entry1/instrument/roi2/roi2_maxval\n",
      "      roi2_maxx -> /entry1/instrument/roi2/roi2_maxx\n",
      "      roi2_maxy -> /entry1/instrument/roi2/roi2_maxy\n",
      "      roi2_sum -> /entry1/instrument/roi2/roi2_sum\n",
      "      sy -> /entry1/instrument/sy/sy\n",
      "      theta -> /entry1/sample/transformations/theta\n",
      "    sample:NXsample\n",
      "      beam:NXbeam\n",
      "        incident_energy = 7.999998917288368\n",
      "          @axis = '1'\n",
      "          @local_name = 'en.en'\n",
      "        incident_wavelength = 0.15498026164126374\n",
      "          @units = 'nm'\n",
      "      depends_on = '/entry1/sample/transformations/phi'\n",
      "      name = 'Default Sample'\n",
      "      orientation_matrix = float64(1x3x3)\n",
      "      transformations:NXtransformations\n",
      "        kappa = float64(21)\n",
      "          @axis = '1'\n",
      "          @depends_on = 'entry1/sample/transformations/theta'\n",
      "          @local_name = 'kap.kap'\n",
      "          @target = '/entry1/sample/transformations/kappa'\n",
      "          @transformation_type = 'rotation'\n",
      "          @units = 'deg'\n",
      "          @vector = [ 0.        0.642788 -0.766044]\n",
      "        mu = float64(21)\n",
      "          @axis = '1'\n",
      "          @depends_on = '.'\n",
      "          @local_name = 'kmu.kmu'\n",
      "          @target = '/entry1/sample/transformations/mu'\n",
      "          @transformation_type = 'rotation'\n",
      "          @units = 'deg'\n",
      "          @vector = [1. 0. 0.]\n",
      "        phi = float64(21)\n",
      "          @axis = '1'\n",
      "          @depends_on = 'entry1/sample/transformations/kappa'\n",
      "          @local_name = 'kphi.kphi'\n",
      "          @target = '/entry1/sample/transformations/phi'\n",
      "          @transformation_type = 'rotation'\n",
      "          @units = 'deg'\n",
      "          @vector = [0. 1. 0.]\n",
      "        theta = float64(21)\n",
      "          @axis = '1'\n",
      "          @depends_on = 'entry1/sample/transformations/mu'\n",
      "          @local_name = 'kth.kth'\n",
      "          @target = '/entry1/sample/transformations/theta'\n",
      "          @transformation_type = 'rotation'\n",
      "          @units = 'deg'\n",
      "          @vector = [0. 1. 0.]\n",
      "      unit_cell = [[ 5.343177  5.513065 11.907419 90.       90.       90.      ]]\n",
      "        @angle_units = 'deg'\n",
      "        @length_units = 'angstrom'\n",
      "    scan_command = 'scan sy 3.7256000000000005 4.1256 0.02 pil3_100k 1 roi2'\n",
      "    scan_dimensions = 21\n",
      "    scan_identifier = '4ee66b46-82b2-4f0a-b5f0-35cc46293051'\n",
      "    start_time = '2019-05-21T07:21:54.532+01:00'\n",
      "    title = 'scan sy 3.7256000000000005 4.1256 0.02 pil3_100k 1 roi2'\n",
      "    title_old = 'Scan of sample with GDA'\n",
      "    user01:NXuser\n",
      "      username = 'i16user'\n"
     ]
    }
   ],
   "source": [
    "print(n.nx.tree)"
   ]
  },
  {
   "cell_type": "markdown",
   "metadata": {},
   "source": [
    "print n.nx.tree"
   ]
  },
  {
   "cell_type": "markdown",
   "metadata": {},
   "source": [
    "# test.h5 has scandata fields of shape 20, 666 and 20x1024\n",
    "what to do with these?\n",
    "scalars - pad out\n",
    "multi-dim - ??? .... return field value of remaining dimensions? e.g. image for each point?"
   ]
  },
  {
   "cell_type": "code",
   "execution_count": 3,
   "metadata": {},
   "outputs": [
    {
     "name": "stdout",
     "output_type": "stream",
     "text": [
      "=== Error loading file /home/spc93/data/test.h5\n"
     ]
    }
   ],
   "source": [
    "n1=pdnx('/home/spc93/data/test.h5', scandata_field='/entry154/measurement')"
   ]
  },
  {
   "cell_type": "code",
   "execution_count": null,
   "metadata": {},
   "outputs": [],
   "source": []
  },
  {
   "cell_type": "code",
   "execution_count": 5,
   "metadata": {},
   "outputs": [
    {
     "ename": "SyntaxError",
     "evalue": "Missing parentheses in call to 'print'. Did you mean print(key, n1.nx.entry154.measurement[key].shape)? (<ipython-input-5-dddbf9102845>, line 3)",
     "output_type": "error",
     "traceback": [
      "\u001b[0;36m  File \u001b[0;32m\"<ipython-input-5-dddbf9102845>\"\u001b[0;36m, line \u001b[0;32m3\u001b[0m\n\u001b[0;31m    print key, n1.nx.entry154.measurement[key].shape\u001b[0m\n\u001b[0m            ^\u001b[0m\n\u001b[0;31mSyntaxError\u001b[0m\u001b[0;31m:\u001b[0m Missing parentheses in call to 'print'. Did you mean print(key, n1.nx.entry154.measurement[key].shape)?\n"
     ]
    }
   ],
   "source": [
    "#look at shapes...\n",
    "for key in n1.nx.entry154.measurement.keys():\n",
    "    print key, n1.nx.entry154.measurement[key].shape"
   ]
  },
  {
   "cell_type": "code",
   "execution_count": 8,
   "metadata": {},
   "outputs": [
    {
     "ename": "RecursionError",
     "evalue": "maximum recursion depth exceeded while calling a Python object",
     "output_type": "error",
     "traceback": [
      "\u001b[0;31m---------------------------------------------------------------------------\u001b[0m",
      "\u001b[0;31mRecursionError\u001b[0m                            Traceback (most recent call last)",
      "\u001b[0;32m<ipython-input-8-24b6f0c6ff68>\u001b[0m in \u001b[0;36m<module>\u001b[0;34m\u001b[0m\n\u001b[0;32m----> 1\u001b[0;31m \u001b[0mn1\u001b[0m\u001b[0;34m.\u001b[0m\u001b[0mnx\u001b[0m\u001b[0;34m.\u001b[0m\u001b[0mentry154\u001b[0m\u001b[0;34m.\u001b[0m\u001b[0mmeasurement\u001b[0m\u001b[0;34m.\u001b[0m\u001b[0moned03\u001b[0m\u001b[0;34m.\u001b[0m\u001b[0mdir\u001b[0m\u001b[0;34m\u001b[0m\u001b[0;34m\u001b[0m\u001b[0m\n\u001b[0m",
      "\u001b[0;32m/dls_sw/apps/python/anaconda/4.6.14/64/envs/python3.7/lib/python3.7/site-packages/pandas/core/generic.py\u001b[0m in \u001b[0;36m__getattr__\u001b[0;34m(self, name)\u001b[0m\n\u001b[1;32m   5063\u001b[0m             \u001b[0;32mreturn\u001b[0m \u001b[0mobject\u001b[0m\u001b[0;34m.\u001b[0m\u001b[0m__getattribute__\u001b[0m\u001b[0;34m(\u001b[0m\u001b[0mself\u001b[0m\u001b[0;34m,\u001b[0m \u001b[0mname\u001b[0m\u001b[0;34m)\u001b[0m\u001b[0;34m\u001b[0m\u001b[0;34m\u001b[0m\u001b[0m\n\u001b[1;32m   5064\u001b[0m         \u001b[0;32melse\u001b[0m\u001b[0;34m:\u001b[0m\u001b[0;34m\u001b[0m\u001b[0;34m\u001b[0m\u001b[0m\n\u001b[0;32m-> 5065\u001b[0;31m             \u001b[0;32mif\u001b[0m \u001b[0mself\u001b[0m\u001b[0;34m.\u001b[0m\u001b[0m_info_axis\u001b[0m\u001b[0;34m.\u001b[0m\u001b[0m_can_hold_identifiers_and_holds_name\u001b[0m\u001b[0;34m(\u001b[0m\u001b[0mname\u001b[0m\u001b[0;34m)\u001b[0m\u001b[0;34m:\u001b[0m\u001b[0;34m\u001b[0m\u001b[0;34m\u001b[0m\u001b[0m\n\u001b[0m\u001b[1;32m   5066\u001b[0m                 \u001b[0;32mreturn\u001b[0m \u001b[0mself\u001b[0m\u001b[0;34m[\u001b[0m\u001b[0mname\u001b[0m\u001b[0;34m]\u001b[0m\u001b[0;34m\u001b[0m\u001b[0;34m\u001b[0m\u001b[0m\n\u001b[1;32m   5067\u001b[0m             \u001b[0;32mreturn\u001b[0m \u001b[0mobject\u001b[0m\u001b[0;34m.\u001b[0m\u001b[0m__getattribute__\u001b[0m\u001b[0;34m(\u001b[0m\u001b[0mself\u001b[0m\u001b[0;34m,\u001b[0m \u001b[0mname\u001b[0m\u001b[0;34m)\u001b[0m\u001b[0;34m\u001b[0m\u001b[0;34m\u001b[0m\u001b[0m\n",
      "\u001b[0;32m/dls_sw/apps/python/anaconda/4.6.14/64/envs/python3.7/lib/python3.7/site-packages/pandas/core/generic.py\u001b[0m in \u001b[0;36m__getattr__\u001b[0;34m(self, name)\u001b[0m\n\u001b[1;32m   5063\u001b[0m             \u001b[0;32mreturn\u001b[0m \u001b[0mobject\u001b[0m\u001b[0;34m.\u001b[0m\u001b[0m__getattribute__\u001b[0m\u001b[0;34m(\u001b[0m\u001b[0mself\u001b[0m\u001b[0;34m,\u001b[0m \u001b[0mname\u001b[0m\u001b[0;34m)\u001b[0m\u001b[0;34m\u001b[0m\u001b[0;34m\u001b[0m\u001b[0m\n\u001b[1;32m   5064\u001b[0m         \u001b[0;32melse\u001b[0m\u001b[0;34m:\u001b[0m\u001b[0;34m\u001b[0m\u001b[0;34m\u001b[0m\u001b[0m\n\u001b[0;32m-> 5065\u001b[0;31m             \u001b[0;32mif\u001b[0m \u001b[0mself\u001b[0m\u001b[0;34m.\u001b[0m\u001b[0m_info_axis\u001b[0m\u001b[0;34m.\u001b[0m\u001b[0m_can_hold_identifiers_and_holds_name\u001b[0m\u001b[0;34m(\u001b[0m\u001b[0mname\u001b[0m\u001b[0;34m)\u001b[0m\u001b[0;34m:\u001b[0m\u001b[0;34m\u001b[0m\u001b[0;34m\u001b[0m\u001b[0m\n\u001b[0m\u001b[1;32m   5066\u001b[0m                 \u001b[0;32mreturn\u001b[0m \u001b[0mself\u001b[0m\u001b[0;34m[\u001b[0m\u001b[0mname\u001b[0m\u001b[0;34m]\u001b[0m\u001b[0;34m\u001b[0m\u001b[0;34m\u001b[0m\u001b[0m\n\u001b[1;32m   5067\u001b[0m             \u001b[0;32mreturn\u001b[0m \u001b[0mobject\u001b[0m\u001b[0;34m.\u001b[0m\u001b[0m__getattribute__\u001b[0m\u001b[0;34m(\u001b[0m\u001b[0mself\u001b[0m\u001b[0;34m,\u001b[0m \u001b[0mname\u001b[0m\u001b[0;34m)\u001b[0m\u001b[0;34m\u001b[0m\u001b[0;34m\u001b[0m\u001b[0m\n",
      "... last 2 frames repeated, from the frame below ...\n",
      "\u001b[0;32m/dls_sw/apps/python/anaconda/4.6.14/64/envs/python3.7/lib/python3.7/site-packages/pandas/core/generic.py\u001b[0m in \u001b[0;36m__getattr__\u001b[0;34m(self, name)\u001b[0m\n\u001b[1;32m   5063\u001b[0m             \u001b[0;32mreturn\u001b[0m \u001b[0mobject\u001b[0m\u001b[0;34m.\u001b[0m\u001b[0m__getattribute__\u001b[0m\u001b[0;34m(\u001b[0m\u001b[0mself\u001b[0m\u001b[0;34m,\u001b[0m \u001b[0mname\u001b[0m\u001b[0;34m)\u001b[0m\u001b[0;34m\u001b[0m\u001b[0;34m\u001b[0m\u001b[0m\n\u001b[1;32m   5064\u001b[0m         \u001b[0;32melse\u001b[0m\u001b[0;34m:\u001b[0m\u001b[0;34m\u001b[0m\u001b[0;34m\u001b[0m\u001b[0m\n\u001b[0;32m-> 5065\u001b[0;31m             \u001b[0;32mif\u001b[0m \u001b[0mself\u001b[0m\u001b[0;34m.\u001b[0m\u001b[0m_info_axis\u001b[0m\u001b[0;34m.\u001b[0m\u001b[0m_can_hold_identifiers_and_holds_name\u001b[0m\u001b[0;34m(\u001b[0m\u001b[0mname\u001b[0m\u001b[0;34m)\u001b[0m\u001b[0;34m:\u001b[0m\u001b[0;34m\u001b[0m\u001b[0;34m\u001b[0m\u001b[0m\n\u001b[0m\u001b[1;32m   5066\u001b[0m                 \u001b[0;32mreturn\u001b[0m \u001b[0mself\u001b[0m\u001b[0;34m[\u001b[0m\u001b[0mname\u001b[0m\u001b[0;34m]\u001b[0m\u001b[0;34m\u001b[0m\u001b[0;34m\u001b[0m\u001b[0m\n\u001b[1;32m   5067\u001b[0m             \u001b[0;32mreturn\u001b[0m \u001b[0mobject\u001b[0m\u001b[0;34m.\u001b[0m\u001b[0m__getattribute__\u001b[0m\u001b[0;34m(\u001b[0m\u001b[0mself\u001b[0m\u001b[0;34m,\u001b[0m \u001b[0mname\u001b[0m\u001b[0;34m)\u001b[0m\u001b[0;34m\u001b[0m\u001b[0;34m\u001b[0m\u001b[0m\n",
      "\u001b[0;31mRecursionError\u001b[0m: maximum recursion depth exceeded while calling a Python object"
     ]
    }
   ],
   "source": [
    "n1.nx.entry154.measurement.oned03.dir"
   ]
  },
  {
   "cell_type": "code",
   "execution_count": 9,
   "metadata": {},
   "outputs": [
    {
     "ename": "SyntaxError",
     "evalue": "Missing parentheses in call to 'print'. Did you mean print(n1.nx.tree)? (<ipython-input-9-75f8a1365cf2>, line 1)",
     "output_type": "error",
     "traceback": [
      "\u001b[0;36m  File \u001b[0;32m\"<ipython-input-9-75f8a1365cf2>\"\u001b[0;36m, line \u001b[0;32m1\u001b[0m\n\u001b[0;31m    print n1.nx.tree\u001b[0m\n\u001b[0m           ^\u001b[0m\n\u001b[0;31mSyntaxError\u001b[0m\u001b[0;31m:\u001b[0m Missing parentheses in call to 'print'. Did you mean print(n1.nx.tree)?\n"
     ]
    }
   ],
   "source": [
    "print n1.nx.tree"
   ]
  },
  {
   "cell_type": "code",
   "execution_count": 10,
   "metadata": {},
   "outputs": [
    {
     "ename": "RecursionError",
     "evalue": "maximum recursion depth exceeded while calling a Python object",
     "output_type": "error",
     "traceback": [
      "\u001b[0;31m---------------------------------------------------------------------------\u001b[0m",
      "\u001b[0;31mRecursionError\u001b[0m                            Traceback (most recent call last)",
      "\u001b[0;32m<ipython-input-10-eaa2b97a87d4>\u001b[0m in \u001b[0;36m<module>\u001b[0;34m\u001b[0m\n\u001b[0;32m----> 1\u001b[0;31m \u001b[0mn1\u001b[0m\u001b[0;34m.\u001b[0m\u001b[0mnx\u001b[0m\u001b[0;34m.\u001b[0m\u001b[0mentry154\u001b[0m\u001b[0;34m.\u001b[0m\u001b[0mmeasurement\u001b[0m\u001b[0;34m.\u001b[0m\u001b[0mct11\u001b[0m\u001b[0;34m.\u001b[0m\u001b[0mattrs\u001b[0m\u001b[0;34m\u001b[0m\u001b[0;34m\u001b[0m\u001b[0m\n\u001b[0m\u001b[1;32m      2\u001b[0m \u001b[0mn1\u001b[0m\u001b[0;34m.\u001b[0m\u001b[0mnx\u001b[0m\u001b[0;34m.\u001b[0m\u001b[0mkeys\u001b[0m\u001b[0;34m(\u001b[0m\u001b[0;34m)\u001b[0m\u001b[0;34m\u001b[0m\u001b[0;34m\u001b[0m\u001b[0m\n\u001b[1;32m      3\u001b[0m \u001b[0mn1\u001b[0m\u001b[0;34m.\u001b[0m\u001b[0mnx\u001b[0m\u001b[0;34m.\u001b[0m\u001b[0mattrs\u001b[0m\u001b[0;34m\u001b[0m\u001b[0;34m\u001b[0m\u001b[0m\n",
      "\u001b[0;32m/dls_sw/apps/python/anaconda/4.6.14/64/envs/python3.7/lib/python3.7/site-packages/pandas/core/generic.py\u001b[0m in \u001b[0;36m__getattr__\u001b[0;34m(self, name)\u001b[0m\n\u001b[1;32m   5063\u001b[0m             \u001b[0;32mreturn\u001b[0m \u001b[0mobject\u001b[0m\u001b[0;34m.\u001b[0m\u001b[0m__getattribute__\u001b[0m\u001b[0;34m(\u001b[0m\u001b[0mself\u001b[0m\u001b[0;34m,\u001b[0m \u001b[0mname\u001b[0m\u001b[0;34m)\u001b[0m\u001b[0;34m\u001b[0m\u001b[0;34m\u001b[0m\u001b[0m\n\u001b[1;32m   5064\u001b[0m         \u001b[0;32melse\u001b[0m\u001b[0;34m:\u001b[0m\u001b[0;34m\u001b[0m\u001b[0;34m\u001b[0m\u001b[0m\n\u001b[0;32m-> 5065\u001b[0;31m             \u001b[0;32mif\u001b[0m \u001b[0mself\u001b[0m\u001b[0;34m.\u001b[0m\u001b[0m_info_axis\u001b[0m\u001b[0;34m.\u001b[0m\u001b[0m_can_hold_identifiers_and_holds_name\u001b[0m\u001b[0;34m(\u001b[0m\u001b[0mname\u001b[0m\u001b[0;34m)\u001b[0m\u001b[0;34m:\u001b[0m\u001b[0;34m\u001b[0m\u001b[0;34m\u001b[0m\u001b[0m\n\u001b[0m\u001b[1;32m   5066\u001b[0m                 \u001b[0;32mreturn\u001b[0m \u001b[0mself\u001b[0m\u001b[0;34m[\u001b[0m\u001b[0mname\u001b[0m\u001b[0;34m]\u001b[0m\u001b[0;34m\u001b[0m\u001b[0;34m\u001b[0m\u001b[0m\n\u001b[1;32m   5067\u001b[0m             \u001b[0;32mreturn\u001b[0m \u001b[0mobject\u001b[0m\u001b[0;34m.\u001b[0m\u001b[0m__getattribute__\u001b[0m\u001b[0;34m(\u001b[0m\u001b[0mself\u001b[0m\u001b[0;34m,\u001b[0m \u001b[0mname\u001b[0m\u001b[0;34m)\u001b[0m\u001b[0;34m\u001b[0m\u001b[0;34m\u001b[0m\u001b[0m\n",
      "\u001b[0;32m/dls_sw/apps/python/anaconda/4.6.14/64/envs/python3.7/lib/python3.7/site-packages/pandas/core/generic.py\u001b[0m in \u001b[0;36m__getattr__\u001b[0;34m(self, name)\u001b[0m\n\u001b[1;32m   5063\u001b[0m             \u001b[0;32mreturn\u001b[0m \u001b[0mobject\u001b[0m\u001b[0;34m.\u001b[0m\u001b[0m__getattribute__\u001b[0m\u001b[0;34m(\u001b[0m\u001b[0mself\u001b[0m\u001b[0;34m,\u001b[0m \u001b[0mname\u001b[0m\u001b[0;34m)\u001b[0m\u001b[0;34m\u001b[0m\u001b[0;34m\u001b[0m\u001b[0m\n\u001b[1;32m   5064\u001b[0m         \u001b[0;32melse\u001b[0m\u001b[0;34m:\u001b[0m\u001b[0;34m\u001b[0m\u001b[0;34m\u001b[0m\u001b[0m\n\u001b[0;32m-> 5065\u001b[0;31m             \u001b[0;32mif\u001b[0m \u001b[0mself\u001b[0m\u001b[0;34m.\u001b[0m\u001b[0m_info_axis\u001b[0m\u001b[0;34m.\u001b[0m\u001b[0m_can_hold_identifiers_and_holds_name\u001b[0m\u001b[0;34m(\u001b[0m\u001b[0mname\u001b[0m\u001b[0;34m)\u001b[0m\u001b[0;34m:\u001b[0m\u001b[0;34m\u001b[0m\u001b[0;34m\u001b[0m\u001b[0m\n\u001b[0m\u001b[1;32m   5066\u001b[0m                 \u001b[0;32mreturn\u001b[0m \u001b[0mself\u001b[0m\u001b[0;34m[\u001b[0m\u001b[0mname\u001b[0m\u001b[0;34m]\u001b[0m\u001b[0;34m\u001b[0m\u001b[0;34m\u001b[0m\u001b[0m\n\u001b[1;32m   5067\u001b[0m             \u001b[0;32mreturn\u001b[0m \u001b[0mobject\u001b[0m\u001b[0;34m.\u001b[0m\u001b[0m__getattribute__\u001b[0m\u001b[0;34m(\u001b[0m\u001b[0mself\u001b[0m\u001b[0;34m,\u001b[0m \u001b[0mname\u001b[0m\u001b[0;34m)\u001b[0m\u001b[0;34m\u001b[0m\u001b[0;34m\u001b[0m\u001b[0m\n",
      "... last 2 frames repeated, from the frame below ...\n",
      "\u001b[0;32m/dls_sw/apps/python/anaconda/4.6.14/64/envs/python3.7/lib/python3.7/site-packages/pandas/core/generic.py\u001b[0m in \u001b[0;36m__getattr__\u001b[0;34m(self, name)\u001b[0m\n\u001b[1;32m   5063\u001b[0m             \u001b[0;32mreturn\u001b[0m \u001b[0mobject\u001b[0m\u001b[0;34m.\u001b[0m\u001b[0m__getattribute__\u001b[0m\u001b[0;34m(\u001b[0m\u001b[0mself\u001b[0m\u001b[0;34m,\u001b[0m \u001b[0mname\u001b[0m\u001b[0;34m)\u001b[0m\u001b[0;34m\u001b[0m\u001b[0;34m\u001b[0m\u001b[0m\n\u001b[1;32m   5064\u001b[0m         \u001b[0;32melse\u001b[0m\u001b[0;34m:\u001b[0m\u001b[0;34m\u001b[0m\u001b[0;34m\u001b[0m\u001b[0m\n\u001b[0;32m-> 5065\u001b[0;31m             \u001b[0;32mif\u001b[0m \u001b[0mself\u001b[0m\u001b[0;34m.\u001b[0m\u001b[0m_info_axis\u001b[0m\u001b[0;34m.\u001b[0m\u001b[0m_can_hold_identifiers_and_holds_name\u001b[0m\u001b[0;34m(\u001b[0m\u001b[0mname\u001b[0m\u001b[0;34m)\u001b[0m\u001b[0;34m:\u001b[0m\u001b[0;34m\u001b[0m\u001b[0;34m\u001b[0m\u001b[0m\n\u001b[0m\u001b[1;32m   5066\u001b[0m                 \u001b[0;32mreturn\u001b[0m \u001b[0mself\u001b[0m\u001b[0;34m[\u001b[0m\u001b[0mname\u001b[0m\u001b[0;34m]\u001b[0m\u001b[0;34m\u001b[0m\u001b[0;34m\u001b[0m\u001b[0m\n\u001b[1;32m   5067\u001b[0m             \u001b[0;32mreturn\u001b[0m \u001b[0mobject\u001b[0m\u001b[0;34m.\u001b[0m\u001b[0m__getattribute__\u001b[0m\u001b[0;34m(\u001b[0m\u001b[0mself\u001b[0m\u001b[0;34m,\u001b[0m \u001b[0mname\u001b[0m\u001b[0;34m)\u001b[0m\u001b[0;34m\u001b[0m\u001b[0;34m\u001b[0m\u001b[0m\n",
      "\u001b[0;31mRecursionError\u001b[0m: maximum recursion depth exceeded while calling a Python object"
     ]
    }
   ],
   "source": [
    "n1.nx.entry154.measurement.ct11.attrs\n",
    "n1.nx.keys()\n",
    "n1.nx.attrs"
   ]
  },
  {
   "cell_type": "code",
   "execution_count": null,
   "metadata": {},
   "outputs": [],
   "source": [
    "n1.nx.entry154.measurement.keys()"
   ]
  },
  {
   "cell_type": "code",
   "execution_count": null,
   "metadata": {},
   "outputs": [],
   "source": [
    "find_key(n1.nx, 'measurement')"
   ]
  },
  {
   "cell_type": "code",
   "execution_count": null,
   "metadata": {},
   "outputs": [],
   "source": [
    "n1.nx.plot()"
   ]
  },
  {
   "cell_type": "code",
   "execution_count": null,
   "metadata": {},
   "outputs": [],
   "source": [
    "n2=pdnx('/home/spc93/data/xanes_new_py3.h5')"
   ]
  },
  {
   "cell_type": "code",
   "execution_count": null,
   "metadata": {},
   "outputs": [],
   "source": [
    "print n2.nx.tree"
   ]
  },
  {
   "cell_type": "code",
   "execution_count": null,
   "metadata": {},
   "outputs": [],
   "source": [
    "n2.nx.plot()"
   ]
  },
  {
   "cell_type": "code",
   "execution_count": null,
   "metadata": {},
   "outputs": [],
   "source": []
  },
  {
   "cell_type": "code",
   "execution_count": null,
   "metadata": {},
   "outputs": [],
   "source": []
  },
  {
   "cell_type": "code",
   "execution_count": null,
   "metadata": {},
   "outputs": [],
   "source": []
  }
 ],
 "metadata": {
  "kernelspec": {
   "display_name": "Python 3.7 [DLS Conda]",
   "language": "python",
   "name": "conda-env-DLS_Conda-python3.7-kernel.json"
  },
  "language_info": {
   "codemirror_mode": {
    "name": "ipython",
    "version": 3
   },
   "file_extension": ".py",
   "mimetype": "text/x-python",
   "name": "python",
   "nbconvert_exporter": "python",
   "pygments_lexer": "ipython3",
   "version": "3.7.3"
  }
 },
 "nbformat": 4,
 "nbformat_minor": 2
}
