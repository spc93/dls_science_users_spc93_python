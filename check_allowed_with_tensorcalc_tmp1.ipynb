{
 "cells": [
  {
   "cell_type": "code",
   "execution_count": 1,
   "id": "7b4a22cb",
   "metadata": {},
   "outputs": [
    {
     "name": "stdout",
     "output_type": "stream",
     "text": [
      "\n",
      "Crystal properties\n",
      "\n",
      "                    CIF file:  Spacegroup # 161\n",
      "                     Lattice:  0.500 0.500 0.500 90.00 90.00 90.00\n",
      "                   All sites:  \n",
      "               Site selected:  18 b\n",
      "                 Site vector:  0.047 0.249 0.965\n",
      "       No. of spacegroup ops:  18\n",
      "      No. of sym ops at site:  1\n",
      " No. of equiv. sites in cell:  18\n",
      "   No. of pg ops for crystal:  6\n",
      "\n",
      "Tensor properties\n",
      "\n",
      "             Required parity:  Even\n",
      "          Required time sym.:  Even\n",
      "                         hkl:  [0.0, 1.0, 0.0]\n",
      "                Site allowed:  No\n",
      "   Structure factor for site:  0.00+0.00i\n",
      "          Spacegroup allowed:  No\n",
      "              Tensor allowed:  No\n",
      "                      Parity:  Either\n",
      "                        Time:  Either\n",
      "                          PT:  Either\n",
      "              Glide or screw:  True\n",
      "\n",
      "Tensor properties\n",
      "\n",
      "             Required parity:  Even\n",
      "          Required time sym.:  Even\n",
      "                         hkl:  [0.0, 1.0, 1.0]\n",
      "                Site allowed:  No\n",
      "   Structure factor for site:  0.00+0.00i\n",
      "          Spacegroup allowed:  No\n",
      "              Tensor allowed:  No\n",
      "                      Parity:  Either\n",
      "                        Time:  Either\n",
      "                          PT:  Either\n",
      "              Glide or screw:  True\n",
      "\n",
      "Tensor properties\n",
      "\n",
      "             Required parity:  Even\n",
      "          Required time sym.:  Even\n",
      "                         hkl:  [0.0, 2.0, 0.0]\n",
      "                Site allowed:  No\n",
      "   Structure factor for site:  0.00+0.00i\n",
      "          Spacegroup allowed:  No\n",
      "              Tensor allowed:  No\n",
      "                      Parity:  Either\n",
      "                        Time:  Either\n",
      "                          PT:  Either\n",
      "              Glide or screw:  True\n",
      "\n",
      "Tensor properties\n",
      "\n",
      "             Required parity:  Even\n",
      "          Required time sym.:  Even\n",
      "                         hkl:  [0.0, 2.0, 1.0]\n",
      "                Site allowed:  No\n",
      "   Structure factor for site:  -0.00+0.00i\n",
      "          Spacegroup allowed:  No\n",
      "              Tensor allowed:  Yes\n",
      "                      Parity:  Either\n",
      "                        Time:  Either\n",
      "                          PT:  Either\n",
      "              Glide or screw:  True\n",
      "\n",
      "Tensor properties\n",
      "\n",
      "             Required parity:  Even\n",
      "          Required time sym.:  Even\n",
      "                         hkl:  [0.0, 1.0, 2.0]\n",
      "                Site allowed:  Yes\n",
      "   Structure factor for site:  6.22+-4.53i\n",
      "          Spacegroup allowed:  Yes\n",
      "              Tensor allowed:  Yes\n",
      "                      Parity:  Either\n",
      "                        Time:  Either\n",
      "                          PT:  Either\n",
      "              Glide or screw:  True\n"
     ]
    }
   ],
   "source": [
    "import TensorScatteringClass as ten\n",
    "import numpy as np\n",
    "\n",
    "t=ten.TensorScatteringClass(spacegroup_number = 161, wyckoff_letter = 'b')\n",
    "\n",
    "reflist = [[0,1,0], [0,1,1], [0,2,0], [0,2,1], [0, 1, 2]]\n",
    "\n",
    "for ref in reflist:\n",
    "    t.hkl = np.array(ref)\n",
    "    t.TensorCalc(hkl = t.hkl, K=2, Parity=1, Time=1)\n",
    "    t.gen_scalar_allowed\n",
    "\n",
    "#print(t.SF_symmetry(t.sitevec, t.hkl, t.sglist))\n",
    "#t.print_tensors()"
   ]
  },
  {
   "cell_type": "code",
   "execution_count": 2,
   "id": "0e118a88",
   "metadata": {},
   "outputs": [
    {
     "data": {
      "text/plain": [
       "1"
      ]
     },
     "execution_count": 2,
     "metadata": {},
     "output_type": "execute_result"
    }
   ],
   "source": [
    "t.gen_scalar_allowed"
   ]
  },
  {
   "cell_type": "code",
   "execution_count": null,
   "id": "c0cad700",
   "metadata": {},
   "outputs": [],
   "source": []
  }
 ],
 "metadata": {
  "kernelspec": {
   "display_name": "Python 3.7 [DLS Conda]",
   "language": "python",
   "name": "conda-env-DLS_Conda-python3.7-kernel.json"
  },
  "language_info": {
   "codemirror_mode": {
    "name": "ipython",
    "version": 3
   },
   "file_extension": ".py",
   "mimetype": "text/x-python",
   "name": "python",
   "nbconvert_exporter": "python",
   "pygments_lexer": "ipython3",
   "version": "3.7.3"
  }
 },
 "nbformat": 4,
 "nbformat_minor": 5
}
