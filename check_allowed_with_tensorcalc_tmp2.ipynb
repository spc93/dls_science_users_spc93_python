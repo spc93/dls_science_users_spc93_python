{
 "cells": [
  {
   "cell_type": "code",
   "execution_count": 4,
   "id": "7b4a22cb",
   "metadata": {},
   "outputs": [
    {
     "name": "stdout",
     "output_type": "stream",
     "text": [
      "\n",
      "Crystal properties\n",
      "\n",
      "                    CIF file:  Spacegroup # 142\n",
      "                     Lattice:  0.500 0.500 0.500 90.00 90.00 90.00\n",
      "                   All sites:  \n",
      "               Site selected:  16 e\n",
      "                 Site vector:  0.243 0.000 0.250\n",
      "       No. of spacegroup ops:  32\n",
      "      No. of sym ops at site:  2\n",
      " No. of equiv. sites in cell:  16\n",
      "   No. of pg ops for crystal:  16\n",
      "==========================================================================================  K = +1\n",
      "\n",
      "Tensor properties\n",
      "\n",
      "             Required parity:  Even\n",
      "          Required time sym.:  Even\n",
      "                         hkl:  [1.0, 1.0, 0.0]\n",
      "                Site allowed:  No\n",
      "   Structure factor for site:  0.00+-0.00i\n",
      "          Spacegroup allowed:  No\n",
      "              Tensor allowed:  Yes\n",
      "                      Parity:  Either\n",
      "                        Time:  Either\n",
      "                          PT:  Either\n",
      "              Glide or screw:  True\n",
      "\n",
      "Tensor components\n",
      "\n",
      "         Crystal (spherical):  [ 0.+0.j  0.+0.j -0.+0.j]\n",
      "            Atom (spherical):  [ 1.+0.j  0.+0.j -1.-0.j]\n",
      "  Struct. factor (spherical):  [1.-0.j 0.-0.j 0.-1.j]\n",
      "      Scattering phase (rad):  0.00\n",
      "\n",
      "Crystal (Cartesian):\n",
      "\n",
      "[0.+0.j 0.+0.j 0.+0.j]\n",
      "\n",
      "Atom (Cartesian):\n",
      "\n",
      "[0.505+0.j 0.   +0.j 0.   +0.j]\n",
      "\n",
      "Struct. factor (Cartesian):\n",
      "\n",
      "[1.+0.j 1.+0.j 0.-0.j]\n",
      "\n",
      "==========================================================================================  K = -1\n",
      "\n",
      "Tensor properties\n",
      "\n",
      "             Required parity:  Odd\n",
      "          Required time sym.:  Even\n",
      "                         hkl:  [1.0, 1.0, 0.0]\n",
      "                Site allowed:  No\n",
      "   Structure factor for site:  0.00+-0.00i\n",
      "          Spacegroup allowed:  No\n",
      "              Tensor allowed:  Yes\n",
      "                      Parity:  Either\n",
      "                        Time:  Either\n",
      "                          PT:  Either\n",
      "              Glide or screw:  True\n",
      "\n",
      "Tensor components\n",
      "\n",
      "         Crystal (spherical):  [0.+0.j 0.+0.j 0.+0.j]\n",
      "            Atom (spherical):  [ 1.+0.j  0.+0.j -1.-0.j]\n",
      "  Struct. factor (spherical):  [-0.+0.j  0.-0.j -0.+0.j]\n",
      "      Scattering phase (rad):  -2.50\n",
      "\n",
      "Crystal (Cartesian):\n",
      "\n",
      "[0.+0.j 0.+0.j 0.+0.j]\n",
      "\n",
      "Atom (Cartesian):\n",
      "\n",
      "[2.584+0.j 0.   +0.j 0.   +0.j]\n",
      "\n",
      "Struct. factor (Cartesian):\n",
      "\n",
      "[-0.+0.j -0.-0.j  0.-0.j]\n",
      "\n"
     ]
    }
   ],
   "source": [
    "# look at (110):\n",
    "# it is in class e1 (includes K=+1 but not K=-1)\n",
    "# without l=4n rule it would be in class e5 (includes K=-1 but not K=+1)\n",
    "# why is K=-1 not allowed? where does the rule come from?\n",
    "\n",
    "# tensor 0 for K=-1\n",
    "# non-zero K=+1\n",
    "\n",
    "########### is there an l=4 example (rather than l=0)?\n",
    "\n",
    "import TensorScatteringClass as ten\n",
    "import numpy as np\n",
    "\n",
    "t=ten.TensorScatteringClass(spacegroup_number = 142, wyckoff_letter = 'e')\n",
    "\n",
    "print('=' * 90 + '  K = +1')\n",
    "t.TensorCalc(hkl = (1, 1, 0), K=1, Parity=1, Time=1)\n",
    "t.print_tensors()\n",
    "\n",
    "print('=' * 90 + '  K = -1')\n",
    "t.TensorCalc(hkl = (1, 1, 0), K=1, Parity=-1, Time=1)\n",
    "t.print_tensors()\n",
    "\n",
    "\n",
    "#t.gen_scalar_allowed\n",
    "#print(t.SF_symmetry(t.sitevec, t.hkl, t.sglist))"
   ]
  },
  {
   "cell_type": "code",
   "execution_count": 2,
   "id": "0e118a88",
   "metadata": {},
   "outputs": [
    {
     "data": {
      "text/plain": [
       "1"
      ]
     },
     "execution_count": 2,
     "metadata": {},
     "output_type": "execute_result"
    }
   ],
   "source": []
  },
  {
   "cell_type": "code",
   "execution_count": null,
   "id": "c0cad700",
   "metadata": {},
   "outputs": [],
   "source": []
  }
 ],
 "metadata": {
  "kernelspec": {
   "display_name": "Python 3.7 [DLS Conda]",
   "language": "python",
   "name": "conda-env-DLS_Conda-python3.7-kernel.json"
  },
  "language_info": {
   "codemirror_mode": {
    "name": "ipython",
    "version": 3
   },
   "file_extension": ".py",
   "mimetype": "text/x-python",
   "name": "python",
   "nbconvert_exporter": "python",
   "pygments_lexer": "ipython3",
   "version": "3.7.3"
  }
 },
 "nbformat": 4,
 "nbformat_minor": 5
}
