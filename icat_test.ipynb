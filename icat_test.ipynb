{
 "cells": [
  {
   "cell_type": "code",
   "execution_count": null,
   "id": "a7a11789",
   "metadata": {},
   "outputs": [],
   "source": []
  },
  {
   "cell_type": "code",
   "execution_count": 9,
   "id": "0160a380",
   "metadata": {},
   "outputs": [
    {
     "name": "stdout",
     "output_type": "stream",
     "text": [
      "········\n",
      "{'endDate': '2020-04-11 09:00:00+01:00',\n",
      " 'proposal': MM25913,\n",
      " 'startDate': '2020-04-09 09:00:00+01:00',\n",
      " 'summary': We have recently observed a feature in the Gd L1 XAS spectrum of gallium gadolinium garnet that we believe, on the basis of energy and anisotropy, and theoretical modelling, to be the first example of electric octupole resonance in x-ray spectroscopy. Specifically, the peak is beleived to arise from interference between dipole and octupole events, driven by hybridization between the highly localized 4f and delocalized 6p orbitals. This is thought to be indicative of bonding between 4f states and neighbouring oxygen ligands. While evidence for this interpretation appear sound, several aspects of the work are novel and observation of the same spectral feature by an alternative technique would be extremely valuable. We proposal to carry out such a study using resonant forbidden x-ray diffraction. A positive result would represent the first observation of octupole resonant x-ray scattering.,\n",
      " 'title': Electric Octapole resonant forbidden diffraction as a possible new probe of 4f hybridization,\n",
      " 'visitId': MM25913-1}\n",
      "None\n",
      "[{'fullName': Prof Steve Collins, 'role': PRINCIPAL_INVESTIGATOR}]\n"
     ]
    }
   ],
   "source": [
    "import getpass, pprint\n",
    "from datacat import datacat_visit_info\n",
    "session = 'MM25913-1'\n",
    "\n",
    "dcat = datacat_visit_info.DataCatalogueVisitInfo('spc93', getpass.getpass())\n",
    "pprint.pprint(dcat.get_visit_info(session))\n",
    "pprint.pprint(dcat.get_visit_sample(session))\n",
    "pprint.pprint(dcat.get_visit_users(session))\n"
   ]
  },
  {
   "cell_type": "code",
   "execution_count": 6,
   "id": "04b31c4d",
   "metadata": {},
   "outputs": [],
   "source": [
    "dcat.get_visit_sample('MM25913-1')"
   ]
  },
  {
   "cell_type": "code",
   "execution_count": 7,
   "id": "5fdde46e",
   "metadata": {},
   "outputs": [
    {
     "data": {
      "text/plain": [
       "[{'role': PRINCIPAL_INVESTIGATOR, 'fullName': Prof Steve Collins}]"
      ]
     },
     "execution_count": 7,
     "metadata": {},
     "output_type": "execute_result"
    }
   ],
   "source": [
    "dcat.get_visit_users('MM25913-1')"
   ]
  },
  {
   "cell_type": "code",
   "execution_count": 12,
   "id": "c4d83b56",
   "metadata": {},
   "outputs": [],
   "source": [
    "from datacat import *"
   ]
  },
  {
   "cell_type": "code",
   "execution_count": 15,
   "id": "b5ef5d88",
   "metadata": {},
   "outputs": [],
   "source": [
    "datacat_search_api?"
   ]
  },
  {
   "cell_type": "code",
   "execution_count": null,
   "id": "088fb0be",
   "metadata": {},
   "outputs": [],
   "source": []
  }
 ],
 "metadata": {
  "kernelspec": {
   "display_name": "Python 3.7 [DLS Conda]",
   "language": "python",
   "name": "conda-env-DLS_Conda-python3.7-kernel.json"
  },
  "language_info": {
   "codemirror_mode": {
    "name": "ipython",
    "version": 3
   },
   "file_extension": ".py",
   "mimetype": "text/x-python",
   "name": "python",
   "nbconvert_exporter": "python",
   "pygments_lexer": "ipython3",
   "version": "3.7.3"
  }
 },
 "nbformat": 4,
 "nbformat_minor": 5
}
