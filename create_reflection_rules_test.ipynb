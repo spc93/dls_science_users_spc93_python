{
 "cells": [
  {
   "cell_type": "code",
   "execution_count": 1,
   "id": "1f870553",
   "metadata": {},
   "outputs": [
    {
     "name": "stdout",
     "output_type": "stream",
     "text": [
      "I\n",
      "Space group: I 41/a c d :2 (No. 142)\n",
      "None\n",
      "No. sg ops:  32\n",
      "1 \t x,y,z\n",
      "2 \t -y+1/4,x+3/4,z+1/4\n",
      "3 \t y+1/4,-x+1/4,z+3/4\n",
      "4 \t x,-y,-z+1/2\n",
      "5 \t -x+1/2,y,-z\n",
      "6 \t -x,-y+1/2,z\n",
      "7 \t y+1/4,x+3/4,-z+3/4\n",
      "8 \t -y+1/4,-x+1/4,-z+1/4\n",
      "9 \t -x,-y,-z\n",
      "10 \t y-1/4,-x-3/4,-z-1/4\n",
      "11 \t -y-1/4,x-1/4,-z-3/4\n",
      "12 \t -x,y,z-1/2\n",
      "13 \t x-1/2,-y,z\n",
      "14 \t x,y-1/2,-z\n",
      "15 \t -y-1/4,-x-3/4,z-3/4\n",
      "16 \t y-1/4,x-1/4,z-1/4\n",
      "17 \t x+1/2,y+1/2,z+1/2\n",
      "18 \t -y+3/4,x+5/4,z+3/4\n",
      "19 \t y+3/4,-x+3/4,z+5/4\n",
      "20 \t x+1/2,-y+1/2,-z+1\n",
      "21 \t -x+1,y+1/2,-z+1/2\n",
      "22 \t -x+1/2,-y+1,z+1/2\n",
      "23 \t y+3/4,x+5/4,-z+5/4\n",
      "24 \t -y+3/4,-x+3/4,-z+3/4\n",
      "25 \t -x+1/2,-y+1/2,-z+1/2\n",
      "26 \t y+1/4,-x-1/4,-z+1/4\n",
      "27 \t -y+1/4,x+1/4,-z-1/4\n",
      "28 \t -x+1/2,y+1/2,z\n",
      "29 \t x,-y+1/2,z+1/2\n",
      "30 \t x+1/2,y,-z+1/2\n",
      "31 \t -y+1/4,-x-1/4,z-1/4\n",
      "32 \t y+1/4,x+1/4,z+1/4\n",
      "Generators\n",
      "Generator:  -x,-y,-z\n",
      "Generator:  y,y-z+1/2,-x+y\n",
      "Generator:  -x+1/2,-x+z+1/2,-x+y\n",
      "7 y+1/4,x+3/4,-z+3/4\n",
      "2*h*(-x + y + 1/4) + 2*k*(x - y + 3/4) + 2*l*(3/4 - 2*z)\n",
      "Object `?? general positions are not the same as International tables (any origin choice)` not found.\n",
      "Object `zero` not found.\n"
     ]
    }
   ],
   "source": [
    "import cctbx.sgtbx as sg\n",
    "import sympy as sp\n",
    "\n",
    "x, y, z = sp.symbols(['x', 'y', 'z'])\n",
    "h, k, l = sp.symbols(['h', 'k', 'l'])\n",
    "\n",
    "\n",
    "sgi = sg.space_group_info(142)\n",
    "sg = sgi.group()\n",
    "sgi.symbol_and_number() # 'I 41/a c d :2 (No. 142)'\n",
    "sym_num_str = sgi.symbol_and_number()\n",
    "print(sym_num_str[0])\n",
    "print(sgi.show_summary())\n",
    "print('No. sg ops: ', len(sg.all_ops()))\n",
    "symxyz = [str(s.as_xyz()) for s in sg.all_ops()]\n",
    "for i in range(len(symxyz)): print(i+1, '\\t',symxyz[i])\n",
    "#print(symxyz)\n",
    "\n",
    "print('Generators')\n",
    "for generator in sg.info().any_generator_set().primitive_generators:\n",
    "    gen_xyz = generator.as_xyz()\n",
    "    print('Generator: ', generator.as_xyz())\n",
    "\n",
    "\n",
    "#sg.info().any_generator_set().primitive_generators[0].as_xyz()\n",
    "\n",
    "#index generators from 1\n",
    "#generator = 17 # I centring\n",
    "#generator = 4 # gride no rules for general pos\n",
    "#generator = 2 # screw 00l: l=4n (h=k=l to eliminate x,y)\n",
    "#generator = 3 # screw 00l: l=4n (h=k=l to eliminate x,y) 3l/2 =even => l/2 even => l=4n\n",
    "generator = 7 #\n",
    "\n",
    "print(generator, symxyz[generator-1])\n",
    "xp, yp, zp = sp.simplify(symxyz[generator-1])\n",
    "F = 2 * h * (xp - x) + 2 * k * (yp - y) + 2 * l * (zp - z)\n",
    "print(F)\n",
    "F\n",
    "\n",
    "\n",
    "\n",
    "\n",
    "???? general positions are not the same as International tables (any origin choice)\n",
    "???? look at generator 7; work out rules. Sympy: reduce number of variables then set them to zero??"
   ]
  },
  {
   "cell_type": "markdown",
   "id": "bd6656b7",
   "metadata": {},
   "source": [
    "https://cctbx.github.io/cctbx/cctbx.sgtbx.html"
   ]
  },
  {
   "cell_type": "code",
   "execution_count": 2,
   "id": "8003d9db",
   "metadata": {},
   "outputs": [
    {
     "data": {
      "text/latex": [
       "$\\displaystyle \\frac{h \\left(- 4 x + 4 y + 1\\right)}{2} + \\frac{k \\left(4 x - 4 y + 3\\right)}{2} - \\frac{l \\left(8 z - 3\\right)}{2}$"
      ],
      "text/plain": [
       "h*(-4*x + 4*y + 1)/2 + k*(4*x - 4*y + 3)/2 - l*(8*z - 3)/2"
      ]
     },
     "execution_count": 2,
     "metadata": {},
     "output_type": "execute_result"
    }
   ],
   "source": [
    "sp.simplify(F)"
   ]
  },
  {
   "cell_type": "code",
   "execution_count": 3,
   "id": "aaebcd19",
   "metadata": {},
   "outputs": [
    {
     "data": {
      "text/latex": [
       "$\\displaystyle \\frac{h \\left(- 4 x + 4 y + 1\\right)}{2} + \\frac{k \\left(4 x - 4 y + 3\\right)}{2} - \\frac{l \\left(8 z - 3\\right)}{2}$"
      ],
      "text/plain": [
       "h*(-4*x + 4*y + 1)/2 + k*(4*x - 4*y + 3)/2 - l*(8*z - 3)/2"
      ]
     },
     "execution_count": 3,
     "metadata": {},
     "output_type": "execute_result"
    }
   ],
   "source": [
    "sp.simplify(F)"
   ]
  },
  {
   "cell_type": "code",
   "execution_count": 4,
   "id": "ed4c48ae",
   "metadata": {},
   "outputs": [
    {
     "data": {
      "text/latex": [
       "$\\displaystyle - \\frac{4 h x - 4 h y - h - 4 k x + 4 k y - 3 k + 8 l z - 3 l}{2}$"
      ],
      "text/plain": [
       "-(4*h*x - 4*h*y - h - 4*k*x + 4*k*y - 3*k + 8*l*z - 3*l)/2"
      ]
     },
     "execution_count": 4,
     "metadata": {},
     "output_type": "execute_result"
    }
   ],
   "source": [
    "sp.factor(F)"
   ]
  },
  {
   "cell_type": "code",
   "execution_count": null,
   "id": "c61ee015",
   "metadata": {},
   "outputs": [],
   "source": []
  },
  {
   "cell_type": "code",
   "execution_count": null,
   "id": "fe67bd8b",
   "metadata": {},
   "outputs": [],
   "source": []
  },
  {
   "cell_type": "code",
   "execution_count": 5,
   "id": "3359ecf6",
   "metadata": {},
   "outputs": [],
   "source": [
    "si = sg.info()\n"
   ]
  },
  {
   "cell_type": "code",
   "execution_count": 6,
   "id": "cce82725",
   "metadata": {},
   "outputs": [
    {
     "data": {
      "text/plain": [
       "(<cctbx_sgtbx_ext.rt_mx at 0x7f66cfa094b0>,\n",
       " <cctbx_sgtbx_ext.rt_mx at 0x7f66cfa09530>,\n",
       " <cctbx_sgtbx_ext.rt_mx at 0x7f66cfa095b0>)"
      ]
     },
     "execution_count": 6,
     "metadata": {},
     "output_type": "execute_result"
    }
   ],
   "source": [
    "ss = si.any_generator_set()\n",
    "ss.primitive_generators\n",
    "\n"
   ]
  },
  {
   "cell_type": "raw",
   "id": "5be2558e",
   "metadata": {},
   "source": [
    "#pip install sympy\n",
    "import sympy as sp\n",
    "#from sympy.parsing.sympy_parser import parse_expr\n",
    "\n",
    "x, y, z = sp.symbols(['x', 'y', 'z'])\n",
    "h, k, l = sp.symbols(['h', 'k', 'l'])\n"
   ]
  },
  {
   "cell_type": "raw",
   "id": "69332471",
   "metadata": {},
   "source": [
    "s = symxyz[16] # centring\n",
    "#s = symxyz[1] # complex type\n",
    "s\n",
    "\n",
    "########### how to solve this????????????\n",
    "\n",
    "#use sympy to simplify expression h(x'-x) + k(y'-y) + l(z'-z) = 2n+1 (or whatever)\n",
    "#factorize?...\n",
    "\n",
    "\n",
    "\n",
    "\n"
   ]
  },
  {
   "cell_type": "raw",
   "id": "992ae573",
   "metadata": {},
   "source": [
    "#rp = sp.simplify(s)\n",
    "#print(rp)\n",
    "#print(rp[0])\n",
    "xp, yp, zp = sp.simplify(s)\n",
    "\n",
    "F = 2 * h * (xp - x) + 2 * k * (yp - y) + 2 * l * (zp - z)\n",
    "F\n",
    "\n",
    "# zero if h + k + l is odd"
   ]
  },
  {
   "cell_type": "raw",
   "id": "66ee345f",
   "metadata": {},
   "source": [
    ">> from cctbx import sgtbx\n",
    ">> sg = sgtbx.space_group(\"P21\")\n",
    ">> sg.info().any_generator_set().primitive_generators\n",
    "\n",
    "gives a list of generators, then you can call methods like as_xyz() to get them in particular forms:\n",
    ">> sg.info().any_generator_set().primitive_generators[0].as_xyz()\n",
    "'-x,-y,z+1/2'\n"
   ]
  },
  {
   "cell_type": "code",
   "execution_count": null,
   "id": "8014cee8",
   "metadata": {},
   "outputs": [],
   "source": []
  },
  {
   "cell_type": "code",
   "execution_count": 7,
   "id": "e9874a68",
   "metadata": {},
   "outputs": [
    {
     "data": {
      "text/latex": [
       "$\\displaystyle h \\left(x + y + 1\\right) + k \\left(- x - y\\right)$"
      ],
      "text/plain": [
       "h*(x + y + 1) + k*(-x - y)"
      ]
     },
     "execution_count": 7,
     "metadata": {},
     "output_type": "execute_result"
    }
   ],
   "source": [
    "ff = h * (x + y + 1) + k * (-x -y)\n",
    "ff"
   ]
  },
  {
   "cell_type": "code",
   "execution_count": 8,
   "id": "4d2592cb",
   "metadata": {},
   "outputs": [
    {
     "name": "stdout",
     "output_type": "stream",
     "text": [
      "h*(x + y + 1) + k*(-x - y)\n",
      "x + y + 1\n",
      "[u - y - 1]\n",
      "h*(x + y + 1) + k*(-x - y)\n",
      "h*u + k*(1 - u)\n",
      "h - k\n"
     ]
    }
   ],
   "source": [
    "\n",
    "u, v, w = sp.symbols(['u', 'v', 'w'])\n",
    "\n",
    "\n",
    "ff = h * (x + y + 1) + k * (-x -y)\n",
    "print(ff)\n",
    "\n",
    "uu = ff.coeff(h)\n",
    "print(uu)\n",
    "print(sp.solve(uu-u, x))\n",
    "print(ff)\n",
    "ff = ff.subs(x, sp.solve(uu-u, x)[0])\n",
    "print(ff)\n",
    "print(ff.expand().coeff(u))\n",
    "\n",
    "\n",
    "\n",
    "#ff = ff.subs(x, u-y-1)\n",
    "#print(ff)\n",
    "#ff.coeff(u)\n",
    "\n",
    "\n"
   ]
  },
  {
   "cell_type": "code",
   "execution_count": 9,
   "id": "5925fd8a",
   "metadata": {},
   "outputs": [],
   "source": [
    "u = sp.symbols(['u0', 'u1'])"
   ]
  },
  {
   "cell_type": "code",
   "execution_count": 10,
   "id": "99fe842b",
   "metadata": {},
   "outputs": [
    {
     "data": {
      "text/latex": [
       "$\\displaystyle u_{0}$"
      ],
      "text/plain": [
       "u0"
      ]
     },
     "execution_count": 10,
     "metadata": {},
     "output_type": "execute_result"
    }
   ],
   "source": [
    "u[0]"
   ]
  },
  {
   "cell_type": "code",
   "execution_count": null,
   "id": "fcc988ec",
   "metadata": {},
   "outputs": [],
   "source": []
  },
  {
   "cell_type": "code",
   "execution_count": 11,
   "id": "bf6f7fd9",
   "metadata": {},
   "outputs": [
    {
     "data": {
      "text/latex": [
       "$\\displaystyle h \\left(x + y + 1\\right) + k \\left(- x - y\\right) + l \\left(z + 1\\right)$"
      ],
      "text/plain": [
       "h*(x + y + 1) + k*(-x - y) + l*(z + 1)"
      ]
     },
     "metadata": {},
     "output_type": "display_data"
    },
    {
     "data": {
      "text/latex": [
       "$\\displaystyle x$"
      ],
      "text/plain": [
       "x"
      ]
     },
     "metadata": {},
     "output_type": "display_data"
    },
    {
     "data": {
      "text/plain": [
       "[]"
      ]
     },
     "metadata": {},
     "output_type": "display_data"
    },
    {
     "data": {
      "text/latex": [
       "$\\displaystyle h u_{0} + k \\left(1 - u_{0}\\right) + l \\left(z + 1\\right)$"
      ],
      "text/plain": [
       "h*u0 + k*(1 - u0) + l*(z + 1)"
      ]
     },
     "metadata": {},
     "output_type": "display_data"
    },
    {
     "data": {
      "text/latex": [
       "$\\displaystyle h u_{0} + k \\left(1 - u_{0}\\right) + l u_{2}$"
      ],
      "text/plain": [
       "h*u0 + k*(1 - u0) + l*u2"
      ]
     },
     "metadata": {},
     "output_type": "display_data"
    }
   ],
   "source": [
    "#### long form for testing\n",
    "\n",
    "ff = h * (x + y + 1) + k * (-x -y) + l * (z + 1)\n",
    "display(ff)\n",
    "\n",
    "#expr0, expr1, expr2 = ff.coeff(h), ff.coeff(k), ff.coeff(l)\n",
    "\n",
    "u = sp.symbols(['u0', 'u1', 'u2'])\n",
    "\n",
    "def find_xyz(expression):\n",
    "    if expression.coeff(x) != 0:\n",
    "        return x\n",
    "    if expression.coeff(y) != 0:\n",
    "        return y\n",
    "    if expression.coeff(z) != 0:\n",
    "        return z\n",
    "    \n",
    "###a)\n",
    "\n",
    "\n",
    "expr =  ff.coeff(h)\n",
    "xyz_var = find_xyz(expr)\n",
    "\n",
    "if xyz_var != None:\n",
    "    display(xyz_var, sp.solve(expr == u[0], xyz_var))\n",
    "    ff = ff.subs(xyz_var, sp.solve(expr - u[0], xyz_var)[0])\n",
    "#display(ff)\n",
    "\n",
    "\n",
    "###b)\n",
    "\n",
    "expr =  ff.coeff(k)\n",
    "xyz_var = find_xyz(expr)\n",
    "\n",
    "if xyz_var != None:\n",
    "    #display(xyz_var, sp.solve(expr == u[1], xyz_var))\n",
    "    ff = ff.subs(xyz_var, sp.solve(expr - u[1], xyz_var)[0])\n",
    "display(ff)\n",
    "\n",
    "\n",
    "###c)\n",
    "\n",
    "expr =  ff.coeff(l)\n",
    "xyz_var = find_xyz(expr)\n",
    "\n",
    "if xyz_var != None:\n",
    "    #display(xyz_var, sp.solve(expr == u[2], xyz_var))\n",
    "    ff = ff.subs(xyz_var, sp.solve(expr - u[2], xyz_var)[0])\n",
    "\n",
    "    \n",
    "display(ff)\n",
    "\n",
    "\n"
   ]
  },
  {
   "cell_type": "code",
   "execution_count": 12,
   "id": "cc690f3f",
   "metadata": {},
   "outputs": [
    {
     "data": {
      "text/latex": [
       "$\\displaystyle h \\left(x + y + 1\\right) + k \\left(- x - y\\right) + l \\left(z + 1\\right)$"
      ],
      "text/plain": [
       "h*(x + y + 1) + k*(-x - y) + l*(z + 1)"
      ]
     },
     "metadata": {},
     "output_type": "display_data"
    },
    {
     "data": {
      "text/latex": [
       "$\\displaystyle h u_{h} + k \\left(1 - u_{h}\\right) + l u_{l}$"
      ],
      "text/plain": [
       "h*u_h + k*(1 - u_h) + l*u_l"
      ]
     },
     "metadata": {},
     "output_type": "display_data"
    }
   ],
   "source": [
    "## short form\n",
    "\n",
    "ff = h * (x + y + 1) + k * (-x -y) + l * (z + 1)\n",
    "\n",
    "display(ff)\n",
    "\n",
    "u = {'h': sp.symbols('u_h'), 'k': sp.symbols('u_k'), 'l': sp.symbols('u_l')}\n",
    "\n",
    "def find_xyz(expression):\n",
    "    if expression.coeff(x) != 0:\n",
    "        return x\n",
    "    if expression.coeff(y) != 0:\n",
    "        return y\n",
    "    if expression.coeff(z) != 0:\n",
    "        return z\n",
    "    \n",
    "for hkl in ['h', 'k', 'l']:\n",
    "    #print(hkl)\n",
    "    expr =  ff.coeff(hkl)\n",
    "    xyz_var = find_xyz(expr)\n",
    "    #display(xyz_var)\n",
    "\n",
    "    if xyz_var != None:\n",
    "        #display(hkl, xyz_var)\n",
    "        #display(xyz_var, sp.solve(expr - xyz_var, xyz_var))\n",
    "        ff = ff.subs(xyz_var, sp.solve(expr - u[hkl], xyz_var)[0])\n",
    "   \n",
    "  \n",
    "display(ff)\n",
    "\n",
    "\n"
   ]
  },
  {
   "cell_type": "code",
   "execution_count": 13,
   "id": "fab52617",
   "metadata": {},
   "outputs": [
    {
     "data": {
      "text/latex": [
       "$\\displaystyle h u_{h} + k \\left(1 - u_{h}\\right) + l u_{l}$"
      ],
      "text/plain": [
       "h*u_h + k*(1 - u_h) + l*u_l"
      ]
     },
     "execution_count": 13,
     "metadata": {},
     "output_type": "execute_result"
    }
   ],
   "source": [
    "## function form\n",
    "\n",
    "ff = h * (x + y + 1) + k * (-x -y) + l * (z + 1)\n",
    "\n",
    "def eliminate_xyz(ff):\n",
    "\n",
    "    #display(ff)\n",
    "\n",
    "    u = {'h': sp.symbols('u_h'), 'k': sp.symbols('u_k'), 'l': sp.symbols('u_l')}\n",
    "\n",
    "    def find_xyz(expression):\n",
    "        if expression.coeff(x) != 0:\n",
    "            return x\n",
    "        if expression.coeff(y) != 0:\n",
    "            return y\n",
    "        if expression.coeff(z) != 0:\n",
    "            return z\n",
    "\n",
    "    for hkl in ['h', 'k', 'l']:\n",
    "        #print(hkl)\n",
    "        expr =  ff.coeff(hkl)\n",
    "        xyz_var = find_xyz(expr)\n",
    "        #display(xyz_var)\n",
    "\n",
    "        if xyz_var != None:\n",
    "            #display(hkl, xyz_var)\n",
    "            #display(xyz_var, sp.solve(expr - xyz_var, xyz_var))\n",
    "            ff = ff.subs(xyz_var, sp.solve(expr - u[hkl], xyz_var)[0])\n",
    "\n",
    "    return ff\n",
    "    \n",
    "eliminate_xyz(ff)"
   ]
  },
  {
   "cell_type": "code",
   "execution_count": 14,
   "id": "1b1824b7",
   "metadata": {},
   "outputs": [
    {
     "data": {
      "text/plain": [
       "(h*u_h + k*(1 - u_h) + l*u_l, {Eq(h - k, 0), Eq(l, 0)}, k)"
      ]
     },
     "execution_count": 14,
     "metadata": {},
     "output_type": "execute_result"
    }
   ],
   "source": [
    "## function form - new version with conditions and rules\n",
    "\n",
    "ff = h * (x + y + 1) + k * (-x -y) + l * (z + 1)\n",
    "\n",
    "def eliminate_xyz(ff):\n",
    "\n",
    "    #display(ff)\n",
    "\n",
    "    u = {'h': sp.symbols('u_h'), 'k': sp.symbols('u_k'), 'l': sp.symbols('u_l')}\n",
    "\n",
    "    def find_xyz(expression):\n",
    "        if expression.coeff(x) != 0:\n",
    "            return x\n",
    "        if expression.coeff(y) != 0:\n",
    "            return y\n",
    "        if expression.coeff(z) != 0:\n",
    "            return z\n",
    "\n",
    "    for hkl in ['h', 'k', 'l']:\n",
    "        #print(hkl)\n",
    "        expr =  ff.coeff(hkl)\n",
    "        xyz_var = find_xyz(expr)\n",
    "        #display(xyz_var)\n",
    "\n",
    "        if xyz_var != None:\n",
    "            #display(hkl, xyz_var)\n",
    "            #display(xyz_var, sp.solve(expr - xyz_var, xyz_var))\n",
    "            ff = ff.subs(xyz_var, sp.solve(expr - u[hkl], xyz_var)[0])\n",
    "\n",
    "\n",
    "        conds = []\n",
    "        for hkl in ['h', 'k', 'l']:\n",
    "#            coef = ff.expand().coeff(u['h'])\n",
    "            coef = ff.expand().coeff(u[hkl])\n",
    "            if coef != 0:\n",
    "#                conds += [sp.Eq(ff.expand().coeff(u['h']), 0)]\n",
    "                conds += [sp.Eq(ff.expand().coeff(u[hkl]), 0)]\n",
    "\n",
    "        #rule: thhis expression is odd\n",
    "        rule = ff.subs({u['h']:0, u['k']:0, u['l']:0})\n",
    "            \n",
    "    return (ff, set(conds), rule) # use set to remove duplicates\n",
    "    \n",
    "eliminate_xyz(ff)"
   ]
  },
  {
   "cell_type": "code",
   "execution_count": 15,
   "id": "879ebaa6",
   "metadata": {
    "scrolled": true
   },
   "outputs": [
    {
     "name": "stdout",
     "output_type": "stream",
     "text": [
      "I\n",
      "Space group: I 41/a c d :2 (No. 142)\n",
      "None\n",
      "No. sg ops:  32\n",
      "x,y,z\n"
     ]
    },
    {
     "data": {
      "text/latex": [
       "$\\displaystyle 0$"
      ],
      "text/plain": [
       "0"
      ]
     },
     "metadata": {},
     "output_type": "display_data"
    },
    {
     "data": {
      "text/latex": [
       "$\\displaystyle 0$"
      ],
      "text/plain": [
       "0"
      ]
     },
     "metadata": {},
     "output_type": "display_data"
    },
    {
     "data": {
      "text/plain": [
       "set()"
      ]
     },
     "metadata": {},
     "output_type": "display_data"
    },
    {
     "data": {
      "text/latex": [
       "$\\displaystyle 0$"
      ],
      "text/plain": [
       "0"
      ]
     },
     "metadata": {},
     "output_type": "display_data"
    },
    {
     "name": "stdout",
     "output_type": "stream",
     "text": [
      "\n",
      "\n",
      "-y+1/4,x+3/4,z+1/4\n"
     ]
    },
    {
     "data": {
      "text/latex": [
       "$\\displaystyle 2 h \\left(- x - y + \\frac{1}{4}\\right) + 2 k \\left(x - y + \\frac{3}{4}\\right) + \\frac{l}{2}$"
      ],
      "text/plain": [
       "2*h*(-x - y + 1/4) + 2*k*(x - y + 3/4) + l/2"
      ]
     },
     "metadata": {},
     "output_type": "display_data"
    },
    {
     "data": {
      "text/latex": [
       "$\\displaystyle h u_{h} + k u_{k} + \\frac{l}{2}$"
      ],
      "text/plain": [
       "h*u_h + k*u_k + l/2"
      ]
     },
     "metadata": {},
     "output_type": "display_data"
    },
    {
     "data": {
      "text/plain": [
       "{Eq(h, 0), Eq(k, 0)}"
      ]
     },
     "metadata": {},
     "output_type": "display_data"
    },
    {
     "data": {
      "text/latex": [
       "$\\displaystyle \\frac{l}{2}$"
      ],
      "text/plain": [
       "l/2"
      ]
     },
     "metadata": {},
     "output_type": "display_data"
    },
    {
     "name": "stdout",
     "output_type": "stream",
     "text": [
      "\n",
      "\n",
      "y+1/4,-x+1/4,z+3/4\n"
     ]
    },
    {
     "data": {
      "text/latex": [
       "$\\displaystyle 2 h \\left(- x + y + \\frac{1}{4}\\right) + 2 k \\left(- x - y + \\frac{1}{4}\\right) + \\frac{3 l}{2}$"
      ],
      "text/plain": [
       "2*h*(-x + y + 1/4) + 2*k*(-x - y + 1/4) + 3*l/2"
      ]
     },
     "metadata": {},
     "output_type": "display_data"
    },
    {
     "data": {
      "text/latex": [
       "$\\displaystyle h u_{h} + k u_{k} + \\frac{3 l}{2}$"
      ],
      "text/plain": [
       "h*u_h + k*u_k + 3*l/2"
      ]
     },
     "metadata": {},
     "output_type": "display_data"
    },
    {
     "data": {
      "text/plain": [
       "{Eq(h, 0), Eq(k, 0)}"
      ]
     },
     "metadata": {},
     "output_type": "display_data"
    },
    {
     "data": {
      "text/latex": [
       "$\\displaystyle \\frac{3 l}{2}$"
      ],
      "text/plain": [
       "3*l/2"
      ]
     },
     "metadata": {},
     "output_type": "display_data"
    },
    {
     "name": "stdout",
     "output_type": "stream",
     "text": [
      "\n",
      "\n",
      "x,-y,-z+1/2\n"
     ]
    },
    {
     "data": {
      "text/latex": [
       "$\\displaystyle - 4 k y + 2 l \\left(\\frac{1}{2} - 2 z\\right)$"
      ],
      "text/plain": [
       "-4*k*y + 2*l*(1/2 - 2*z)"
      ]
     },
     "metadata": {},
     "output_type": "display_data"
    },
    {
     "data": {
      "text/latex": [
       "$\\displaystyle k u_{k} + l u_{l}$"
      ],
      "text/plain": [
       "k*u_k + l*u_l"
      ]
     },
     "metadata": {},
     "output_type": "display_data"
    },
    {
     "data": {
      "text/plain": [
       "{Eq(k, 0), Eq(l, 0)}"
      ]
     },
     "metadata": {},
     "output_type": "display_data"
    },
    {
     "data": {
      "text/latex": [
       "$\\displaystyle 0$"
      ],
      "text/plain": [
       "0"
      ]
     },
     "metadata": {},
     "output_type": "display_data"
    },
    {
     "name": "stdout",
     "output_type": "stream",
     "text": [
      "\n",
      "\n",
      "-x+1/2,y,-z\n"
     ]
    },
    {
     "data": {
      "text/latex": [
       "$\\displaystyle 2 h \\left(\\frac{1}{2} - 2 x\\right) - 4 l z$"
      ],
      "text/plain": [
       "2*h*(1/2 - 2*x) - 4*l*z"
      ]
     },
     "metadata": {},
     "output_type": "display_data"
    },
    {
     "data": {
      "text/latex": [
       "$\\displaystyle h u_{h} + l u_{l}$"
      ],
      "text/plain": [
       "h*u_h + l*u_l"
      ]
     },
     "metadata": {},
     "output_type": "display_data"
    },
    {
     "data": {
      "text/plain": [
       "{Eq(h, 0), Eq(l, 0)}"
      ]
     },
     "metadata": {},
     "output_type": "display_data"
    },
    {
     "data": {
      "text/latex": [
       "$\\displaystyle 0$"
      ],
      "text/plain": [
       "0"
      ]
     },
     "metadata": {},
     "output_type": "display_data"
    },
    {
     "name": "stdout",
     "output_type": "stream",
     "text": [
      "\n",
      "\n",
      "-x,-y+1/2,z\n"
     ]
    },
    {
     "data": {
      "text/latex": [
       "$\\displaystyle - 4 h x + 2 k \\left(\\frac{1}{2} - 2 y\\right)$"
      ],
      "text/plain": [
       "-4*h*x + 2*k*(1/2 - 2*y)"
      ]
     },
     "metadata": {},
     "output_type": "display_data"
    },
    {
     "data": {
      "text/latex": [
       "$\\displaystyle h u_{h} + k u_{k}$"
      ],
      "text/plain": [
       "h*u_h + k*u_k"
      ]
     },
     "metadata": {},
     "output_type": "display_data"
    },
    {
     "data": {
      "text/plain": [
       "{Eq(h, 0), Eq(k, 0)}"
      ]
     },
     "metadata": {},
     "output_type": "display_data"
    },
    {
     "data": {
      "text/latex": [
       "$\\displaystyle 0$"
      ],
      "text/plain": [
       "0"
      ]
     },
     "metadata": {},
     "output_type": "display_data"
    },
    {
     "name": "stdout",
     "output_type": "stream",
     "text": [
      "\n",
      "\n",
      "y+1/4,x+3/4,-z+3/4\n"
     ]
    },
    {
     "data": {
      "text/latex": [
       "$\\displaystyle 2 h \\left(- x + y + \\frac{1}{4}\\right) + 2 k \\left(x - y + \\frac{3}{4}\\right) + 2 l \\left(\\frac{3}{4} - 2 z\\right)$"
      ],
      "text/plain": [
       "2*h*(-x + y + 1/4) + 2*k*(x - y + 3/4) + 2*l*(3/4 - 2*z)"
      ]
     },
     "metadata": {},
     "output_type": "display_data"
    },
    {
     "data": {
      "text/latex": [
       "$\\displaystyle h u_{h} + 2 k \\left(1 - \\frac{u_{h}}{2}\\right) + l u_{l}$"
      ],
      "text/plain": [
       "h*u_h + 2*k*(1 - u_h/2) + l*u_l"
      ]
     },
     "metadata": {},
     "output_type": "display_data"
    },
    {
     "data": {
      "text/plain": [
       "{Eq(h - k, 0), Eq(l, 0)}"
      ]
     },
     "metadata": {},
     "output_type": "display_data"
    },
    {
     "data": {
      "text/latex": [
       "$\\displaystyle 2 k$"
      ],
      "text/plain": [
       "2*k"
      ]
     },
     "metadata": {},
     "output_type": "display_data"
    },
    {
     "name": "stdout",
     "output_type": "stream",
     "text": [
      "\n",
      "\n",
      "-y+1/4,-x+1/4,-z+1/4\n"
     ]
    },
    {
     "data": {
      "text/latex": [
       "$\\displaystyle 2 h \\left(- x - y + \\frac{1}{4}\\right) + 2 k \\left(- x - y + \\frac{1}{4}\\right) + 2 l \\left(\\frac{1}{4} - 2 z\\right)$"
      ],
      "text/plain": [
       "2*h*(-x - y + 1/4) + 2*k*(-x - y + 1/4) + 2*l*(1/4 - 2*z)"
      ]
     },
     "metadata": {},
     "output_type": "display_data"
    },
    {
     "data": {
      "text/latex": [
       "$\\displaystyle h u_{h} + k u_{h} + l u_{l}$"
      ],
      "text/plain": [
       "h*u_h + k*u_h + l*u_l"
      ]
     },
     "metadata": {},
     "output_type": "display_data"
    },
    {
     "data": {
      "text/plain": [
       "{Eq(h + k, 0), Eq(l, 0)}"
      ]
     },
     "metadata": {},
     "output_type": "display_data"
    },
    {
     "data": {
      "text/latex": [
       "$\\displaystyle 0$"
      ],
      "text/plain": [
       "0"
      ]
     },
     "metadata": {},
     "output_type": "display_data"
    },
    {
     "name": "stdout",
     "output_type": "stream",
     "text": [
      "\n",
      "\n",
      "-x,-y,-z\n"
     ]
    },
    {
     "data": {
      "text/latex": [
       "$\\displaystyle - 4 h x - 4 k y - 4 l z$"
      ],
      "text/plain": [
       "-4*h*x - 4*k*y - 4*l*z"
      ]
     },
     "metadata": {},
     "output_type": "display_data"
    },
    {
     "data": {
      "text/latex": [
       "$\\displaystyle h u_{h} + k u_{k} + l u_{l}$"
      ],
      "text/plain": [
       "h*u_h + k*u_k + l*u_l"
      ]
     },
     "metadata": {},
     "output_type": "display_data"
    },
    {
     "data": {
      "text/plain": [
       "{Eq(h, 0), Eq(k, 0), Eq(l, 0)}"
      ]
     },
     "metadata": {},
     "output_type": "display_data"
    },
    {
     "data": {
      "text/latex": [
       "$\\displaystyle 0$"
      ],
      "text/plain": [
       "0"
      ]
     },
     "metadata": {},
     "output_type": "display_data"
    },
    {
     "name": "stdout",
     "output_type": "stream",
     "text": [
      "\n",
      "\n",
      "y-1/4,-x-3/4,-z-1/4\n"
     ]
    },
    {
     "data": {
      "text/latex": [
       "$\\displaystyle 2 h \\left(- x + y - \\frac{1}{4}\\right) + 2 k \\left(- x - y - \\frac{3}{4}\\right) + 2 l \\left(- 2 z - \\frac{1}{4}\\right)$"
      ],
      "text/plain": [
       "2*h*(-x + y - 1/4) + 2*k*(-x - y - 3/4) + 2*l*(-2*z - 1/4)"
      ]
     },
     "metadata": {},
     "output_type": "display_data"
    },
    {
     "data": {
      "text/latex": [
       "$\\displaystyle h u_{h} + k u_{k} + l u_{l}$"
      ],
      "text/plain": [
       "h*u_h + k*u_k + l*u_l"
      ]
     },
     "metadata": {},
     "output_type": "display_data"
    },
    {
     "data": {
      "text/plain": [
       "{Eq(h, 0), Eq(k, 0), Eq(l, 0)}"
      ]
     },
     "metadata": {},
     "output_type": "display_data"
    },
    {
     "data": {
      "text/latex": [
       "$\\displaystyle 0$"
      ],
      "text/plain": [
       "0"
      ]
     },
     "metadata": {},
     "output_type": "display_data"
    },
    {
     "name": "stdout",
     "output_type": "stream",
     "text": [
      "\n",
      "\n",
      "-y-1/4,x-1/4,-z-3/4\n"
     ]
    },
    {
     "data": {
      "text/latex": [
       "$\\displaystyle 2 h \\left(- x - y - \\frac{1}{4}\\right) + 2 k \\left(x - y - \\frac{1}{4}\\right) + 2 l \\left(- 2 z - \\frac{3}{4}\\right)$"
      ],
      "text/plain": [
       "2*h*(-x - y - 1/4) + 2*k*(x - y - 1/4) + 2*l*(-2*z - 3/4)"
      ]
     },
     "metadata": {},
     "output_type": "display_data"
    },
    {
     "data": {
      "text/latex": [
       "$\\displaystyle h u_{h} + k u_{k} + l u_{l}$"
      ],
      "text/plain": [
       "h*u_h + k*u_k + l*u_l"
      ]
     },
     "metadata": {},
     "output_type": "display_data"
    },
    {
     "data": {
      "text/plain": [
       "{Eq(h, 0), Eq(k, 0), Eq(l, 0)}"
      ]
     },
     "metadata": {},
     "output_type": "display_data"
    },
    {
     "data": {
      "text/latex": [
       "$\\displaystyle 0$"
      ],
      "text/plain": [
       "0"
      ]
     },
     "metadata": {},
     "output_type": "display_data"
    },
    {
     "name": "stdout",
     "output_type": "stream",
     "text": [
      "\n",
      "\n",
      "-x,y,z-1/2\n"
     ]
    },
    {
     "data": {
      "text/latex": [
       "$\\displaystyle - 4 h x - l$"
      ],
      "text/plain": [
       "-4*h*x - l"
      ]
     },
     "metadata": {},
     "output_type": "display_data"
    },
    {
     "data": {
      "text/latex": [
       "$\\displaystyle h u_{h} - l$"
      ],
      "text/plain": [
       "h*u_h - l"
      ]
     },
     "metadata": {},
     "output_type": "display_data"
    },
    {
     "data": {
      "text/plain": [
       "{Eq(h, 0)}"
      ]
     },
     "metadata": {},
     "output_type": "display_data"
    },
    {
     "data": {
      "text/latex": [
       "$\\displaystyle - l$"
      ],
      "text/plain": [
       "-l"
      ]
     },
     "metadata": {},
     "output_type": "display_data"
    },
    {
     "name": "stdout",
     "output_type": "stream",
     "text": [
      "\n",
      "\n",
      "x-1/2,-y,z\n"
     ]
    },
    {
     "data": {
      "text/latex": [
       "$\\displaystyle - h - 4 k y$"
      ],
      "text/plain": [
       "-h - 4*k*y"
      ]
     },
     "metadata": {},
     "output_type": "display_data"
    },
    {
     "data": {
      "text/latex": [
       "$\\displaystyle - h + k u_{k}$"
      ],
      "text/plain": [
       "-h + k*u_k"
      ]
     },
     "metadata": {},
     "output_type": "display_data"
    },
    {
     "data": {
      "text/plain": [
       "{Eq(k, 0)}"
      ]
     },
     "metadata": {},
     "output_type": "display_data"
    },
    {
     "data": {
      "text/latex": [
       "$\\displaystyle - h$"
      ],
      "text/plain": [
       "-h"
      ]
     },
     "metadata": {},
     "output_type": "display_data"
    },
    {
     "name": "stdout",
     "output_type": "stream",
     "text": [
      "\n",
      "\n",
      "x,y-1/2,-z\n"
     ]
    },
    {
     "data": {
      "text/latex": [
       "$\\displaystyle - k - 4 l z$"
      ],
      "text/plain": [
       "-k - 4*l*z"
      ]
     },
     "metadata": {},
     "output_type": "display_data"
    },
    {
     "data": {
      "text/latex": [
       "$\\displaystyle - k + l u_{l}$"
      ],
      "text/plain": [
       "-k + l*u_l"
      ]
     },
     "metadata": {},
     "output_type": "display_data"
    },
    {
     "data": {
      "text/plain": [
       "{Eq(l, 0)}"
      ]
     },
     "metadata": {},
     "output_type": "display_data"
    },
    {
     "data": {
      "text/latex": [
       "$\\displaystyle - k$"
      ],
      "text/plain": [
       "-k"
      ]
     },
     "metadata": {},
     "output_type": "display_data"
    },
    {
     "name": "stdout",
     "output_type": "stream",
     "text": [
      "\n",
      "\n",
      "-y-1/4,-x-3/4,z-3/4\n"
     ]
    },
    {
     "data": {
      "text/latex": [
       "$\\displaystyle 2 h \\left(- x - y - \\frac{1}{4}\\right) + 2 k \\left(- x - y - \\frac{3}{4}\\right) - \\frac{3 l}{2}$"
      ],
      "text/plain": [
       "2*h*(-x - y - 1/4) + 2*k*(-x - y - 3/4) - 3*l/2"
      ]
     },
     "metadata": {},
     "output_type": "display_data"
    },
    {
     "data": {
      "text/latex": [
       "$\\displaystyle h u_{h} + 2 k \\left(\\frac{u_{h}}{2} - \\frac{1}{2}\\right) - \\frac{3 l}{2}$"
      ],
      "text/plain": [
       "h*u_h + 2*k*(u_h/2 - 1/2) - 3*l/2"
      ]
     },
     "metadata": {},
     "output_type": "display_data"
    },
    {
     "data": {
      "text/plain": [
       "{Eq(h + k, 0)}"
      ]
     },
     "metadata": {},
     "output_type": "display_data"
    },
    {
     "data": {
      "text/latex": [
       "$\\displaystyle - k - \\frac{3 l}{2}$"
      ],
      "text/plain": [
       "-k - 3*l/2"
      ]
     },
     "metadata": {},
     "output_type": "display_data"
    },
    {
     "name": "stdout",
     "output_type": "stream",
     "text": [
      "\n",
      "\n",
      "y-1/4,x-1/4,z-1/4\n"
     ]
    },
    {
     "data": {
      "text/latex": [
       "$\\displaystyle 2 h \\left(- x + y - \\frac{1}{4}\\right) + 2 k \\left(x - y - \\frac{1}{4}\\right) - \\frac{l}{2}$"
      ],
      "text/plain": [
       "2*h*(-x + y - 1/4) + 2*k*(x - y - 1/4) - l/2"
      ]
     },
     "metadata": {},
     "output_type": "display_data"
    },
    {
     "data": {
      "text/latex": [
       "$\\displaystyle h u_{h} + 2 k \\left(- \\frac{u_{h}}{2} - \\frac{1}{2}\\right) - \\frac{l}{2}$"
      ],
      "text/plain": [
       "h*u_h + 2*k*(-u_h/2 - 1/2) - l/2"
      ]
     },
     "metadata": {},
     "output_type": "display_data"
    },
    {
     "data": {
      "text/plain": [
       "{Eq(h - k, 0)}"
      ]
     },
     "metadata": {},
     "output_type": "display_data"
    },
    {
     "data": {
      "text/latex": [
       "$\\displaystyle - k - \\frac{l}{2}$"
      ],
      "text/plain": [
       "-k - l/2"
      ]
     },
     "metadata": {},
     "output_type": "display_data"
    },
    {
     "name": "stdout",
     "output_type": "stream",
     "text": [
      "\n",
      "\n",
      "x+1/2,y+1/2,z+1/2\n"
     ]
    },
    {
     "data": {
      "text/latex": [
       "$\\displaystyle h + k + l$"
      ],
      "text/plain": [
       "h + k + l"
      ]
     },
     "metadata": {},
     "output_type": "display_data"
    },
    {
     "data": {
      "text/latex": [
       "$\\displaystyle h + k + l$"
      ],
      "text/plain": [
       "h + k + l"
      ]
     },
     "metadata": {},
     "output_type": "display_data"
    },
    {
     "data": {
      "text/plain": [
       "set()"
      ]
     },
     "metadata": {},
     "output_type": "display_data"
    },
    {
     "data": {
      "text/latex": [
       "$\\displaystyle h + k + l$"
      ],
      "text/plain": [
       "h + k + l"
      ]
     },
     "metadata": {},
     "output_type": "display_data"
    },
    {
     "name": "stdout",
     "output_type": "stream",
     "text": [
      "\n",
      "\n",
      "-y+3/4,x+5/4,z+3/4\n"
     ]
    },
    {
     "data": {
      "text/latex": [
       "$\\displaystyle 2 h \\left(- x - y + \\frac{3}{4}\\right) + 2 k \\left(x - y + \\frac{5}{4}\\right) + \\frac{3 l}{2}$"
      ],
      "text/plain": [
       "2*h*(-x - y + 3/4) + 2*k*(x - y + 5/4) + 3*l/2"
      ]
     },
     "metadata": {},
     "output_type": "display_data"
    },
    {
     "data": {
      "text/latex": [
       "$\\displaystyle h u_{h} + k u_{k} + \\frac{3 l}{2}$"
      ],
      "text/plain": [
       "h*u_h + k*u_k + 3*l/2"
      ]
     },
     "metadata": {},
     "output_type": "display_data"
    },
    {
     "data": {
      "text/plain": [
       "{Eq(h, 0), Eq(k, 0)}"
      ]
     },
     "metadata": {},
     "output_type": "display_data"
    },
    {
     "data": {
      "text/latex": [
       "$\\displaystyle \\frac{3 l}{2}$"
      ],
      "text/plain": [
       "3*l/2"
      ]
     },
     "metadata": {},
     "output_type": "display_data"
    },
    {
     "name": "stdout",
     "output_type": "stream",
     "text": [
      "\n",
      "\n",
      "y+3/4,-x+3/4,z+5/4\n"
     ]
    },
    {
     "data": {
      "text/latex": [
       "$\\displaystyle 2 h \\left(- x + y + \\frac{3}{4}\\right) + 2 k \\left(- x - y + \\frac{3}{4}\\right) + \\frac{5 l}{2}$"
      ],
      "text/plain": [
       "2*h*(-x + y + 3/4) + 2*k*(-x - y + 3/4) + 5*l/2"
      ]
     },
     "metadata": {},
     "output_type": "display_data"
    },
    {
     "data": {
      "text/latex": [
       "$\\displaystyle h u_{h} + k u_{k} + \\frac{5 l}{2}$"
      ],
      "text/plain": [
       "h*u_h + k*u_k + 5*l/2"
      ]
     },
     "metadata": {},
     "output_type": "display_data"
    },
    {
     "data": {
      "text/plain": [
       "{Eq(h, 0), Eq(k, 0)}"
      ]
     },
     "metadata": {},
     "output_type": "display_data"
    },
    {
     "data": {
      "text/latex": [
       "$\\displaystyle \\frac{5 l}{2}$"
      ],
      "text/plain": [
       "5*l/2"
      ]
     },
     "metadata": {},
     "output_type": "display_data"
    },
    {
     "name": "stdout",
     "output_type": "stream",
     "text": [
      "\n",
      "\n",
      "x+1/2,-y+1/2,-z+1\n"
     ]
    },
    {
     "data": {
      "text/latex": [
       "$\\displaystyle h + 2 k \\left(\\frac{1}{2} - 2 y\\right) + 2 l \\left(1 - 2 z\\right)$"
      ],
      "text/plain": [
       "h + 2*k*(1/2 - 2*y) + 2*l*(1 - 2*z)"
      ]
     },
     "metadata": {},
     "output_type": "display_data"
    },
    {
     "data": {
      "text/latex": [
       "$\\displaystyle h + k u_{k} + l u_{l}$"
      ],
      "text/plain": [
       "h + k*u_k + l*u_l"
      ]
     },
     "metadata": {},
     "output_type": "display_data"
    },
    {
     "data": {
      "text/plain": [
       "{Eq(k, 0), Eq(l, 0)}"
      ]
     },
     "metadata": {},
     "output_type": "display_data"
    },
    {
     "data": {
      "text/latex": [
       "$\\displaystyle h$"
      ],
      "text/plain": [
       "h"
      ]
     },
     "metadata": {},
     "output_type": "display_data"
    },
    {
     "name": "stdout",
     "output_type": "stream",
     "text": [
      "\n",
      "\n",
      "-x+1,y+1/2,-z+1/2\n"
     ]
    },
    {
     "data": {
      "text/latex": [
       "$\\displaystyle 2 h \\left(1 - 2 x\\right) + k + 2 l \\left(\\frac{1}{2} - 2 z\\right)$"
      ],
      "text/plain": [
       "2*h*(1 - 2*x) + k + 2*l*(1/2 - 2*z)"
      ]
     },
     "metadata": {},
     "output_type": "display_data"
    },
    {
     "data": {
      "text/latex": [
       "$\\displaystyle h u_{h} + k + l u_{l}$"
      ],
      "text/plain": [
       "h*u_h + k + l*u_l"
      ]
     },
     "metadata": {},
     "output_type": "display_data"
    },
    {
     "data": {
      "text/plain": [
       "{Eq(h, 0), Eq(l, 0)}"
      ]
     },
     "metadata": {},
     "output_type": "display_data"
    },
    {
     "data": {
      "text/latex": [
       "$\\displaystyle k$"
      ],
      "text/plain": [
       "k"
      ]
     },
     "metadata": {},
     "output_type": "display_data"
    },
    {
     "name": "stdout",
     "output_type": "stream",
     "text": [
      "\n",
      "\n",
      "-x+1/2,-y+1,z+1/2\n"
     ]
    },
    {
     "data": {
      "text/latex": [
       "$\\displaystyle 2 h \\left(\\frac{1}{2} - 2 x\\right) + 2 k \\left(1 - 2 y\\right) + l$"
      ],
      "text/plain": [
       "2*h*(1/2 - 2*x) + 2*k*(1 - 2*y) + l"
      ]
     },
     "metadata": {},
     "output_type": "display_data"
    },
    {
     "data": {
      "text/latex": [
       "$\\displaystyle h u_{h} + k u_{k} + l$"
      ],
      "text/plain": [
       "h*u_h + k*u_k + l"
      ]
     },
     "metadata": {},
     "output_type": "display_data"
    },
    {
     "data": {
      "text/plain": [
       "{Eq(h, 0), Eq(k, 0)}"
      ]
     },
     "metadata": {},
     "output_type": "display_data"
    },
    {
     "data": {
      "text/latex": [
       "$\\displaystyle l$"
      ],
      "text/plain": [
       "l"
      ]
     },
     "metadata": {},
     "output_type": "display_data"
    },
    {
     "name": "stdout",
     "output_type": "stream",
     "text": [
      "\n",
      "\n",
      "y+3/4,x+5/4,-z+5/4\n"
     ]
    },
    {
     "data": {
      "text/latex": [
       "$\\displaystyle 2 h \\left(- x + y + \\frac{3}{4}\\right) + 2 k \\left(x - y + \\frac{5}{4}\\right) + 2 l \\left(\\frac{5}{4} - 2 z\\right)$"
      ],
      "text/plain": [
       "2*h*(-x + y + 3/4) + 2*k*(x - y + 5/4) + 2*l*(5/4 - 2*z)"
      ]
     },
     "metadata": {},
     "output_type": "display_data"
    },
    {
     "data": {
      "text/latex": [
       "$\\displaystyle h u_{h} + 2 k \\left(2 - \\frac{u_{h}}{2}\\right) + l u_{l}$"
      ],
      "text/plain": [
       "h*u_h + 2*k*(2 - u_h/2) + l*u_l"
      ]
     },
     "metadata": {},
     "output_type": "display_data"
    },
    {
     "data": {
      "text/plain": [
       "{Eq(h - k, 0), Eq(l, 0)}"
      ]
     },
     "metadata": {},
     "output_type": "display_data"
    },
    {
     "data": {
      "text/latex": [
       "$\\displaystyle 4 k$"
      ],
      "text/plain": [
       "4*k"
      ]
     },
     "metadata": {},
     "output_type": "display_data"
    },
    {
     "name": "stdout",
     "output_type": "stream",
     "text": [
      "\n",
      "\n",
      "-y+3/4,-x+3/4,-z+3/4\n"
     ]
    },
    {
     "data": {
      "text/latex": [
       "$\\displaystyle 2 h \\left(- x - y + \\frac{3}{4}\\right) + 2 k \\left(- x - y + \\frac{3}{4}\\right) + 2 l \\left(\\frac{3}{4} - 2 z\\right)$"
      ],
      "text/plain": [
       "2*h*(-x - y + 3/4) + 2*k*(-x - y + 3/4) + 2*l*(3/4 - 2*z)"
      ]
     },
     "metadata": {},
     "output_type": "display_data"
    },
    {
     "data": {
      "text/latex": [
       "$\\displaystyle h u_{h} + k u_{h} + l u_{l}$"
      ],
      "text/plain": [
       "h*u_h + k*u_h + l*u_l"
      ]
     },
     "metadata": {},
     "output_type": "display_data"
    },
    {
     "data": {
      "text/plain": [
       "{Eq(h + k, 0), Eq(l, 0)}"
      ]
     },
     "metadata": {},
     "output_type": "display_data"
    },
    {
     "data": {
      "text/latex": [
       "$\\displaystyle 0$"
      ],
      "text/plain": [
       "0"
      ]
     },
     "metadata": {},
     "output_type": "display_data"
    },
    {
     "name": "stdout",
     "output_type": "stream",
     "text": [
      "\n",
      "\n",
      "-x+1/2,-y+1/2,-z+1/2\n"
     ]
    },
    {
     "data": {
      "text/latex": [
       "$\\displaystyle 2 h \\left(\\frac{1}{2} - 2 x\\right) + 2 k \\left(\\frac{1}{2} - 2 y\\right) + 2 l \\left(\\frac{1}{2} - 2 z\\right)$"
      ],
      "text/plain": [
       "2*h*(1/2 - 2*x) + 2*k*(1/2 - 2*y) + 2*l*(1/2 - 2*z)"
      ]
     },
     "metadata": {},
     "output_type": "display_data"
    },
    {
     "data": {
      "text/latex": [
       "$\\displaystyle h u_{h} + k u_{k} + l u_{l}$"
      ],
      "text/plain": [
       "h*u_h + k*u_k + l*u_l"
      ]
     },
     "metadata": {},
     "output_type": "display_data"
    },
    {
     "data": {
      "text/plain": [
       "{Eq(h, 0), Eq(k, 0), Eq(l, 0)}"
      ]
     },
     "metadata": {},
     "output_type": "display_data"
    },
    {
     "data": {
      "text/latex": [
       "$\\displaystyle 0$"
      ],
      "text/plain": [
       "0"
      ]
     },
     "metadata": {},
     "output_type": "display_data"
    },
    {
     "name": "stdout",
     "output_type": "stream",
     "text": [
      "\n",
      "\n",
      "y+1/4,-x-1/4,-z+1/4\n"
     ]
    },
    {
     "data": {
      "text/latex": [
       "$\\displaystyle 2 h \\left(- x + y + \\frac{1}{4}\\right) + 2 k \\left(- x - y - \\frac{1}{4}\\right) + 2 l \\left(\\frac{1}{4} - 2 z\\right)$"
      ],
      "text/plain": [
       "2*h*(-x + y + 1/4) + 2*k*(-x - y - 1/4) + 2*l*(1/4 - 2*z)"
      ]
     },
     "metadata": {},
     "output_type": "display_data"
    },
    {
     "data": {
      "text/latex": [
       "$\\displaystyle h u_{h} + k u_{k} + l u_{l}$"
      ],
      "text/plain": [
       "h*u_h + k*u_k + l*u_l"
      ]
     },
     "metadata": {},
     "output_type": "display_data"
    },
    {
     "data": {
      "text/plain": [
       "{Eq(h, 0), Eq(k, 0), Eq(l, 0)}"
      ]
     },
     "metadata": {},
     "output_type": "display_data"
    },
    {
     "data": {
      "text/latex": [
       "$\\displaystyle 0$"
      ],
      "text/plain": [
       "0"
      ]
     },
     "metadata": {},
     "output_type": "display_data"
    },
    {
     "name": "stdout",
     "output_type": "stream",
     "text": [
      "\n",
      "\n",
      "-y+1/4,x+1/4,-z-1/4\n"
     ]
    },
    {
     "data": {
      "text/latex": [
       "$\\displaystyle 2 h \\left(- x - y + \\frac{1}{4}\\right) + 2 k \\left(x - y + \\frac{1}{4}\\right) + 2 l \\left(- 2 z - \\frac{1}{4}\\right)$"
      ],
      "text/plain": [
       "2*h*(-x - y + 1/4) + 2*k*(x - y + 1/4) + 2*l*(-2*z - 1/4)"
      ]
     },
     "metadata": {},
     "output_type": "display_data"
    },
    {
     "data": {
      "text/latex": [
       "$\\displaystyle h u_{h} + k u_{k} + l u_{l}$"
      ],
      "text/plain": [
       "h*u_h + k*u_k + l*u_l"
      ]
     },
     "metadata": {},
     "output_type": "display_data"
    },
    {
     "data": {
      "text/plain": [
       "{Eq(h, 0), Eq(k, 0), Eq(l, 0)}"
      ]
     },
     "metadata": {},
     "output_type": "display_data"
    },
    {
     "data": {
      "text/latex": [
       "$\\displaystyle 0$"
      ],
      "text/plain": [
       "0"
      ]
     },
     "metadata": {},
     "output_type": "display_data"
    },
    {
     "name": "stdout",
     "output_type": "stream",
     "text": [
      "\n",
      "\n",
      "-x+1/2,y+1/2,z\n"
     ]
    },
    {
     "data": {
      "text/latex": [
       "$\\displaystyle 2 h \\left(\\frac{1}{2} - 2 x\\right) + k$"
      ],
      "text/plain": [
       "2*h*(1/2 - 2*x) + k"
      ]
     },
     "metadata": {},
     "output_type": "display_data"
    },
    {
     "data": {
      "text/latex": [
       "$\\displaystyle h u_{h} + k$"
      ],
      "text/plain": [
       "h*u_h + k"
      ]
     },
     "metadata": {},
     "output_type": "display_data"
    },
    {
     "data": {
      "text/plain": [
       "{Eq(h, 0)}"
      ]
     },
     "metadata": {},
     "output_type": "display_data"
    },
    {
     "data": {
      "text/latex": [
       "$\\displaystyle k$"
      ],
      "text/plain": [
       "k"
      ]
     },
     "metadata": {},
     "output_type": "display_data"
    },
    {
     "name": "stdout",
     "output_type": "stream",
     "text": [
      "\n",
      "\n",
      "x,-y+1/2,z+1/2\n"
     ]
    },
    {
     "data": {
      "text/latex": [
       "$\\displaystyle 2 k \\left(\\frac{1}{2} - 2 y\\right) + l$"
      ],
      "text/plain": [
       "2*k*(1/2 - 2*y) + l"
      ]
     },
     "metadata": {},
     "output_type": "display_data"
    },
    {
     "data": {
      "text/latex": [
       "$\\displaystyle k u_{k} + l$"
      ],
      "text/plain": [
       "k*u_k + l"
      ]
     },
     "metadata": {},
     "output_type": "display_data"
    },
    {
     "data": {
      "text/plain": [
       "{Eq(k, 0)}"
      ]
     },
     "metadata": {},
     "output_type": "display_data"
    },
    {
     "data": {
      "text/latex": [
       "$\\displaystyle l$"
      ],
      "text/plain": [
       "l"
      ]
     },
     "metadata": {},
     "output_type": "display_data"
    },
    {
     "name": "stdout",
     "output_type": "stream",
     "text": [
      "\n",
      "\n",
      "x+1/2,y,-z+1/2\n"
     ]
    },
    {
     "data": {
      "text/latex": [
       "$\\displaystyle h + 2 l \\left(\\frac{1}{2} - 2 z\\right)$"
      ],
      "text/plain": [
       "h + 2*l*(1/2 - 2*z)"
      ]
     },
     "metadata": {},
     "output_type": "display_data"
    },
    {
     "data": {
      "text/latex": [
       "$\\displaystyle h + l u_{l}$"
      ],
      "text/plain": [
       "h + l*u_l"
      ]
     },
     "metadata": {},
     "output_type": "display_data"
    },
    {
     "data": {
      "text/plain": [
       "{Eq(l, 0)}"
      ]
     },
     "metadata": {},
     "output_type": "display_data"
    },
    {
     "data": {
      "text/latex": [
       "$\\displaystyle h$"
      ],
      "text/plain": [
       "h"
      ]
     },
     "metadata": {},
     "output_type": "display_data"
    },
    {
     "name": "stdout",
     "output_type": "stream",
     "text": [
      "\n",
      "\n",
      "-y+1/4,-x-1/4,z-1/4\n"
     ]
    },
    {
     "data": {
      "text/latex": [
       "$\\displaystyle 2 h \\left(- x - y + \\frac{1}{4}\\right) + 2 k \\left(- x - y - \\frac{1}{4}\\right) - \\frac{l}{2}$"
      ],
      "text/plain": [
       "2*h*(-x - y + 1/4) + 2*k*(-x - y - 1/4) - l/2"
      ]
     },
     "metadata": {},
     "output_type": "display_data"
    },
    {
     "data": {
      "text/latex": [
       "$\\displaystyle h u_{h} + 2 k \\left(\\frac{u_{h}}{2} - \\frac{1}{2}\\right) - \\frac{l}{2}$"
      ],
      "text/plain": [
       "h*u_h + 2*k*(u_h/2 - 1/2) - l/2"
      ]
     },
     "metadata": {},
     "output_type": "display_data"
    },
    {
     "data": {
      "text/plain": [
       "{Eq(h + k, 0)}"
      ]
     },
     "metadata": {},
     "output_type": "display_data"
    },
    {
     "data": {
      "text/latex": [
       "$\\displaystyle - k - \\frac{l}{2}$"
      ],
      "text/plain": [
       "-k - l/2"
      ]
     },
     "metadata": {},
     "output_type": "display_data"
    },
    {
     "name": "stdout",
     "output_type": "stream",
     "text": [
      "\n",
      "\n",
      "y+1/4,x+1/4,z+1/4\n"
     ]
    },
    {
     "data": {
      "text/latex": [
       "$\\displaystyle 2 h \\left(- x + y + \\frac{1}{4}\\right) + 2 k \\left(x - y + \\frac{1}{4}\\right) + \\frac{l}{2}$"
      ],
      "text/plain": [
       "2*h*(-x + y + 1/4) + 2*k*(x - y + 1/4) + l/2"
      ]
     },
     "metadata": {},
     "output_type": "display_data"
    },
    {
     "data": {
      "text/latex": [
       "$\\displaystyle h u_{h} + 2 k \\left(\\frac{1}{2} - \\frac{u_{h}}{2}\\right) + \\frac{l}{2}$"
      ],
      "text/plain": [
       "h*u_h + 2*k*(1/2 - u_h/2) + l/2"
      ]
     },
     "metadata": {},
     "output_type": "display_data"
    },
    {
     "data": {
      "text/plain": [
       "{Eq(h - k, 0)}"
      ]
     },
     "metadata": {},
     "output_type": "display_data"
    },
    {
     "data": {
      "text/latex": [
       "$\\displaystyle k + \\frac{l}{2}$"
      ],
      "text/plain": [
       "k + l/2"
      ]
     },
     "metadata": {},
     "output_type": "display_data"
    },
    {
     "name": "stdout",
     "output_type": "stream",
     "text": [
      "\n",
      "\n"
     ]
    },
    {
     "data": {
      "text/plain": [
       "[[{Eq(h, 0), Eq(k, 0)}, l/2],\n",
       " [{Eq(h, 0), Eq(k, 0)}, 3*l/2],\n",
       " [{Eq(h - k, 0), Eq(l, 0)}, 2*k],\n",
       " [{Eq(h, 0)}, -l],\n",
       " [{Eq(k, 0)}, -h],\n",
       " [{Eq(l, 0)}, -k],\n",
       " [{Eq(h + k, 0)}, -k - 3*l/2],\n",
       " [{Eq(h - k, 0)}, -k - l/2],\n",
       " [set(), h + k + l],\n",
       " [{Eq(h, 0), Eq(k, 0)}, 3*l/2],\n",
       " [{Eq(h, 0), Eq(k, 0)}, 5*l/2],\n",
       " [{Eq(k, 0), Eq(l, 0)}, h],\n",
       " [{Eq(h, 0), Eq(l, 0)}, k],\n",
       " [{Eq(h, 0), Eq(k, 0)}, l],\n",
       " [{Eq(h - k, 0), Eq(l, 0)}, 4*k],\n",
       " [{Eq(h, 0)}, k],\n",
       " [{Eq(k, 0)}, l],\n",
       " [{Eq(l, 0)}, h],\n",
       " [{Eq(h + k, 0)}, -k - l/2],\n",
       " [{Eq(h - k, 0)}, k + l/2]]"
      ]
     },
     "metadata": {},
     "output_type": "display_data"
    }
   ],
   "source": [
    "## test functional form\n",
    "\n",
    "import cctbx.sgtbx as sg\n",
    "import sympy as sp\n",
    "\n",
    "x, y, z = sp.symbols(['x', 'y', 'z'])\n",
    "h, k, l = sp.symbols(['h', 'k', 'l'])\n",
    "\n",
    "\n",
    "sgi = sg.space_group_info(142)\n",
    "sg = sgi.group()\n",
    "sgi.symbol_and_number() # 'I 41/a c d :2 (No. 142)'\n",
    "sym_num_str = sgi.symbol_and_number()\n",
    "print(sym_num_str[0])\n",
    "print(sgi.show_summary())\n",
    "print('No. sg ops: ', len(sg.all_ops()))\n",
    "symxyz = [str(s.as_xyz()) for s in sg.all_ops()]\n",
    "#for i in range(len(symxyz)): print(i+1, '\\t',symxyz[i])\n",
    "\n",
    "cond_rule_list = []\n",
    "for sym in symxyz:\n",
    "    xp, yp, zp = sp.simplify(sym)\n",
    "    ff = 2 * h * (xp - x) + 2 * k * (yp - y) + 2 * l * (zp - z)\n",
    "    print(sym)\n",
    "    display(ff)\n",
    "    ff, conds, rule = eliminate_xyz(ff)\n",
    "    #display(eliminate_xyz(ff))\n",
    "    display(ff, conds, rule)\n",
    "    print('\\n')\n",
    "    if rule != 0:\n",
    "        if [[conds, rule]] not in cond_rule_list:\n",
    "            cond_rule_list += [[conds, rule]]\n",
    "\n",
    "display(cond_rule_list)"
   ]
  },
  {
   "cell_type": "raw",
   "id": "fcc816bb",
   "metadata": {},
   "source": [
    "h (expr0) + k (expr1) + l (expr2)\n",
    "\n",
    "a) does expr0 contain x, y or z?\n",
    "    no - continue\n",
    "    yes - subs U0 for expr\n",
    "        - subs for x, y or z in expr1, expr2 (replacing with U0 as variable)\n",
    "\n",
    "b) does expr1 contain x, y or z?\n",
    "    no - continue\n",
    "    yes - subs U1 for expr\n",
    "        - subs for x, y or z in expr2 (replacing with U0 as variable)\n",
    "        \n",
    "c) does expr2 contain x, y or z?\n",
    "    no - continue\n",
    "    yes - subs U2 for expr\n",
    "\n",
    "d) get coeffs of U0, U1, U2 and ... next part of problem\n",
    "\n",
    "\n",
    "#### all done!\n",
    "\n",
    "######### next\n",
    "look at all conditions/rules and derive list with no duplicates or redundancies\n",
    "\n"
   ]
  },
  {
   "cell_type": "raw",
   "id": "6d5b53c9",
   "metadata": {},
   "source": [
    "# [{Eq(h, 0), Eq(k, 0)}, l/2],\t\t00l: l = 4n\trule 4\n",
    " [{Eq(h, 0), Eq(k, 0)}, 3*l/2],\t\tequiv.\n",
    " [{Eq(h - k, 0), Eq(l, 0)}, 2*k],\tredundant (trivial)\n",
    " [{Eq(h, 0)}, -l],\t\t\t0kl: l = 2n \trule 2(b)\n",
    " [{Eq(k, 0)}, -h],\t\t\th0l: h = 2n\tequiv to 2(a) via Laue class\n",
    " [{Eq(l, 0)}, -k],\t\t\thk0: k = 2n\trule 1(b) \n",
    " [{Eq(h + k, 0)}, -k - 3*l/2],\t\th-hl: 2h+l = 4n (equiv to rule 3)\n",
    " [{Eq(h - k, 0)}, -k - l/2],\t\thhl: 2h+l = 4n\trule 3\n",
    " [set(), h + k + l],\t\t\thkl: h+k_l = 2n rule 0\n",
    " [{Eq(h, 0), Eq(k, 0)}, 3*l/2],\t\t00l: l=4n\trule 4\n",
    " [{Eq(h, 0), Eq(k, 0)}, 5*l/2],\t\tequiv to rule 4\n",
    " [{Eq(k, 0), Eq(l, 0)}, h],\t\t\n",
    " [{Eq(h, 0), Eq(l, 0)}, k],\t\t0k0: k = 2n\tcovered by 1(b)\n",
    " [{Eq(h, 0), Eq(k, 0)}, l],\t\t00l l=2n\tcovered by (4)\n",
    " [{Eq(h - k, 0), Eq(l, 0)}, 4*k],\tredundant (trivial)\n",
    " [{Eq(h, 0)}, k],\t\t\t0kl: k = 2n\trule 2(a)\n",
    " [{Eq(k, 0)}, l],\t\t\th0l: l = 2n\trule 2(b) via Laue class\n",
    " [{Eq(l, 0)}, h],\t\t\thk0: h=2n\t1(a)\n",
    " [{Eq(h + k, 0)}, -k - l/2],\t\th-hl: 2h+l = 4n rule(3)\n",
    " [{Eq(h - k, 0)}, k + l/2]]\t\thhl: 0kl: k = 2n\trule 2(a)\n",
    "\n",
    "#142: all seem correct but need Laue class symmetry (permute h, k) and lots of redundancies.\n"
   ]
  },
  {
   "cell_type": "code",
   "execution_count": 16,
   "id": "03ee888b",
   "metadata": {},
   "outputs": [
    {
     "data": {
      "text/latex": [
       "$\\displaystyle - k - \\frac{3 l}{2}$"
      ],
      "text/plain": [
       "-k - 3*l/2"
      ]
     },
     "metadata": {},
     "output_type": "display_data"
    },
    {
     "data": {
      "text/plain": [
       "[0, -1, -3/2]"
      ]
     },
     "metadata": {},
     "output_type": "display_data"
    }
   ],
   "source": [
    "i = 6\n",
    "c =cond_rule_list[i][1]\n",
    "display(c)\n",
    "cc = [c.coeff('h'), c.coeff('k'), c.coeff('l')]\n",
    "display(cc)\n",
    "\n",
    "# if < 0 then *-1\n",
    "# if fraction then numertor = 1 (???)\n",
    "############# check this numerically ##############\n"
   ]
  },
  {
   "cell_type": "code",
   "execution_count": 17,
   "id": "7c415d79",
   "metadata": {},
   "outputs": [
    {
     "data": {
      "text/plain": [
       "(-3, 2)"
      ]
     },
     "execution_count": 17,
     "metadata": {},
     "output_type": "execute_result"
    }
   ],
   "source": [
    "sp.fraction(cc[2])"
   ]
  },
  {
   "cell_type": "code",
   "execution_count": 18,
   "id": "1bf75f6c",
   "metadata": {},
   "outputs": [
    {
     "data": {
      "text/plain": [
       "(1, 1)"
      ]
     },
     "execution_count": 18,
     "metadata": {},
     "output_type": "execute_result"
    }
   ],
   "source": [
    "sp.fraction(1)"
   ]
  },
  {
   "cell_type": "code",
   "execution_count": 19,
   "id": "4c056b29",
   "metadata": {},
   "outputs": [
    {
     "name": "stdout",
     "output_type": "stream",
     "text": [
      "l/2 \t [0, 2, 4, 6, 8, 10, 12, 14, 16, 18]\n",
      "3*l/2 \t [0, 2, 4, 6, 8, 10, 12, 14, 16, 18]\n",
      "-3*l/2 \t [0, 2, 4, 6, 8, 10, 12, 14, 16, 18]\n",
      "l/3 \t [0, 3, 6, 9, 12, 15, 18]\n",
      "2*l/3 \t [0, 3, 6, 9, 12, 15, 18]\n",
      "-l/3 \t [0, 3, 6, 9, 12, 15, 18]\n",
      "l/4 \t [0, 4, 8, 12, 16]\n",
      "3*l/4 \t [0, 4, 8, 12, 16]\n",
      "-3*l/4 \t [0, 4, 8, 12, 16]\n",
      "5*l/4 \t [0, 4, 8, 12, 16]\n",
      "l/6 \t [0, 6, 12, 18]\n",
      "5*l/6 \t [0, 6, 12, 18]\n",
      "-l/6 \t [0, 6, 12, 18]\n",
      "7*l/6 \t [0, 6, 12, 18]\n"
     ]
    }
   ],
   "source": [
    "# look for obvious simplifications of fractions\n",
    "import numpy as np\n",
    "\n",
    "rules = ['l/2', '3*l/2', '-3*l/2', 'l/3', '2*l/3', '-l/3', 'l/4', '3*l/4', '-3*l/4', '5*l/4', 'l/6', '5*l/6', '-l/6', '7*l/6']\n",
    "\n",
    "for r in rules:\n",
    "    print(r, '\\t', [l for l in range(20) if eval(r).is_integer()])\n"
   ]
  },
  {
   "cell_type": "code",
   "execution_count": 20,
   "id": "d8c218ea",
   "metadata": {},
   "outputs": [
    {
     "data": {
      "text/plain": [
       "True"
      ]
     },
     "execution_count": 20,
     "metadata": {},
     "output_type": "execute_result"
    }
   ],
   "source": [
    "\n",
    "def compare_rules(rule1, rule2):\n",
    "    # true of rules give same results for hkl values in test # takes few seconds for hklmax = 10\n",
    "    equiv = True\n",
    "    hklmax = 5\n",
    "    for h in range(-hklmax, hklmax+1):\n",
    "            for k in range(-hklmax, hklmax+1):\n",
    "                 for l in range(-hklmax, hklmax+1):       \n",
    "                        #even1 = eval(str(rule1) % 2 == 0)\n",
    "                        #even2 = eval(str(rule2) % 2 == 0)\n",
    "                        even1 = eval(str(rule1) + '% 2 == 0')\n",
    "                        even2 = eval(str(rule2) + '% 2 == 0')\n",
    "                        #print('even12', even1, even2)\n",
    "                        \n",
    "                        #if not eval(str(rule1)) == eval(str(rule2)):\n",
    "                        if not even1 == even2: # rule1 and 2 are not equivalently even or odd\n",
    "\n",
    "                        \n",
    "                            equiv = False\n",
    "                            print(rule1, rule2, h, k, l, eval(str(rule1)),eval(str(rule2)))\n",
    "                            return equiv\n",
    "    return equiv\n",
    "                        \n",
    "\n",
    "cond_rule_list\n",
    "cond_rule_list[6][1]                \n",
    "                \n",
    "compare_rules(cond_rule_list[6][1], cond_rule_list[6][1])\n",
    "\n"
   ]
  },
  {
   "cell_type": "code",
   "execution_count": 21,
   "id": "a9c59ec2",
   "metadata": {},
   "outputs": [
    {
     "data": {
      "text/plain": [
       "True"
      ]
     },
     "execution_count": 21,
     "metadata": {},
     "output_type": "execute_result"
    }
   ],
   "source": [
    "False == False"
   ]
  },
  {
   "cell_type": "code",
   "execution_count": 22,
   "id": "47d838d8",
   "metadata": {},
   "outputs": [
    {
     "data": {
      "text/latex": [
       "$\\displaystyle k + \\frac{l}{2}$"
      ],
      "text/plain": [
       "k + l/2"
      ]
     },
     "execution_count": 22,
     "metadata": {},
     "output_type": "execute_result"
    }
   ],
   "source": [
    "def simplify_rules(rule):\n",
    "    \n",
    "    h, k, l = sp.symbols(['h', 'k', 'l'])\n",
    "    \n",
    "    new_rule = sp.Integer(0)\n",
    "    for hkl in [h, k, l]:\n",
    "        c = rule.coeff(hkl)\n",
    "        (num, denom) = sp.fraction(c)\n",
    "        #print(c, sp.fraction(c))\n",
    "        if denom != 1: # its a fraction\n",
    "            cnew = sp.Rational(1,denom)\n",
    "        else:\n",
    "            cnew = sp.Integer(sp.Abs(num))\n",
    "        new_rule += hkl * cnew\n",
    "    \n",
    "    return sp.simplify(new_rule)\n",
    "    \n",
    "simplify_rules(cond_rule_list[6][1])"
   ]
  },
  {
   "cell_type": "code",
   "execution_count": 23,
   "id": "8ac3d60e",
   "metadata": {
    "scrolled": true
   },
   "outputs": [
    {
     "name": "stdout",
     "output_type": "stream",
     "text": [
      "number of rules: 20\n"
     ]
    },
    {
     "data": {
      "text/plain": [
       "[{Eq(h, 0), Eq(k, 0)}, l/2]"
      ]
     },
     "metadata": {},
     "output_type": "display_data"
    },
    {
     "data": {
      "text/plain": [
       "[{Eq(h, 0), Eq(k, 0)}, l/2]"
      ]
     },
     "metadata": {},
     "output_type": "display_data"
    },
    {
     "name": "stdout",
     "output_type": "stream",
     "text": [
      "new rule\n"
     ]
    },
    {
     "data": {
      "text/plain": [
       "[{Eq(h, 0), Eq(k, 0)}, 3*l/2]"
      ]
     },
     "metadata": {},
     "output_type": "display_data"
    },
    {
     "data": {
      "text/plain": [
       "[{Eq(h, 0), Eq(k, 0)}, l/2]"
      ]
     },
     "metadata": {},
     "output_type": "display_data"
    },
    {
     "name": "stdout",
     "output_type": "stream",
     "text": [
      "dupicate rule\n"
     ]
    },
    {
     "data": {
      "text/plain": [
       "[{Eq(h - k, 0), Eq(l, 0)}, 2*k]"
      ]
     },
     "metadata": {},
     "output_type": "display_data"
    },
    {
     "data": {
      "text/plain": [
       "[{Eq(h - k, 0), Eq(l, 0)}, 2*k]"
      ]
     },
     "metadata": {},
     "output_type": "display_data"
    },
    {
     "name": "stdout",
     "output_type": "stream",
     "text": [
      "new rule\n"
     ]
    },
    {
     "data": {
      "text/plain": [
       "[{Eq(h, 0)}, -l]"
      ]
     },
     "metadata": {},
     "output_type": "display_data"
    },
    {
     "data": {
      "text/plain": [
       "[{Eq(h, 0)}, l]"
      ]
     },
     "metadata": {},
     "output_type": "display_data"
    },
    {
     "name": "stdout",
     "output_type": "stream",
     "text": [
      "new rule\n"
     ]
    },
    {
     "data": {
      "text/plain": [
       "[{Eq(k, 0)}, -h]"
      ]
     },
     "metadata": {},
     "output_type": "display_data"
    },
    {
     "data": {
      "text/plain": [
       "[{Eq(k, 0)}, h]"
      ]
     },
     "metadata": {},
     "output_type": "display_data"
    },
    {
     "name": "stdout",
     "output_type": "stream",
     "text": [
      "new rule\n"
     ]
    },
    {
     "data": {
      "text/plain": [
       "[{Eq(l, 0)}, -k]"
      ]
     },
     "metadata": {},
     "output_type": "display_data"
    },
    {
     "data": {
      "text/plain": [
       "[{Eq(l, 0)}, k]"
      ]
     },
     "metadata": {},
     "output_type": "display_data"
    },
    {
     "name": "stdout",
     "output_type": "stream",
     "text": [
      "new rule\n"
     ]
    },
    {
     "data": {
      "text/plain": [
       "[{Eq(h + k, 0)}, -k - 3*l/2]"
      ]
     },
     "metadata": {},
     "output_type": "display_data"
    },
    {
     "data": {
      "text/plain": [
       "[{Eq(h + k, 0)}, k + l/2]"
      ]
     },
     "metadata": {},
     "output_type": "display_data"
    },
    {
     "name": "stdout",
     "output_type": "stream",
     "text": [
      "new rule\n"
     ]
    },
    {
     "data": {
      "text/plain": [
       "[{Eq(h - k, 0)}, -k - l/2]"
      ]
     },
     "metadata": {},
     "output_type": "display_data"
    },
    {
     "data": {
      "text/plain": [
       "[{Eq(h - k, 0)}, k + l/2]"
      ]
     },
     "metadata": {},
     "output_type": "display_data"
    },
    {
     "name": "stdout",
     "output_type": "stream",
     "text": [
      "new rule\n"
     ]
    },
    {
     "data": {
      "text/plain": [
       "[set(), h + k + l]"
      ]
     },
     "metadata": {},
     "output_type": "display_data"
    },
    {
     "data": {
      "text/plain": [
       "[set(), h + k + l]"
      ]
     },
     "metadata": {},
     "output_type": "display_data"
    },
    {
     "name": "stdout",
     "output_type": "stream",
     "text": [
      "new rule\n"
     ]
    },
    {
     "data": {
      "text/plain": [
       "[{Eq(h, 0), Eq(k, 0)}, 3*l/2]"
      ]
     },
     "metadata": {},
     "output_type": "display_data"
    },
    {
     "data": {
      "text/plain": [
       "[{Eq(h, 0), Eq(k, 0)}, l/2]"
      ]
     },
     "metadata": {},
     "output_type": "display_data"
    },
    {
     "name": "stdout",
     "output_type": "stream",
     "text": [
      "dupicate rule\n"
     ]
    },
    {
     "data": {
      "text/plain": [
       "[{Eq(h, 0), Eq(k, 0)}, 5*l/2]"
      ]
     },
     "metadata": {},
     "output_type": "display_data"
    },
    {
     "data": {
      "text/plain": [
       "[{Eq(h, 0), Eq(k, 0)}, l/2]"
      ]
     },
     "metadata": {},
     "output_type": "display_data"
    },
    {
     "name": "stdout",
     "output_type": "stream",
     "text": [
      "dupicate rule\n"
     ]
    },
    {
     "data": {
      "text/plain": [
       "[{Eq(k, 0), Eq(l, 0)}, h]"
      ]
     },
     "metadata": {},
     "output_type": "display_data"
    },
    {
     "data": {
      "text/plain": [
       "[{Eq(k, 0), Eq(l, 0)}, h]"
      ]
     },
     "metadata": {},
     "output_type": "display_data"
    },
    {
     "name": "stdout",
     "output_type": "stream",
     "text": [
      "new rule\n"
     ]
    },
    {
     "data": {
      "text/plain": [
       "[{Eq(h, 0), Eq(l, 0)}, k]"
      ]
     },
     "metadata": {},
     "output_type": "display_data"
    },
    {
     "data": {
      "text/plain": [
       "[{Eq(h, 0), Eq(l, 0)}, k]"
      ]
     },
     "metadata": {},
     "output_type": "display_data"
    },
    {
     "name": "stdout",
     "output_type": "stream",
     "text": [
      "new rule\n"
     ]
    },
    {
     "data": {
      "text/plain": [
       "[{Eq(h, 0), Eq(k, 0)}, l]"
      ]
     },
     "metadata": {},
     "output_type": "display_data"
    },
    {
     "data": {
      "text/plain": [
       "[{Eq(h, 0), Eq(k, 0)}, l]"
      ]
     },
     "metadata": {},
     "output_type": "display_data"
    },
    {
     "name": "stdout",
     "output_type": "stream",
     "text": [
      "new rule\n"
     ]
    },
    {
     "data": {
      "text/plain": [
       "[{Eq(h - k, 0), Eq(l, 0)}, 4*k]"
      ]
     },
     "metadata": {},
     "output_type": "display_data"
    },
    {
     "data": {
      "text/plain": [
       "[{Eq(h - k, 0), Eq(l, 0)}, 4*k]"
      ]
     },
     "metadata": {},
     "output_type": "display_data"
    },
    {
     "name": "stdout",
     "output_type": "stream",
     "text": [
      "new rule\n"
     ]
    },
    {
     "data": {
      "text/plain": [
       "[{Eq(h, 0)}, k]"
      ]
     },
     "metadata": {},
     "output_type": "display_data"
    },
    {
     "data": {
      "text/plain": [
       "[{Eq(h, 0)}, k]"
      ]
     },
     "metadata": {},
     "output_type": "display_data"
    },
    {
     "name": "stdout",
     "output_type": "stream",
     "text": [
      "new rule\n"
     ]
    },
    {
     "data": {
      "text/plain": [
       "[{Eq(k, 0)}, l]"
      ]
     },
     "metadata": {},
     "output_type": "display_data"
    },
    {
     "data": {
      "text/plain": [
       "[{Eq(k, 0)}, l]"
      ]
     },
     "metadata": {},
     "output_type": "display_data"
    },
    {
     "name": "stdout",
     "output_type": "stream",
     "text": [
      "new rule\n"
     ]
    },
    {
     "data": {
      "text/plain": [
       "[{Eq(l, 0)}, h]"
      ]
     },
     "metadata": {},
     "output_type": "display_data"
    },
    {
     "data": {
      "text/plain": [
       "[{Eq(l, 0)}, h]"
      ]
     },
     "metadata": {},
     "output_type": "display_data"
    },
    {
     "name": "stdout",
     "output_type": "stream",
     "text": [
      "new rule\n"
     ]
    },
    {
     "data": {
      "text/plain": [
       "[{Eq(h + k, 0)}, -k - l/2]"
      ]
     },
     "metadata": {},
     "output_type": "display_data"
    },
    {
     "data": {
      "text/plain": [
       "[{Eq(h + k, 0)}, k + l/2]"
      ]
     },
     "metadata": {},
     "output_type": "display_data"
    },
    {
     "name": "stdout",
     "output_type": "stream",
     "text": [
      "dupicate rule\n"
     ]
    },
    {
     "data": {
      "text/plain": [
       "[{Eq(h - k, 0)}, k + l/2]"
      ]
     },
     "metadata": {},
     "output_type": "display_data"
    },
    {
     "data": {
      "text/plain": [
       "[{Eq(h - k, 0)}, k + l/2]"
      ]
     },
     "metadata": {},
     "output_type": "display_data"
    },
    {
     "name": "stdout",
     "output_type": "stream",
     "text": [
      "dupicate rule\n",
      "=== New rules\n"
     ]
    },
    {
     "data": {
      "text/plain": [
       "[[{Eq(h, 0), Eq(k, 0)}, l/2],\n",
       " [{Eq(h - k, 0), Eq(l, 0)}, 2*k],\n",
       " [{Eq(h, 0)}, l],\n",
       " [{Eq(k, 0)}, h],\n",
       " [{Eq(l, 0)}, k],\n",
       " [{Eq(h + k, 0)}, k + l/2],\n",
       " [{Eq(h - k, 0)}, k + l/2],\n",
       " [set(), h + k + l],\n",
       " [{Eq(k, 0), Eq(l, 0)}, h],\n",
       " [{Eq(h, 0), Eq(l, 0)}, k],\n",
       " [{Eq(h, 0), Eq(k, 0)}, l],\n",
       " [{Eq(h - k, 0), Eq(l, 0)}, 4*k],\n",
       " [{Eq(h, 0)}, k],\n",
       " [{Eq(k, 0)}, l],\n",
       " [{Eq(l, 0)}, h]]"
      ]
     },
     "metadata": {},
     "output_type": "display_data"
    },
    {
     "name": "stdout",
     "output_type": "stream",
     "text": [
      "number of new rules: 15\n"
     ]
    },
    {
     "data": {
      "text/plain": [
       "{Eq(h, 0), Eq(k, 0)}"
      ]
     },
     "metadata": {},
     "output_type": "display_data"
    },
    {
     "data": {
      "text/latex": [
       "$\\displaystyle \\frac{l}{2}$"
      ],
      "text/plain": [
       "l/2"
      ]
     },
     "metadata": {},
     "output_type": "display_data"
    },
    {
     "data": {
      "text/plain": [
       "{Eq(h - k, 0), Eq(l, 0)}"
      ]
     },
     "metadata": {},
     "output_type": "display_data"
    },
    {
     "data": {
      "text/latex": [
       "$\\displaystyle 2 k$"
      ],
      "text/plain": [
       "2*k"
      ]
     },
     "metadata": {},
     "output_type": "display_data"
    },
    {
     "data": {
      "text/plain": [
       "{Eq(h, 0)}"
      ]
     },
     "metadata": {},
     "output_type": "display_data"
    },
    {
     "data": {
      "text/latex": [
       "$\\displaystyle l$"
      ],
      "text/plain": [
       "l"
      ]
     },
     "metadata": {},
     "output_type": "display_data"
    },
    {
     "data": {
      "text/plain": [
       "{Eq(k, 0)}"
      ]
     },
     "metadata": {},
     "output_type": "display_data"
    },
    {
     "data": {
      "text/latex": [
       "$\\displaystyle h$"
      ],
      "text/plain": [
       "h"
      ]
     },
     "metadata": {},
     "output_type": "display_data"
    },
    {
     "data": {
      "text/plain": [
       "{Eq(l, 0)}"
      ]
     },
     "metadata": {},
     "output_type": "display_data"
    },
    {
     "data": {
      "text/latex": [
       "$\\displaystyle k$"
      ],
      "text/plain": [
       "k"
      ]
     },
     "metadata": {},
     "output_type": "display_data"
    },
    {
     "data": {
      "text/plain": [
       "{Eq(h + k, 0)}"
      ]
     },
     "metadata": {},
     "output_type": "display_data"
    },
    {
     "data": {
      "text/latex": [
       "$\\displaystyle k + \\frac{l}{2}$"
      ],
      "text/plain": [
       "k + l/2"
      ]
     },
     "metadata": {},
     "output_type": "display_data"
    },
    {
     "data": {
      "text/plain": [
       "{Eq(h - k, 0)}"
      ]
     },
     "metadata": {},
     "output_type": "display_data"
    },
    {
     "data": {
      "text/latex": [
       "$\\displaystyle k + \\frac{l}{2}$"
      ],
      "text/plain": [
       "k + l/2"
      ]
     },
     "metadata": {},
     "output_type": "display_data"
    },
    {
     "data": {
      "text/plain": [
       "set()"
      ]
     },
     "metadata": {},
     "output_type": "display_data"
    },
    {
     "data": {
      "text/latex": [
       "$\\displaystyle h + k + l$"
      ],
      "text/plain": [
       "h + k + l"
      ]
     },
     "metadata": {},
     "output_type": "display_data"
    },
    {
     "data": {
      "text/plain": [
       "{Eq(k, 0), Eq(l, 0)}"
      ]
     },
     "metadata": {},
     "output_type": "display_data"
    },
    {
     "data": {
      "text/latex": [
       "$\\displaystyle h$"
      ],
      "text/plain": [
       "h"
      ]
     },
     "metadata": {},
     "output_type": "display_data"
    },
    {
     "data": {
      "text/plain": [
       "{Eq(h, 0), Eq(l, 0)}"
      ]
     },
     "metadata": {},
     "output_type": "display_data"
    },
    {
     "data": {
      "text/latex": [
       "$\\displaystyle k$"
      ],
      "text/plain": [
       "k"
      ]
     },
     "metadata": {},
     "output_type": "display_data"
    },
    {
     "data": {
      "text/plain": [
       "{Eq(h, 0), Eq(k, 0)}"
      ]
     },
     "metadata": {},
     "output_type": "display_data"
    },
    {
     "data": {
      "text/latex": [
       "$\\displaystyle l$"
      ],
      "text/plain": [
       "l"
      ]
     },
     "metadata": {},
     "output_type": "display_data"
    },
    {
     "data": {
      "text/plain": [
       "{Eq(h - k, 0), Eq(l, 0)}"
      ]
     },
     "metadata": {},
     "output_type": "display_data"
    },
    {
     "data": {
      "text/latex": [
       "$\\displaystyle 4 k$"
      ],
      "text/plain": [
       "4*k"
      ]
     },
     "metadata": {},
     "output_type": "display_data"
    },
    {
     "data": {
      "text/plain": [
       "{Eq(h, 0)}"
      ]
     },
     "metadata": {},
     "output_type": "display_data"
    },
    {
     "data": {
      "text/latex": [
       "$\\displaystyle k$"
      ],
      "text/plain": [
       "k"
      ]
     },
     "metadata": {},
     "output_type": "display_data"
    },
    {
     "data": {
      "text/plain": [
       "{Eq(k, 0)}"
      ]
     },
     "metadata": {},
     "output_type": "display_data"
    },
    {
     "data": {
      "text/latex": [
       "$\\displaystyle l$"
      ],
      "text/plain": [
       "l"
      ]
     },
     "metadata": {},
     "output_type": "display_data"
    },
    {
     "data": {
      "text/plain": [
       "{Eq(l, 0)}"
      ]
     },
     "metadata": {},
     "output_type": "display_data"
    },
    {
     "data": {
      "text/latex": [
       "$\\displaystyle h$"
      ],
      "text/plain": [
       "h"
      ]
     },
     "metadata": {},
     "output_type": "display_data"
    }
   ],
   "source": [
    "print('number of rules:', len(cond_rule_list))\n",
    "new_cond_rule_list = []\n",
    "for cond_rule in cond_rule_list:   \n",
    "\n",
    "    sr = simplify_rules(cond_rule[1])\n",
    "    \n",
    "    if not compare_rules(cond_rule[1], sr):\n",
    "        display('problem rules', cond_rule, cond_rule[1], sr)\n",
    "        #raise Exception('=== error: rule are not the same')\n",
    "    \n",
    "    new_rule = [cond_rule[0], sr]\n",
    "    \n",
    "    display(cond_rule, new_rule)\n",
    "    \n",
    "    if not new_rule in new_cond_rule_list:\n",
    "        new_cond_rule_list += [new_rule]\n",
    "        print('new rule')\n",
    "    else:\n",
    "        print('dupicate rule')\n",
    "\n",
    "print('=== New rules')\n",
    "display(new_cond_rule_list)\n",
    "print('number of new rules:', len(new_cond_rule_list))\n",
    "\n",
    "for new_cond_rule in new_cond_rule_list:\n",
    "    display(new_cond_rule[0], new_cond_rule[1])\n",
    "\n",
    "\n",
    "# fix this code - done\n",
    "# include laue class symmetry\n",
    "# remove rules with no variable in rule - aren't any - these are l not 1\n",
    "# remove rules that are trivial to satisfy such as 2k = even"
   ]
  },
  {
   "cell_type": "raw",
   "id": "c0d5f577",
   "metadata": {},
   "source": [
    " [{Eq(h, 0), Eq(k, 0)}, l/2],       keep\n",
    " [{Eq(h - k, 0), Eq(l, 0)}, 2*k],   remove (2k always even)    discard as all coeffs multiple of 2\n",
    " [{Eq(h, 0)}, l],                   keep\n",
    " [{Eq(k, 0)}, h],                   keep\n",
    " [{Eq(l, 0)}, k],                   keep\n",
    " [{Eq(h + k, 0)}, k + l/2],         remove (equiv to 7)        discard as equiv to 7 after laue\n",
    " [{Eq(h - k, 0)}, k + l/2],         keep\n",
    " [set(), h + k + l],                keep\n",
    " [{Eq(k, 0), Eq(l, 0)}, h],         remove (equiv to 10)       disgard after laue\n",
    " [{Eq(h, 0), Eq(l, 0)}, k],         remove (special case of 3) disgard if same rule exists for one of the conditions\n",
    " [{Eq(h, 0), Eq(k, 0)}, l],         keep\n",
    " [{Eq(h - k, 0), Eq(l, 0)}, 4*k],   remove (4k always even)    discard as all coeffs multiple of 2\n",
    " [{Eq(h, 0)}, k],                   remove (equiv to 4)        disgard after laue\n",
    " [{Eq(k, 0)}, l],                   remove (equiv to 3)        disgard after laue\n",
    " [{Eq(l, 0)}, h]                    remove (equiv to 5)        disgard after laue\n",
    " \n",
    " still need to disgard rules that are subsumed, e.g. l=4n subsumes l=2n"
   ]
  },
  {
   "cell_type": "code",
   "execution_count": 24,
   "id": "1b7019b9",
   "metadata": {},
   "outputs": [],
   "source": [
    "# 1. select preferred sequence of rules (smaller first, h before k, - before + etc)\n",
    "#   quick and dirty solution for now - can be refined if it works\n",
    "#   done (below)\n",
    "# 2. generate laue class equivalent rules\n",
    "#\n",
    "# 3. add rules to list if not equivalent\n",
    "# 4. generate rules for tensor classes in #142\n",
    "# 5. generate rules for all cases\n",
    "\n",
    "\n"
   ]
  },
  {
   "cell_type": "code",
   "execution_count": 25,
   "id": "f41124ad",
   "metadata": {
    "scrolled": true
   },
   "outputs": [
    {
     "data": {
      "text/plain": [
       "set()"
      ]
     },
     "metadata": {},
     "output_type": "display_data"
    },
    {
     "data": {
      "text/latex": [
       "$\\displaystyle h + k + l$"
      ],
      "text/plain": [
       "h + k + l"
      ]
     },
     "metadata": {},
     "output_type": "display_data"
    },
    {
     "data": {
      "text/plain": [
       "{Eq(h, 0)}"
      ]
     },
     "metadata": {},
     "output_type": "display_data"
    },
    {
     "data": {
      "text/latex": [
       "$\\displaystyle l$"
      ],
      "text/plain": [
       "l"
      ]
     },
     "metadata": {},
     "output_type": "display_data"
    },
    {
     "data": {
      "text/plain": [
       "{Eq(k, 0)}"
      ]
     },
     "metadata": {},
     "output_type": "display_data"
    },
    {
     "data": {
      "text/latex": [
       "$\\displaystyle h$"
      ],
      "text/plain": [
       "h"
      ]
     },
     "metadata": {},
     "output_type": "display_data"
    },
    {
     "data": {
      "text/plain": [
       "{Eq(l, 0)}"
      ]
     },
     "metadata": {},
     "output_type": "display_data"
    },
    {
     "data": {
      "text/latex": [
       "$\\displaystyle k$"
      ],
      "text/plain": [
       "k"
      ]
     },
     "metadata": {},
     "output_type": "display_data"
    },
    {
     "data": {
      "text/plain": [
       "{Eq(h + k, 0)}"
      ]
     },
     "metadata": {},
     "output_type": "display_data"
    },
    {
     "data": {
      "text/latex": [
       "$\\displaystyle k + \\frac{l}{2}$"
      ],
      "text/plain": [
       "k + l/2"
      ]
     },
     "metadata": {},
     "output_type": "display_data"
    },
    {
     "data": {
      "text/plain": [
       "{Eq(h - k, 0)}"
      ]
     },
     "metadata": {},
     "output_type": "display_data"
    },
    {
     "data": {
      "text/latex": [
       "$\\displaystyle k + \\frac{l}{2}$"
      ],
      "text/plain": [
       "k + l/2"
      ]
     },
     "metadata": {},
     "output_type": "display_data"
    },
    {
     "data": {
      "text/plain": [
       "{Eq(h, 0)}"
      ]
     },
     "metadata": {},
     "output_type": "display_data"
    },
    {
     "data": {
      "text/latex": [
       "$\\displaystyle k$"
      ],
      "text/plain": [
       "k"
      ]
     },
     "metadata": {},
     "output_type": "display_data"
    },
    {
     "data": {
      "text/plain": [
       "{Eq(k, 0)}"
      ]
     },
     "metadata": {},
     "output_type": "display_data"
    },
    {
     "data": {
      "text/latex": [
       "$\\displaystyle l$"
      ],
      "text/plain": [
       "l"
      ]
     },
     "metadata": {},
     "output_type": "display_data"
    },
    {
     "data": {
      "text/plain": [
       "{Eq(l, 0)}"
      ]
     },
     "metadata": {},
     "output_type": "display_data"
    },
    {
     "data": {
      "text/latex": [
       "$\\displaystyle h$"
      ],
      "text/plain": [
       "h"
      ]
     },
     "metadata": {},
     "output_type": "display_data"
    },
    {
     "data": {
      "text/plain": [
       "{Eq(h, 0), Eq(k, 0)}"
      ]
     },
     "metadata": {},
     "output_type": "display_data"
    },
    {
     "data": {
      "text/latex": [
       "$\\displaystyle \\frac{l}{2}$"
      ],
      "text/plain": [
       "l/2"
      ]
     },
     "metadata": {},
     "output_type": "display_data"
    },
    {
     "data": {
      "text/plain": [
       "{Eq(h - k, 0), Eq(l, 0)}"
      ]
     },
     "metadata": {},
     "output_type": "display_data"
    },
    {
     "data": {
      "text/latex": [
       "$\\displaystyle 2 k$"
      ],
      "text/plain": [
       "2*k"
      ]
     },
     "metadata": {},
     "output_type": "display_data"
    },
    {
     "data": {
      "text/plain": [
       "{Eq(k, 0), Eq(l, 0)}"
      ]
     },
     "metadata": {},
     "output_type": "display_data"
    },
    {
     "data": {
      "text/latex": [
       "$\\displaystyle h$"
      ],
      "text/plain": [
       "h"
      ]
     },
     "metadata": {},
     "output_type": "display_data"
    },
    {
     "data": {
      "text/plain": [
       "{Eq(h, 0), Eq(l, 0)}"
      ]
     },
     "metadata": {},
     "output_type": "display_data"
    },
    {
     "data": {
      "text/latex": [
       "$\\displaystyle k$"
      ],
      "text/plain": [
       "k"
      ]
     },
     "metadata": {},
     "output_type": "display_data"
    },
    {
     "data": {
      "text/plain": [
       "{Eq(h, 0), Eq(k, 0)}"
      ]
     },
     "metadata": {},
     "output_type": "display_data"
    },
    {
     "data": {
      "text/latex": [
       "$\\displaystyle l$"
      ],
      "text/plain": [
       "l"
      ]
     },
     "metadata": {},
     "output_type": "display_data"
    },
    {
     "data": {
      "text/plain": [
       "{Eq(h - k, 0), Eq(l, 0)}"
      ]
     },
     "metadata": {},
     "output_type": "display_data"
    },
    {
     "data": {
      "text/latex": [
       "$\\displaystyle 4 k$"
      ],
      "text/plain": [
       "4*k"
      ]
     },
     "metadata": {},
     "output_type": "display_data"
    }
   ],
   "source": [
    "nconds = 0\n",
    "new_cond_rule_reorder = []\n",
    "\n",
    "while True:\n",
    "    #print(len(new_cond_rule_reorder), len(new_cond_rule_list))\n",
    "    new_cond_rule_reorder_nconds = []\n",
    "    \n",
    "    if len(new_cond_rule_reorder) == len(new_cond_rule_list):\n",
    "        break\n",
    "    \n",
    "    for new_cond_rule in new_cond_rule_list:\n",
    "\n",
    "        if len(new_cond_rule[0]) == nconds:\n",
    "            new_cond_rule_reorder_nconds += [new_cond_rule]\n",
    "            #print(nconds, new_cond_rule)\n",
    "    \n",
    "    #print(nconds, new_cond_rule_reorder_nconds)\n",
    "    new_cond_rule_reorder_nconds.sort()\n",
    "    new_cond_rule_reorder_nconds.sort(key = len)\n",
    "    new_cond_rule_reorder += new_cond_rule_reorder_nconds\n",
    "    nconds += 1\n",
    "    \n",
    "#print(new_cond_rule_reorder)\n",
    "for new_cond_rule in new_cond_rule_reorder:\n",
    "    display(new_cond_rule[0], new_cond_rule[1])\n",
    "        "
   ]
  },
  {
   "cell_type": "raw",
   "id": "fd87b6f3",
   "metadata": {},
   "source": [
    "#### doesn't work but leave till fixed as it doesn't crash\n",
    "\n",
    "from cctbx import sgtbx\n",
    "\n",
    "sgi = sgtbx.space_group_info(142)\n",
    "gr = sgi.group()\n",
    "\n",
    "op_hkl_list = []\n",
    "for op in gr.build_derived_laue_group().all_ops():\n",
    "    op_xyz = op.as_xyz()\n",
    "    op_hkl = op_xyz.replace('x', 'h').replace('y', 'k').replace('z', 'l')\n",
    "    #print(op_hkl)\n",
    "    op_hkl_list += [op_hkl]\n",
    "    \n",
    "print(op_hkl_list)\n",
    "\n",
    "def equiv_cond_rule(cond_rule, sym_list):\n",
    "    _cond_rule_list = []\n",
    "    _cond, _rule = cond_rule\n",
    "    \n",
    "    for sym in sym_list:\n",
    "        for cond_item in _cond:\n",
    "            print('cond_item', cond_item)\n",
    "            #cond_item('h', sym[0]).replace('k', sym[1]).replace('l', sym[2])\n",
    "            cond_item = cond_item.subs({h:sym[0], k:sym[1], l:sym[2]})\n",
    "            #print('cond_item_subs', cond_item)\n",
    "        print('_cond', _cond)\n",
    "        \n",
    "            \n",
    "        \n",
    "        #_rule.replace('h', sym[0]).replace('k', sym[1]).replace('l', sym[2])\n",
    "        _rule.subs({h:sym[0], k:sym[1], l:sym[2]})\n",
    "        _cond_rule_list += [[_cond, _rule]]\n",
    "        \n",
    "    \n",
    "    return _cond_rule_list\n",
    "    \n",
    "  \n",
    "print(new_cond_rule_reorder[3])\n",
    "print(equiv_cond_rule(new_cond_rule_reorder[3], op_hkl_list))\n"
   ]
  },
  {
   "cell_type": "code",
   "execution_count": 45,
   "id": "d3b9dd09",
   "metadata": {
    "scrolled": true
   },
   "outputs": [
    {
     "name": "stdout",
     "output_type": "stream",
     "text": [
      "['h,k,l', '-k,h,l', '-h,-k,l', 'k,-h,l', 'h,-k,-l', 'k,h,-l', '-h,k,-l', '-k,-h,-l', '-h,-k,-l', 'k,-h,-l', 'h,k,-l', '-k,h,-l', '-h,k,l', '-k,-h,l', 'h,-k,l', 'k,h,l']\n",
      "[{Eq(l, 0)}, k]\n",
      "h k l h k l {Eq(l, 0)} k {Eq(l, 0)} k\n",
      "h k l -k h l {Eq(l, 0)} k {Eq(l, 0)} h\n",
      "h k l -h -k l {Eq(l, 0)} k {Eq(l, 0)} -k\n",
      "h k l k -h l {Eq(l, 0)} k {Eq(l, 0)} -h\n",
      "h k l h -k -l {Eq(l, 0)} k {Eq(l, 0)} -k\n",
      "h k l k h -l {Eq(l, 0)} k {Eq(l, 0)} h\n",
      "h k l -h k -l {Eq(l, 0)} k {Eq(l, 0)} k\n",
      "h k l -k -h -l {Eq(l, 0)} k {Eq(l, 0)} -h\n",
      "h k l -h -k -l {Eq(l, 0)} k {Eq(l, 0)} -k\n",
      "h k l k -h -l {Eq(l, 0)} k {Eq(l, 0)} -h\n",
      "h k l h k -l {Eq(l, 0)} k {Eq(l, 0)} k\n",
      "h k l -k h -l {Eq(l, 0)} k {Eq(l, 0)} h\n",
      "h k l -h k l {Eq(l, 0)} k {Eq(l, 0)} k\n",
      "h k l -k -h l {Eq(l, 0)} k {Eq(l, 0)} -h\n",
      "h k l h -k l {Eq(l, 0)} k {Eq(l, 0)} -k\n",
      "h k l k h l {Eq(l, 0)} k {Eq(l, 0)} h\n",
      "[[{Eq(l, 0)}, k], [{Eq(l, 0)}, h], [{Eq(l, 0)}, -k], [{Eq(l, 0)}, -h], [{Eq(l, 0)}, -k], [{Eq(l, 0)}, h], [{Eq(l, 0)}, k], [{Eq(l, 0)}, -h], [{Eq(l, 0)}, -k], [{Eq(l, 0)}, -h], [{Eq(l, 0)}, k], [{Eq(l, 0)}, h], [{Eq(l, 0)}, k], [{Eq(l, 0)}, -h], [{Eq(l, 0)}, -k], [{Eq(l, 0)}, h]]\n"
     ]
    }
   ],
   "source": [
    "from cctbx import sgtbx\n",
    "import copy\n",
    "\n",
    "sgi = sgtbx.space_group_info(142)\n",
    "gr = sgi.group()\n",
    "\n",
    "op_hkl_list = []\n",
    "for op in gr.build_derived_laue_group().all_ops():\n",
    "    op_xyz = op.as_xyz()\n",
    "    op_hkl = op_xyz.replace('x', 'h').replace('y', 'k').replace('z', 'l')\n",
    "    #print(op_hkl)\n",
    "    op_hkl_list += [op_hkl]\n",
    "    \n",
    "print(op_hkl_list)\n",
    "\n",
    "def equiv_cond_rule(cond_rule, sym_list):\n",
    "    hs, ks, ls = sp.symbols(['hs', 'ks', 'ls'])\n",
    "    _cond_rule_list = []\n",
    "    _cond, _rule = cond_rule\n",
    "    \n",
    "    for sym in sym_list:\n",
    "        [hsub, ksub, lsub] = sym.split(',')\n",
    "        _newcond = set()\n",
    "        for cond_item in _cond:\n",
    "            \n",
    "            #_newcond.add(cond_item.subs({h:hs, k:ks, l:ls, hs:hsub, ks:ksub, ls:lsub}))\n",
    "            #_newcond.add(sp.simplify(cond_item.subs({h:hs, k:ks, l:ls, hs:hsub, ks:ksub, ls:lsub})))\n",
    "            _newcond.add(sp.simplify(cond_item.subs({h:hsub, k:ksub, l:lsub}, simultaneous=True)))\n",
    "        #_new_rule = _rule.subs({h:hs, k:ks, l:ls, hs:hsub, ks:ksub, ls:lsub})\n",
    "        _new_rule = _rule.subs({h:hsub, k:ksub, l:lsub}, simultaneous=True)\n",
    "        #print('substitutions:', hsub, ksub, lsub, cond_rule, [_newcond, _new_rule])\n",
    "        print(h, k, l, hsub, ksub, lsub, _cond, _rule, _newcond, _new_rule)\n",
    "        _cond_rule_list += [[_newcond, _new_rule]]\n",
    "        \n",
    "    \n",
    "    return _cond_rule_list\n",
    "  \n",
    "  \n",
    "print(new_cond_rule_reorder[3])\n",
    "\n",
    "print(equiv_cond_rule(new_cond_rule_reorder[3], op_hkl_list))"
   ]
  },
  {
   "cell_type": "code",
   "execution_count": 46,
   "id": "8991bf3a",
   "metadata": {
    "scrolled": true
   },
   "outputs": [
    {
     "name": "stdout",
     "output_type": "stream",
     "text": [
      "h k l h k l set() h + k + l set() h + k + l\n",
      "h k l -k h l set() h + k + l set() h - k + l\n",
      "h k l -h -k l set() h + k + l set() -h - k + l\n",
      "h k l k -h l set() h + k + l set() -h + k + l\n",
      "h k l h -k -l set() h + k + l set() h - k - l\n",
      "h k l k h -l set() h + k + l set() h + k - l\n",
      "h k l -h k -l set() h + k + l set() -h + k - l\n",
      "h k l -k -h -l set() h + k + l set() -h - k - l\n",
      "h k l -h -k -l set() h + k + l set() -h - k - l\n",
      "h k l k -h -l set() h + k + l set() -h + k - l\n",
      "h k l h k -l set() h + k + l set() h + k - l\n",
      "h k l -k h -l set() h + k + l set() h - k - l\n",
      "h k l -h k l set() h + k + l set() -h + k + l\n",
      "h k l -k -h l set() h + k + l set() -h - k + l\n",
      "h k l h -k l set() h + k + l set() h - k + l\n",
      "h k l k h l set() h + k + l set() h + k + l\n",
      "h k l h k l {Eq(h, 0)} l {Eq(h, 0)} l\n",
      "h k l -k h l {Eq(h, 0)} l {Eq(k, 0)} l\n",
      "h k l -h -k l {Eq(h, 0)} l {Eq(h, 0)} l\n",
      "h k l k -h l {Eq(h, 0)} l {Eq(k, 0)} l\n",
      "h k l h -k -l {Eq(h, 0)} l {Eq(h, 0)} -l\n",
      "h k l k h -l {Eq(h, 0)} l {Eq(k, 0)} -l\n",
      "h k l -h k -l {Eq(h, 0)} l {Eq(h, 0)} -l\n",
      "h k l -k -h -l {Eq(h, 0)} l {Eq(k, 0)} -l\n",
      "h k l -h -k -l {Eq(h, 0)} l {Eq(h, 0)} -l\n",
      "h k l k -h -l {Eq(h, 0)} l {Eq(k, 0)} -l\n",
      "h k l h k -l {Eq(h, 0)} l {Eq(h, 0)} -l\n",
      "h k l -k h -l {Eq(h, 0)} l {Eq(k, 0)} -l\n",
      "h k l -h k l {Eq(h, 0)} l {Eq(h, 0)} l\n",
      "h k l -k -h l {Eq(h, 0)} l {Eq(k, 0)} l\n",
      "h k l h -k l {Eq(h, 0)} l {Eq(h, 0)} l\n",
      "h k l k h l {Eq(h, 0)} l {Eq(k, 0)} l\n",
      "h k l h k l {Eq(k, 0)} h {Eq(k, 0)} h\n",
      "h k l -k h l {Eq(k, 0)} h {Eq(h, 0)} -k\n",
      "h k l -h -k l {Eq(k, 0)} h {Eq(k, 0)} -h\n",
      "h k l k -h l {Eq(k, 0)} h {Eq(h, 0)} k\n",
      "h k l h -k -l {Eq(k, 0)} h {Eq(k, 0)} h\n",
      "h k l k h -l {Eq(k, 0)} h {Eq(h, 0)} k\n",
      "h k l -h k -l {Eq(k, 0)} h {Eq(k, 0)} -h\n",
      "h k l -k -h -l {Eq(k, 0)} h {Eq(h, 0)} -k\n",
      "h k l -h -k -l {Eq(k, 0)} h {Eq(k, 0)} -h\n",
      "h k l k -h -l {Eq(k, 0)} h {Eq(h, 0)} k\n",
      "h k l h k -l {Eq(k, 0)} h {Eq(k, 0)} h\n",
      "h k l -k h -l {Eq(k, 0)} h {Eq(h, 0)} -k\n",
      "h k l -h k l {Eq(k, 0)} h {Eq(k, 0)} -h\n",
      "h k l -k -h l {Eq(k, 0)} h {Eq(h, 0)} -k\n",
      "h k l h -k l {Eq(k, 0)} h {Eq(k, 0)} h\n",
      "h k l k h l {Eq(k, 0)} h {Eq(h, 0)} k\n",
      "h k l h k l {Eq(l, 0)} k {Eq(l, 0)} k\n",
      "h k l -k h l {Eq(l, 0)} k {Eq(l, 0)} h\n",
      "h k l -h -k l {Eq(l, 0)} k {Eq(l, 0)} -k\n",
      "h k l k -h l {Eq(l, 0)} k {Eq(l, 0)} -h\n",
      "h k l h -k -l {Eq(l, 0)} k {Eq(l, 0)} -k\n",
      "h k l k h -l {Eq(l, 0)} k {Eq(l, 0)} h\n",
      "h k l -h k -l {Eq(l, 0)} k {Eq(l, 0)} k\n",
      "h k l -k -h -l {Eq(l, 0)} k {Eq(l, 0)} -h\n",
      "h k l -h -k -l {Eq(l, 0)} k {Eq(l, 0)} -k\n",
      "h k l k -h -l {Eq(l, 0)} k {Eq(l, 0)} -h\n",
      "h k l h k -l {Eq(l, 0)} k {Eq(l, 0)} k\n",
      "h k l -k h -l {Eq(l, 0)} k {Eq(l, 0)} h\n",
      "h k l -h k l {Eq(l, 0)} k {Eq(l, 0)} k\n",
      "h k l -k -h l {Eq(l, 0)} k {Eq(l, 0)} -h\n",
      "h k l h -k l {Eq(l, 0)} k {Eq(l, 0)} -k\n",
      "h k l k h l {Eq(l, 0)} k {Eq(l, 0)} h\n",
      "h k l h k l {Eq(h + k, 0)} k + l/2 {Eq(h + k, 0)} k + l/2\n",
      "h k l -k h l {Eq(h + k, 0)} k + l/2 {Eq(h - k, 0)} h + l/2\n",
      "h k l -h -k l {Eq(h + k, 0)} k + l/2 {Eq(h + k, 0)} -k + l/2\n",
      "h k l k -h l {Eq(h + k, 0)} k + l/2 {Eq(h - k, 0)} -h + l/2\n",
      "h k l h -k -l {Eq(h + k, 0)} k + l/2 {Eq(h - k, 0)} -k - l/2\n",
      "h k l k h -l {Eq(h + k, 0)} k + l/2 {Eq(h + k, 0)} h - l/2\n",
      "h k l -h k -l {Eq(h + k, 0)} k + l/2 {Eq(h - k, 0)} k - l/2\n",
      "h k l -k -h -l {Eq(h + k, 0)} k + l/2 {Eq(h + k, 0)} -h - l/2\n",
      "h k l -h -k -l {Eq(h + k, 0)} k + l/2 {Eq(h + k, 0)} -k - l/2\n",
      "h k l k -h -l {Eq(h + k, 0)} k + l/2 {Eq(h - k, 0)} -h - l/2\n",
      "h k l h k -l {Eq(h + k, 0)} k + l/2 {Eq(h + k, 0)} k - l/2\n",
      "h k l -k h -l {Eq(h + k, 0)} k + l/2 {Eq(h - k, 0)} h - l/2\n",
      "h k l -h k l {Eq(h + k, 0)} k + l/2 {Eq(h - k, 0)} k + l/2\n",
      "h k l -k -h l {Eq(h + k, 0)} k + l/2 {Eq(h + k, 0)} -h + l/2\n",
      "h k l h -k l {Eq(h + k, 0)} k + l/2 {Eq(h - k, 0)} -k + l/2\n",
      "h k l k h l {Eq(h + k, 0)} k + l/2 {Eq(h + k, 0)} h + l/2\n",
      "h k l h k l {Eq(h - k, 0)} k + l/2 {Eq(h - k, 0)} k + l/2\n",
      "h k l -k h l {Eq(h - k, 0)} k + l/2 {Eq(h + k, 0)} h + l/2\n",
      "h k l -h -k l {Eq(h - k, 0)} k + l/2 {Eq(h - k, 0)} -k + l/2\n",
      "h k l k -h l {Eq(h - k, 0)} k + l/2 {Eq(h + k, 0)} -h + l/2\n",
      "h k l h -k -l {Eq(h - k, 0)} k + l/2 {Eq(h + k, 0)} -k - l/2\n",
      "h k l k h -l {Eq(h - k, 0)} k + l/2 {Eq(h - k, 0)} h - l/2\n",
      "h k l -h k -l {Eq(h - k, 0)} k + l/2 {Eq(h + k, 0)} k - l/2\n",
      "h k l -k -h -l {Eq(h - k, 0)} k + l/2 {Eq(h - k, 0)} -h - l/2\n",
      "h k l -h -k -l {Eq(h - k, 0)} k + l/2 {Eq(h - k, 0)} -k - l/2\n",
      "h k l k -h -l {Eq(h - k, 0)} k + l/2 {Eq(h + k, 0)} -h - l/2\n",
      "h k l h k -l {Eq(h - k, 0)} k + l/2 {Eq(h - k, 0)} k - l/2\n",
      "h k l -k h -l {Eq(h - k, 0)} k + l/2 {Eq(h + k, 0)} h - l/2\n",
      "h k l -h k l {Eq(h - k, 0)} k + l/2 {Eq(h + k, 0)} k + l/2\n",
      "h k l -k -h l {Eq(h - k, 0)} k + l/2 {Eq(h - k, 0)} -h + l/2\n",
      "h k l h -k l {Eq(h - k, 0)} k + l/2 {Eq(h + k, 0)} -k + l/2\n",
      "h k l k h l {Eq(h - k, 0)} k + l/2 {Eq(h - k, 0)} h + l/2\n",
      "h k l h k l {Eq(h, 0)} k {Eq(h, 0)} k\n",
      "h k l -k h l {Eq(h, 0)} k {Eq(k, 0)} h\n",
      "h k l -h -k l {Eq(h, 0)} k {Eq(h, 0)} -k\n",
      "h k l k -h l {Eq(h, 0)} k {Eq(k, 0)} -h\n",
      "h k l h -k -l {Eq(h, 0)} k {Eq(h, 0)} -k\n",
      "h k l k h -l {Eq(h, 0)} k {Eq(k, 0)} h\n",
      "h k l -h k -l {Eq(h, 0)} k {Eq(h, 0)} k\n",
      "h k l -k -h -l {Eq(h, 0)} k {Eq(k, 0)} -h\n",
      "h k l -h -k -l {Eq(h, 0)} k {Eq(h, 0)} -k\n",
      "h k l k -h -l {Eq(h, 0)} k {Eq(k, 0)} -h\n",
      "h k l h k -l {Eq(h, 0)} k {Eq(h, 0)} k\n",
      "h k l -k h -l {Eq(h, 0)} k {Eq(k, 0)} h\n",
      "h k l -h k l {Eq(h, 0)} k {Eq(h, 0)} k\n",
      "h k l -k -h l {Eq(h, 0)} k {Eq(k, 0)} -h\n",
      "h k l h -k l {Eq(h, 0)} k {Eq(h, 0)} -k\n",
      "h k l k h l {Eq(h, 0)} k {Eq(k, 0)} h\n",
      "h k l h k l {Eq(k, 0)} l {Eq(k, 0)} l\n",
      "h k l -k h l {Eq(k, 0)} l {Eq(h, 0)} l\n",
      "h k l -h -k l {Eq(k, 0)} l {Eq(k, 0)} l\n",
      "h k l k -h l {Eq(k, 0)} l {Eq(h, 0)} l\n",
      "h k l h -k -l {Eq(k, 0)} l {Eq(k, 0)} -l\n",
      "h k l k h -l {Eq(k, 0)} l {Eq(h, 0)} -l\n",
      "h k l -h k -l {Eq(k, 0)} l {Eq(k, 0)} -l\n",
      "h k l -k -h -l {Eq(k, 0)} l {Eq(h, 0)} -l\n",
      "h k l -h -k -l {Eq(k, 0)} l {Eq(k, 0)} -l\n",
      "h k l k -h -l {Eq(k, 0)} l {Eq(h, 0)} -l\n",
      "h k l h k -l {Eq(k, 0)} l {Eq(k, 0)} -l\n",
      "h k l -k h -l {Eq(k, 0)} l {Eq(h, 0)} -l\n",
      "h k l -h k l {Eq(k, 0)} l {Eq(k, 0)} l\n",
      "h k l -k -h l {Eq(k, 0)} l {Eq(h, 0)} l\n",
      "h k l h -k l {Eq(k, 0)} l {Eq(k, 0)} l\n",
      "h k l k h l {Eq(k, 0)} l {Eq(h, 0)} l\n",
      "h k l h k l {Eq(l, 0)} h {Eq(l, 0)} h\n",
      "h k l -k h l {Eq(l, 0)} h {Eq(l, 0)} -k\n",
      "h k l -h -k l {Eq(l, 0)} h {Eq(l, 0)} -h\n",
      "h k l k -h l {Eq(l, 0)} h {Eq(l, 0)} k\n",
      "h k l h -k -l {Eq(l, 0)} h {Eq(l, 0)} h\n",
      "h k l k h -l {Eq(l, 0)} h {Eq(l, 0)} k\n",
      "h k l -h k -l {Eq(l, 0)} h {Eq(l, 0)} -h\n",
      "h k l -k -h -l {Eq(l, 0)} h {Eq(l, 0)} -k\n",
      "h k l -h -k -l {Eq(l, 0)} h {Eq(l, 0)} -h\n",
      "h k l k -h -l {Eq(l, 0)} h {Eq(l, 0)} k\n",
      "h k l h k -l {Eq(l, 0)} h {Eq(l, 0)} h\n",
      "h k l -k h -l {Eq(l, 0)} h {Eq(l, 0)} -k\n",
      "h k l -h k l {Eq(l, 0)} h {Eq(l, 0)} -h\n",
      "h k l -k -h l {Eq(l, 0)} h {Eq(l, 0)} -k\n",
      "h k l h -k l {Eq(l, 0)} h {Eq(l, 0)} h\n",
      "h k l k h l {Eq(l, 0)} h {Eq(l, 0)} k\n",
      "h k l h k l {Eq(k, 0), Eq(h, 0)} l/2 {Eq(k, 0), Eq(h, 0)} l/2\n",
      "h k l -k h l {Eq(k, 0), Eq(h, 0)} l/2 {Eq(k, 0), Eq(h, 0)} l/2\n",
      "h k l -h -k l {Eq(k, 0), Eq(h, 0)} l/2 {Eq(k, 0), Eq(h, 0)} l/2\n",
      "h k l k -h l {Eq(k, 0), Eq(h, 0)} l/2 {Eq(k, 0), Eq(h, 0)} l/2\n",
      "h k l h -k -l {Eq(k, 0), Eq(h, 0)} l/2 {Eq(k, 0), Eq(h, 0)} -l/2\n",
      "h k l k h -l {Eq(k, 0), Eq(h, 0)} l/2 {Eq(k, 0), Eq(h, 0)} -l/2\n",
      "h k l -h k -l {Eq(k, 0), Eq(h, 0)} l/2 {Eq(k, 0), Eq(h, 0)} -l/2\n",
      "h k l -k -h -l {Eq(k, 0), Eq(h, 0)} l/2 {Eq(k, 0), Eq(h, 0)} -l/2\n",
      "h k l -h -k -l {Eq(k, 0), Eq(h, 0)} l/2 {Eq(k, 0), Eq(h, 0)} -l/2\n",
      "h k l k -h -l {Eq(k, 0), Eq(h, 0)} l/2 {Eq(k, 0), Eq(h, 0)} -l/2\n",
      "h k l h k -l {Eq(k, 0), Eq(h, 0)} l/2 {Eq(k, 0), Eq(h, 0)} -l/2\n",
      "h k l -k h -l {Eq(k, 0), Eq(h, 0)} l/2 {Eq(k, 0), Eq(h, 0)} -l/2\n",
      "h k l -h k l {Eq(k, 0), Eq(h, 0)} l/2 {Eq(k, 0), Eq(h, 0)} l/2\n",
      "h k l -k -h l {Eq(k, 0), Eq(h, 0)} l/2 {Eq(k, 0), Eq(h, 0)} l/2\n",
      "h k l h -k l {Eq(k, 0), Eq(h, 0)} l/2 {Eq(k, 0), Eq(h, 0)} l/2\n",
      "h k l k h l {Eq(k, 0), Eq(h, 0)} l/2 {Eq(k, 0), Eq(h, 0)} l/2\n",
      "h k l h k l {Eq(l, 0), Eq(h - k, 0)} 2*k {Eq(l, 0), Eq(h - k, 0)} 2*k\n",
      "h k l -k h l {Eq(l, 0), Eq(h - k, 0)} 2*k {Eq(l, 0), Eq(h + k, 0)} 2*h\n",
      "h k l -h -k l {Eq(l, 0), Eq(h - k, 0)} 2*k {Eq(l, 0), Eq(h - k, 0)} -2*k\n",
      "h k l k -h l {Eq(l, 0), Eq(h - k, 0)} 2*k {Eq(l, 0), Eq(h + k, 0)} -2*h\n",
      "h k l h -k -l {Eq(l, 0), Eq(h - k, 0)} 2*k {Eq(l, 0), Eq(h + k, 0)} -2*k\n",
      "h k l k h -l {Eq(l, 0), Eq(h - k, 0)} 2*k {Eq(l, 0), Eq(h - k, 0)} 2*h\n",
      "h k l -h k -l {Eq(l, 0), Eq(h - k, 0)} 2*k {Eq(l, 0), Eq(h + k, 0)} 2*k\n",
      "h k l -k -h -l {Eq(l, 0), Eq(h - k, 0)} 2*k {Eq(l, 0), Eq(h - k, 0)} -2*h\n",
      "h k l -h -k -l {Eq(l, 0), Eq(h - k, 0)} 2*k {Eq(l, 0), Eq(h - k, 0)} -2*k\n",
      "h k l k -h -l {Eq(l, 0), Eq(h - k, 0)} 2*k {Eq(l, 0), Eq(h + k, 0)} -2*h\n",
      "h k l h k -l {Eq(l, 0), Eq(h - k, 0)} 2*k {Eq(l, 0), Eq(h - k, 0)} 2*k\n"
     ]
    },
    {
     "name": "stdout",
     "output_type": "stream",
     "text": [
      "h k l -k h -l {Eq(l, 0), Eq(h - k, 0)} 2*k {Eq(l, 0), Eq(h + k, 0)} 2*h\n",
      "h k l -h k l {Eq(l, 0), Eq(h - k, 0)} 2*k {Eq(l, 0), Eq(h + k, 0)} 2*k\n",
      "h k l -k -h l {Eq(l, 0), Eq(h - k, 0)} 2*k {Eq(l, 0), Eq(h - k, 0)} -2*h\n",
      "h k l h -k l {Eq(l, 0), Eq(h - k, 0)} 2*k {Eq(l, 0), Eq(h + k, 0)} -2*k\n",
      "h k l k h l {Eq(l, 0), Eq(h - k, 0)} 2*k {Eq(l, 0), Eq(h - k, 0)} 2*h\n",
      "h k l h k l {Eq(l, 0), Eq(k, 0)} h {Eq(l, 0), Eq(k, 0)} h\n",
      "h k l -k h l {Eq(l, 0), Eq(k, 0)} h {Eq(l, 0), Eq(h, 0)} -k\n",
      "h k l -h -k l {Eq(l, 0), Eq(k, 0)} h {Eq(l, 0), Eq(k, 0)} -h\n",
      "h k l k -h l {Eq(l, 0), Eq(k, 0)} h {Eq(l, 0), Eq(h, 0)} k\n",
      "h k l h -k -l {Eq(l, 0), Eq(k, 0)} h {Eq(l, 0), Eq(k, 0)} h\n",
      "h k l k h -l {Eq(l, 0), Eq(k, 0)} h {Eq(l, 0), Eq(h, 0)} k\n",
      "h k l -h k -l {Eq(l, 0), Eq(k, 0)} h {Eq(l, 0), Eq(k, 0)} -h\n",
      "h k l -k -h -l {Eq(l, 0), Eq(k, 0)} h {Eq(l, 0), Eq(h, 0)} -k\n",
      "h k l -h -k -l {Eq(l, 0), Eq(k, 0)} h {Eq(l, 0), Eq(k, 0)} -h\n",
      "h k l k -h -l {Eq(l, 0), Eq(k, 0)} h {Eq(l, 0), Eq(h, 0)} k\n",
      "h k l h k -l {Eq(l, 0), Eq(k, 0)} h {Eq(l, 0), Eq(k, 0)} h\n",
      "h k l -k h -l {Eq(l, 0), Eq(k, 0)} h {Eq(l, 0), Eq(h, 0)} -k\n",
      "h k l -h k l {Eq(l, 0), Eq(k, 0)} h {Eq(l, 0), Eq(k, 0)} -h\n",
      "h k l -k -h l {Eq(l, 0), Eq(k, 0)} h {Eq(l, 0), Eq(h, 0)} -k\n",
      "h k l h -k l {Eq(l, 0), Eq(k, 0)} h {Eq(l, 0), Eq(k, 0)} h\n",
      "h k l k h l {Eq(l, 0), Eq(k, 0)} h {Eq(l, 0), Eq(h, 0)} k\n",
      "h k l h k l {Eq(l, 0), Eq(h, 0)} k {Eq(l, 0), Eq(h, 0)} k\n",
      "h k l -k h l {Eq(l, 0), Eq(h, 0)} k {Eq(l, 0), Eq(k, 0)} h\n",
      "h k l -h -k l {Eq(l, 0), Eq(h, 0)} k {Eq(l, 0), Eq(h, 0)} -k\n",
      "h k l k -h l {Eq(l, 0), Eq(h, 0)} k {Eq(l, 0), Eq(k, 0)} -h\n",
      "h k l h -k -l {Eq(l, 0), Eq(h, 0)} k {Eq(l, 0), Eq(h, 0)} -k\n",
      "h k l k h -l {Eq(l, 0), Eq(h, 0)} k {Eq(l, 0), Eq(k, 0)} h\n",
      "h k l -h k -l {Eq(l, 0), Eq(h, 0)} k {Eq(l, 0), Eq(h, 0)} k\n",
      "h k l -k -h -l {Eq(l, 0), Eq(h, 0)} k {Eq(l, 0), Eq(k, 0)} -h\n",
      "h k l -h -k -l {Eq(l, 0), Eq(h, 0)} k {Eq(l, 0), Eq(h, 0)} -k\n",
      "h k l k -h -l {Eq(l, 0), Eq(h, 0)} k {Eq(l, 0), Eq(k, 0)} -h\n",
      "h k l h k -l {Eq(l, 0), Eq(h, 0)} k {Eq(l, 0), Eq(h, 0)} k\n",
      "h k l -k h -l {Eq(l, 0), Eq(h, 0)} k {Eq(l, 0), Eq(k, 0)} h\n",
      "h k l -h k l {Eq(l, 0), Eq(h, 0)} k {Eq(l, 0), Eq(h, 0)} k\n",
      "h k l -k -h l {Eq(l, 0), Eq(h, 0)} k {Eq(l, 0), Eq(k, 0)} -h\n",
      "h k l h -k l {Eq(l, 0), Eq(h, 0)} k {Eq(l, 0), Eq(h, 0)} -k\n",
      "h k l k h l {Eq(l, 0), Eq(h, 0)} k {Eq(l, 0), Eq(k, 0)} h\n",
      "h k l h k l {Eq(k, 0), Eq(h, 0)} l {Eq(k, 0), Eq(h, 0)} l\n",
      "h k l -k h l {Eq(k, 0), Eq(h, 0)} l {Eq(k, 0), Eq(h, 0)} l\n",
      "h k l -h -k l {Eq(k, 0), Eq(h, 0)} l {Eq(k, 0), Eq(h, 0)} l\n",
      "h k l k -h l {Eq(k, 0), Eq(h, 0)} l {Eq(k, 0), Eq(h, 0)} l\n",
      "h k l h -k -l {Eq(k, 0), Eq(h, 0)} l {Eq(k, 0), Eq(h, 0)} -l\n",
      "h k l k h -l {Eq(k, 0), Eq(h, 0)} l {Eq(k, 0), Eq(h, 0)} -l\n",
      "h k l -h k -l {Eq(k, 0), Eq(h, 0)} l {Eq(k, 0), Eq(h, 0)} -l\n",
      "h k l -k -h -l {Eq(k, 0), Eq(h, 0)} l {Eq(k, 0), Eq(h, 0)} -l\n",
      "h k l -h -k -l {Eq(k, 0), Eq(h, 0)} l {Eq(k, 0), Eq(h, 0)} -l\n",
      "h k l k -h -l {Eq(k, 0), Eq(h, 0)} l {Eq(k, 0), Eq(h, 0)} -l\n",
      "h k l h k -l {Eq(k, 0), Eq(h, 0)} l {Eq(k, 0), Eq(h, 0)} -l\n",
      "h k l -k h -l {Eq(k, 0), Eq(h, 0)} l {Eq(k, 0), Eq(h, 0)} -l\n",
      "h k l -h k l {Eq(k, 0), Eq(h, 0)} l {Eq(k, 0), Eq(h, 0)} l\n",
      "h k l -k -h l {Eq(k, 0), Eq(h, 0)} l {Eq(k, 0), Eq(h, 0)} l\n",
      "h k l h -k l {Eq(k, 0), Eq(h, 0)} l {Eq(k, 0), Eq(h, 0)} l\n",
      "h k l k h l {Eq(k, 0), Eq(h, 0)} l {Eq(k, 0), Eq(h, 0)} l\n",
      "h k l h k l {Eq(l, 0), Eq(h - k, 0)} 4*k {Eq(l, 0), Eq(h - k, 0)} 4*k\n",
      "h k l -k h l {Eq(l, 0), Eq(h - k, 0)} 4*k {Eq(l, 0), Eq(h + k, 0)} 4*h\n",
      "h k l -h -k l {Eq(l, 0), Eq(h - k, 0)} 4*k {Eq(l, 0), Eq(h - k, 0)} -4*k\n",
      "h k l k -h l {Eq(l, 0), Eq(h - k, 0)} 4*k {Eq(l, 0), Eq(h + k, 0)} -4*h\n",
      "h k l h -k -l {Eq(l, 0), Eq(h - k, 0)} 4*k {Eq(l, 0), Eq(h + k, 0)} -4*k\n",
      "h k l k h -l {Eq(l, 0), Eq(h - k, 0)} 4*k {Eq(l, 0), Eq(h - k, 0)} 4*h\n",
      "h k l -h k -l {Eq(l, 0), Eq(h - k, 0)} 4*k {Eq(l, 0), Eq(h + k, 0)} 4*k\n",
      "h k l -k -h -l {Eq(l, 0), Eq(h - k, 0)} 4*k {Eq(l, 0), Eq(h - k, 0)} -4*h\n",
      "h k l -h -k -l {Eq(l, 0), Eq(h - k, 0)} 4*k {Eq(l, 0), Eq(h - k, 0)} -4*k\n",
      "h k l k -h -l {Eq(l, 0), Eq(h - k, 0)} 4*k {Eq(l, 0), Eq(h + k, 0)} -4*h\n",
      "h k l h k -l {Eq(l, 0), Eq(h - k, 0)} 4*k {Eq(l, 0), Eq(h - k, 0)} 4*k\n",
      "h k l -k h -l {Eq(l, 0), Eq(h - k, 0)} 4*k {Eq(l, 0), Eq(h + k, 0)} 4*h\n",
      "h k l -h k l {Eq(l, 0), Eq(h - k, 0)} 4*k {Eq(l, 0), Eq(h + k, 0)} 4*k\n",
      "h k l -k -h l {Eq(l, 0), Eq(h - k, 0)} 4*k {Eq(l, 0), Eq(h - k, 0)} -4*h\n",
      "h k l h -k l {Eq(l, 0), Eq(h - k, 0)} 4*k {Eq(l, 0), Eq(h + k, 0)} -4*k\n",
      "h k l k h l {Eq(l, 0), Eq(h - k, 0)} 4*k {Eq(l, 0), Eq(h - k, 0)} 4*h\n",
      "240\n",
      "60\n"
     ]
    }
   ],
   "source": [
    "\n",
    "\n",
    "all_cond_rules = []\n",
    "for cond_rule in new_cond_rule_reorder:\n",
    "      all_cond_rules += equiv_cond_rule(cond_rule, op_hkl_list)\n",
    "\n",
    "\n",
    "short_cond_rules = [] # remove duplicates\n",
    "\n",
    "for cond_rule in all_cond_rules:\n",
    "    _new = True\n",
    "    for short_cond_rule in short_cond_rules:\n",
    "        #print(cond_rule, short_cond_rule)\n",
    "        if cond_rule == short_cond_rule:\n",
    "            _new = False\n",
    "            break\n",
    "    if _new:\n",
    "        short_cond_rules += [cond_rule]\n",
    "     \n",
    "        \n",
    "print(len(all_cond_rules))\n",
    "print(len(short_cond_rules))\n"
   ]
  },
  {
   "cell_type": "code",
   "execution_count": 43,
   "id": "08d17cfc",
   "metadata": {},
   "outputs": [
    {
     "data": {
      "text/latex": [
       "$\\displaystyle h + k + l$"
      ],
      "text/plain": [
       "h + k + l"
      ]
     },
     "metadata": {},
     "output_type": "display_data"
    },
    {
     "data": {
      "text/latex": [
       "$\\displaystyle h + k + l$"
      ],
      "text/plain": [
       "h + k + l"
      ]
     },
     "metadata": {},
     "output_type": "display_data"
    },
    {
     "data": {
      "text/latex": [
       "$\\displaystyle l$"
      ],
      "text/plain": [
       "l"
      ]
     },
     "metadata": {},
     "output_type": "display_data"
    },
    {
     "name": "stdout",
     "output_type": "stream",
     "text": [
      "----------\n"
     ]
    },
    {
     "data": {
      "text/latex": [
       "$\\displaystyle hs + k + l$"
      ],
      "text/plain": [
       "hs + k + l"
      ]
     },
     "metadata": {},
     "output_type": "display_data"
    },
    {
     "data": {
      "text/latex": [
       "$\\displaystyle hs + ks + l$"
      ],
      "text/plain": [
       "hs + ks + l"
      ]
     },
     "metadata": {},
     "output_type": "display_data"
    },
    {
     "data": {
      "text/latex": [
       "$\\displaystyle hs + ks + ls$"
      ],
      "text/plain": [
       "hs + ks + ls"
      ]
     },
     "metadata": {},
     "output_type": "display_data"
    },
    {
     "data": {
      "text/latex": [
       "$\\displaystyle - k + ks + ls$"
      ],
      "text/plain": [
       "-k + ks + ls"
      ]
     },
     "metadata": {},
     "output_type": "display_data"
    },
    {
     "data": {
      "text/latex": [
       "$\\displaystyle h - k + ls$"
      ],
      "text/plain": [
       "h - k + ls"
      ]
     },
     "metadata": {},
     "output_type": "display_data"
    },
    {
     "data": {
      "text/latex": [
       "$\\displaystyle h - k + l$"
      ],
      "text/plain": [
       "h - k + l"
      ]
     },
     "metadata": {},
     "output_type": "display_data"
    },
    {
     "name": "stdout",
     "output_type": "stream",
     "text": [
      "----------\n"
     ]
    },
    {
     "data": {
      "text/latex": [
       "$\\displaystyle h - k + l$"
      ],
      "text/plain": [
       "h - k + l"
      ]
     },
     "metadata": {},
     "output_type": "display_data"
    }
   ],
   "source": [
    "### this shows the problem #######\n",
    "### check each substitution sequentially ########\n",
    "\n",
    "\n",
    "from sympy.parsing.sympy_parser import parse_expr ########## doesn't help - strings seem ok\n",
    "\n",
    "hs, ks, ls = sp.symbols(['hs', 'ks', 'ls'])\n",
    "hsub, ksub, lsub = '-k', 'h', 'l' # strings ok??\n",
    "#hsub, ksub, lsub = parse_expr('-k'), parse_expr('h'), parse_expr('l')\n",
    "cc = cond_rule_list[8][1]\n",
    "display(cc)\n",
    "cc1 = cc.subs({h:hs, k:ks, l:ls, hs:hsub, ks:ksub, ls:lsub})\n",
    "display(cc) # to show that subs makes new copy\n",
    "display(cc1)\n",
    "print('----------')\n",
    "cc2 = cc.subs({h:hs})\n",
    "display(cc2)\n",
    "cc2 = cc2.subs({k:ks})\n",
    "display(cc2)\n",
    "cc2 = cc2.subs({l:ls})\n",
    "display(cc2)\n",
    "cc2 = cc2.subs({hs:hsub})\n",
    "display(cc2)\n",
    "cc2 = cc2.subs({ks:ksub})\n",
    "display(cc2)\n",
    "cc2 = cc2.subs({ls:lsub})\n",
    "display(cc2)\n",
    "print('----------')\n",
    "cc3 = cc.subs({h:hsub, k:ksub, l:lsub}, simultaneous=True) #### this does it !\n",
    "display(cc3)"
   ]
  },
  {
   "cell_type": "code",
   "execution_count": 29,
   "id": "34f9914d",
   "metadata": {},
   "outputs": [
    {
     "data": {
      "text/latex": [
       "$\\displaystyle k$"
      ],
      "text/plain": [
       "k"
      ]
     },
     "execution_count": 29,
     "metadata": {},
     "output_type": "execute_result"
    }
   ],
   "source": [
    "from sympy.parsing.sympy_parser import parse_expr\n",
    "parse_expr(\"k\")"
   ]
  },
  {
   "cell_type": "code",
   "execution_count": 30,
   "id": "8611633a",
   "metadata": {},
   "outputs": [
    {
     "data": {
      "text/plain": [
       "[[set(), h + k + l],\n",
       " [set(), l],\n",
       " [set(), -h - k + l],\n",
       " [set(), -2*h + l],\n",
       " [set(), h - k - l],\n",
       " [set(), 2*h - l],\n",
       " [set(), -h + k - l],\n",
       " [set(), -l],\n",
       " [set(), -h - k - l],\n",
       " [set(), -2*h - l],\n",
       " [set(), h + k - l],\n",
       " [set(), -h + k + l],\n",
       " [set(), h - k + l],\n",
       " [set(), 2*h + l],\n",
       " [{Eq(h, 0)}, l],\n",
       " [{Eq(h, 0)}, -l],\n",
       " [{Eq(k, 0)}, h],\n",
       " [{Eq(h, 0)}, -h],\n",
       " [{Eq(k, 0)}, -h],\n",
       " [{Eq(h, 0)}, h],\n",
       " [{Eq(l, 0)}, k],\n",
       " [{Eq(l, 0)}, h],\n",
       " [{Eq(l, 0)}, -k],\n",
       " [{Eq(l, 0)}, -h],\n",
       " [{Eq(h + k, 0)}, k + l/2],\n",
       " [{True}, h + l/2],\n",
       " [{Eq(h + k, 0)}, -k + l/2],\n",
       " [{Eq(h, 0)}, -h + l/2],\n",
       " [{Eq(h - k, 0)}, -k - l/2],\n",
       " [{Eq(h, 0)}, h - l/2],\n",
       " [{Eq(h - k, 0)}, k - l/2],\n",
       " [{True}, -h - l/2],\n",
       " [{Eq(h + k, 0)}, -k - l/2],\n",
       " [{Eq(h, 0)}, -h - l/2],\n",
       " [{Eq(h + k, 0)}, k - l/2],\n",
       " [{True}, h - l/2],\n",
       " [{Eq(h - k, 0)}, k + l/2],\n",
       " [{True}, -h + l/2],\n",
       " [{Eq(h - k, 0)}, -k + l/2],\n",
       " [{Eq(h, 0)}, h + l/2],\n",
       " [{Eq(h, 0)}, k],\n",
       " [{Eq(h, 0)}, -k],\n",
       " [{Eq(k, 0)}, l],\n",
       " [{Eq(k, 0)}, -l],\n",
       " [{Eq(h, 0), Eq(k, 0)}, l/2],\n",
       " [{Eq(h, 0)}, l/2],\n",
       " [{Eq(h, 0), Eq(k, 0)}, -l/2],\n",
       " [{Eq(h, 0)}, -l/2],\n",
       " [{Eq(h - k, 0), Eq(l, 0)}, 2*k],\n",
       " [{Eq(h, 0), Eq(l, 0)}, 2*h],\n",
       " [{Eq(h - k, 0), Eq(l, 0)}, -2*k],\n",
       " [{Eq(l, 0), True}, -2*h],\n",
       " [{Eq(h + k, 0), Eq(l, 0)}, -2*k],\n",
       " [{Eq(l, 0), True}, 2*h],\n",
       " [{Eq(h + k, 0), Eq(l, 0)}, 2*k],\n",
       " [{Eq(h, 0), Eq(l, 0)}, -2*h],\n",
       " [{Eq(k, 0), Eq(l, 0)}, h],\n",
       " [{Eq(h, 0), Eq(l, 0)}, -h],\n",
       " [{Eq(k, 0), Eq(l, 0)}, -h],\n",
       " [{Eq(h, 0), Eq(l, 0)}, h],\n",
       " [{Eq(h, 0), Eq(l, 0)}, k],\n",
       " [{Eq(h, 0), Eq(l, 0)}, -k],\n",
       " [{Eq(h, 0), Eq(k, 0)}, l],\n",
       " [{Eq(h, 0), Eq(k, 0)}, -l],\n",
       " [{Eq(h - k, 0), Eq(l, 0)}, 4*k],\n",
       " [{Eq(h, 0), Eq(l, 0)}, 4*h],\n",
       " [{Eq(h - k, 0), Eq(l, 0)}, -4*k],\n",
       " [{Eq(l, 0), True}, -4*h],\n",
       " [{Eq(h + k, 0), Eq(l, 0)}, -4*k],\n",
       " [{Eq(l, 0), True}, 4*h],\n",
       " [{Eq(h + k, 0), Eq(l, 0)}, 4*k],\n",
       " [{Eq(h, 0), Eq(l, 0)}, -4*h]]"
      ]
     },
     "execution_count": 30,
     "metadata": {},
     "output_type": "execute_result"
    }
   ],
   "source": [
    "short_cond_rules"
   ]
  },
  {
   "cell_type": "code",
   "execution_count": 31,
   "id": "c7967d7b",
   "metadata": {},
   "outputs": [
    {
     "data": {
      "text/latex": [
       "$\\displaystyle h = 0$"
      ],
      "text/plain": [
       "Eq(h, 0)"
      ]
     },
     "execution_count": 31,
     "metadata": {},
     "output_type": "execute_result"
    }
   ],
   "source": [
    "sp.simplify(list(short_cond_rules[15][0])[0])"
   ]
  },
  {
   "cell_type": "code",
   "execution_count": 32,
   "id": "f2b15613",
   "metadata": {},
   "outputs": [],
   "source": [
    "# look through rules - ok? \n",
    "# where does 'True' come from?\n",
    "# what next?"
   ]
  },
  {
   "cell_type": "code",
   "execution_count": null,
   "id": "cdf2cc48",
   "metadata": {},
   "outputs": [],
   "source": []
  }
 ],
 "metadata": {
  "kernelspec": {
   "display_name": "Python 3.7 [DLS Conda]",
   "language": "python",
   "name": "conda-env-DLS_Conda-python3.7-kernel.json"
  },
  "language_info": {
   "codemirror_mode": {
    "name": "ipython",
    "version": 3
   },
   "file_extension": ".py",
   "mimetype": "text/x-python",
   "name": "python",
   "nbconvert_exporter": "python",
   "pygments_lexer": "ipython3",
   "version": "3.7.3"
  }
 },
 "nbformat": 4,
 "nbformat_minor": 5
}
