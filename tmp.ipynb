{
 "cells": [
  {
   "cell_type": "code",
   "execution_count": null,
   "metadata": {},
   "outputs": [],
   "source": [
    "def isAllowedByCondRules(hklList, rulesDict):\n",
    "    laueSymList, transRule, nonTransCondRules =   rulesDict['laueSymList'], rulesDict['transRule'], rulesDict['nonTransCondRules'] \n",
    "    \n",
    "    hklAllowed = []\n",
    "\n",
    "    #start with transrule ... seems to work but slow ... maybe put laue in outser loop?\n",
    "    \n",
    "    for hkl in hklList:\n",
    "        #print(hkl)\n",
    "        allowed = True # assume true unless a rule is violated\n",
    "        # centring rule\n",
    "        for laue in laueSymList:\n",
    "\n",
    "            dummy, transRule =  apply_laueSym_to_cond_rule([{}, rulesDict['transRule']], laue)\n",
    "                       \n",
    "            if sp.N(transRule.subs({h:hkl[0], k:hkl[1], l:hkl[2]})) % 2 != 0: # expression not even; rule broken\n",
    "                allowed = False\n",
    "                #print('False because trans rule failed: ', transRule, 'laue transrule:', transRule.subs({h:hkl[0], k:hkl[1], l:hkl[2]}))\n",
    "                break\n",
    "                \n",
    "            for nonTransCondRule in nonTransCondRules:\n",
    "                conds, rule =  apply_laueSym_to_cond_rule(nonTransCondRule, laue)\n",
    "                                                        \n",
    "                for cond in conds:\n",
    "                    condhkl = cond.subs({h:hkl[0], k:hkl[1], l:hkl[2]}) # evaluation for hkl\n",
    "                    if not condhkl:   # skip if any condition violated\n",
    "                        break                                                        \n",
    "                                                       \n",
    "                if condhkl: #condition is True\n",
    "                    if sp.N(rule.subs({h:hkl[0], k:hkl[1], l:hkl[2]}, simultaneous=True)) % 2 != 0: # expression not even; rule broken\n",
    "                        allowed = False\n",
    "                        #print('False because non-trans rule failed. laue:', laue, 'original conds:', conds, 'original rule: ', rule )\n",
    "\n",
    "                        break          \n",
    "                                                        \n",
    "            \n",
    "        print(hkl, allowed)\n",
    "        hklAllowed += [allowed]\n",
    "    \n",
    "    return hklAllowed\n"
   ]
  },
  {
   "cell_type": "code",
   "execution_count": null,
   "metadata": {},
   "outputs": [],
   "source": []
  },
  {
   "cell_type": "code",
   "execution_count": null,
   "metadata": {},
   "outputs": [],
   "source": []
  }
 ],
 "metadata": {
  "kernelspec": {
   "display_name": "Python 3.7 [DLS Conda]",
   "language": "python",
   "name": "conda-env-DLS_Conda-python3.7-kernel.json"
  },
  "language_info": {
   "codemirror_mode": {
    "name": "ipython",
    "version": 3
   },
   "file_extension": ".py",
   "mimetype": "text/x-python",
   "name": "python",
   "nbconvert_exporter": "python",
   "pygments_lexer": "ipython3",
   "version": "3.7.3"
  }
 },
 "nbformat": 4,
 "nbformat_minor": 2
}
