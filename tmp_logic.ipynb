{
 "cells": [
  {
   "cell_type": "code",
   "execution_count": null,
   "id": "2f1d2a01",
   "metadata": {},
   "outputs": [],
   "source": []
  },
  {
   "cell_type": "code",
   "execution_count": null,
   "id": "c03f6fd4",
   "metadata": {},
   "outputs": [],
   "source": [
    "#hkl: h+k = 2n\n",
    "def hpkeven(hkl):\n",
    "    return((hkl[0] + hkl[1])%2 == 0)\n",
    "\n"
   ]
  },
  {
   "cell_type": "code",
   "execution_count": null,
   "id": "8096bec9",
   "metadata": {},
   "outputs": [],
   "source": [
    "hkl = [2,2,3]\n",
    "hpkeven(hkl)"
   ]
  },
  {
   "cell_type": "code",
   "execution_count": null,
   "id": "fbb953e5",
   "metadata": {},
   "outputs": [],
   "source": [
    "(hkl[0] + hkl[1])%2 == 0"
   ]
  },
  {
   "cell_type": "code",
   "execution_count": 4,
   "id": "32f7fc2e",
   "metadata": {},
   "outputs": [],
   "source": []
  },
  {
   "cell_type": "code",
   "execution_count": 21,
   "id": "71607e16",
   "metadata": {
    "scrolled": false
   },
   "outputs": [
    {
     "name": "stdout",
     "output_type": "stream",
     "text": [
      "[                                                   0  \\\n",
      "0  | home  | resources  | purchase  | contact us ...   \n",
      "\n",
      "                                      1  \n",
      "0  RELATED SITES: IUCr |  IUCr Journals  ,                                            0   1\n",
      "0  INTERNATIONAL TABLES Space-group symmetry NaN,                                                  0  \\\n",
      "0  | A  | A1  | B  | C  | D  | E  | F  | G  | H  |   \n",
      "\n",
      "                                                   1  \n",
      "0  Go to space group  maximal subgroups of space ...  ,                                                    0  \\\n",
      "0     Home  > Volume A  > Contents  > Space group 67   \n",
      "1  |  maximal subgroups  |  Wyckoff relations  | ...   \n",
      "\n",
      "                                                   1  \n",
      "0          |  previous  |  pdf  |  index  |  next  |  \n",
      "1  |  maximal subgroups  |  Wyckoff relations  | ...  ,         0           1                        2                        3\n",
      "0    Cmme       D2h21                      mmm             Orthorhombic\n",
      "1  No. 67  C2/m2/m2/e  Patterson symmetry Cmmm  Patterson symmetry Cmmm\n",
      "2     NaN         NaN                      NaN                      NaN,                  0                                      1\n",
      "0  Asymmetric unit  0 ≤ x ≤ 1/2; 0 ≤ y ≤ 1/4; 0 ≤ z ≤ 1/2,                 0                1                         2              3\n",
      "0           (1) 1  (2) 2 0, 1/4, z  (3) 2(0, 1/2, 0) 0, y, 0  (4) 2 x, 0, 0\n",
      "1  (5) -1 0, 0, 0    (6) b x, y, 0           (7) m x, 1/4, z  (8) m 0, y, z,                     0                1                2  \\\n",
      "0  (1) t(1/2, 1/2, 0)  (2) 2 1/4, 0, z  (3) 2 1/4, y, 0   \n",
      "1  (5) -1 1/4, 1/4, 0    (6) a x, y, 0    (7) a x, 0, z   \n",
      "\n",
      "                            3  \n",
      "0  (4) 2(1/2, 0, 0) x, 1/4, 0  \n",
      "1             (8) b 1/4, y, z  ,                                              0  \\\n",
      "0  Multiplicity, Wyckoff letter, Site symmetry   \n",
      "1                                          NaN   \n",
      "2                                       16 o 1   \n",
      "\n",
      "                                                   1  \\\n",
      "0                                        Coordinates   \n",
      "1                          (0, 0, 0)+ (1/2, 1/2, 0)+   \n",
      "2  (1) x, y, z(2) -x, -y + 1/2, z(3) -x, y + 1/2,...   \n",
      "\n",
      "                                                   2  \n",
      "0                              Reflection conditions  \n",
      "1                                           General:  \n",
      "2  hkl: h + k = 2n0kl: k = 2nh0l: h = 2nhk0: h, k...  ,     0  1  2\n",
      "0  16  o  1,                 0                    1                    2              3\n",
      "0     (1) x, y, z  (2) -x, -y + 1/2, z  (3) -x, y + 1/2, -z  (4) x, -y, -z\n",
      "1  (5) -x, -y, -z   (6) x, y + 1/2, -z   (7) x, -y + 1/2, z   (8) -x, y, z,               0                                                  1  \\\n",
      "0           NaN                                                NaN   \n",
      "1     8 n . m .         x, 1/4, z -x, 1/4, z -x, 3/4, -zx, 3/4, -z   \n",
      "2     8 m m . .    0, y, z 0, -y + 1/2, z 0, y + 1/2, -z 0, -y, -z   \n",
      "3     8 l . . 2      1/4, 0, z 3/4, 1/2, -z 3/4, 0, -z 1/4, 1/2, z   \n",
      "4     8 k . 2 .  1/4, y, 1/2 3/4, -y + 1/2, 1/2 3/4, -y, 1/2 1/...   \n",
      "5     8 j . 2 .  1/4, y, 0 3/4, -y + 1/2, 0 3/4, -y, 0 1/4, y +...   \n",
      "6     8 i 2 . .       x, 0, 1/2 -x, 1/2, 1/2 -x, 0, 1/2x, 1/2, 1/2   \n",
      "7     8 h 2 . .               x, 0, 0 -x, 1/2, 0 -x, 0, 0x, 1/2, 0   \n",
      "8     4 g m m 2                               0, 1/4, z 0, 3/4, -z   \n",
      "9   4 f . 2/m .                        1/4, 1/4, 1/2 3/4, 1/4, 1/2   \n",
      "10  4 e . 2/m .                            1/4, 1/4, 0 3/4, 1/4, 0   \n",
      "11  4 d 2/m . .                              0, 0, 1/2 0, 1/2, 1/2   \n",
      "12  4 c 2/m . .                                  0, 0, 0 0, 1/2, 0   \n",
      "13    4 b 2 2 2                            1/4, 0, 1/2 3/4, 0, 1/2   \n",
      "14    4 a 2 2 2                                1/4, 0, 0 3/4, 0, 0   \n",
      "\n",
      "                          2  \n",
      "0   Special: as above, plus  \n",
      "1       no extra conditions  \n",
      "2       no extra conditions  \n",
      "3               hkl: h = 2n  \n",
      "4               hkl: h = 2n  \n",
      "5               hkl: h = 2n  \n",
      "6               hkl: h = 2n  \n",
      "7               hkl: h = 2n  \n",
      "8       no extra conditions  \n",
      "9               hkl: h = 2n  \n",
      "10              hkl: h = 2n  \n",
      "11              hkl: h = 2n  \n",
      "12              hkl: h = 2n  \n",
      "13              hkl: h = 2n  \n",
      "14              hkl: h = 2n  ,    0  1      2\n",
      "0  8  n  . m .,            0           1            2           3\n",
      "0  x, 1/4, z  -x, 1/4, z  -x, 3/4, -z  x, 3/4, -z,    0  1      2\n",
      "0  8  m  m . .,          0               1               2          3\n",
      "0  0, y, z  0, -y + 1/2, z  0, y + 1/2, -z  0, -y, -z,    0  1      2\n",
      "0  8  l  . . 2,            0             1           2            3\n",
      "0  1/4, 0, z  3/4, 1/2, -z  3/4, 0, -z  1/4, 1/2, z,    0  1      2\n",
      "0  8  k  . 2 .,              0                   1             2                  3\n",
      "0  1/4, y, 1/2  3/4, -y + 1/2, 1/2  3/4, -y, 1/2  1/4, y + 1/2, 1/2,    0  1      2\n",
      "0  8  j  . 2 .,            0                 1           2                3\n",
      "0  1/4, y, 0  3/4, -y + 1/2, 0  3/4, -y, 0  1/4, y + 1/2, 0,    0  1      2\n",
      "0  8  i  2 . .,            0             1           2            3\n",
      "0  x, 0, 1/2  -x, 1/2, 1/2  -x, 0, 1/2  x, 1/2, 1/2,    0  1      2\n",
      "0  8  h  2 . .,          0           1         2          3\n",
      "0  x, 0, 0  -x, 1/2, 0  -x, 0, 0  x, 1/2, 0,    0  1      2\n",
      "0  4  g  m m 2,            0           1\n",
      "0  0, 1/4, z  0, 3/4, -z,    0  1        2\n",
      "0  4  f  . 2/m .,                0              1\n",
      "0  1/4, 1/4, 1/2  3/4, 1/4, 1/2,    0  1        2\n",
      "0  4  e  . 2/m .,              0            1\n",
      "0  1/4, 1/4, 0  3/4, 1/4, 0,    0  1        2\n",
      "0  4  d  2/m . .,            0            1\n",
      "0  0, 0, 1/2  0, 1/2, 1/2,    0  1        2\n",
      "0  4  c  2/m . .,          0          1\n",
      "0  0, 0, 0  0, 1/2, 0,    0  1      2\n",
      "0  4  b  2 2 2,              0            1\n",
      "0  1/4, 0, 1/2  3/4, 0, 1/2,    0  1      2\n",
      "0  4  a  2 2 2,            0          1\n",
      "0  1/4, 0, 0  3/4, 0, 0,                                                    0  \\\n",
      "0  Along [001] p2mma' = 1/2a b' = 1/2b Origin at ...   \n",
      "\n",
      "                                                   1  \\\n",
      "0  Along [100] p2mma' = 1/2b b' = c Origin at x, ...   \n",
      "\n",
      "                                                   2  \n",
      "0  Along [010] p2mma' = c b' = 1/2a Origin at 0, ...  ,                                                    0\n",
      "0  | home  | resources  | advanced search  | purc...]\n"
     ]
    }
   ],
   "source": [
    "import pandas as pd\n",
    "pd.__version__\n",
    "#need 1.3 for read_xml (python 3.10 environment)\n",
    "\n",
    "a = pd.read_html('https://it.iucr.org/Ac/ch2o3v0001/sgtable2o3o067/')\n",
    "\n",
    "print(a)\n"
   ]
  },
  {
   "cell_type": "code",
   "execution_count": 18,
   "id": "785256a1",
   "metadata": {},
   "outputs": [
    {
     "data": {
      "text/plain": [
       "False"
      ]
     },
     "execution_count": 18,
     "metadata": {},
     "output_type": "execute_result"
    }
   ],
   "source": [
    "'j' in a[20]"
   ]
  },
  {
   "cell_type": "code",
   "execution_count": 20,
   "id": "28470176",
   "metadata": {},
   "outputs": [
    {
     "data": {
      "text/plain": [
       "pandas.core.frame.DataFrame"
      ]
     },
     "execution_count": 20,
     "metadata": {},
     "output_type": "execute_result"
    }
   ],
   "source": [
    "type(a[20])"
   ]
  },
  {
   "cell_type": "code",
   "execution_count": null,
   "id": "a2922ddc",
   "metadata": {},
   "outputs": [],
   "source": []
  }
 ],
 "metadata": {
  "kernelspec": {
   "display_name": "Python 3.10 [DLS Conda]",
   "language": "python",
   "name": "conda-env-DLS_Conda-python3.10-kernel.json"
  },
  "language_info": {
   "codemirror_mode": {
    "name": "ipython",
    "version": 3
   },
   "file_extension": ".py",
   "mimetype": "text/x-python",
   "name": "python",
   "nbconvert_exporter": "python",
   "pygments_lexer": "ipython3",
   "version": "3.10.4"
  }
 },
 "nbformat": 4,
 "nbformat_minor": 5
}
