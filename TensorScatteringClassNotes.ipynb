{
 "cells": [
  {
   "cell_type": "markdown",
   "id": "8eb6e8aa",
   "metadata": {},
   "source": [
    "# Notes for TensorScatteringClass\n",
    "\n",
    "## Invert system\n",
    "\n",
    "sitevec -> -sitevec\n",
    "\n",
    "normal:\n",
    "\n",
    "r1 = A r0 + V\n",
    "=>  -r1 = -A r0 -V   (1)\n",
    "    \n",
    "inverted\n",
    "-r1 = A* (-r0) + V*  (2)\n",
    "\n",
    "A* = A\n",
    "V* = -V\n",
    "\n",
    "i.e. sg[1] invertsed but not sg[0] or sg[2] - OK (this is what we had before; all good).\n",
    "\n"
   ]
  },
  {
   "cell_type": "code",
   "execution_count": null,
   "id": "7941d7d4",
   "metadata": {},
   "outputs": [],
   "source": []
  }
 ],
 "metadata": {
  "kernelspec": {
   "display_name": "Python 3.7 [DLS Conda]",
   "language": "python",
   "name": "conda-env-DLS_Conda-python3.7-kernel.json"
  },
  "language_info": {
   "codemirror_mode": {
    "name": "ipython",
    "version": 3
   },
   "file_extension": ".py",
   "mimetype": "text/x-python",
   "name": "python",
   "nbconvert_exporter": "python",
   "pygments_lexer": "ipython3",
   "version": "3.7.3"
  }
 },
 "nbformat": 4,
 "nbformat_minor": 5
}
