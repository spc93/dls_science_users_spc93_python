{
 "cells": [
  {
   "cell_type": "code",
   "execution_count": 4,
   "metadata": {
    "scrolled": false
   },
   "outputs": [
    {
     "name": "stdout",
     "output_type": "stream",
     "text": [
      "\n",
      "Crystal properties\n",
      "\n",
      "                    CIF file:  Spacegroup # 15\n",
      "                     Lattice:  0.500 0.500 0.500 90.00 90.00 90.00\n",
      "                   All sites:  \n",
      "               Site selected:  4 a\n",
      "                 Site vector:  0.000 0.000 0.000\n",
      "       No. of spacegroup ops:  8\n",
      "      No. of sym ops at site:  2\n",
      " No. of equiv. sites in cell:  4\n",
      "   No. of pg ops for crystal:  4\n",
      "\n",
      "                         hkl:  [1.0, 1.0, 1.0]\n",
      "                Site allowed:  No\n",
      "   Structure factor for site:  0.00+-0.00i\n",
      "          Spacegroup allowed:  Yes\n",
      "              Tensor allowed:  Yes\n",
      "                      Parity:  Even\n",
      "                        Time:  Either\n",
      "                          PT:  Either\n"
     ]
    }
   ],
   "source": [
    "import TensorScatteringClass as ten\n",
    "import numpy as np\n",
    "%matplotlib inline\n",
    "\n",
    "sg, site, ref = 15, 'a', [1,1,1]\n",
    "\n",
    "\n",
    "t=ten.TensorScatteringClass(spacegroup_number = 15, wyckoff_letter = 'a');\n",
    "t.hkl = ref\n",
    "print(t.SF_symmetry(t.sitevec, t.hkl, t.sglist))\n",
    "\n",
    "#t.PlotIntensityInPolarizationChannels('E1E1', lam=12.4/13.5, hkl=np.array([1,1,1]), hkln=np.array([0,0,1]), K=2, Time=1, Parity=1, mk=None, sk=None, sigmapi='sigma')\n",
    "\n",
    "\n",
    "#.print_tensors()\n",
    "#print(t.B)\n",
    "\n"
   ]
  },
  {
   "cell_type": "code",
   "execution_count": null,
   "metadata": {},
   "outputs": [],
   "source": []
  },
  {
   "cell_type": "code",
   "execution_count": null,
   "metadata": {},
   "outputs": [],
   "source": []
  }
 ],
 "metadata": {
  "kernelspec": {
   "display_name": "Python 3.7 [DLS Conda]",
   "language": "python",
   "name": "conda-env-DLS_Conda-python3.7-kernel.json"
  },
  "language_info": {
   "codemirror_mode": {
    "name": "ipython",
    "version": 3
   },
   "file_extension": ".py",
   "mimetype": "text/x-python",
   "name": "python",
   "nbconvert_exporter": "python",
   "pygments_lexer": "ipython3",
   "version": "3.7.3"
  }
 },
 "nbformat": 4,
 "nbformat_minor": 2
}
