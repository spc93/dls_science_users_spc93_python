{
 "cells": [
  {
   "cell_type": "code",
   "execution_count": null,
   "metadata": {},
   "outputs": [],
   "source": [
    "# use python 3.6 or 3.7 environment\n",
    "# speed test with medium spec server"
   ]
  },
  {
   "cell_type": "code",
   "execution_count": 54,
   "metadata": {
    "scrolled": false
   },
   "outputs": [],
   "source": [
    "# Final data sets?\n",
    "\n",
    "#for i in range(len(scan)):\n",
    "#    print('%i\\t%.3f' % (scan[i], en[i]))\n",
    "    \n",
    "#l1: 8.380 - 8.430 keV\n",
    "#849362 - 854159\n",
    "\n",
    "#l3: 7.244 - 7.294\n",
    "#854160 - 862373\t\n",
    "\n",
    "#l2: 7.932 - 7.932 (not complete)\n",
    "#862374 - 863881"
   ]
  },
  {
   "cell_type": "code",
   "execution_count": 8,
   "metadata": {},
   "outputs": [
    {
     "name": "stdout",
     "output_type": "stream",
     "text": [
      "Sun Jun  6 11:33:12 2021 Elapsed time: 1.0905401706695557\n",
      "Sun Jun  6 11:33:13 2021 Elapsed time: 1.030470609664917\n",
      "Sun Jun  6 11:33:13 2021 Elapsed time: 0.6552066802978516\n"
     ]
    }
   ],
   "source": [
    "import sys\n",
    "sys.path.append('/dls_sw/apps/scisoftpy/2.7')\n",
    "sys.path.append('/dls_sw/i16/software/python')\n",
    "from dlstools.pdnx import *\n",
    "from dlstools.tictoc import tictoc\n",
    "import h5py\n",
    "%matplotlib notebook\n",
    "\n",
    "\n",
    "ci, cj = 242, 95\n",
    "iw=50; jw=50\n",
    "lcroi = (int(ci-iw/2.), int(cj-jw/2.), int(ci+iw/2.), int(cj+jw/2.))\n",
    "iw=13; jw=15\n",
    "r = scroi = (int(ci-iw/2.), int(cj-jw/2.), int(ci+iw/2.), int(cj+jw/2.))\n",
    "p='/dls/i16/data/2020/mm25913-2/%i.nxs'\n",
    "\n",
    "\n",
    "# 1. pdnx\n",
    "# ~ 2.4 sec for 10 scans, each with 120 images\n",
    "t = tictoc()\n",
    "for scan in range(854163, 854173):\n",
    "    n = pdnx(p % scan)       \n",
    "    n['scroi_sum'] = n.nx.entry1.instrument.kthZebraPil3.data[:, r[1]:r[3], r[0]:r[2]].sum((1,2))        \n",
    "print(t)\n",
    "\n",
    "# 2. pynx - no dataframe\n",
    "# ~ 2.4 sec for 10 scans, each with 120 images\n",
    "t = tictoc()\n",
    "for scan in range(854163, 854173):\n",
    "    _nx  = nx.nxload(p % scan,'r')\n",
    "    _nx.entry1.instrument.kthZebraPil3.data[:, r[1]:r[3], r[0]:r[2]].sum((1,2))        \n",
    "print(t)\n",
    "\n",
    "#h5py only \n",
    "# ~ 0.6 sec for 10 scans, each with 120 images\n",
    "t = tictoc()\n",
    "for scan in range(854163, 854173):\n",
    "    f = h5py.File(p % scan, 'r')\n",
    "    im = f['entry1/instrument/kthZebraPil3/data'][:, r[1]:r[3], r[0]:r[2]].sum((1,2))\n",
    "print(t)\n",
    "\n",
    "#nexpy 0.5\n",
    "# pdnx no slower than nexpy only but h5py 4x faster. (0.66 sec c.f. 2.4 sec.) \n",
    "# same speed on small server\n",
    "# same speed on large server\n",
    "\n",
    "#pip install --upgrade nexpy\n",
    "\n",
    "#nexusformat.__version__ = 0.6.1\n",
    "# now 1.1, 1.0, 0.66 sec - much better\n",
    "\n"
   ]
  },
  {
   "cell_type": "code",
   "execution_count": 4,
   "metadata": {},
   "outputs": [
    {
     "data": {
      "text/plain": [
       "<module 'nexusformat.nexus' from '/dls_sw/apps/python/anaconda/4.6.14/64/envs/python3.7/lib/python3.7/site-packages/nexusformat/nexus/__init__.py'>"
      ]
     },
     "execution_count": 4,
     "metadata": {},
     "output_type": "execute_result"
    }
   ],
   "source": [
    "nx"
   ]
  },
  {
   "cell_type": "code",
   "execution_count": 10,
   "metadata": {},
   "outputs": [
    {
     "name": "stdout",
     "output_type": "stream",
     "text": [
      "Defaulting to user installation because normal site-packages is not writeable\n",
      "Requirement already satisfied: nexpy in /dls_sw/apps/python/anaconda/4.6.14/64/envs/python3.7/lib/python3.7/site-packages (0.12.1)\n",
      "Collecting nexpy\n",
      "  Using cached NeXpy-0.13.3-py3-none-any.whl (658 kB)\n",
      "Requirement already satisfied: h5py in /dls_sw/apps/python/anaconda/4.6.14/64/envs/python3.7/lib/python3.7/site-packages (from nexpy) (2.10.0)\n",
      "Collecting nexusformat>=0.6.1\n",
      "  Using cached nexusformat-0.6.1-py3-none-any.whl (71 kB)\n",
      "Collecting ipykernel>=5.2.0\n",
      "  Downloading ipykernel-5.5.5-py3-none-any.whl (120 kB)\n",
      "\u001b[K     |████████████████████████████████| 120 kB 3.6 MB/s eta 0:00:01\n",
      "\u001b[?25hRequirement already satisfied: matplotlib in /dls_sw/apps/python/anaconda/4.6.14/64/envs/python3.7/lib/python3.7/site-packages (from nexpy) (3.1.2)\n",
      "Collecting lmfit>=1.0.2\n",
      "  Using cached lmfit-1.0.2.tar.gz (306 kB)\n",
      "Requirement already satisfied: numpy in /dls_sw/apps/python/anaconda/4.6.14/64/envs/python3.7/lib/python3.7/site-packages (from nexpy) (1.18.1)\n",
      "Requirement already satisfied: qtconsole in /dls_sw/apps/python/anaconda/4.6.14/64/envs/python3.7/lib/python3.7/site-packages (from nexpy) (4.4.4)\n",
      "Requirement already satisfied: qtpy in /dls_sw/apps/python/anaconda/4.6.14/64/envs/python3.7/lib/python3.7/site-packages (from nexpy) (1.7.1)\n",
      "Requirement already satisfied: scipy in /home/spc93/.local/lib/python3.7/site-packages (from nexpy) (1.6.2)\n",
      "Requirement already satisfied: pillow in /dls_sw/apps/python/anaconda/4.6.14/64/envs/python3.7/lib/python3.7/site-packages (from nexpy) (6.0.0)\n",
      "Requirement already satisfied: ipython in /dls_sw/apps/python/anaconda/4.6.14/64/envs/python3.7/lib/python3.7/site-packages (from nexpy) (7.5.0)\n",
      "Collecting pylatexenc\n",
      "  Downloading pylatexenc-2.10.tar.gz (162 kB)\n",
      "\u001b[K     |████████████████████████████████| 162 kB 12.9 MB/s eta 0:00:01\n",
      "\u001b[?25hRequirement already satisfied: ansi2html in /dls_sw/apps/python/anaconda/4.6.14/64/envs/python3.7/lib/python3.7/site-packages (from nexpy) (1.5.2)\n",
      "Requirement already satisfied: jupyter-client in /dls_sw/apps/python/anaconda/4.6.14/64/envs/python3.7/lib/python3.7/site-packages (from ipykernel>=5.2.0->nexpy) (5.2.4)\n",
      "Requirement already satisfied: tornado>=4.2 in /dls_sw/apps/python/anaconda/4.6.14/64/envs/python3.7/lib/python3.7/site-packages (from ipykernel>=5.2.0->nexpy) (6.0.3)\n",
      "Requirement already satisfied: traitlets>=4.1.0 in /dls_sw/apps/python/anaconda/4.6.14/64/envs/python3.7/lib/python3.7/site-packages (from ipykernel>=5.2.0->nexpy) (4.3.2)\n",
      "Requirement already satisfied: pygments in /dls_sw/apps/python/anaconda/4.6.14/64/envs/python3.7/lib/python3.7/site-packages (from ipython->nexpy) (2.4.0)\n",
      "Requirement already satisfied: setuptools>=18.5 in /dls_sw/apps/python/anaconda/4.6.14/64/envs/python3.7/lib/python3.7/site-packages (from ipython->nexpy) (41.0.1)\n",
      "Requirement already satisfied: pexpect in /dls_sw/apps/python/anaconda/4.6.14/64/envs/python3.7/lib/python3.7/site-packages (from ipython->nexpy) (4.7.0)\n",
      "Requirement already satisfied: prompt-toolkit<2.1.0,>=2.0.0 in /dls_sw/apps/python/anaconda/4.6.14/64/envs/python3.7/lib/python3.7/site-packages (from ipython->nexpy) (2.0.9)\n",
      "Requirement already satisfied: pickleshare in /dls_sw/apps/python/anaconda/4.6.14/64/envs/python3.7/lib/python3.7/site-packages (from ipython->nexpy) (0.7.5)\n",
      "Requirement already satisfied: decorator in /dls_sw/apps/python/anaconda/4.6.14/64/envs/python3.7/lib/python3.7/site-packages (from ipython->nexpy) (4.4.0)\n",
      "Requirement already satisfied: backcall in /dls_sw/apps/python/anaconda/4.6.14/64/envs/python3.7/lib/python3.7/site-packages (from ipython->nexpy) (0.1.0)\n",
      "Requirement already satisfied: jedi>=0.10 in /dls_sw/apps/python/anaconda/4.6.14/64/envs/python3.7/lib/python3.7/site-packages (from ipython->nexpy) (0.13.3)\n",
      "Requirement already satisfied: parso>=0.3.0 in /dls_sw/apps/python/anaconda/4.6.14/64/envs/python3.7/lib/python3.7/site-packages (from jedi>=0.10->ipython->nexpy) (0.4.0)\n",
      "Collecting asteval>=0.9.16\n",
      "  Downloading asteval-0.9.23.tar.gz (55 kB)\n",
      "\u001b[K     |████████████████████████████████| 55 kB 250 kB/s  eta 0:00:01\n",
      "\u001b[?25hRequirement already satisfied: uncertainties>=3.0.1 in /dls_sw/apps/python/anaconda/4.6.14/64/envs/python3.7/lib/python3.7/site-packages (from lmfit>=1.0.2->nexpy) (3.1)\n",
      "Requirement already satisfied: six>=1.9.0 in /dls_sw/apps/python/anaconda/4.6.14/64/envs/python3.7/lib/python3.7/site-packages (from prompt-toolkit<2.1.0,>=2.0.0->ipython->nexpy) (1.12.0)\n",
      "Requirement already satisfied: wcwidth in /dls_sw/apps/python/anaconda/4.6.14/64/envs/python3.7/lib/python3.7/site-packages (from prompt-toolkit<2.1.0,>=2.0.0->ipython->nexpy) (0.1.7)\n",
      "Requirement already satisfied: ipython-genutils in /dls_sw/apps/python/anaconda/4.6.14/64/envs/python3.7/lib/python3.7/site-packages (from traitlets>=4.1.0->ipykernel>=5.2.0->nexpy) (0.2.0)\n",
      "Requirement already satisfied: pyzmq>=13 in /dls_sw/apps/python/anaconda/4.6.14/64/envs/python3.7/lib/python3.7/site-packages (from jupyter-client->ipykernel>=5.2.0->nexpy) (18.0.0)\n",
      "Requirement already satisfied: jupyter-core in /dls_sw/apps/python/anaconda/4.6.14/64/envs/python3.7/lib/python3.7/site-packages (from jupyter-client->ipykernel>=5.2.0->nexpy) (4.4.0)\n",
      "Requirement already satisfied: python-dateutil>=2.1 in /dls_sw/apps/python/anaconda/4.6.14/64/envs/python3.7/lib/python3.7/site-packages (from jupyter-client->ipykernel>=5.2.0->nexpy) (2.8.0)\n",
      "Requirement already satisfied: kiwisolver>=1.0.1 in /dls_sw/apps/python/anaconda/4.6.14/64/envs/python3.7/lib/python3.7/site-packages (from matplotlib->nexpy) (1.1.0)\n",
      "Requirement already satisfied: pyparsing!=2.0.4,!=2.1.2,!=2.1.6,>=2.0.1 in /dls_sw/apps/python/anaconda/4.6.14/64/envs/python3.7/lib/python3.7/site-packages (from matplotlib->nexpy) (2.4.0)\n",
      "Requirement already satisfied: cycler>=0.10 in /dls_sw/apps/python/anaconda/4.6.14/64/envs/python3.7/lib/python3.7/site-packages (from matplotlib->nexpy) (0.10.0)\n",
      "Requirement already satisfied: ptyprocess>=0.5 in /dls_sw/apps/python/anaconda/4.6.14/64/envs/python3.7/lib/python3.7/site-packages (from pexpect->ipython->nexpy) (0.6.0)\n",
      "Building wheels for collected packages: lmfit, asteval, pylatexenc\n",
      "  Building wheel for lmfit (setup.py) ... \u001b[?25ldone\n",
      "\u001b[?25h  Created wheel for lmfit: filename=lmfit-1.0.2-py3-none-any.whl size=85262 sha256=6b6a9e65dce92d88009e329caf17eea60fc194812fff3e1a0422bf3ca7f6bf1d\n",
      "  Stored in directory: /home/spc93/.cache/pip/wheels/42/81/51/72ff0f8e216caa9fe1e9dd1e7c287274b1eb75c79bfc858f5b\n",
      "  Building wheel for asteval (setup.py) ... \u001b[?25ldone\n",
      "\u001b[?25h  Created wheel for asteval: filename=asteval-0.9.23-py3-none-any.whl size=17417 sha256=990b3f63b1165c71f24ece1619aa941a1b1366392aaee7945c3fd9d55c7ab97b\n",
      "  Stored in directory: /home/spc93/.cache/pip/wheels/8b/6f/3f/ac628ad5b853303a65c94b0202319b1a9f12f67b517d790380\n",
      "  Building wheel for pylatexenc (setup.py) ... \u001b[?25ldone\n",
      "\u001b[?25h  Created wheel for pylatexenc: filename=pylatexenc-2.10-py3-none-any.whl size=136824 sha256=651ccdd702492cd7bd4b3afa43e1c16ce6f473dace162b7cecef5ea41969df8d\n",
      "  Stored in directory: /home/spc93/.cache/pip/wheels/f1/8a/f5/33ee79d4473eb201b519fa40f989b842e373237395a3421f52\n",
      "Successfully built lmfit asteval pylatexenc\n",
      "Installing collected packages: ipykernel, asteval, pylatexenc, nexusformat, lmfit, nexpy\n",
      "\u001b[33m  WARNING: The scripts latex2text, latexencode and latexwalker are installed in '/home/spc93/.local/bin' which is not on PATH.\n",
      "  Consider adding this directory to PATH or, if you prefer to suppress this warning, use --no-warn-script-location.\u001b[0m\n",
      "\u001b[33m  WARNING: The scripts nexusformat, nxduplicate and nxstack are installed in '/home/spc93/.local/bin' which is not on PATH.\n",
      "  Consider adding this directory to PATH or, if you prefer to suppress this warning, use --no-warn-script-location.\u001b[0m\n",
      "Successfully installed asteval-0.9.23 ipykernel-5.5.5 lmfit-1.0.2 nexpy-0.13.3 nexusformat-0.6.1 pylatexenc-2.10\n",
      "Note: you may need to restart the kernel to use updated packages.\n"
     ]
    }
   ],
   "source": [
    "pip install --upgrade nexpy"
   ]
  },
  {
   "cell_type": "code",
   "execution_count": 3,
   "metadata": {},
   "outputs": [
    {
     "data": {
      "text/plain": [
       "'0.6.1'"
      ]
     },
     "execution_count": 3,
     "metadata": {},
     "output_type": "execute_result"
    }
   ],
   "source": [
    "nexusformat.__version__"
   ]
  },
  {
   "cell_type": "code",
   "execution_count": 2,
   "metadata": {},
   "outputs": [],
   "source": [
    "import nexusformat"
   ]
  },
  {
   "cell_type": "code",
   "execution_count": null,
   "metadata": {},
   "outputs": [],
   "source": []
  }
 ],
 "metadata": {
  "kernelspec": {
   "display_name": "Python 3.7 [Conda DLS]",
   "language": "python",
   "name": "conda-env-Conda_DLS-python3.7"
  },
  "language_info": {
   "codemirror_mode": {
    "name": "ipython",
    "version": 3
   },
   "file_extension": ".py",
   "mimetype": "text/x-python",
   "name": "python",
   "nbconvert_exporter": "python",
   "pygments_lexer": "ipython3",
   "version": "3.7.3"
  }
 },
 "nbformat": 4,
 "nbformat_minor": 2
}
