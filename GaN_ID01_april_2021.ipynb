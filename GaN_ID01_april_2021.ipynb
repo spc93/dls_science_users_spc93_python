{
 "cells": [
  {
   "cell_type": "markdown",
   "metadata": {},
   "source": [
    "## Tensor simulations\n",
    "\n",
    "Tensor scattering phase: need to fix atomic tensor before applying symmetry (and ensure it is Hermitian). \n",
    "\n",
    "Then keep this fixed while inverting crystal geometry.\n",
    "    "
   ]
  },
  {
   "cell_type": "code",
   "execution_count": null,
   "metadata": {},
   "outputs": [],
   "source": [
    "#%run TensorScatteringClass\n",
    "import TensorScatteringClass as ten\n",
    "import numpy as np"
   ]
  },
  {
   "cell_type": "markdown",
   "metadata": {},
   "source": [
    "# Forbidden reflections GaN nanopilars\n",
    "\n",
    "P63mc # 186"
   ]
  },
  {
   "cell_type": "code",
   "execution_count": null,
   "metadata": {
    "scrolled": false
   },
   "outputs": [],
   "source": [
    "t=ten.TensorScatteringClass(CIFfile='/home/spc93/spc_cifs/GaN_icsd_87830.cif', Site='Ga1');\n",
    "#t.PlotIntensityInPolarizationChannels('E1E2', lam=12.4/10.37, hkl=np.array([-1,-1,5]), hkln=np.array([0,0,1]), K=3, Time=1, Parity=-1, sigmapi='sigma')\n",
    "t.print_tensors()"
   ]
  },
  {
   "cell_type": "code",
   "execution_count": null,
   "metadata": {},
   "outputs": [],
   "source": []
  },
  {
   "cell_type": "raw",
   "metadata": {},
   "source": [
    "Tensor components\n",
    "\n",
    "         Crystal (spherical):  [-0.-0.j -0.+0.j -0.-0.j  1.+0.j  0.-0.j -0.-0.j  0.-0.j]\n",
    "            Atom (spherical):  [ 1.   -0.j  0.   +0.j -0.   -0.j  0.068+0.j  0.   -0.j  0.   -0.j\n",
    " -1.   -0.j]\n",
    "  Struct. factor (spherical):  [ 1.-0.j -0.+0.j  0.+0.j  0.+0.j -0.+0.j  0.+0.j -1.-0.j]\n",
    "      Scattering phase (rad):  2.55"
   ]
  },
  {
   "cell_type": "code",
   "execution_count": null,
   "metadata": {},
   "outputs": [],
   "source": []
  },
  {
   "cell_type": "code",
   "execution_count": null,
   "metadata": {
    "scrolled": true
   },
   "outputs": [],
   "source": [
    "np.random.seed(0)\n",
    "\n",
    "t=ten.TensorScatteringClass(CIFfile='/home/spc93/spc_cifs/GaN_icsd_87830.cif', Site='Ga1');\n",
    "hkl=np.array([-1, -1, 5])\n",
    "\n",
    "#t.invert() # invert structure\n",
    "\n",
    "t.PlotIntensityInPolarizationChannels('E1E2', lam=12.4/10.37, hkl = hkl, hkln=np.array([0,0,-1]), K=3, Time=1, Parity=-1, sigmapi='sigma', plot_amplitudes=True)\n",
    "t.print_tensors()\n",
    "#print('Phase jump: %.2f rad' % (2*t.tensor_scattering_phase))\n",
    "\n",
    "c = 5.1853\n",
    "offset = np.array([0, 0, 1/2 + c/8.0]) # in lattice units\n",
    "extra_phase_jump = 2 * np.pi * hkl.dot(offset)\n",
    "\n",
    "def pmpi(x):\n",
    "    #return phase in range -pi to +pi\n",
    "    return((x + np.pi) % (2*np.pi) - np.pi)\n",
    "\n",
    "print('Intrinsic phase jump: %.2f rad' % pmpi(2*t.tensor_scattering_phase))\n",
    "print('Plus translation jump: %.2f rad' % pmpi(2*t.tensor_scattering_phase + extra_phase_jump))\n",
    "print('Minus translation jump: %.2f rad' % pmpi(2*t.tensor_scattering_phase - extra_phase_jump))\n",
    "\n",
    "t.Fc_before_normalization\n",
    "\n",
    "\n",
    "# non-normalized cartesian tensors are real except for a common phase factor which gives the overall scattering phase\n",
    "# the imag part changes sign between hkl and -h-k-l as per allowed reflections\n",
    "# phase jump largest when imag part is relatively large\n",
    "# azimuthal dependence same if hkl and hkln reversed\n",
    "# need to add translation at inversion domain boundary Labat et al acs nano 9 9 9210 (2015)\n",
    "#\n",
    "# does this add or subtract?\n",
    "# check elena comment\n",
    "\n"
   ]
  },
  {
   "cell_type": "raw",
   "metadata": {},
   "source": [
    "t.Fc_before_normalization\n",
    "\n",
    "normal\n",
    "\n",
    "array([[[ 6.792-4.554j,  0.   -0.j   , -0.001-0.001j],\n",
    "        [ 0.   -0.j   , -6.792+4.554j,  0.   +0.001j],\n",
    "        [-0.001-0.001j,  0.   +0.001j,  0.   -0.j   ]],\n",
    "\n",
    "       [[ 0.   -0.j   , -6.792+4.554j,  0.   +0.001j],\n",
    "        [-6.792+4.554j,  0.   -0.j   ,  0.001+0.001j],\n",
    "        [ 0.   +0.001j,  0.001+0.001j, -0.   +0.j   ]],\n",
    "\n",
    "       [[-0.001-0.001j,  0.   +0.001j,  0.   -0.j   ],\n",
    "        [ 0.   +0.001j,  0.001+0.001j, -0.   +0.j   ],\n",
    "        [ 0.   -0.j   , -0.   +0.j   ,  0.   +0.j   ]]])\n",
    "        \n",
    "inverted\n",
    "\n",
    "array([[[ 6.792+4.554j,  0.   +0.j   , -0.001+0.001j],\n",
    "        [ 0.   +0.j   , -6.792-4.554j,  0.   -0.001j],\n",
    "        [-0.001+0.001j,  0.   -0.001j,  0.   +0.j   ]],\n",
    "\n",
    "       [[ 0.   +0.j   , -6.792-4.554j,  0.   -0.001j],\n",
    "        [-6.792-4.554j,  0.   +0.j   ,  0.001-0.001j],\n",
    "        [ 0.   -0.001j,  0.001-0.001j, -0.   -0.j   ]],\n",
    "\n",
    "       [[-0.001+0.001j,  0.   -0.001j,  0.   +0.j   ],\n",
    "        [ 0.   -0.001j,  0.001-0.001j, -0.   -0.j   ],\n",
    "        [ 0.   +0.j   , -0.   -0.j   , -0.   +0.j   ]]])\n",
    "\n"
   ]
  },
  {
   "cell_type": "code",
   "execution_count": null,
   "metadata": {},
   "outputs": [],
   "source": [
    "pmpi(extra_phase_jump)"
   ]
  },
  {
   "cell_type": "code",
   "execution_count": null,
   "metadata": {},
   "outputs": [],
   "source": [
    "#### put Ga at zero: no change in phase on inversion(?)\n",
    "\n",
    "np.random.seed(0)\n",
    "\n",
    "c = 5.1853\n",
    "offset = np.array([0, 0, 1/2 + c/8.0]) # in lattice units\n",
    "offset_ga = np.array([0, 0, -0.381]) # bring Ga to zero\n",
    "\n",
    "t=ten.TensorScatteringClass(CIFfile='/home/spc93/spc_cifs/GaN_icsd_87830.cif', Site='Ga1');\n",
    "hkl=np.array([-1, -1, 5])\n",
    "\n",
    "#t.invert() # invert structure\n",
    "t.sitevec += offset_ga\n",
    "#t.invert()\n",
    "\n",
    "\n",
    "t.PlotIntensityInPolarizationChannels('E1E2', lam=12.4/10.37, hkl = hkl, hkln=np.array([0,0,-1]), K=3, Time=1, Parity=-1, sigmapi='sigma', plot_amplitudes=True)\n",
    "t.print_tensors()\n",
    "#print('Phase jump: %.2f rad' % (2*t.tensor_scattering_phase))\n",
    "\n",
    "\n",
    "\n",
    "\n",
    "\n",
    "def pmpi(x):\n",
    "    #return phase in range -pi to +pi\n",
    "    return((x + np.pi) % (2*np.pi) - np.pi)\n",
    "\n",
    "\n",
    "t.Fc_before_normalization"
   ]
  },
  {
   "cell_type": "code",
   "execution_count": null,
   "metadata": {},
   "outputs": [],
   "source": []
  },
  {
   "cell_type": "code",
   "execution_count": 2,
   "metadata": {},
   "outputs": [
    {
     "name": "stdout",
     "output_type": "stream",
     "text": [
      "\n",
      "Crystal properties\n",
      "\n",
      "                    CIF file:  /home/spc93/spc_cifs/GaN_icsd_87830.cif\n",
      "                     Lattice:  3.189 3.189 5.185 90.00 90.00 120.00\n",
      "                   All sites:  Ga1, N1\n",
      "               Site selected:  Ga1\n",
      "                 Site vector:  0.333 0.667 0.381\n",
      "       No. of spacegroup ops:  12\n",
      "      No. of sym ops at site:  6\n",
      " No. of equiv. sites in cell:  2\n",
      "   No. of pg ops for crystal:  12\n",
      "\n",
      "Tensor properties\n",
      "\n",
      "             Required parity:  Odd\n",
      "          Required time sym.:  Even\n",
      "                         hkl:  [-1.0, -1.0, 5.0]\n",
      "                Site allowed:  No\n",
      "   Structure factor for site:  0.00+0.00i\n",
      "          Spacegroup allowed:  No\n",
      "              Tensor allowed:  Yes\n",
      "                      Parity:  Either\n",
      "                        Time:  Either\n",
      "                          PT:  Either\n",
      "              Glide or screw:  True\n"
     ]
    },
    {
     "data": {
      "image/png": "[encoded data removed]",
      "text/plain": [
       "<Figure size 432x288 with 1 Axes>"
      ]
     },
     "metadata": {
      "needs_background": "light"
     },
     "output_type": "display_data"
    },
    {
     "name": "stdout",
     "output_type": "stream",
     "text": [
      "\n",
      "Tensor components\n",
      "\n",
      "         Crystal (spherical):  [ 0.+0.j -0.+0.j -0.+0.j  1.+0.j  0.+0.j -0.-0.j -0.+0.j]\n",
      "            Atom (spherical):  [ 1.   +0.j -0.   +0.j -0.   -0.j  0.565+0.j  0.   -0.j  0.   -0.j\n",
      " -1.   -0.j]\n",
      "  Struct. factor (spherical):  [ 1.-0.j  0.-0.j  0.+0.j -0.+0.j -0.+0.j -0.-0.j -1.-0.j]\n",
      "      Scattering phase (rad):  2.55\n",
      "\n",
      "Crystal (Cartesian):\n",
      "\n",
      "[[[ 0.   +0.j -0.   +0.j -2.068+0.j]\n",
      "  [-0.   +0.j -0.   +0.j -0.   +0.j]\n",
      "  [-2.068+0.j -0.   +0.j -0.   +0.j]]\n",
      "\n",
      " [[-0.   +0.j -0.   +0.j -0.   +0.j]\n",
      "  [ 0.   -0.j -0.   +0.j -2.068+0.j]\n",
      "  [-0.   +0.j -2.068+0.j -0.   +0.j]]\n",
      "\n",
      " [[-2.068+0.j -0.   +0.j -0.   +0.j]\n",
      "  [-0.   +0.j -2.068+0.j -0.   +0.j]\n",
      "  [-0.   +0.j -0.   +0.j  4.135+0.j]]]\n",
      "\n",
      "Atom (Cartesian):\n",
      "\n",
      "[[[ 4.088+0.j  0.   +0.j -1.034+0.j]\n",
      "  [ 0.   +0.j -4.088-0.j -0.   -0.j]\n",
      "  [-1.034+0.j -0.   -0.j -0.   +0.j]]\n",
      "\n",
      " [[ 0.   +0.j -4.088-0.j -0.   -0.j]\n",
      "  [-4.088-0.j -0.   -0.j -1.034-0.j]\n",
      "  [-0.   -0.j -1.034-0.j  0.   -0.j]]\n",
      "\n",
      " [[-1.034+0.j -0.   -0.j -0.   +0.j]\n",
      "  [-0.   -0.j -1.034-0.j -0.   -0.j]\n",
      "  [-0.   +0.j -0.   -0.j  2.068+0.j]]]\n",
      "\n",
      "Struct. factor (Cartesian):\n",
      "\n",
      "[[[-1.+0.j -0.-0.j -0.+0.j]\n",
      "  [-0.-0.j  1.-0.j  0.-0.j]\n",
      "  [-0.+0.j  0.-0.j -0.-0.j]]\n",
      "\n",
      " [[-0.-0.j  1.-0.j  0.-0.j]\n",
      "  [ 1.-0.j -0.+0.j  0.-0.j]\n",
      "  [ 0.-0.j  0.-0.j  0.-0.j]]\n",
      "\n",
      " [[-0.+0.j  0.-0.j -0.-0.j]\n",
      "  [ 0.-0.j  0.-0.j  0.-0.j]\n",
      "  [-0.-0.j  0.-0.j  0.-0.j]]]\n",
      "\n"
     ]
    },
    {
     "data": {
      "text/plain": [
       "array([[[ 6.792-4.554j,  0.   -0.j   , -0.001-0.001j],\n",
       "        [ 0.   -0.j   , -6.792+4.554j,  0.   +0.001j],\n",
       "        [-0.001-0.001j,  0.   +0.001j,  0.   -0.j   ]],\n",
       "\n",
       "       [[ 0.   -0.j   , -6.792+4.554j,  0.   +0.001j],\n",
       "        [-6.792+4.554j,  0.   -0.j   ,  0.001+0.001j],\n",
       "        [ 0.   +0.001j,  0.001+0.001j, -0.   +0.j   ]],\n",
       "\n",
       "       [[-0.001-0.001j,  0.   +0.001j,  0.   -0.j   ],\n",
       "        [ 0.   +0.001j,  0.001+0.001j, -0.   +0.j   ],\n",
       "        [ 0.   -0.j   , -0.   +0.j   ,  0.   +0.j   ]]])"
      ]
     },
     "execution_count": 2,
     "metadata": {},
     "output_type": "execute_result"
    }
   ],
   "source": [
    "import TensorScatteringClass as ten\n",
    "import numpy as np\n",
    "np.random.seed(0)\n",
    "t=ten.TensorScatteringClass(CIFfile='/home/spc93/spc_cifs/GaN_icsd_87830.cif', Site='Ga1');\n",
    "#t.invert()\n",
    "t.PlotIntensityInPolarizationChannels('E1E2', lam=12.4/10.37, hkl=np.array([-1,-1,5]), hkln=np.array([0,0,1]), K=3, Time=1, Parity=-1, sigmapi='sigma')\n",
    "t.print_tensors()\n",
    "t.Fc_before_normalization"
   ]
  },
  {
   "cell_type": "raw",
   "metadata": {},
   "source": [
    "Tensor components\n",
    "\n",
    "         Crystal (spherical):  [ 0.+0.j -0.+0.j -0.+0.j  1.+0.j  0.+0.j -0.-0.j -0.+0.j]\n",
    "            Atom (spherical):  [ 1.   +0.j  0.   +0.j -0.   -0.j  0.565+0.j  0.   -0.j  0.   -0.j\n",
    " -1.   -0.j]\n",
    "  Struct. factor (spherical):  [ 1.-0.j  0.-0.j  0.+0.j -0.+0.j -0.+0.j -0.-0.j -1.-0.j]\n",
    "      Scattering phase (rad):  2.55\n",
    "      \n",
    "t.invert()      \n",
    "  \n",
    "Tensor components\n",
    "\n",
    "         Crystal (spherical):  [ 0.+0.j -0.+0.j -0.+0.j  1.+0.j  0.+0.j -0.-0.j -0.+0.j]\n",
    "            Atom (spherical):  [ 1.   +0.j  0.   +0.j -0.   -0.j  0.565+0.j  0.   -0.j  0.   -0.j\n",
    " -1.   -0.j]\n",
    "  Struct. factor (spherical):  [-1.+0.j  0.-0.j -0.-0.j  0.-0.j  0.-0.j -0.-0.j  1.+0.j]\n",
    "      Scattering phase (rad):  -2.55  \n",
    "  "
   ]
  },
  {
   "cell_type": "code",
   "execution_count": null,
   "metadata": {},
   "outputs": [],
   "source": []
  },
  {
   "cell_type": "code",
   "execution_count": null,
   "metadata": {},
   "outputs": [],
   "source": []
  }
 ],
 "metadata": {
  "kernelspec": {
   "display_name": "Python 3.7 [DLS Conda]",
   "language": "python",
   "name": "conda-env-DLS_Conda-python3.7-kernel.json"
  },
  "language_info": {
   "codemirror_mode": {
    "name": "ipython",
    "version": 3
   },
   "file_extension": ".py",
   "mimetype": "text/x-python",
   "name": "python",
   "nbconvert_exporter": "python",
   "pygments_lexer": "ipython3",
   "version": "3.7.3"
  }
 },
 "nbformat": 4,
 "nbformat_minor": 2
}
