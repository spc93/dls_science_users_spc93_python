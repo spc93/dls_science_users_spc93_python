{
 "cells": [
  {
   "cell_type": "markdown",
   "metadata": {},
   "source": [
    "# test new transform_cart"
   ]
  },
  {
   "cell_type": "code",
   "execution_count": 1,
   "metadata": {},
   "outputs": [],
   "source": [
    "#kernel python 3.7 dls conda\n",
    "import TensorScatteringClass as ten\n",
    "import numpy as np\n",
    "from time import time\n"
   ]
  },
  {
   "cell_type": "code",
   "execution_count": 2,
   "metadata": {},
   "outputs": [],
   "source": [
    "#tt, ss = np.random.rand(3,3), np.random.rand(3,3)\n",
    "#tt, ss = np.random.rand(3,3,3), np.random.rand(3,3)\n",
    "tt, ss = np.random.rand(3,3,3,3), np.random.rand(3,3)\n",
    "#tt, ss = np.random.rand(3,3,3,3,3), np.random.rand(3,3)\n",
    "#tt, ss = np.random.rand(3,3,3,3,3,3), np.random.rand(3,3)"
   ]
  },
  {
   "cell_type": "code",
   "execution_count": 3,
   "metadata": {},
   "outputs": [],
   "source": [
    "import string\n",
    "\n",
    "def transform_cart_1(tt, ss):\n",
    "    rnk = len(tt.shape)\n",
    "\n",
    "    #string manipulation to set up einsum call\n",
    "    _lc = string.ascii_lowercase\n",
    "    _uc = string.ascii_uppercase\n",
    "    _lcuc = \"\".join([i + j + k for i, j, k in zip(_lc, _uc, ',' * len(_lc),)])\n",
    "    _cont_str = _lcuc[0:3 * rnk] + _uc[0:rnk] + '->' + _lc[0:rnk]\n",
    "    _vars = [_cont_str] + [ss for i in range(rnk)] + [tt]\n",
    "    \n",
    "    return(np.einsum(*_vars))\n"
   ]
  },
  {
   "cell_type": "code",
   "execution_count": 4,
   "metadata": {},
   "outputs": [],
   "source": [
    "t=ten.TensorScatteringClass(CIFfile='ZnO Kisi et al icsd_67454.cif', Site='Zn1', verbose = False)"
   ]
  },
  {
   "cell_type": "code",
   "execution_count": 5,
   "metadata": {},
   "outputs": [
    {
     "name": "stdout",
     "output_type": "stream",
     "text": [
      "Elapsed time: 0.88 sec\n"
     ]
    }
   ],
   "source": [
    "tm = time()\n",
    "\n",
    "for i in range(100):\n",
    "    t.transform_cart(tt, ss)\n",
    "    \n",
    "print('Elapsed time: %.2f sec' % (time() - tm))"
   ]
  },
  {
   "cell_type": "code",
   "execution_count": 6,
   "metadata": {},
   "outputs": [
    {
     "name": "stdout",
     "output_type": "stream",
     "text": [
      "Elapsed time: 0.01 sec\n"
     ]
    }
   ],
   "source": [
    "tm = time()\n",
    "\n",
    "for i in range(100):\n",
    "    transform_cart_1(tt, ss)\n",
    "    \n",
    "print('Elapsed time: %.2f sec' % (time() - tm))"
   ]
  },
  {
   "cell_type": "code",
   "execution_count": 7,
   "metadata": {},
   "outputs": [
    {
     "data": {
      "text/plain": [
       "0.0"
      ]
     },
     "execution_count": 7,
     "metadata": {},
     "output_type": "execute_result"
    }
   ],
   "source": [
    "np.max(np.abs(t.transform_cart(tt, ss) - transform_cart_1(tt, ss))) # max abs difference = zero if OK"
   ]
  },
  {
   "cell_type": "code",
   "execution_count": null,
   "metadata": {},
   "outputs": [],
   "source": []
  },
  {
   "cell_type": "code",
   "execution_count": null,
   "metadata": {},
   "outputs": [],
   "source": []
  },
  {
   "cell_type": "code",
   "execution_count": null,
   "metadata": {},
   "outputs": [],
   "source": []
  }
 ],
 "metadata": {
  "kernelspec": {
   "display_name": "Python 3.7 [DLS Conda]",
   "language": "python",
   "name": "conda-env-DLS_Conda-python3.7-kernel.json"
  },
  "language_info": {
   "codemirror_mode": {
    "name": "ipython",
    "version": 3
   },
   "file_extension": ".py",
   "mimetype": "text/x-python",
   "name": "python",
   "nbconvert_exporter": "python",
   "pygments_lexer": "ipython3",
   "version": "3.7.3"
  }
 },
 "nbformat": 4,
 "nbformat_minor": 2
}
